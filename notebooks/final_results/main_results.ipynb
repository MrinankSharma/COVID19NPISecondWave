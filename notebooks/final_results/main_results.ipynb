{
 "cells": [
  {
   "cell_type": "code",
   "execution_count": null,
   "metadata": {},
   "outputs": [],
   "source": [
    "%load_ext autoreload\n",
    "%autoreload 2"
   ]
  },
  {
   "cell_type": "code",
   "execution_count": null,
   "metadata": {},
   "outputs": [],
   "source": [
    "import sys\n",
    "sys.path.append(\"../../\") "
   ]
  },
  {
   "cell_type": "code",
   "execution_count": null,
   "metadata": {},
   "outputs": [],
   "source": [
    "import pandas as pd\n",
    "import numpy as np\n",
    "import numpyro\n",
    "numpyro.set_host_device_count(4)\n",
    "\n",
    "from epimodel import preprocess_data, run_model, EpidemiologicalParameters\n",
    "from epimodel.models.models import default_model"
   ]
  },
  {
   "cell_type": "code",
   "execution_count": null,
   "metadata": {},
   "outputs": [],
   "source": [
    "data = preprocess_data('../../data/all_merged_data_2021-01-22.csv')\n",
    "data.featurize() \n",
    "data.mask_new_variant(new_variant_fraction_fname='../../data/nuts3_new_variant_fraction.csv')\n",
    "data.mask_from_date('2021-01-09') "
   ]
  },
  {
   "cell_type": "code",
   "execution_count": null,
   "metadata": {},
   "outputs": [],
   "source": [
    "ep.DPD[0, :12].sum()"
   ]
  },
  {
   "cell_type": "code",
   "execution_count": null,
   "metadata": {},
   "outputs": [],
   "source": [
    "data.Ds[161+5]"
   ]
  },
  {
   "cell_type": "code",
   "execution_count": null,
   "metadata": {},
   "outputs": [],
   "source": [
    "data.Ds[7]"
   ]
  },
  {
   "cell_type": "code",
   "execution_count": null,
   "metadata": {},
   "outputs": [],
   "source": [
    "np.arange(10)[:6]"
   ]
  },
  {
   "cell_type": "code",
   "execution_count": null,
   "metadata": {},
   "outputs": [],
   "source": [
    "ep.DPD[0, :33].sum()"
   ]
  },
  {
   "cell_type": "code",
   "execution_count": null,
   "metadata": {},
   "outputs": [],
   "source": [
    "ep.DPC[0, :15].sum()"
   ]
  },
  {
   "cell_type": "code",
   "execution_count": null,
   "metadata": {},
   "outputs": [],
   "source": [
    "ep = EpidemiologicalParameters()"
   ]
  },
  {
   "cell_type": "code",
   "execution_count": null,
   "metadata": {},
   "outputs": [],
   "source": [
    "import yaml"
   ]
  },
  {
   "cell_type": "code",
   "execution_count": null,
   "metadata": {},
   "outputs": [],
   "source": [
    "info = yaml.safe_load(open('default_model-16-03;08-19-21.yaml', 'r'))"
   ]
  },
  {
   "cell_type": "code",
   "execution_count": null,
   "metadata": {},
   "outputs": [],
   "source": [
    "import matplotlib.pyplot as plt"
   ]
  },
  {
   "cell_type": "code",
   "execution_count": null,
   "metadata": {},
   "outputs": [],
   "source": [
    "import numpy as np"
   ]
  },
  {
   "cell_type": "code",
   "execution_count": null,
   "metadata": {},
   "outputs": [],
   "source": [
    "plt.title('Warmup Treepdepth')\n",
    "plt.plot(np.log2(info['warmup']['num_steps'][251:500]))\n",
    "plt.plot(np.log2(info['warmup']['num_steps'][:250]))\n",
    "plt.plot(np.log2(info['warmup']['num_steps'][501:750]))\n",
    "plt.plot(np.log2(info['warmup']['num_steps'][751:]))"
   ]
  },
  {
   "cell_type": "code",
   "execution_count": null,
   "metadata": {},
   "outputs": [],
   "source": [
    "plt.title('Sample Treepdepth')\n",
    "plt.plot(np.log2(info['sample']['num_steps'][:1250]))\n",
    "plt.plot(np.log2(info['sample']['num_steps'][1251:2500]))\n",
    "plt.plot(np.log2(info['sample']['num_steps'][2501:3750]))\n",
    "plt.plot(np.log2(info['sample']['num_steps'][3751:]))"
   ]
  },
  {
   "cell_type": "code",
   "execution_count": null,
   "metadata": {},
   "outputs": [],
   "source": [
    "samples, warmup_samples, info, mcmc = run_model(default_model, data, ep, num_samples=25, target_accept=0.8, num_warmup=25, num_chains=2, max_tree_depth=15)"
   ]
  },
  {
   "cell_type": "code",
   "execution_count": null,
   "metadata": {},
   "outputs": [],
   "source": [
    "info['warmup']['adapt_state'].inverse_mass_matrix.shape"
   ]
  },
  {
   "cell_type": "code",
   "execution_count": null,
   "metadata": {},
   "outputs": [],
   "source": [
    "import matplotlib.pyplot as plt"
   ]
  },
  {
   "cell_type": "code",
   "execution_count": null,
   "metadata": {},
   "outputs": [],
   "source": [
    "info['warmup']['adapt_state'].inverse_mass_matrix[-1, :]"
   ]
  },
  {
   "cell_type": "code",
   "execution_count": null,
   "metadata": {},
   "outputs": [],
   "source": [
    "1/np.sqrt(info['warmup']['adapt_state'].inverse_mass_matrix[-1, :])"
   ]
  },
  {
   "cell_type": "code",
   "execution_count": null,
   "metadata": {},
   "outputs": [],
   "source": [
    "info['warmup']['adapt_state'].mass_matrix_sqrt[-1, :]"
   ]
  },
  {
   "cell_type": "code",
   "execution_count": null,
   "metadata": {},
   "outputs": [],
   "source": [
    "1./np.sqrt(info['warmup']['adapt_state'].inverse_mass_matrix[-1, :])"
   ]
  },
  {
   "cell_type": "code",
   "execution_count": null,
   "metadata": {},
   "outputs": [],
   "source": [
    "np.sqrt(info['warmup']['adapt_state'].inverse_mass_matrix[-1, :])"
   ]
  },
  {
   "cell_type": "code",
   "execution_count": null,
   "metadata": {},
   "outputs": [],
   "source": [
    "info['warmup']['adapt_state'].mass_matrix_sqrt_inv[-1, :]"
   ]
  },
  {
   "cell_type": "code",
   "execution_count": null,
   "metadata": {},
   "outputs": [],
   "source": [
    "import matplotlib.pyplot as plt"
   ]
  },
  {
   "cell_type": "code",
   "execution_count": null,
   "metadata": {},
   "outputs": [],
   "source": [
    "plt.plot(np.log2(np.array(info['sample']['num_steps'])+1))"
   ]
  },
  {
   "cell_type": "code",
   "execution_count": null,
   "metadata": {},
   "outputs": [],
   "source": [
    "plt.plot(np.log2(np.array(info['warmup']['num_steps'])+1))"
   ]
  },
  {
   "cell_type": "code",
   "execution_count": null,
   "metadata": {},
   "outputs": [],
   "source": [
    "iar_t.shape"
   ]
  },
  {
   "cell_type": "code",
   "execution_count": null,
   "metadata": {},
   "outputs": [],
   "source": [
    "data.nDs"
   ]
  },
  {
   "cell_type": "code",
   "execution_count": null,
   "metadata": {},
   "outputs": [],
   "source": [
    "info['sample']"
   ]
  },
  {
   "cell_type": "code",
   "execution_count": null,
   "metadata": {},
   "outputs": [],
   "source": [
    "import arviz as az"
   ]
  },
  {
   "cell_type": "code",
   "execution_count": null,
   "metadata": {},
   "outputs": [],
   "source": [
    "inf_data = az.from_netcdf(\"../default_res.netcdf\")"
   ]
  },
  {
   "cell_type": "code",
   "execution_count": null,
   "metadata": {},
   "outputs": [],
   "source": [
    "ess = az.ess(inf_data)"
   ]
  },
  {
   "cell_type": "code",
   "execution_count": null,
   "metadata": {},
   "outputs": [],
   "source": [
    "ess.alpha_i"
   ]
  },
  {
   "cell_type": "code",
   "execution_count": null,
   "metadata": {},
   "outputs": [],
   "source": [
    "samples"
   ]
  },
  {
   "cell_type": "code",
   "execution_count": null,
   "metadata": {},
   "outputs": [],
   "source": [
    "import matplotlib.pyplot as plt"
   ]
  },
  {
   "cell_type": "code",
   "execution_count": null,
   "metadata": {},
   "outputs": [],
   "source": [
    "plt.figure(figsize=(3, 3), dpi=300)\n",
    "plt.plot(np.log2(np.array(info['warmup']['num_steps'])+1), label='warmup')\n",
    "plt.plot(np.log2(np.array(info['sample']['num_steps'])+1), label='sample')\n",
    "plt.legend()"
   ]
  },
  {
   "cell_type": "code",
   "execution_count": null,
   "metadata": {},
   "outputs": [],
   "source": [
    "plt.plot(np.sort(mcmc._warmup_state.adapt_state.inverse_mass_matrix))\n",
    "plt.yscale('log')"
   ]
  },
  {
   "cell_type": "code",
   "execution_count": null,
   "metadata": {},
   "outputs": [],
   "source": [
    "from numpyro.infer import MCMC, NUTS, init_to_median\n",
    "from jax import random\n",
    "import jax\n",
    "\n",
    "nuts_kernel2 = NUTS(\n",
    "    default_model,\n",
    "    init_strategy=init_to_median,\n",
    "    target_accept_prob=0.9,\n",
    "    max_tree_depth=20,\n",
    ")\n",
    "mcmc2 = MCMC(\n",
    "    nuts_kernel2,\n",
    "    num_samples=250,\n",
    "    num_warmup=250,\n",
    "    num_chains=1,\n",
    "    chain_method=\"parallel\",\n",
    ")"
   ]
  },
  {
   "cell_type": "code",
   "execution_count": null,
   "metadata": {},
   "outputs": [],
   "source": [
    "latent_dict = hmcstate.z"
   ]
  },
  {
   "cell_type": "code",
   "execution_count": null,
   "metadata": {},
   "outputs": [],
   "source": [
    "hmcstate.adapt_state"
   ]
  },
  {
   "cell_type": "code",
   "execution_count": null,
   "metadata": {},
   "outputs": [],
   "source": [
    "rng_key = random.PRNGKey(0)\n",
    "hmcstate = nuts_kernel2.init(rng_key, 250, model_args=(data, ep))\n",
    "latent_dict = hmcstate.z\n",
    "z_flat, unravel_fn = jax.flatten_util.ravel_pytree(latent_dict)\n",
    "inverse_mass_matrix = unravel_fn(info['warmup']['adapt_state'].inverse_mass_matrix[-1, :])"
   ]
  },
  {
   "cell_type": "code",
   "execution_count": null,
   "metadata": {},
   "outputs": [],
   "source": [
    "keys = list(inverse_mass_matrix.keys())\n",
    "mean_key_vals = [np.mean(inverse_mass_matrix[k]) for k in keys]\n",
    "sorted_keys = sorted(keys, key=lambda k: mean_key_vals[keys.index(k)])"
   ]
  },
  {
   "cell_type": "code",
   "execution_count": null,
   "metadata": {},
   "outputs": [],
   "source": [
    "import matplotlib.pyplot as plt \n",
    "\n",
    "import seaborn as sns\n",
    "plt.figure(figsize=(4, 3), dpi=300)\n",
    "for k in sorted_keys:\n",
    "    m = inverse_mass_matrix[k].flatten()\n",
    "    if m.size > 1:\n",
    "        plt.plot(1+np.arange(m.size), np.sort(m), label=k)\n",
    "    else:\n",
    "        plt.scatter(1, m, label=k, s=60, marker='*', zorder=5)\n",
    "    plt.yscale('log')\n",
    "    plt.xscale('log')\n",
    "plt.legend(loc='upper left', bbox_to_anchor=(1.0, 1.0))\n",
    "plt.xlim([0.8, 10**4.5])\n",
    "plt.title('Inverse Mass Matrix')\n",
    "sns.despine()"
   ]
  },
  {
   "cell_type": "markdown",
   "metadata": {},
   "source": [
    "Okay, this I think we are gonna have to pretty much live with. "
   ]
  },
  {
   "cell_type": "markdown",
   "metadata": {},
   "source": [
    "# Take a look at results. "
   ]
  },
  {
   "cell_type": "code",
   "execution_count": null,
   "metadata": {},
   "outputs": [],
   "source": [
    "plt.plot(np.sort(samples['seeding'].reshape((250, 114)).var(axis=0)))\n",
    "plt.yscale('log')"
   ]
  },
  {
   "cell_type": "code",
   "execution_count": null,
   "metadata": {},
   "outputs": [],
   "source": [
    "alt_seeding = np.log(samples['seeding']*10)\n",
    "plt.plot(np.sort(alt_seeding.reshape((250, 114)).var(axis=0)))\n",
    "plt.yscale('log')"
   ]
  },
  {
   "cell_type": "code",
   "execution_count": null,
   "metadata": {},
   "outputs": [],
   "source": [
    "for r_i in data.C_indices[2]:\n",
    "    print(r_i)"
   ]
  },
  {
   "cell_type": "code",
   "execution_count": null,
   "metadata": {},
   "outputs": [],
   "source": [
    "len(data.Rs)"
   ]
  },
  {
   "cell_type": "code",
   "execution_count": null,
   "metadata": {},
   "outputs": [],
   "source": [
    "data.C_indices[0]"
   ]
  },
  {
   "cell_type": "code",
   "execution_count": null,
   "metadata": {},
   "outputs": [],
   "source": [
    "ep.generate_pmf_statistics_str(ep.DPC)"
   ]
  },
  {
   "cell_type": "code",
   "execution_count": null,
   "metadata": {},
   "outputs": [],
   "source": [
    "ep.generate_pmf_statistics_str(ep.DPD)"
   ]
  },
  {
   "cell_type": "code",
   "execution_count": null,
   "metadata": {},
   "outputs": [],
   "source": [
    "self.infection_to_fatality_delays = {\n",
    "                \"England\": {\n",
    "                    \"mean\": 21.82,\n",
    "                    \"disp\": 14.26,\n",
    "                    \"dist\": \"negbinom\",\n",
    "                },"
   ]
  },
  {
   "cell_type": "code",
   "execution_count": null,
   "metadata": {},
   "outputs": [],
   "source": [
    "var = 10.92 + 10.93**2/5.41"
   ]
  },
  {
   "cell_type": "code",
   "execution_count": null,
   "metadata": {},
   "outputs": [],
   "source": [
    "np.sqrt(var)"
   ]
  },
  {
   "cell_type": "code",
   "execution_count": null,
   "metadata": {},
   "outputs": [],
   "source": [
    "ep.DPC"
   ]
  },
  {
   "cell_type": "code",
   "execution_count": null,
   "metadata": {},
   "outputs": [],
   "source": [
    "from epimodel.plotting.intervention_plots import plot_intervention_effectiveness, plot_intervention_correlation, combine_npi_samples"
   ]
  },
  {
   "cell_type": "code",
   "execution_count": null,
   "metadata": {},
   "outputs": [],
   "source": [
    "plot_intervention_effectiveness(samples, data.CMs, xlim=[-25, 25])"
   ]
  },
  {
   "cell_type": "code",
   "execution_count": null,
   "metadata": {},
   "outputs": [],
   "source": [
    "plot_intervention_correlation(samples, data.CMs)"
   ]
  },
  {
   "cell_type": "code",
   "execution_count": null,
   "metadata": {},
   "outputs": [],
   "source": [
    "cols = list(range(10))"
   ]
  },
  {
   "cell_type": "code",
   "execution_count": null,
   "metadata": {},
   "outputs": [],
   "source": [
    "main_panel_dict = {\n",
    "    'Nightclubs Closed': {\n",
    "        'npis': ['Some Face-to-Face Businesses Closed'],\n",
    "        'type': \"exclude\",\n",
    "        'color': cols[0],\n",
    "    },\n",
    "    'Gastronomy Closed': {\n",
    "        'npis': ['Gastronomy Closed'],\n",
    "        'type': 'exclude',\n",
    "        'color': cols[0],\n",
    "    },\n",
    "    'Leisure Venues Closed': {\n",
    "        'npis': ['Leisure Venues Closed'],\n",
    "        'type': 'exclude',\n",
    "        'color': cols[0],\n",
    "    },\n",
    "    'Retail Closed': {\n",
    "        'npis': ['Retail Closed'],\n",
    "        'type': 'exclude',\n",
    "        'color': cols[0],\n",
    "    },\n",
    "    'All Nonessential\\nBusinesses Closed': {\n",
    "        'npis': ['Retail Closed', 'Some Face-to-Face Businesses Closed', \n",
    "                'Gastronomy Closed', 'Leisure Venues Closed'],\n",
    "        'type': 'exclude',\n",
    "        'color': cols[0],\n",
    "    },\n",
    "    'All Gatherings Banned': {\n",
    "        'npis': ['Public Indoor Gathering Person Limit - 1',\n",
    "                 'Public Indoor Gathering Person Limit - 2',\n",
    "                 'Public Indoor Gathering Person Limit - 6',\n",
    "                 'Public Indoor Gathering Person Limit - 30',\n",
    "                 'Extra Public Indoor Household Limit',\n",
    "                 'Private Indoor Gathering Person Limit - 1',\n",
    "                 'Private Indoor Gathering Person Limit - 2',\n",
    "                 'Private Indoor Gathering Person Limit - 6',\n",
    "                 'Private Indoor Gathering Person Limit - 30',\n",
    "                 'Extra Private Indoor Household Limit'\n",
    "                ],\n",
    "        'type': 'exclude',\n",
    "        'color': cols[3],\n",
    "    },\n",
    "    'Gatherings limited to 2': {\n",
    "        'npis': [#'Public Indoor Gathering Person Limit - 1',\n",
    "                 'Public Indoor Gathering Person Limit - 2',\n",
    "                 'Public Indoor Gathering Person Limit - 6',\n",
    "                 'Public Indoor Gathering Person Limit - 30',\n",
    "                 'Extra Public Indoor Household Limit',\n",
    "                 #'Private Indoor Gathering Person Limit - 1',\n",
    "                 'Private Indoor Gathering Person Limit - 2',\n",
    "                 'Private Indoor Gathering Person Limit - 6',\n",
    "                 'Private Indoor Gathering Person Limit - 30',\n",
    "                 'Extra Private Indoor Household Limit'\n",
    "                ],\n",
    "        \"type\": \"exclude\",\n",
    "        'color': cols[3],\n",
    "    },\n",
    "    'Gatherings limited to 6 from 2 Households': {\n",
    "        'npis': [#'Public Indoor Gathering Person Limit - 1',\n",
    "                 #'Public Indoor Gathering Person Limit - 2',\n",
    "                 'Public Indoor Gathering Person Limit - 6',\n",
    "                 'Public Indoor Gathering Person Limit - 30',\n",
    "                 'Extra Public Indoor Household Limit',\n",
    "                 #'Private Indoor Gathering Person Limit - 1',\n",
    "                 #'Private Indoor Gathering Person Limit - 2',\n",
    "                 'Private Indoor Gathering Person Limit - 6',\n",
    "                 'Private Indoor Gathering Person Limit - 30',\n",
    "                 'Extra Private Indoor Household Limit'\n",
    "                ],\n",
    "        'type': 'exclude',\n",
    "        'color': cols[3],\n",
    "    },\n",
    "    'Gatherings limited to 6': {\n",
    "        'npis': [#'Public Indoor Gathering Person Limit - 1',\n",
    "                 #'Public Indoor Gathering Person Limit - 2',\n",
    "                 'Public Indoor Gathering Person Limit - 6',\n",
    "                 'Public Indoor Gathering Person Limit - 30',\n",
    "                 #'Extra Public Indoor Household Limit',\n",
    "                 #'Private Indoor Gathering Person Limit - 1',\n",
    "                 #'Private Indoor Gathering Person Limit - 2',\n",
    "                 'Private Indoor Gathering Person Limit - 6',\n",
    "                 'Private Indoor Gathering Person Limit - 30',\n",
    "                 #'Extra Private Indoor Household Limit'\n",
    "                ],\n",
    "        'type': 'exclude',\n",
    "        'color': cols[3],\n",
    "    },\n",
    "    'Gatherings limited to 30': {\n",
    "        'npis': [#'Public Indoor Gathering Person Limit - 1',\n",
    "                 #'Public Indoor Gathering Person Limit - 2',\n",
    "                 #'Public Indoor Gathering Person Limit - 6',\n",
    "                 'Public Indoor Gathering Person Limit - 30',\n",
    "                 #'Extra Public Indoor Household Limit',\n",
    "                 #'Private Indoor Gathering Person Limit - 1',\n",
    "                 #'Private Indoor Gathering Person Limit - 2',\n",
    "                 #'Private Indoor Gathering Person Limit - 6',\n",
    "                 'Private Indoor Gathering Person Limit - 30',\n",
    "                 #'Extra Private Indoor Household Limit'\n",
    "                ],\n",
    "        'type': 'exclude',\n",
    "        'color': cols[3],\n",
    "    },\n",
    "    'All Public Gatherings Banned': {\n",
    "        'npis': ['Public Indoor Gathering Person Limit - 1',\n",
    "                 'Public Indoor Gathering Person Limit - 2',\n",
    "                 'Public Indoor Gathering Person Limit - 6',\n",
    "                 'Public Indoor Gathering Person Limit - 30',\n",
    "                 'Extra Public Indoor Household Limit',\n",
    "#                  'Private Indoor Gathering Person Limit - 1',\n",
    "#                  'Private Indoor Gathering Person Limit - 2',\n",
    "#                  'Private Indoor Gathering Person Limit - 6',\n",
    "#                  'Private Indoor Gathering Person Limit - 30',\n",
    "#                  'Extra Private Indoor Household Limit'\n",
    "                ],\n",
    "        'type': 'exclude',\n",
    "        'color': cols[3],\n",
    "    },\n",
    "    'Public Gatherings limited to 2': {\n",
    "        'npis': [#'Public Indoor Gathering Person Limit - 1',\n",
    "                 'Public Indoor Gathering Person Limit - 2',\n",
    "                 'Public Indoor Gathering Person Limit - 6',\n",
    "                 'Public Indoor Gathering Person Limit - 30',\n",
    "                 'Extra Public Indoor Household Limit',\n",
    "                 #'Private Indoor Gathering Person Limit - 1',\n",
    "#                  'Private Indoor Gathering Person Limit - 2',\n",
    "#                  'Private Indoor Gathering Person Limit - 6',\n",
    "#                  'Private Indoor Gathering Person Limit - 30',\n",
    "#                  'Extra Private Indoor Household Limit'\n",
    "                ],\n",
    "        \"type\": \"exclude\",\n",
    "        'color': cols[3],\n",
    "    },\n",
    "    'Public Gatherings limited to 6 from 2 Households': {\n",
    "        'npis': [#'Public Indoor Gathering Person Limit - 1',\n",
    "                 #'Public Indoor Gathering Person Limit - 2',\n",
    "                 'Public Indoor Gathering Person Limit - 6',\n",
    "                 'Public Indoor Gathering Person Limit - 30',\n",
    "                 'Extra Public Indoor Household Limit',\n",
    "                 #'Private Indoor Gathering Person Limit - 1',\n",
    "                 #'Private Indoor Gathering Person Limit - 2',\n",
    "#                  'Private Indoor Gathering Person Limit - 6',\n",
    "#                  'Private Indoor Gathering Person Limit - 30',\n",
    "#                  'Extra Private Indoor Household Limit'\n",
    "                ],\n",
    "        'type': 'exclude',\n",
    "        'color': cols[3],\n",
    "    },\n",
    "    'Public Gatherings limited to 6': {\n",
    "        'npis': [#'Public Indoor Gathering Person Limit - 1',\n",
    "                 #'Public Indoor Gathering Person Limit - 2',\n",
    "                 'Public Indoor Gathering Person Limit - 6',\n",
    "                 'Public Indoor Gathering Person Limit - 30',\n",
    "                 #'Extra Public Indoor Household Limit',\n",
    "                 #'Private Indoor Gathering Person Limit - 1',\n",
    "                 #'Private Indoor Gathering Person Limit - 2',\n",
    "#                  'Private Indoor Gathering Person Limit - 6',\n",
    "#                  'Private Indoor Gathering Person Limit - 30',\n",
    "                 #'Extra Private Indoor Household Limit'\n",
    "                ],\n",
    "        'type': 'exclude',\n",
    "        'color': cols[3],\n",
    "    },\n",
    "    'Public Gatherings limited to 30': {\n",
    "        'npis': [#'Public Indoor Gathering Person Limit - 1',\n",
    "                 #'Public Indoor Gathering Person Limit - 2',\n",
    "                 #'Public Indoor Gathering Person Limit - 6',\n",
    "                 'Public Indoor Gathering Person Limit - 30',\n",
    "                 #'Extra Public Indoor Household Limit',\n",
    "                 #'Private Indoor Gathering Person Limit - 1',\n",
    "                 #'Private Indoor Gathering Person Limit - 2',\n",
    "                 #'Private Indoor Gathering Person Limit - 6',\n",
    "#                  'Private Indoor Gathering Person Limit - 30',\n",
    "                 #'Extra Private Indoor Household Limit'\n",
    "                ],\n",
    "        'type': 'exclude',\n",
    "        'color': cols[3],\n",
    "    },\n",
    "    'All Private Gatherings Banned': {\n",
    "        'npis': [#'Public Indoor Gathering Person Limit - 1',\n",
    "#                  'Public Indoor Gathering Person Limit - 2',\n",
    "#                  'Public Indoor Gathering Person Limit - 6',\n",
    "#                  'Public Indoor Gathering Person Limit - 30',\n",
    "#                  'Extra Public Indoor Household Limit',\n",
    "                 'Private Indoor Gathering Person Limit - 1',\n",
    "                 'Private Indoor Gathering Person Limit - 2',\n",
    "                 'Private Indoor Gathering Person Limit - 6',\n",
    "                 'Private Indoor Gathering Person Limit - 30',\n",
    "                 'Extra Private Indoor Household Limit'\n",
    "                ],\n",
    "        'type': 'exclude',\n",
    "        'color': cols[3],\n",
    "    },\n",
    "    'Private Gatherings limited to 2': {\n",
    "        'npis': [#'Public Indoor Gathering Person Limit - 1',\n",
    "#                  'Public Indoor Gathering Person Limit - 2',\n",
    "#                  'Public Indoor Gathering Person Limit - 6',\n",
    "#                  'Public Indoor Gathering Person Limit - 30',\n",
    "#                  'Extra Public Indoor Household Limit',\n",
    "                 #'Private Indoor Gathering Person Limit - 1',\n",
    "                 'Private Indoor Gathering Person Limit - 2',\n",
    "                 'Private Indoor Gathering Person Limit - 6',\n",
    "                 'Private Indoor Gathering Person Limit - 30',\n",
    "                 'Extra Private Indoor Household Limit'\n",
    "                ],\n",
    "        \"type\": \"exclude\",\n",
    "        'color': cols[3],\n",
    "    },\n",
    "    'Private Gatherings limited to 6 from 2 Households': {\n",
    "        'npis': [#'Public Indoor Gathering Person Limit - 1',\n",
    "                 #'Public Indoor Gathering Person Limit - 2',\n",
    "#                  'Public Indoor Gathering Person Limit - 6',\n",
    "#                  'Public Indoor Gathering Person Limit - 30',\n",
    "#                  'Extra Public Indoor Household Limit',\n",
    "                 #'Private Indoor Gathering Person Limit - 1',\n",
    "                 #'Private Indoor Gathering Person Limit - 2',\n",
    "                 'Private Indoor Gathering Person Limit - 6',\n",
    "                 'Private Indoor Gathering Person Limit - 30',\n",
    "                 'Extra Private Indoor Household Limit'\n",
    "                ],\n",
    "        'type': 'exclude',\n",
    "        'color': cols[3],\n",
    "    },\n",
    "    'Private Gatherings limited to 6': {\n",
    "        'npis': [#'Public Indoor Gathering Person Limit - 1',\n",
    "                 #'Public Indoor Gathering Person Limit - 2',\n",
    "#                  'Public Indoor Gathering Person Limit - 6',\n",
    "#                  'Public Indoor Gathering Person Limit - 30',\n",
    "                 #'Extra Public Indoor Household Limit',\n",
    "                 #'Private Indoor Gathering Person Limit - 1',\n",
    "                 #'Private Indoor Gathering Person Limit - 2',\n",
    "                 'Private Indoor Gathering Person Limit - 6',\n",
    "                 'Private Indoor Gathering Person Limit - 30',\n",
    "                 #'Extra Private Indoor Household Limit'\n",
    "                ],\n",
    "        'type': 'exclude',\n",
    "        'color': cols[3],\n",
    "    },\n",
    "    'Private Gatherings limited to 30': {\n",
    "        'npis': [#'Public Indoor Gathering Person Limit - 1',\n",
    "                 #'Public Indoor Gathering Person Limit - 2',\n",
    "                 #'Public Indoor Gathering Person Limit - 6',\n",
    "#                  'Public Indoor Gathering Person Limit - 30',\n",
    "                 #'Extra Public Indoor Household Limit',\n",
    "                 #'Private Indoor Gathering Person Limit - 1',\n",
    "                 #'Private Indoor Gathering Person Limit - 2',\n",
    "                 #'Private Indoor Gathering Person Limit - 6',\n",
    "                 'Private Indoor Gathering Person Limit - 30',\n",
    "                 #'Extra Private Indoor Household Limit'\n",
    "                ],\n",
    "        'type': 'exclude',\n",
    "        'color': cols[3],\n",
    "    },\n",
    "    'All Educational\\nInstitutions Closed': {\n",
    "        'npis': ['Primary Schools Closed', 'Secondary Schools Closed', 'Universities Away'],\n",
    "        'type': 'exclude',\n",
    "        'color': cols[2],\n",
    "    },\n",
    "    'Curfew': {\n",
    "        'npis': ['Curfew'],\n",
    "        'type': 'exclude',\n",
    "        'color': cols[2]\n",
    "    },\n",
    "    'Mandatory Mask\\nWearing': {\n",
    "        'npis': ['Mandatory Mask Wearing >= 3'],\n",
    "        'type': 'exclude',\n",
    "        'color': cols[2],\n",
    "    },\n",
    " }\n",
    "\n",
    "npi_names = main_panel_dict.keys()\n",
    "comb_cm_effects, new_names = combine_npi_samples(main_panel_dict, samples['alpha_i'], data.CMs)\n",
    "import matplotlib.pyplot as plt\n",
    "plt.figure(figsize=(6, 8), dpi=300)\n",
    "plot_intervention_effectiveness(comb_cm_effects, new_names, xlim=[-20, 50], newfig=False)\n",
    "plt.grid(axis='x')\n",
    "plt.title('Drop Out')\n",
    "plt.savefig('dropout.pdf', bbox_inches='tight')"
   ]
  },
  {
   "cell_type": "code",
   "execution_count": null,
   "metadata": {},
   "outputs": [],
   "source": [
    "\n",
    "import matplotlib.pyplot as plt\n",
    "plt.figure(figsize=(6, 8), dpi=300)\n",
    "plot_intervention_effectiveness(comb_cm_effects, new_names, xlim=[-20, 50], newfig=False)\n",
    "plt.grid(axis='x')\n",
    "plt.title('Drop Out')\n",
    "plt.savefig('dropout.pdf', bbox_inches='tight')"
   ]
  },
  {
   "cell_type": "code",
   "execution_count": null,
   "metadata": {},
   "outputs": [],
   "source": [
    "data.CMs"
   ]
  },
  {
   "cell_type": "code",
   "execution_count": null,
   "metadata": {},
   "outputs": [],
   "source": [
    "comb_cm_effects, new_names = combine_npi_samples(main_panel_dict, samples['alpha_i'], data.CMs)"
   ]
  },
  {
   "cell_type": "code",
   "execution_count": null,
   "metadata": {},
   "outputs": [],
   "source": [
    "plt.figure(figsize=(4, 8), dpi=300)\n",
    "plot_intervention_effectiveness(comb_cm_effects, new_names, xlim=[-10, 50], newfig=False)\n"
   ]
  },
  {
   "cell_type": "code",
   "execution_count": null,
   "metadata": {},
   "outputs": [],
   "source": [
    "sigma_i = ((0.15 ** 2) / data.nCMs) ** 0.5"
   ]
  },
  {
   "cell_type": "code",
   "execution_count": null,
   "metadata": {},
   "outputs": [],
   "source": [
    "for c_i, c in enumerate(data.unique_Cs):\n",
    "    r_i = data.C_indices[c_i][0]\n",
    "    comb_cm_effects, new_names = combine_npi_samples(grouped_dict, samples['alpha_ic'][:, r_i, :], data.CMs)\n",
    "    plot_intervention_effectiveness(comb_cm_effects, new_names, xlim=[-50, 50])\n",
    "    plt.title(c)"
   ]
  },
  {
   "cell_type": "code",
   "execution_count": null,
   "metadata": {},
   "outputs": [],
   "source": [
    "plt.figure(figsize=(10, 3), dpi=300)\n",
    "plt.subplot(121)\n",
    "\n",
    "plt.scatter(np.arange(len(data.unique_Cs)), np.median(samples['psi_cases'], axis=0), marker='_', color='tab:blue')\n",
    "li, lq, uq, ui = np.percentile(samples['psi_cases'], [2.5, 25, 75, 97.5], axis=0)\n",
    "plt.plot([np.arange(len(data.unique_Cs)), np.arange(len(data.unique_Cs))], [li, ui], alpha=0.25, color='tab:blue')\n",
    "plt.plot([np.arange(len(data.unique_Cs)), np.arange(len(data.unique_Cs))], [lq, uq], alpha=0.5, color='tab:blue')\n",
    "plt.xticks(np.arange(len(data.unique_Cs)), data.unique_Cs)\n",
    "plt.ylabel('$\\Psi_C$. Higher is less noisy')\n",
    "\n",
    "plt.subplot(122)\n",
    "plt.scatter(np.arange(len(data.unique_Cs)), np.median(samples['psi_deaths'], axis=0), marker='_', color='tab:blue')\n",
    "li, lq, uq, ui = np.percentile(samples['psi_deaths'], [2.5, 25, 75, 97.5], axis=0)\n",
    "plt.plot([np.arange(len(data.unique_Cs)), np.arange(len(data.unique_Cs))], [li, ui], alpha=0.25, color='tab:blue')\n",
    "plt.plot([np.arange(len(data.unique_Cs)), np.arange(len(data.unique_Cs))], [lq, uq], alpha=0.5, color='tab:blue')\n",
    "plt.xticks(np.arange(len(data.unique_Cs)), data.unique_Cs)\n",
    "plt.ylabel('$\\Psi_D$. Higher is less noisy')\n",
    "plt.suptitle('Output Noise Scales')\n",
    "plt.tight_layout()"
   ]
  },
  {
   "cell_type": "code",
   "execution_count": null,
   "metadata": {},
   "outputs": [],
   "source": [
    "np.mean(samples['psi_deaths'][:, 3])"
   ]
  },
  {
   "cell_type": "code",
   "execution_count": null,
   "metadata": {},
   "outputs": [],
   "source": [
    "samples['psi_cases'][:, 3]"
   ]
  },
  {
   "cell_type": "code",
   "execution_count": null,
   "metadata": {},
   "outputs": [],
   "source": [
    "from scipy import stats\n",
    "\n",
    "nc = data.new_cases\n",
    "nd = data.new_deaths\n",
    "\n",
    "ec = np.array(samples['expected_cases'])\n",
    "ed = np.array(samples['expected_deaths'])\n",
    "nS, nRs, nDs = ec.shape\n",
    "\n",
    "psi_c = (data.RC_mat @ samples['psi_cases'].T).T.reshape((nS, nRs, 1)).repeat(nDs, axis=2)\n",
    "psi_d = (data.RC_mat @ samples['psi_deaths'].T).T.reshape((nS, nRs, 1)).repeat(nDs, axis=2)\n",
    "\n",
    "cdf_c = stats.nbinom.cdf(nc.data, psi_c, psi_c/(psi_c+ec))\n",
    "cdf_d = stats.nbinom.cdf(nd.data, psi_d, psi_d/(psi_d+ed))"
   ]
  },
  {
   "cell_type": "code",
   "execution_count": null,
   "metadata": {},
   "outputs": [],
   "source": [
    "plt.figure(figsize=(7, 3), dpi=300)\n",
    "plt.subplot(121)\n",
    "sns.histplot(np.mean(cdf_c, axis=0)[np.logical_not(data.new_cases.mask)].flatten())\n",
    "plt.title('PIT: Cases')\n",
    "\n",
    "plt.subplot(122)\n",
    "sns.histplot(np.mean(cdf_d, axis=0)[np.logical_not(data.new_deaths.mask)].flatten())\n",
    "plt.title('PIT: Deaths')\n",
    "plt.tight_layout()"
   ]
  },
  {
   "cell_type": "code",
   "execution_count": null,
   "metadata": {},
   "outputs": [],
   "source": [
    "data.CMs"
   ]
  },
  {
   "cell_type": "code",
   "execution_count": null,
   "metadata": {},
   "outputs": [],
   "source": [
    "cm_styles = {\n",
    "    \"Some Face-to-Face Businesses Closed\": {\n",
    "        \"icon\": \"\\uf07a\",\n",
    "        \"color\": \"tab:orange\"\n",
    "    },\n",
    "    \"Gastronomy Closed\": {\n",
    "        \"icon\": \"\\uf2e7\",\n",
    "        \"color\": \"k\"\n",
    "    },\n",
    "    \"Leisure Venues Closed\": {\n",
    "        \"icon\": \"\\uf000\",\n",
    "        \"color\": \"k\",\n",
    "    },\n",
    "    \"Stay at Home Order AND All F2F Businesses Closed\": {\n",
    "        \"icon\": \"\\uf07a\",\n",
    "        \"color\": \"tab:red\",\n",
    "    },\n",
    "    \"Curfew\": {\n",
    "        \"icon\": \"\\uf186\",\n",
    "        \"color\": \"k\",\n",
    "    },\n",
    "    \"Childcare Closed\": {\n",
    "        \"icon\": \"\\uf77d\",\n",
    "        \"color\": \"k\",\n",
    "    },\n",
    "    \"Primary Schools Closed\": {\n",
    "        \"icon\": \"\\uf51c\",\n",
    "        \"color\": \"k\",\n",
    "    },\n",
    "    \"Secondary Schools Closed\": {\n",
    "        \"icon\": \"\\uf549\",\n",
    "        \"color\": \"k\",\n",
    "    },\n",
    "    \"Universities Away\": {\n",
    "        \"icon\": \"\\uf19d\",\n",
    "        \"color\": \"k\",\n",
    "    },\n",
    "    \"Public Indoor Gathering Person Limit - 1\": {\n",
    "        \"icon\": \"\\uf500\",\n",
    "        \"color\": (1, 0, 0),\n",
    "    },\n",
    "    \"Public Indoor Gathering Person Limit - 2\": {\n",
    "        \"icon\": \"\\uf500\",\n",
    "        \"color\": (0.8, 0, 0),\n",
    "    },\n",
    "    \"Public Indoor Gathering Person Limit - 6\": {\n",
    "        \"icon\": \"\\uf500\",\n",
    "        \"color\": (0.6, 0, 0),\n",
    "    },\n",
    "    \"Public Indoor Gathering Person Limit - 30\": {\n",
    "        \"icon\": \"\\uf500\",\n",
    "        \"color\": (0.4, 0, 0),\n",
    "    },\n",
    "    \"Private Indoor Gathering Person Limit - 1\": {\n",
    "        \"icon\": \"\\uf4b8\",\n",
    "        \"color\": (1, 0, 0),\n",
    "    },\n",
    "    \"Private Indoor Gathering Person Limit - 2\": {\n",
    "        \"icon\": \"\\uf4b8\",\n",
    "        \"color\": (0.8, 0, 0),\n",
    "    },\n",
    "    \"Private Indoor Gathering Person Limit - 6\": {\n",
    "        \"icon\": \"\\uf4b8\",\n",
    "        \"color\": (0.6, 0, 0),\n",
    "    },\n",
    "    \"Private Indoor Gathering Person Limit - 30\": {\n",
    "        \"icon\": \"\\uf4b8\",\n",
    "        \"color\": (0.4, 0, 0),\n",
    "    },\n",
    "    \"Mandatory Mask Wearing >= 3\": {\n",
    "        \"icon\": \"\\ue063\",\n",
    "        \"color\": \"tab:blue\",\n",
    "    },\n",
    "    \"Extra Public Indoor Household Limit\": {\n",
    "        \"icon\": \"\\uf015\",\n",
    "        \"color\": \"tab:green\"\n",
    "    },\n",
    "    \"Extra Private Indoor Household Limit\": {\n",
    "        \"icon\": \"\\uf015\",\n",
    "        \"color\": \"tab:blue\"\n",
    "    },\n",
    "}"
   ]
  },
  {
   "cell_type": "code",
   "execution_count": null,
   "metadata": {},
   "outputs": [],
   "source": [
    "np.array(data.Rs)[data.C_indices[-2]]"
   ]
  },
  {
   "cell_type": "code",
   "execution_count": null,
   "metadata": {},
   "outputs": [],
   "source": [
    "data.unique_Cs"
   ]
  },
  {
   "cell_type": "code",
   "execution_count": null,
   "metadata": {},
   "outputs": [],
   "source": [
    "from epimodel.plotting.epicurve_plots import * "
   ]
  },
  {
   "cell_type": "code",
   "execution_count": null,
   "metadata": {},
   "outputs": [],
   "source": [
    "np.sum(ep.DPDv_pa[0, :28])"
   ]
  },
  {
   "cell_type": "code",
   "execution_count": null,
   "metadata": {},
   "outputs": [],
   "source": [
    "np.sum(ep.DPCv_pa[0, :15])"
   ]
  },
  {
   "cell_type": "code",
   "execution_count": null,
   "metadata": {},
   "outputs": [],
   "source": [
    "np.sum(ep.DPCv_pa[0, 7:])"
   ]
  },
  {
   "cell_type": "code",
   "execution_count": null,
   "metadata": {},
   "outputs": [],
   "source": [
    "np.sum(ep.DPDv_pa[0, 17:])"
   ]
  },
  {
   "cell_type": "code",
   "execution_count": null,
   "metadata": {},
   "outputs": [],
   "source": [
    "np.nonzero(np.cumsum(ep.DPCv_pa[0, :])>0.2)"
   ]
  },
  {
   "cell_type": "code",
   "execution_count": null,
   "metadata": {},
   "outputs": [],
   "source": [
    "for r_i, r in enumerate(data.Rs):\n",
    "    plot_area_summary(samples, r_i, data, cm_styles)\n",
    "    plt.savefig(f'figs/{r_i}.pdf', bbox_inches='tight')"
   ]
  },
  {
   "cell_type": "code",
   "execution_count": null,
   "metadata": {},
   "outputs": [],
   "source": [
    "data.Rs.index('Twente')"
   ]
  },
  {
   "cell_type": "code",
   "execution_count": null,
   "metadata": {},
   "outputs": [],
   "source": [
    "data.nDs"
   ]
  },
  {
   "cell_type": "code",
   "execution_count": null,
   "metadata": {},
   "outputs": [],
   "source": []
  },
  {
   "cell_type": "code",
   "execution_count": null,
   "metadata": {},
   "outputs": [],
   "source": [
    "plt.plot(np.median(samples['Rt_walk'][:, 98, :], axis=0))\n",
    "plt.plot(np.median(samples['Rt'][:, 98, :], axis=0))"
   ]
  },
  {
   "cell_type": "code",
   "execution_count": null,
   "metadata": {},
   "outputs": [],
   "source": [
    "samples['Rt_walk'][:, 98, :].shape"
   ]
  },
  {
   "cell_type": "code",
   "execution_count": null,
   "metadata": {},
   "outputs": [],
   "source": [
    "for r_i, r in enumerate(data.Rs):\n",
    "    plot_area_summary(samples, r_i, data, cm_styles)\n",
    "    plt.savefig(f'figs/{r_i}_w_outputnoise.pdf', bbox_inches='tight')"
   ]
  },
  {
   "cell_type": "code",
   "execution_count": null,
   "metadata": {},
   "outputs": [],
   "source": [
    "samples['psi_cases'].shape"
   ]
  },
  {
   "cell_type": "code",
   "execution_count": null,
   "metadata": {},
   "outputs": [],
   "source": []
  }
 ],
 "metadata": {
  "kernelspec": {
   "display_name": "Python 3",
   "language": "python",
   "name": "python3"
  },
  "language_info": {
   "codemirror_mode": {
    "name": "ipython",
    "version": 3
   },
   "file_extension": ".py",
   "mimetype": "text/x-python",
   "name": "python",
   "nbconvert_exporter": "python",
   "pygments_lexer": "ipython3",
   "version": "3.8.3"
  }
 },
 "nbformat": 4,
 "nbformat_minor": 4
}
