{
 "cells": [
  {
   "cell_type": "markdown",
   "metadata": {},
   "source": [
    "# Loading NPI data \n",
    "\n",
    "some quick notes: due to inconsistent data formatting (& sometimes just wrong dates), i'm currently not getting all the NPIs. i'm always getting around half in each country. Austra is almost perfect by default (go team Austria!). I spent a bit of time making exceptions to get 90% of UK NPIs. I haven't spent any time on making exceptions for Italy or Germany. Expect it to take at most a few hours to get 90+% of all NPIs. If you still plan to do a run tomorrow Mrinank, if you think it's worth it I can probably do a few hours of work in the morn to get up to 90%. lmk"
   ]
  },
  {
   "cell_type": "code",
   "execution_count": null,
   "metadata": {
    "jupyter": {
     "outputs_hidden": false
    },
    "pycharm": {
     "name": "#%%\n"
    }
   },
   "outputs": [],
   "source": [
    "import os\n",
    "import copy\n",
    "import numpy as np\n",
    "import pandas as pd\n",
    "import matplotlib.pyplot as plt\n",
    "from mpl_toolkits.axes_grid1 import make_axes_locatable\n",
    "from matplotlib.font_manager import FontProperties\n",
    "from matplotlib.ticker import PercentFormatter\n",
    "import seaborn as sns\n",
    "from datetime import datetime as dt"
   ]
  },
  {
   "cell_type": "code",
   "execution_count": null,
   "metadata": {},
   "outputs": [],
   "source": [
    "# this dict contains information for loading the info\n",
    "npi_information_dict = {\n",
    "    'Public Outdoor Gathering Person Limit': {\n",
    "        'type': 'value',\n",
    "        'start_date_col': 'Start date (Public Outdoors)',\n",
    "        'end_date_col': 'End date (Public Outdoors)',\n",
    "        'value_col': 'Limit on number of people (only X people or fewer) (Public Outdoors)'\n",
    "    },\n",
    "    'Public Indoor Gathering Person Limit': {\n",
    "        'type': 'value',\n",
    "        'start_date_col': 'Start date (Public Indoors)',\n",
    "        'end_date_col': 'End date (Public Indoors)',\n",
    "        'value_col': 'Limit on number of people (only X people or fewer) (Public Indoors)'\n",
    "    },\n",
    "    'Private Outdoor Gathering Person Limit': {\n",
    "        'type': 'value',\n",
    "        'start_date_col': 'Start date (Private Outdoors)',\n",
    "        'end_date_col': 'End date (Private Outdoors)',\n",
    "        'value_col': 'Limit on number of people (only X people or fewer) (Private Outdoors)'\n",
    "    },\n",
    "    'Private Indoor Gathering Person Limit': {\n",
    "        'type': 'value',\n",
    "        'start_date_col': 'Start date (Private Indoors)',\n",
    "        'end_date_col': 'End date (Private Indoors)',\n",
    "        'value_col': 'Limit on number of people (only X people or fewer) (Private Indoors)'\n",
    "    },\n",
    "    'Public Outdoor Household Limit': {\n",
    "        'type': 'value',\n",
    "        'start_date_col': 'Start date (Public Outdoors)',\n",
    "        'end_date_col': 'End date (Public Outdoors)',\n",
    "        'value_col': 'Limit on number of households (Public Outdoors)'\n",
    "    },\n",
    "    'Public Indoor Household Limit': {\n",
    "        'type': 'value',\n",
    "        'start_date_col': 'Start date (Public Indoors)',\n",
    "        'end_date_col': 'End date (Public Indoors)',\n",
    "        'value_col': 'Limit on number of households (Public Indoors)'\n",
    "    },\n",
    "    'Private Outdoor Household Limit': {\n",
    "        'type': 'value',\n",
    "        'start_date_col': 'Start date (Private Outdoors)',\n",
    "        'end_date_col': 'End date (Private Outdoors)',\n",
    "        'value_col': 'Limit on number of households (Private Outdoors)'\n",
    "    },\n",
    "    'Private Indoor Household Limit': {\n",
    "        'type': 'value',\n",
    "        'start_date_col': 'Start date (Private Indoors)',\n",
    "        'end_date_col': 'End date (Private Indoors)',\n",
    "        'value_col': 'Limit on number of households (Private Indoors)'\n",
    "    },\n",
    "    'Mandatory Mask Wearing': {\n",
    "        'type': 'value',\n",
    "        'start_date_col': 'Start date (Mask Wearing)',\n",
    "        'end_date_col': 'End date (Mask Wearing)',\n",
    "        'value_col': 'Level of NPI (0-4) (Mask Wearing)'\n",
    "    },\n",
    "    'Some Face-to-Face Businesses Closed': {\n",
    "        'type': 'binary',\n",
    "        'start_date_col': 'Start date (Some Face2Face)',\n",
    "        'end_date_col': 'End date (Some Face2Face)'\n",
    "    },\n",
    "    'Gastronomy Closed': {\n",
    "        'type': 'binary',\n",
    "        'start_date_col': 'Start date  (Gastronomy Closed)',\n",
    "        'end_date_col': 'End date (Gastronomy Closed)'\n",
    "    },\n",
    "    'Leisure Venues Closed': {\n",
    "        'type': 'binary',\n",
    "        'start_date_col': 'Start date (Leisure Venue)',\n",
    "        'end_date_col': 'End date (Leisure Venue)'\n",
    "    },\n",
    "    'Retail Closed': {\n",
    "        'type': 'binary',\n",
    "        'start_date_col': 'Start date (Retail)',\n",
    "        'end_date_col': 'End date (Retail)'\n",
    "    },\n",
    "    'All Face-to-Face Businesses Closed': {\n",
    "        'type': 'binary',\n",
    "        'start_date_col': 'Start date (All Face2Face)',\n",
    "        'end_date_col': 'End date (All Face2Face)'\n",
    "    },\n",
    "    'Stay at Home Order': {\n",
    "        'type': 'binary',\n",
    "        'start_date_col': 'Start date (Stay Home)',\n",
    "        'end_date_col': 'End date (Stay Home)'\n",
    "    },\n",
    "    'Curfew': {\n",
    "        'type': 'binary',\n",
    "        'start_date_col': 'Start date (Curfew)',\n",
    "        'end_date_col': 'End date (Curfew)'\n",
    "    },\n",
    "    'Childcare Closed': {\n",
    "        'type': 'binary',\n",
    "        'start_date_col': 'Start date (Childcare)',\n",
    "        'end_date_col': 'End date  (Childcare)'\n",
    "    },\n",
    "    'Primary Schools Closed': {\n",
    "        'type': 'binary',\n",
    "        'start_date_col': 'Start date (Primary Schools)',\n",
    "        'end_date_col': 'End date (Primary Schools)'\n",
    "    },\n",
    "    'Secondary Schools Closed': {\n",
    "        'type': 'binary',\n",
    "        'start_date_col': 'Start date (Secondary Schools)',\n",
    "        'end_date_col': 'End date (Secondary Schools)'\n",
    "    },\n",
    "    'Universities Away': {\n",
    "        'type': 'binary',\n",
    "        'start_date_col': 'Start date (Unis Away)',\n",
    "        'end_date_col': 'End date (Unis Away)'\n",
    "    },\n",
    "}"
   ]
  },
  {
   "cell_type": "code",
   "execution_count": null,
   "metadata": {},
   "outputs": [],
   "source": [
    "def process_start_date_str(start_date_str):\n",
    "    if start_date_str.strip() in ['Before 1 August', 'before 1 August 2020', 'Before 1 August 2020', 'Before August 1', '1 August 2020', 'Before 1st of August', 'before 01/08/2020', 'before 1/08/2020',  \n",
    "                                  'before 1/8/2020', 'before 13/7/2020', 'Before 1st August']:\n",
    "        return pd.to_datetime('2020-08-01')\n",
    "    \n",
    "    elif start_date_str.strip() in ['no', 'No', 'nan', 'N/A', 'NA']:\n",
    "        return None\n",
    "    \n",
    "    try:\n",
    "        return pd.to_datetime(start_date_str, dayfirst=True, infer_datetime_format=True)\n",
    "    except ValueError:\n",
    "        print(f'Could not convert start date {start_date_str}')\n",
    "        \n",
    "def process_end_date_str(end_date_str):\n",
    "    if end_date_str.strip() in ['no', 'No', 'nan', 'N/A', 'NA', 'After 9 January 2021']:\n",
    "        return pd.to_datetime('2021-01-09')\n",
    "    \n",
    "    try:\n",
    "        return pd.to_datetime(end_date_str,  dayfirst=True, infer_datetime_format=True)\n",
    "    except ValueError:\n",
    "        print(f'Could not convert end date {end_date_str}')\n",
    "        \n",
    "def process_value(value):\n",
    "    if str(value).strip() in ['no', 'No', 'nan', 'NaN']:\n",
    "        return 0\n",
    "    else:\n",
    "        return int(value)\n",
    "        \n",
    "def process_cm_dict(row, cm_dict):\n",
    "    sd = str(row[cm_dict['start_date_col']])\n",
    "    ed = str(row[cm_dict['end_date_col']])\n",
    "\n",
    "    sd_dt = process_start_date_str(sd)\n",
    "    ed_dt = process_end_date_str(ed)\n",
    "\n",
    "    if sd_dt is None:\n",
    "        return (None, None, None)\n",
    "    else:\n",
    "        # sd is not None\n",
    "        value = 1 if cm_dict['type'] == 'binary' else process_value(row[cm_dict['value_col']])\n",
    "        return (sd_dt, ed_dt, value)\n",
    "        \n",
    "def datetime_to_index(dt, Ds):\n",
    "    ind = None\n",
    "    \n",
    "    if dt < pd.to_datetime('2020-08-01'):\n",
    "        ind = 0\n",
    "    else:\n",
    "        try:\n",
    "            ind = list(Ds).index(dt)\n",
    "        except:\n",
    "            error_str = f'Date {dt} was not in my list'\n",
    "            new_dt = dt - pd.DateOffset(years=1)\n",
    "            if new_dt in Ds:\n",
    "                ind = list(Ds).index(new_dt)\n",
    "                error_str = f'{error_str} -- Used month and date'\n",
    "            else:\n",
    "                error_str = f'{error_str} -- failed'\n",
    "            print(error_str)\n",
    "    return ind"
   ]
  },
  {
   "cell_type": "code",
   "execution_count": null,
   "metadata": {},
   "outputs": [],
   "source": [
    "def create_active_cms_mat(df, Rs, npi_information_dict, Ds):\n",
    "    CMs = list(npi_information_dict.keys())\n",
    "\n",
    "    nRs = len(Rs)\n",
    "    nDs = len(Ds)\n",
    "    nCMs = len(CMs)\n",
    "    \n",
    "    active_cms = np.zeros((nRs, nCMs, nDs))\n",
    "    \n",
    "    for r_i, r in enumerate(Rs):\n",
    "        sub_df = df.loc[r]\n",
    "        for _, row in sub_df.iterrows():\n",
    "            for cm_i, (cm_name, cm_dict) in enumerate(npi_information_dict.items()):\n",
    "                sd_dt, ed_dt, value = process_cm_dict(row, cm_dict)\n",
    "\n",
    "                if sd_dt is not None and ed_dt is not None:\n",
    "                    start_ind = datetime_to_index(sd_dt, Ds)           \n",
    "                    end_ind = datetime_to_index(ed_dt, Ds)\n",
    "                    active_cms[r_i, cm_i, start_ind:end_ind+1] = value\n",
    "    return active_cms"
   ]
  },
  {
   "cell_type": "markdown",
   "metadata": {},
   "source": [
    "# produce active cms from DF"
   ]
  },
  {
   "cell_type": "code",
   "execution_count": null,
   "metadata": {},
   "outputs": [],
   "source": [
    "# currently reads directly from the CSV\n",
    "uk_df = pd.read_csv('../../data/npi_data/england.csv', skiprows=2).dropna(axis='index', how='all')#.set_index('Code')\n",
    "droplist = [c for c in df.columns if 'Sources' in c or 'Quotes' in c or 'Description' in c or 'What is the reason' in c or 'How many' in c or 'Unnamed' in c]\n",
    "droplist.extend(['Person who entered this row', 'At any point in time, did the local area ever implement NPIs of interest in only some part of the local area. If yes, describe the situation a bit more.',\n",
    "       'Would it be very easy to collect further data on neighboring local areas? If yes, for which local areas?',\n",
    "       'How long did you need to collect this data?'])\n",
    "\n",
    "uk_df = uk_df.drop(droplist, axis=1)\n",
    "uk_df = uk_df.rename(columns=lambda x: x.strip())\n",
    "uk_df['Local area'] = uk_df['Local area'].apply(lambda x: str(x).strip())\n",
    "\n",
    "uk_df = uk_df.set_index('Local area')"
   ]
  },
  {
   "cell_type": "code",
   "execution_count": null,
   "metadata": {},
   "outputs": [],
   "source": [
    "uk_Rs = ['Lincolnshire', 'Greater Manchester South West',\n",
    "       'Redbridge and Waltham Forest', 'Enfield', 'Buckinghamshire CC',\n",
    "       'Portsmouth', 'Southampton', 'Brighton and Hove', 'Coventry',\n",
    "       'Walsall', 'North Yorkshire CC', 'Essex Haven Gateway',\n",
    "       'Southend-on-Sea', 'Gloucestershire', 'East Derbyshire',\n",
    "       'Enfield', 'Buckinghamshire CC']"
   ]
  },
  {
   "cell_type": "code",
   "execution_count": null,
   "metadata": {},
   "outputs": [],
   "source": [
    "start_date = '08-01-2020'\n",
    "end_date = '01-09-2021'\n",
    "Ds = pd.date_range(start=start_date, end=end_date)"
   ]
  },
  {
   "cell_type": "code",
   "execution_count": null,
   "metadata": {},
   "outputs": [],
   "source": [
    "uk_active_cms = create_active_cms_mat(uk_df, uk_Rs, npi_information_dict, Ds)"
   ]
  },
  {
   "cell_type": "code",
   "execution_count": null,
   "metadata": {},
   "outputs": [],
   "source": [
    "# currently reads directly from the CSV\n",
    "at_df = pd.read_csv('../../data/npi_data/austria.csv', skiprows=2).dropna(axis='index', how='all')#.set_index('Code')\n",
    "droplist = [c for c in at_df.columns if 'Sources' in c or 'Quotes' in c or 'Description' in c or 'What is the reason' in c or 'How many' in c or 'Unnamed' in c]\n",
    "droplist.extend(['Person who entered this row', 'At any point in time, did the local area ever implement NPIs of interest in only some part of the local area. If yes, describe the situation a bit more.',\n",
    "       'Would it be very easy to collect further data on neighboring local areas? If yes, for which local areas?',\n",
    "       'How long did you need to collect this data?', 'Local area'])\n",
    "\n",
    "at_df = at_df.drop(droplist, axis=1)\n",
    "at_df = at_df.rename(columns=lambda x: x.strip())\n",
    "\n",
    "at_df = at_df.set_index('Region')\n",
    "\n",
    "at_Rs = ['Wien', 'Burgenland', 'Steiermark', 'Oberösterreich',\n",
    "       'Nieder­österreich', 'Voralberg ', 'Tirol', 'Karnten/Carinthia',\n",
    "       'Salzburg']"
   ]
  },
  {
   "cell_type": "code",
   "execution_count": null,
   "metadata": {},
   "outputs": [],
   "source": [
    "at_active_cms = create_active_cms_mat(at_df, at_Rs, npi_information_dict, Ds)"
   ]
  },
  {
   "cell_type": "code",
   "execution_count": null,
   "metadata": {},
   "outputs": [],
   "source": [
    "# currently reads directly from the CSV\n",
    "de_df = pd.read_csv('../../data/npi_data/germany.csv', skiprows=2).dropna(axis='index', how='all')#.set_index('Code')\n",
    "droplist = [c for c in df.columns if 'Sources' in c or 'Quotes' in c or 'Description' in c or 'What is the reason' in c or 'How many' in c or 'Unnamed' in c]\n",
    "droplist.extend(['Person who entered this row', 'At any point in time, did the local area ever implement NPIs of interest in only some part of the local area. If yes, describe the situation a bit more.',\n",
    "       'Would it be very easy to collect further data on neighboring local areas? If yes, for which local areas?',\n",
    "       'How long did you need to collect this data?'])\n",
    "\n",
    "de_df = de_df.drop(droplist, axis=1)\n",
    "de_df = de_df.rename(columns=lambda x: x.strip())\n",
    "de_df['Local area'] = de_df['Local area'].apply(lambda x: str(x).strip())\n",
    "\n",
    "de_Rs = ['Nürnberg', 'SK Aschaffenburg', 'Fürth', 'Landsberg am Lech',\n",
    "       'LK Donau-Ries', 'Minden-Lübbecke', 'Mönchengladbach', 'Münster',\n",
    "       'Rhein-Kreis Neuss', 'LK Ennepe-Ruhr-Kreis', 'LK Rems-Murr-Kreis',\n",
    "       'LK Breisgau-Hochschwarzwald', 'LK Enzkreis', 'LK Hildesheim',\n",
    "       'LK Gifhorn']\n",
    "de_df = de_df.set_index('Local area')"
   ]
  },
  {
   "cell_type": "code",
   "execution_count": null,
   "metadata": {},
   "outputs": [],
   "source": [
    "de_active_cms = create_active_cms_mat(de_df, de_Rs, npi_information_dict, Ds)"
   ]
  },
  {
   "cell_type": "code",
   "execution_count": null,
   "metadata": {},
   "outputs": [],
   "source": [
    "# currently reads directly from the CSV\n",
    "it_df = pd.read_csv('../../data/npi_data/italy.csv', skiprows=2).dropna(axis='index', how='all')#.set_index('Code')\n",
    "droplist = [c for c in it_df.columns if 'Sources' in c or 'Quotes' in c or 'Description' in c or 'What is the reason' in c or 'How many' in c or 'Unnamed' in c]\n",
    "droplist.extend(['Person who entered this row', 'At any point in time, did the local area ever implement NPIs of interest in only some part of the local area. If yes, describe the situation a bit more.',\n",
    "       'Would it be very easy to collect further data on neighboring local areas? If yes, for which local areas?',\n",
    "       'How long did you need to collect this data?', 'Local area'])\n",
    "\n",
    "it_df = it_df.drop(droplist, axis=1)\n",
    "it_df = it_df.rename(columns=lambda x: x.strip())\n",
    "\n",
    "it_df = it_df.set_index('Region')\n",
    "\n",
    "it_Rs = ['Abruzzo', 'Aosta Valley',\n",
    "                      'Apulia (AKA Puglia)',\n",
    "                               'Basilicata',\n",
    "                                 'Calabria',\n",
    "                                 'Campania',\n",
    "                           'Emilia-Romagna',\n",
    "                    'Friuli-Venezia Giulia',\n",
    "                                    'Lazio',\n",
    "                                 'Liguria ',\n",
    "                                 'Lombardy',\n",
    "                                   'Marche',\n",
    "                                   'Molise',\n",
    "                                 'Piedmont',\n",
    "                                 'Sardinia',\n",
    "                                   'Sicily',\n",
    "                     'Trentino-South Tyrol',\n",
    "                                'Tuscania ',\n",
    "                                   'Umbria',\n",
    "                                   'Veneto']"
   ]
  },
  {
   "cell_type": "code",
   "execution_count": null,
   "metadata": {},
   "outputs": [],
   "source": [
    "it_active_cms = create_active_cms_mat(it_df, it_Rs, npi_information_dict, Ds)"
   ]
  },
  {
   "cell_type": "code",
   "execution_count": null,
   "metadata": {},
   "outputs": [],
   "source": [
    "all_Rs = [*uk_Rs, *at_Rs, *de_Rs, *it_Rs]\n",
    "all_Cs = [*['england' for i in range(len(uk_Rs))], *['austria' for i in range(len(at_Rs))], *['germany' for i in range(len(de_Rs))], *['italy' for i in range(len(it_Rs))]]"
   ]
  }
 ],
 "metadata": {
  "kernelspec": {
   "display_name": "Python 3",
   "language": "python",
   "name": "python3"
  },
  "language_info": {
   "codemirror_mode": {
    "name": "ipython",
    "version": 3
   },
   "file_extension": ".py",
   "mimetype": "text/x-python",
   "name": "python",
   "nbconvert_exporter": "python",
   "pygments_lexer": "ipython3",
   "version": "3.8.3"
  },
  "pycharm": {
   "stem_cell": {
    "cell_type": "raw",
    "metadata": {
     "collapsed": false
    },
    "source": [
     "\n"
    ]
   }
  }
 },
 "nbformat": 4,
 "nbformat_minor": 4
}
