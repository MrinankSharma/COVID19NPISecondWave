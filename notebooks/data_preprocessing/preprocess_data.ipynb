{
 "cells": [
  {
   "cell_type": "markdown",
   "source": [
    "# Loading and Merging NPI data"
   ],
   "metadata": {
    "collapsed": false
   }
  },
  {
   "cell_type": "code",
   "execution_count": 43,
   "outputs": [],
   "source": [
    "import numpy as np\n",
    "import pandas as pd\n",
    "import matplotlib.pyplot as plt\n",
    "import pylab as pl\n",
    "import seaborn as sns\n",
    "import json\n",
    "import copy\n",
    "\n",
    "import re"
   ],
   "metadata": {
    "collapsed": false,
    "pycharm": {
     "name": "#%%\n"
    }
   }
  },
  {
   "cell_type": "code",
   "execution_count": 44,
   "outputs": [],
   "source": [
    "# this dict contains information for loading the info\n",
    "npi_information_dict = {\n",
    "    'Public Outdoor Gathering Person Limit': {\n",
    "        'type': 'value',\n",
    "        'start_date_col': 'Start date (Public Outdoors)',\n",
    "        'end_date_col': 'End date (Public Outdoors)',\n",
    "        'value_col': 'Limit on number of people (only X people or fewer) (Public Outdoors)'\n",
    "    },\n",
    "    'Public Indoor Gathering Person Limit': {\n",
    "        'type': 'value',\n",
    "        'start_date_col': 'Start date (Public Indoors)',\n",
    "        'end_date_col': 'End date (Public Indoors)',\n",
    "        'value_col': 'Limit on number of people (only X people or fewer) (Public Indoors)'\n",
    "    },\n",
    "    'Private Outdoor Gathering Person Limit': {\n",
    "        'type': 'value',\n",
    "        'start_date_col': 'Start date (Private Outdoors)',\n",
    "        'end_date_col': 'End date (Private Outdoors)',\n",
    "        'value_col': 'Limit on number of people (only X people or fewer) (Private Outdoors)'\n",
    "    },\n",
    "    'Private Indoor Gathering Person Limit': {\n",
    "        'type': 'value',\n",
    "        'start_date_col': 'Start date (Private Indoors)',\n",
    "        'end_date_col': 'End date (Private Indoors)',\n",
    "        'value_col': 'Limit on number of people (only X people or fewer) (Private Indoors)'\n",
    "    },\n",
    "    'Public Outdoor Household Limit': {\n",
    "        'type': 'value',\n",
    "        'start_date_col': 'Start date (Public Outdoors)',\n",
    "        'end_date_col': 'End date (Public Outdoors)',\n",
    "        'value_col': 'Limit on number of households (Public Outdoors)'\n",
    "    },\n",
    "    'Public Indoor Household Limit': {\n",
    "        'type': 'value',\n",
    "        'start_date_col': 'Start date (Public Indoors)',\n",
    "        'end_date_col': 'End date (Public Indoors)',\n",
    "        'value_col': 'Limit on number of households (Public Indoors)'\n",
    "    },\n",
    "    'Private Outdoor Household Limit': {\n",
    "        'type': 'value',\n",
    "        'start_date_col': 'Start date (Private Outdoors)',\n",
    "        'end_date_col': 'End date (Private Outdoors)',\n",
    "        'value_col': 'Limit on number of households (Private Outdoors)'\n",
    "    },\n",
    "    'Private Indoor Household Limit': {\n",
    "        'type': 'value',\n",
    "        'start_date_col': 'Start date (Private Indoors)',\n",
    "        'end_date_col': 'End date (Private Indoors)',\n",
    "        'value_col': 'Limit on number of households (Private Indoors)'\n",
    "    },\n",
    "    'Mandatory Mask Wearing': {\n",
    "        'type': 'value',\n",
    "        'start_date_col': 'Start date (Mask Wearing)',\n",
    "        'end_date_col': 'End date (Mask Wearing)',\n",
    "        'value_col': 'Level of NPI (0-4) (Mask Wearing)'\n",
    "    },\n",
    "    'Some Face-to-Face Businesses Closed': {\n",
    "        'type': 'binary',\n",
    "        'start_date_col': 'Start date (Some Face2Face)',\n",
    "        'end_date_col': 'End date (Some Face2Face)'\n",
    "    },\n",
    "    'Gastronomy Closed': {\n",
    "        'type': 'binary',\n",
    "        'start_date_col': 'Start date  (Gastronomy Closed)',\n",
    "        'end_date_col': 'End date (Gastronomy Closed)'\n",
    "    },\n",
    "    'Leisure Venues Closed': {\n",
    "        'type': 'binary',\n",
    "        'start_date_col': 'Start date (Leisure Venue)',\n",
    "        'end_date_col': 'End date (Leisure Venue)'\n",
    "    },\n",
    "    'Retail Closed': {\n",
    "        'type': 'binary',\n",
    "        'start_date_col': 'Start date (Retail)',\n",
    "        'end_date_col': 'End date (Retail)'\n",
    "    },\n",
    "    'All Face-to-Face Businesses Closed': {\n",
    "        'type': 'binary',\n",
    "        'start_date_col': 'Start date (All Face2Face)',\n",
    "        'end_date_col': 'End date (All Face2Face)'\n",
    "    },\n",
    "    'Stay at Home Order': {\n",
    "        'type': 'binary',\n",
    "        'start_date_col': 'Start date (Stay Home)',\n",
    "        'end_date_col': 'End date (Stay Home)'\n",
    "    },\n",
    "    'Curfew': {\n",
    "        'type': 'binary',\n",
    "        'start_date_col': 'Start date (Curfew)',\n",
    "        'end_date_col': 'End date (Curfew)'\n",
    "    },\n",
    "    'Childcare Closed': {\n",
    "        'type': 'binary',\n",
    "        'start_date_col': 'Start date (Childcare)',\n",
    "        'end_date_col': 'End date  (Childcare)'\n",
    "    },\n",
    "    'Primary Schools Closed': {\n",
    "        'type': 'binary',\n",
    "        'start_date_col': 'Start date (Primary Schools)',\n",
    "        'end_date_col': 'End date (Primary Schools)'\n",
    "    },\n",
    "    'Secondary Schools Closed': {\n",
    "        'type': 'binary',\n",
    "        'start_date_col': 'Start date (Secondary Schools)',\n",
    "        'end_date_col': 'End date (Secondary Schools)'\n",
    "    },\n",
    "    'Universities Away': {\n",
    "        'type': 'binary',\n",
    "        'start_date_col': 'Start date (Unis Away)',\n",
    "        'end_date_col': 'End date (Unis Away)'\n",
    "    },\n",
    "}"
   ],
   "metadata": {
    "collapsed": false,
    "pycharm": {
     "name": "#%%\n"
    }
   }
  },
  {
   "cell_type": "code",
   "execution_count": 45,
   "outputs": [],
   "source": [
    "# if there is a string, this lookup converts the month string into the month int and year int\n",
    "# not the cleanest way of doing this....\n",
    "lookup_months = {\n",
    "    'January': (1, 2021),\n",
    "    'Jan': (1, 2021),\n",
    "    'September': (9, 2020),\n",
    "    'Septemeber': (9, 2020),\n",
    "    'December': (12, 2020),\n",
    "    'August': (8, 2020),\n",
    "    'November': (11, 2020),\n",
    "}"
   ],
   "metadata": {
    "collapsed": false,
    "pycharm": {
     "name": "#%%\n"
    }
   }
  },
  {
   "cell_type": "code",
   "execution_count": 46,
   "outputs": [],
   "source": [
    "def process_start_date_str(start_date_str):\n",
    "    if start_date_str.strip() in ['Before 1 August', 'before 1 August 2020', 'Before 1 August 2020', 'Before August 1', '1 August 2020', 'Before 1st of August', 'before 01/08/2020', 'before 1/08/2020',  \n",
    "                                  'before 1/8/2020', 'before 13/7/2020', 'Before 1st August', 'Before 01/08/2020']:\n",
    "        return pd.to_datetime('2020-08-01')\n",
    "    \n",
    "    elif start_date_str.strip() in ['no', 'No', 'nan', 'N/A', 'NA']:\n",
    "        return None\n",
    "    \n",
    "    try:\n",
    "        return pd.to_datetime(start_date_str, dayfirst=True, infer_datetime_format=True)\n",
    "    except ValueError:\n",
    "        day = int(re.search('[0-9]+', start_date_str)[0])\n",
    "        for month_str, (m, y) in lookup_months.items():\n",
    "            if month_str in start_date_str:\n",
    "                dt = pd.Timestamp(day=day, month=m, year=y)\n",
    "                print(f'Regex Succeeded: Converted {start_date_str} to {dt}')\n",
    "                return dt\n",
    "        print(f'Problem: Could not convert start date {start_date_str}')\n",
    "        \n",
    "def process_end_date_str(end_date_str):\n",
    "    if end_date_str.strip() in ['no', 'No', 'nan', 'N/A', 'NA', '-', 'After 9 January 2021']:\n",
    "        return pd.to_datetime('2021-01-09')\n",
    "\n",
    "    try:\n",
    "        return pd.to_datetime(end_date_str,  dayfirst=True, infer_datetime_format=True)\n",
    "    except ValueError:\n",
    "        #print(end_date_str)\n",
    "        day = int(re.search('[0-9]+', end_date_str)[0])\n",
    "        for month_str, (m, y) in lookup_months.items():\n",
    "            if month_str in end_date_str:\n",
    "                dt = pd.Timestamp(day=day, month=m, year=y)\n",
    "                print(f'Regex Succeeded: Converted {end_date_str} to {dt}')\n",
    "                return dt\n",
    "        \n",
    "        print(f'Problem: Could not convert end date {end_date_str}')\n",
    "\n",
    "        \n",
    "def process_value(value):\n",
    "    if str(value).strip() in ['no', 'No', 'nan', 'NaN']:\n",
    "        return 0\n",
    "    if ',' in str(value):\n",
    "        value = value.replace(',','')\n",
    "    return int(value)\n",
    "        \n",
    "def process_cm_dict(row, cm_dict):\n",
    "    sd = str(row[cm_dict['start_date_col']])\n",
    "    ed = str(row[cm_dict['end_date_col']])\n",
    "\n",
    "    sd_dt = process_start_date_str(sd)\n",
    "    ed_dt = process_end_date_str(ed)\n",
    "\n",
    "    if sd_dt is None:\n",
    "        return (None, None, None)\n",
    "    else:\n",
    "        # sd is not None\n",
    "        value = 1 if cm_dict['type'] == 'binary' else process_value(row[cm_dict['value_col']])\n",
    "        return (sd_dt, ed_dt, value)\n",
    "        \n",
    "def datetime_to_index(dt, Ds, r, cm_name, final):\n",
    "    ind = None\n",
    "    \n",
    "    if dt < pd.to_datetime('2020-08-01'):\n",
    "        if dt < pd.to_datetime('2020-07-01'):\n",
    "            print(f'Date {dt} is before 1st July. Region: {r}, CM: {cm_name}. Setting to Aug 1st')\n",
    "        ind = 0\n",
    "    else:\n",
    "        try:\n",
    "            ind = list(Ds).index(dt)\n",
    "        except:\n",
    "            if final == False:\n",
    "                print(f'Problem: Date {dt} is after 9th Jan. Region: {r}, CM: {cm_name}. Setting index to None')\n",
    "                return ind\n",
    "            else:\n",
    "                error_str = f'Date {dt} was not in my list'\n",
    "                new_dt = dt - pd.DateOffset(years=1)\n",
    "                if new_dt in Ds:\n",
    "                    ind = list(Ds).index(new_dt)\n",
    "                    error_str = f'{error_str} -- Used month and date'\n",
    "                else:\n",
    "                    error_str = f'Problem: {error_str} -- failed'\n",
    "                print(error_str)\n",
    "    return ind\n"
   ],
   "metadata": {
    "collapsed": false,
    "pycharm": {
     "name": "#%%\n"
    }
   }
  },
  {
   "cell_type": "code",
   "execution_count": 47,
   "outputs": [],
   "source": [
    "# def create_active_cms_mat(df, Rs, npi_information_dict, Ds):\n",
    "#     CMs = list(npi_information_dict.keys())\n",
    "#\n",
    "#     nRs = len(Rs)\n",
    "#     nDs = len(Ds)\n",
    "#     nCMs = len(CMs)\n",
    "#\n",
    "#     active_cms = np.zeros((nRs, nCMs, nDs))\n",
    "#\n",
    "#     for r_i, r in enumerate(Rs):\n",
    "#         sub_df = df.loc[r]\n",
    "#         for _, row in sub_df.iterrows():\n",
    "#             for cm_i, (cm_name, cm_dict) in enumerate(npi_information_dict.items()):\n",
    "#                 sd_dt, ed_dt, value = process_cm_dict(row, cm_dict)\n",
    "#\n",
    "#                 if sd_dt is not None and ed_dt is not None:\n",
    "#                     start_ind = datetime_to_index(sd_dt, Ds, r, cm_name)\n",
    "#                     end_ind = datetime_to_index(ed_dt, Ds, r, cm_name)\n",
    "#                     if start_ind is None:\n",
    "#                         print(f'Problem with start date: {sd_dt} for {cm_name} in {r}')\n",
    "#                     if end_ind is None:\n",
    "#                         print(f'Problem with end date: {ed_dt} for {cm_name} in {r}')\n",
    "#                     if start_ind is not None and end_ind is not None:\n",
    "#                         if start_ind > end_ind:\n",
    "#                             print(f'Problem with start-end date pair: [{Ds[start_ind]},{Ds[end_ind]}] for {cm_name} in {r}')\n",
    "#                     # the NPI should be active on the end date. that's why we need the \"+1\"\n",
    "#                     active_cms[r_i, cm_i, start_ind:end_ind+1] = value\n",
    "#     return active_cms\n",
    "#\n",
    "\n",
    "def create_active_cms_mat(df, Rs, npi_information_dict, Ds, final=True):\n",
    "    CMs = list(npi_information_dict.keys())\n",
    "\n",
    "    nRs = len(Rs)\n",
    "    nDs = len(Ds)\n",
    "    nCMs = len(CMs)\n",
    "\n",
    "    active_cms = np.zeros((nRs, nCMs, nDs))\n",
    "\n",
    "    for r_i, r in enumerate(Rs):\n",
    "        sub_df = df.loc[r]\n",
    "        for cm_i, (cm_name, cm_dict) in enumerate(npi_information_dict.items()):\n",
    "            old_end_ind = 0\n",
    "            for _, row in sub_df.iterrows():\n",
    "                sd_dt, ed_dt, value = process_cm_dict(row, cm_dict)\n",
    "                if sd_dt is not None and ed_dt is not None:\n",
    "                    start_ind = datetime_to_index(sd_dt, Ds, r, cm_name, final)\n",
    "                    end_ind = datetime_to_index(ed_dt, Ds, r, cm_name, final)\n",
    "                    if start_ind is None:\n",
    "                        print(f'Problem with start date: {sd_dt} for {cm_name} in {r}')\n",
    "                    else:\n",
    "                        if old_end_ind is not None:\n",
    "                            if start_ind < old_end_ind:\n",
    "                                print(f'Problem: start date is before the end date of the previous row on {sd_dt} for {cm_name} in {r}')\n",
    "                    if end_ind is None:\n",
    "                        print(f'Problem with end date: {ed_dt} for {cm_name} in {r}')\n",
    "                        end_ind = len(Ds) - 1\n",
    "\n",
    "                    if start_ind is not None and end_ind is not None:\n",
    "                        if start_ind > end_ind:\n",
    "                            print(f'Problem with start-end date pair: [{Ds[start_ind]},{Ds[end_ind]}] for {cm_name} in {r}')\n",
    "                    # the NPI should be active on the end date. that's why we need the \"+1\"\n",
    "                    active_cms[r_i, cm_i, start_ind:end_ind+1] = value\n",
    "                    old_end_ind = end_ind\n",
    "    return active_cms\n",
    "\n",
    "def load_new_cases_deaths_from_timeseries_df(Rs, timeseries_df, Ds):\n",
    "    new_cases = np.zeros((len(Rs), len(Ds)))\n",
    "    new_deaths = np.zeros((len(Rs), len(Ds)))\n",
    "\n",
    "    for r_i, r in enumerate(Rs):\n",
    "        new_cases[r_i, :] = timeseries_df.loc[r].loc[Ds]['new_cases']\n",
    "        new_deaths[r_i, :] = timeseries_df.loc[r].loc[Ds]['new_deaths']\n",
    "\n",
    "    return new_cases, new_deaths"
   ],
   "metadata": {
    "collapsed": false,
    "pycharm": {
     "name": "#%%\n"
    }
   }
  },
  {
   "cell_type": "markdown",
   "source": [],
   "metadata": {
    "collapsed": false
   }
  },
  {
   "cell_type": "code",
   "execution_count": 48,
   "outputs": [],
   "source": [
    "# Load all data\n",
    "\n",
    "## UK"
   ],
   "metadata": {
    "collapsed": false,
    "pycharm": {
     "name": "#%%\n"
    }
   }
  },
  {
   "cell_type": "code",
   "execution_count": 49,
   "outputs": [],
   "source": [
    "# currently reads directly from the CSV\n",
    "uk_df = pd.read_csv('../../data/npi_data/england.csv', skiprows=2).dropna(axis='index', how='all')#.set_index('Code')\n",
    "droplist = [c for c in uk_df.columns if 'Sources' in c or 'Quotes' in c or 'Description' in c or 'What is the reason' in c or 'How many' in c or 'Unnamed' in c]\n",
    "# droplist.extend(['Person who entered this row', 'At any point in time, did the local area ever implement NPIs of interest in only some part of the local area. If yes, describe the situation a bit more.',\n",
    "#        'Would it be very easy to collect further data on neighboring local areas? If yes, for which local areas?',\n",
    "#        'How long did you need to collect this data?'])\n",
    "\n",
    "uk_df = uk_df.drop(droplist, axis=1)\n",
    "uk_df = uk_df.rename(columns=lambda x: x.strip())\n",
    "uk_df['Local area'] = uk_df['Local area'].apply(lambda x: str(x).strip())\n",
    "\n",
    "uk_df = uk_df.set_index('Local area')"
   ],
   "metadata": {
    "collapsed": false,
    "pycharm": {
     "name": "#%%\n"
    }
   }
  },
  {
   "cell_type": "code",
   "execution_count": 50,
   "outputs": [],
   "source": [
    "uk_Rs = ['Lincolnshire', 'Greater Manchester South West',\n",
    "       'Redbridge and Waltham Forest', 'Enfield', 'Buckinghamshire CC',\n",
    "       'Portsmouth', 'Southampton', 'Brighton and Hove', 'Coventry',\n",
    "       'Walsall', 'North Yorkshire CC', 'Essex Haven Gateway',\n",
    "       'Southend-on-Sea', 'Gloucestershire', 'East Derbyshire']"
   ],
   "metadata": {
    "collapsed": false,
    "pycharm": {
     "name": "#%%\n"
    }
   }
  },
  {
   "cell_type": "code",
   "execution_count": 51,
   "outputs": [],
   "source": [
    "start_date = '08-01-2020'\n",
    "end_date = '01-09-2021'\n",
    "Ds = pd.date_range(start=start_date, end=end_date)"
   ],
   "metadata": {
    "collapsed": false,
    "pycharm": {
     "name": "#%%\n"
    }
   }
  },
  {
   "cell_type": "code",
   "execution_count": 52,
   "outputs": [],
   "source": [
    "uk_active_cms = create_active_cms_mat(uk_df, uk_Rs, npi_information_dict, Ds, final=True)"
   ],
   "metadata": {
    "collapsed": false,
    "pycharm": {
     "name": "#%%\n"
    }
   }
  },
  {
   "cell_type": "code",
   "execution_count": 53,
   "outputs": [],
   "source": [
    "with open('../../data/raw_data_w_sources/uk_ltla_info.json') as json_file:\n",
    "    uk_ltla_info_dict = json.load(json_file)\n",
    "\n",
    "uk_ltla_info_df = pd.DataFrame([d['attributes'] for d in uk_ltla_info_dict['features']])\n",
    "uk_ltla_info_df = uk_ltla_info_df.rename({'LAU117NM': 'area', 'NUTS318NM': 'NUTS3', 'NUTS118NM': 'region'} ,axis=1)\n",
    "uk_ltla_info_df = uk_ltla_info_df.set_index('area')\n",
    "\n",
    "uk_df = pd.read_csv('../../data/raw_data_w_sources/uk_case_deaths.csv', infer_datetime_format=True)\n",
    "uk_df = uk_df.drop(['areaCode', 'newCasesByPublishDate', 'newDeaths28DaysByPublishDate'], axis=1)\n",
    "uk_df['areaType'] = 'UK'\n",
    "uk_df = uk_df.rename({'areaType': 'country', 'areaName':'area', 'newCasesBySpecimenDate': 'new_cases', 'newDeaths28DaysByDeathDate': 'new_deaths'}, axis=1)\n",
    "uk_df = uk_df.set_index(['area', 'date'])\n",
    "\n",
    "def NUTS3_lookup(ltla):\n",
    "    try:\n",
    "        nuts3 = uk_ltla_info_df.loc[ltla]['NUTS3']\n",
    "    except KeyError:\n",
    "#         print(f'{ltla} missing in my lookup table')\n",
    "        nuts3 = 'unknown'\n",
    "    return nuts3\n",
    "\n",
    "nuts3_uk_df = uk_df.reset_index()\n",
    "nuts3_uk_df['NUTS3'] = nuts3_uk_df['area'].map(NUTS3_lookup)\n",
    "days = nuts3_uk_df['date'].unique()\n",
    "nuts3_regions = nuts3_uk_df['NUTS3'].unique()\n",
    "nuts3_df_list = []\n",
    "nuts3_uk_df_merged = None\n",
    "\n",
    "for nuts3_region in nuts3_regions:\n",
    "    if nuts3_region == 'unknown':\n",
    "        continue\n",
    "    \n",
    "    filtered_df = nuts3_uk_df.loc[nuts3_uk_df['NUTS3'] == nuts3_region]\n",
    "    \n",
    "    case_death_series = filtered_df.groupby('date').sum()\n",
    "    case_death_series['area'] = nuts3_region\n",
    "    \n",
    "    if nuts3_uk_df_merged is None:\n",
    "        nuts3_uk_df_merged = copy.deepcopy(case_death_series)\n",
    "    else:\n",
    "        nuts3_uk_df_merged = nuts3_uk_df_merged.append(case_death_series)\n",
    "    \n",
    "nuts3_uk_df_merged = nuts3_uk_df_merged.reset_index()\n",
    "nuts3_uk_df_merged['date'] = pd.to_datetime(nuts3_uk_df_merged['date'])\n",
    "nuts3_uk_df_merged = nuts3_uk_df_merged.set_index(['area', 'date'])\n",
    "nuts3_uk_df_merged = nuts3_uk_df_merged.sort_index(level=[1],ascending=[True])"
   ],
   "metadata": {
    "collapsed": false,
    "pycharm": {
     "name": "#%%\n"
    }
   }
  },
  {
   "cell_type": "code",
   "execution_count": 54,
   "outputs": [],
   "source": [
    "uk_cases, uk_deaths = load_new_cases_deaths_from_timeseries_df(uk_Rs, nuts3_uk_df_merged, Ds)"
   ],
   "metadata": {
    "collapsed": false,
    "pycharm": {
     "name": "#%%\n"
    }
   }
  },
  {
   "cell_type": "markdown",
   "source": [
    "## Austria"
   ],
   "metadata": {
    "collapsed": false
   }
  },
  {
   "cell_type": "code",
   "execution_count": 55,
   "outputs": [],
   "source": [
    "# currently reads directly from the CSV\n",
    "at_df = pd.read_csv('../../data/npi_data/austria.csv', skiprows=2).dropna(axis='index', how='all')#.set_index('Code')\n",
    "droplist = [c for c in at_df.columns if 'Sources' in c or 'Quotes' in c or 'Description' in c or 'What is the reason' in c or 'How many' in c or 'Unnamed' in c]\n",
    "# droplist.extend(['Person who entered this row', 'At any point in time, did the local area ever implement NPIs of interest in only some part of the local area. If yes, describe the situation a bit more.',\n",
    "#        'Would it be very easy to collect further data on neighboring local areas? If yes, for which local areas?',\n",
    "#        'How long did you need to collect this data?', 'Local area'])\n",
    "\n",
    "at_df = at_df.drop(droplist, axis=1)\n",
    "at_df = at_df.rename(columns=lambda x: x.strip())\n",
    "\n",
    "at_df = at_df.set_index('Region')\n",
    "\n",
    "at_Rs = ['Wien', 'Burgenland', 'Steiermark', 'Oberösterreich',\n",
    "       'Nieder­österreich', 'Voralberg ', 'Tirol', 'Karnten/Carinthia',\n",
    "       'Salzburg']"
   ],
   "metadata": {
    "collapsed": false,
    "pycharm": {
     "name": "#%%\n"
    }
   }
  },
  {
   "cell_type": "code",
   "execution_count": 56,
   "outputs": [],
   "source": [
    "at_active_cms = create_active_cms_mat(at_df, at_Rs, npi_information_dict, Ds, final=True)"
   ],
   "metadata": {
    "collapsed": false,
    "pycharm": {
     "name": "#%%\n"
    }
   }
  },
  {
   "cell_type": "code",
   "execution_count": 57,
   "outputs": [],
   "source": [
    "austria_ltla_lookup = pd.read_csv('../../data/raw_data_w_sources/at_lau_lookup.csv')\n",
    "austria_ltla_lookup = austria_ltla_lookup.set_index('GKZ')\n",
    "\n",
    "def at_ltla_lookup(ltla):\n",
    "    if ltla in austria_ltla_lookup.index:\n",
    "        return austria_ltla_lookup.loc[ltla]['State Code (middle column of HASC)']\n",
    "    return 'Vienna'\n",
    "\n",
    "austria_df = pd.read_csv('../../data/raw_data_w_sources/at_case_deaths.csv', error_bad_lines=False, delimiter=';', skiprows=1)\n",
    "austria_df = austria_df.drop([' number of cases total',\n",
    "       ' number of cases of 7 days', ' seven days of incidence cases',' number of total totals',\n",
    "       ' number of held daily', ' number of healing total'], axis=1)\n",
    "austria_df[' GKZ'] = austria_df[' GKZ'].map(at_ltla_lookup)\n",
    "austria_df = austria_df.rename({'Time': 'date', ' district': 'area', ' GKZ': 'region', ' number of inhabitants': 'population', ' number of cases': 'new_cases', ' number of dead daily': 'new_deaths'}, axis=1)\n",
    "austria_df = austria_df.drop('population', axis=1)\n",
    "austria_df['date'] = pd.to_datetime(austria_df['date'], format='%d.%m.%Y %M:%H:%S')\n",
    "\n",
    "austria_timeseries_df = austria_df.set_index(['area', 'date'])\n",
    "\n",
    "austria_nuts2_regions = austria_timeseries_df['region'].unique()\n",
    "\n",
    "austria_nuts2_df_list = []\n",
    "\n",
    "austria_nuts2_df_merged = None\n",
    "\n",
    "for nuts2_region in austria_nuts2_regions:    \n",
    "    filtered_df = austria_timeseries_df.loc[austria_timeseries_df['region'] == nuts2_region]\n",
    "    \n",
    "    case_death_series = filtered_df.groupby('date').sum()\n",
    "    case_death_series['area'] = nuts2_region\n",
    "    \n",
    "    if austria_nuts2_df_merged is None:\n",
    "        austria_nuts2_df_merged = copy.deepcopy(case_death_series)\n",
    "    else:\n",
    "        austria_nuts2_df_merged = austria_nuts2_df_merged.append(case_death_series)\n",
    "    \n",
    "austria_nuts2_df_merged = austria_nuts2_df_merged.reset_index()\n",
    "austria_nuts2_df_merged = austria_nuts2_df_merged.set_index(['area', 'date'])\n",
    "austria_nuts2_df_merged = austria_nuts2_df_merged.sort_index(level=[1],ascending=[True])\n",
    "\n",
    "austria_nuts2_timeseries_df = austria_nuts2_df_merged\n",
    "\n",
    "timeseries_df_map_dict = {\n",
    "    'BU': 'Burgenland',\n",
    "    'Vienna': 'Wien',\n",
    "    'ST': 'Steiermark',\n",
    "    'OO': 'Oberösterreich',\n",
    "    'TR': 'Tirol',\n",
    "    'VO': 'Voralberg ',\n",
    "    'KA': 'Karnten/Carinthia',\n",
    "    'OO': 'Oberösterreich',\n",
    "    'NO': 'Nieder\\xadösterreich',\n",
    "    'SZ': 'Salzburg',\n",
    "}\n",
    "\n",
    "austria_nuts2_timeseries_df.index = austria_nuts2_timeseries_df.index.map(lambda x: (timeseries_df_map_dict[x[0]], x[1]))"
   ],
   "metadata": {
    "collapsed": false,
    "pycharm": {
     "name": "#%%\n"
    }
   }
  },
  {
   "cell_type": "code",
   "execution_count": 58,
   "outputs": [],
   "source": [
    "at_cases, at_deaths = load_new_cases_deaths_from_timeseries_df(at_Rs, austria_nuts2_timeseries_df, Ds)"
   ],
   "metadata": {
    "collapsed": false,
    "pycharm": {
     "name": "#%%\n"
    }
   }
  },
  {
   "cell_type": "markdown",
   "source": [
    "# Germany"
   ],
   "metadata": {
    "collapsed": false
   }
  },
  {
   "cell_type": "code",
   "execution_count": 59,
   "outputs": [],
   "source": [
    "# currently reads directly from the CSV\n",
    "de_df = pd.read_csv('../../data/npi_data/germany.csv', skiprows=2).dropna(axis='index', how='all')#.set_index('Code')\n",
    "droplist = [c for c in de_df.columns if 'Sources' in c or 'Quotes' in c or 'Description' in c or 'What is the reason' in c or 'How many' in c or 'Unnamed' in c]\n",
    "# droplist.extend(['Person who entered this row'])\n",
    "\n",
    "de_df = de_df.drop(droplist, axis=1)\n",
    "de_df = de_df.rename(columns=lambda x: x.strip())\n",
    "de_df['Local area'] = de_df['Local area'].apply(lambda x: str(x).strip())\n",
    "\n",
    "de_Rs = ['Nürnberg', 'LK Aschaffenburg', 'Fürth', 'Landsberg am Lech',\n",
    "       'LK Donau-Ries', 'Minden-Lübbecke', 'Mönchengladbach', 'Münster',\n",
    "       'Rhein-Kreis Neuss', 'LK Ennepe-Ruhr-Kreis', 'LK Rems-Murr-Kreis',\n",
    "       'LK Breisgau-Hochschwarzwald', 'LK Enzkreis', 'LK Hildesheim',\n",
    "       'LK Gifhorn']\n",
    "de_df = de_df.set_index('Local area')"
   ],
   "metadata": {
    "collapsed": false,
    "pycharm": {
     "name": "#%%\n"
    }
   }
  },
  {
   "cell_type": "code",
   "execution_count": 60,
   "outputs": [
    {
     "name": "stdout",
     "output_type": "stream",
     "text": [
      "Date 2020-06-22 00:00:00 is before 1st July. Region: Nürnberg, CM: Public Outdoor Gathering Person Limit. Setting to Aug 1st\n",
      "Date 2020-06-22 00:00:00 is before 1st July. Region: Nürnberg, CM: Public Indoor Gathering Person Limit. Setting to Aug 1st\n",
      "Date 2020-06-22 00:00:00 is before 1st July. Region: Nürnberg, CM: Public Outdoor Household Limit. Setting to Aug 1st\n",
      "Date 2020-06-22 00:00:00 is before 1st July. Region: Nürnberg, CM: Public Indoor Household Limit. Setting to Aug 1st\n",
      "Date 2020-06-22 00:00:00 is before 1st July. Region: Nürnberg, CM: Mandatory Mask Wearing. Setting to Aug 1st\n",
      "Date 2020-06-22 00:00:00 is before 1st July. Region: Nürnberg, CM: Some Face-to-Face Businesses Closed. Setting to Aug 1st\n",
      "Date 2020-06-22 00:00:00 is before 1st July. Region: LK Aschaffenburg, CM: Public Outdoor Gathering Person Limit. Setting to Aug 1st\n",
      "Date 2020-06-22 00:00:00 is before 1st July. Region: LK Aschaffenburg, CM: Public Indoor Gathering Person Limit. Setting to Aug 1st\n",
      "Date 2020-06-22 00:00:00 is before 1st July. Region: LK Aschaffenburg, CM: Public Outdoor Household Limit. Setting to Aug 1st\n",
      "Date 2020-06-22 00:00:00 is before 1st July. Region: LK Aschaffenburg, CM: Public Indoor Household Limit. Setting to Aug 1st\n",
      "Date 2020-06-22 00:00:00 is before 1st July. Region: LK Aschaffenburg, CM: Mandatory Mask Wearing. Setting to Aug 1st\n",
      "Date 2020-06-22 00:00:00 is before 1st July. Region: LK Aschaffenburg, CM: Some Face-to-Face Businesses Closed. Setting to Aug 1st\n",
      "Date 2020-06-22 00:00:00 is before 1st July. Region: Fürth, CM: Public Outdoor Gathering Person Limit. Setting to Aug 1st\n",
      "Date 2020-06-22 00:00:00 is before 1st July. Region: Fürth, CM: Public Indoor Gathering Person Limit. Setting to Aug 1st\n",
      "Date 2020-06-22 00:00:00 is before 1st July. Region: Fürth, CM: Public Outdoor Household Limit. Setting to Aug 1st\n",
      "Date 2020-06-22 00:00:00 is before 1st July. Region: Fürth, CM: Public Indoor Household Limit. Setting to Aug 1st\n",
      "Date 2020-06-22 00:00:00 is before 1st July. Region: Fürth, CM: Mandatory Mask Wearing. Setting to Aug 1st\n",
      "Date 2020-06-22 00:00:00 is before 1st July. Region: Fürth, CM: Some Face-to-Face Businesses Closed. Setting to Aug 1st\n",
      "Date 2020-06-22 00:00:00 is before 1st July. Region: Landsberg am Lech, CM: Public Outdoor Gathering Person Limit. Setting to Aug 1st\n",
      "Date 2020-06-22 00:00:00 is before 1st July. Region: Landsberg am Lech, CM: Public Indoor Gathering Person Limit. Setting to Aug 1st\n",
      "Date 2020-06-22 00:00:00 is before 1st July. Region: Landsberg am Lech, CM: Public Outdoor Household Limit. Setting to Aug 1st\n",
      "Date 2020-06-22 00:00:00 is before 1st July. Region: Landsberg am Lech, CM: Public Indoor Household Limit. Setting to Aug 1st\n",
      "Date 2020-06-22 00:00:00 is before 1st July. Region: Landsberg am Lech, CM: Mandatory Mask Wearing. Setting to Aug 1st\n",
      "Date 2020-06-22 00:00:00 is before 1st July. Region: Landsberg am Lech, CM: Some Face-to-Face Businesses Closed. Setting to Aug 1st\n",
      "Date 2020-06-22 00:00:00 is before 1st July. Region: LK Donau-Ries, CM: Public Outdoor Gathering Person Limit. Setting to Aug 1st\n",
      "Date 2020-06-22 00:00:00 is before 1st July. Region: LK Donau-Ries, CM: Public Indoor Gathering Person Limit. Setting to Aug 1st\n",
      "Date 2020-06-22 00:00:00 is before 1st July. Region: LK Donau-Ries, CM: Public Outdoor Household Limit. Setting to Aug 1st\n",
      "Date 2020-06-22 00:00:00 is before 1st July. Region: LK Donau-Ries, CM: Public Indoor Household Limit. Setting to Aug 1st\n",
      "Date 2020-06-22 00:00:00 is before 1st July. Region: LK Donau-Ries, CM: Mandatory Mask Wearing. Setting to Aug 1st\n",
      "Date 2020-06-22 00:00:00 is before 1st July. Region: LK Donau-Ries, CM: Some Face-to-Face Businesses Closed. Setting to Aug 1st\n"
     ]
    }
   ],
   "source": [
    "de_active_cms = create_active_cms_mat(de_df, de_Rs, npi_information_dict, Ds, final=True)"
   ],
   "metadata": {
    "collapsed": false,
    "pycharm": {
     "name": "#%%\n"
    }
   }
  },
  {
   "cell_type": "code",
   "execution_count": 61,
   "outputs": [],
   "source": [
    "# ags dict contains information about the local areas of germany\n",
    "with open('../../data/raw_data_w_sources/de_ags.json') as json_file:\n",
    "    ags_info_dict = json.load(json_file)\n",
    "    \n",
    "cases_df = pd.read_csv('../../data/raw_data_w_sources/de_cases-rki-by-ags.csv')\n",
    "cases_df = cases_df.drop('sum_cases', axis=1)\n",
    "cases_df = cases_df.rename({'time_iso8601': 'date'}, axis=1)\n",
    "cases_df['date'] = pd.to_datetime(cases_df['date'])\n",
    "cases_df['date'] = pd.to_datetime(cases_df['date'].dt.date)\n",
    "cases_df = cases_df.set_index('date')\n",
    "cases_df = cases_df.diff()\n",
    "\n",
    "deaths_df = pd.read_csv('../../data/raw_data_w_sources/de_deaths-rki-by-ags.csv')\n",
    "deaths = deaths_df.drop('sum_deaths', axis=1)\n",
    "deaths_df = deaths_df.rename({'time_iso8601': 'date'}, axis=1)\n",
    "deaths_df['date'] = pd.to_datetime(deaths_df['date'])\n",
    "deaths_df['date'] = pd.to_datetime(deaths_df['date'].dt.date)\n",
    "deaths_df = deaths_df.set_index('date')\n",
    "deaths_df = deaths_df.diff()\n",
    "\n",
    "ags_time_series_list = []\n",
    "\n",
    "Ds = pd.date_range('2020-03-02', '2021-01-09')\n",
    "for ags in ags_info_dict.keys():\n",
    "    if ags == '3152':\n",
    "        continue\n",
    "        \n",
    "    for d in Ds:\n",
    "        ags_dict = {\n",
    "            'area': ags_info_dict[ags]['name'],\n",
    "            'date': d\n",
    "        }\n",
    "        ags_dict['new_cases'] = cases_df[ags][d]\n",
    "        ags_dict['new_deaths'] = deaths_df[ags][d]\n",
    "        \n",
    "        ags_time_series_list.append(ags_dict)\n",
    "\n",
    "germany_timeseries_df = pd.DataFrame(ags_time_series_list)\n",
    "germany_timeseries_df = germany_timeseries_df.set_index(['area', 'date'])"
   ],
   "metadata": {
    "collapsed": false,
    "pycharm": {
     "name": "#%%\n"
    }
   }
  },
  {
   "cell_type": "code",
   "execution_count": 62,
   "outputs": [],
   "source": [
    "de_Rs_conv = [\n",
    " 'SK Nürnberg',\n",
    " 'LK Aschaffenburg',\n",
    " 'LK Fürth',\n",
    " 'LK Landsberg a.Lech',\n",
    " 'LK Donau-Ries',\n",
    " 'LK Minden-Lübbecke',\n",
    " 'SK Mönchengladbach',\n",
    " 'SK Münster',\n",
    " 'LK Rhein-Kreis Neuss',\n",
    " 'LK Ennepe-Ruhr-Kreis',\n",
    " 'LK Rems-Murr-Kreis',\n",
    " 'LK Breisgau-Hochschwarzwald',\n",
    " 'LK Enzkreis',\n",
    " 'LK Hildesheim',\n",
    " 'LK Gifhorn' \n",
    "]"
   ],
   "metadata": {
    "collapsed": false,
    "pycharm": {
     "name": "#%%\n"
    }
   }
  },
  {
   "cell_type": "code",
   "execution_count": 63,
   "outputs": [],
   "source": [
    "# for cs_name, npi_name in zip(de_Rs_conv, de_Rs):\n",
    "#     print(f'Cases and deaths from {cs_name}, NPIs from {npi_name}')"
   ],
   "metadata": {
    "collapsed": false,
    "pycharm": {
     "name": "#%%\n"
    }
   }
  },
  {
   "cell_type": "code",
   "execution_count": 64,
   "outputs": [],
   "source": [
    "start_date = '08-01-2020'\n",
    "end_date = '01-09-2021'\n",
    "Ds = pd.date_range(start=start_date, end=end_date)\n",
    "\n",
    "de_cases, de_deaths = load_new_cases_deaths_from_timeseries_df(de_Rs_conv, germany_timeseries_df, Ds)"
   ],
   "metadata": {
    "collapsed": false,
    "pycharm": {
     "name": "#%%\n"
    }
   }
  },
  {
   "cell_type": "markdown",
   "source": [
    "## Italy"
   ],
   "metadata": {
    "collapsed": false
   }
  },
  {
   "cell_type": "code",
   "execution_count": 65,
   "outputs": [],
   "source": [
    "# currently reads directly from the CSV\n",
    "it_df = pd.read_csv('../../data/npi_data/italy.csv', skiprows=2).dropna(axis='index', how='all')#.set_index('Code')\n",
    "droplist = [c for c in it_df.columns if 'Sources' in c or 'Quotes' in c or 'Description' in c or 'What is the reason' in c or 'How many' in c or 'Unnamed' in c]\n",
    "droplist.append('Local area')\n",
    "\n",
    "it_df = it_df.drop(droplist, axis=1)\n",
    "it_df = it_df.rename(columns=lambda x: x.strip())\n",
    "\n",
    "it_df = it_df.set_index('Region')\n",
    "\n",
    "it_Rs = ['Abruzzo', 'Aosta Valley', 'Apulia (AKA Puglia)','Basilicata','Calabria','Campania','Emilia-Romagna',\n",
    "        'Friuli-Venezia Giulia','Lazio','Liguria ','Lombardy','Marche','Molise','Piedmont','Sardinia','Sicily',\n",
    "         'Trentino (aka Trento)', 'South Tyrol (aka Bolzano aka Alto-Adige)', 'Tuscania ','Umbria','Veneto']"
   ],
   "metadata": {
    "collapsed": false,
    "pycharm": {
     "name": "#%%\n"
    }
   }
  },
  {
   "cell_type": "code",
   "execution_count": 66,
   "outputs": [],
   "source": [
    "# it_Rs"
   ],
   "metadata": {
    "collapsed": false,
    "pycharm": {
     "name": "#%%\n"
    }
   }
  },
  {
   "cell_type": "code",
   "execution_count": 67,
   "outputs": [],
   "source": [
    "# it_Rs = ['Abruzzo', 'Aosta Valley',\n",
    "#                       'Apulia (AKA Puglia)',\n",
    "#                                'Basilicata',\n",
    "#                                  'Calabria',\n",
    "#                                  'Campania',\n",
    "#                            'Emilia-Romagna',\n",
    "#                     'Friuli-Venezia Giulia',\n",
    "#                                     'Lazio',\n",
    "#                                  'Liguria ',\n",
    "#                                  'Lombardy',\n",
    "#                                    'Marche',\n",
    "#                                    'Molise',\n",
    "#                                  'Piedmont',\n",
    "#                                  'Sardinia',\n",
    "#                                    'Sicily',\n",
    "#                      'Trentino-South Tyrol',\n",
    "#                                 'Tuscania ',\n",
    "#                                    'Umbria',\n",
    "#                                    'Veneto']"
   ],
   "metadata": {
    "collapsed": false,
    "pycharm": {
     "name": "#%%\n"
    }
   }
  },
  {
   "cell_type": "code",
   "execution_count": 68,
   "outputs": [
    {
     "name": "stdout",
     "output_type": "stream",
     "text": [
      "Regex Succeeded: Converted Before 1st August 2020 to 2020-08-01 00:00:00\n",
      "Date 2020-06-15 00:00:00 is before 1st July. Region: Abruzzo, CM: Public Indoor Gathering Person Limit. Setting to Aug 1st\n",
      "Regex Succeeded: Converted Before 1st August 2020 to 2020-08-01 00:00:00\n",
      "Date 2020-06-15 00:00:00 is before 1st July. Region: Abruzzo, CM: Public Indoor Household Limit. Setting to Aug 1st\n",
      "Regex Succeeded: Converted Before 1st August 2020 to 2020-08-01 00:00:00\n",
      "Date 2020-06-15 00:00:00 is before 1st July. Region: Aosta Valley, CM: Public Indoor Gathering Person Limit. Setting to Aug 1st\n",
      "Regex Succeeded: Converted Before 1st August 2020 to 2020-08-01 00:00:00\n",
      "Date 2020-06-15 00:00:00 is before 1st July. Region: Aosta Valley, CM: Public Indoor Household Limit. Setting to Aug 1st\n",
      "Regex Succeeded: Converted 21 Septemeber 2020 to 2020-09-21 00:00:00\n",
      "Regex Succeeded: Converted Before 1st August 2020 to 2020-08-01 00:00:00\n",
      "Date 2020-06-15 00:00:00 is before 1st July. Region: Apulia (AKA Puglia), CM: Public Indoor Gathering Person Limit. Setting to Aug 1st\n",
      "Regex Succeeded: Converted Before 1st August 2020 to 2020-08-01 00:00:00\n",
      "Date 2020-06-15 00:00:00 is before 1st July. Region: Apulia (AKA Puglia), CM: Public Indoor Household Limit. Setting to Aug 1st\n",
      "Regex Succeeded: Converted 6 November to 2020-11-06 00:00:00\n",
      "Problem: start date is before the end date of the previous row on 2020-12-24 00:00:00 for Retail Closed in Apulia (AKA Puglia)\n",
      "Problem: start date is before the end date of the previous row on 2020-12-24 00:00:00 for All Face-to-Face Businesses Closed in Apulia (AKA Puglia)\n",
      "Regex Succeeded: Converted Before 1st August 2020 to 2020-08-01 00:00:00\n",
      "Date 2020-06-15 00:00:00 is before 1st July. Region: Basilicata, CM: Public Indoor Gathering Person Limit. Setting to Aug 1st\n",
      "Regex Succeeded: Converted Before 1st August 2020 to 2020-08-01 00:00:00\n",
      "Date 2020-06-15 00:00:00 is before 1st July. Region: Basilicata, CM: Public Indoor Household Limit. Setting to Aug 1st\n",
      "Problem: start date is before the end date of the previous row on 2020-10-02 00:00:00 for Mandatory Mask Wearing in Basilicata\n",
      "Problem: start date is before the end date of the previous row on 2020-12-24 00:00:00 for Retail Closed in Basilicata\n",
      "Problem: start date is before the end date of the previous row on 2020-12-24 00:00:00 for All Face-to-Face Businesses Closed in Basilicata\n",
      "Regex Succeeded: Converted Before 1st August 2020 to 2020-08-01 00:00:00\n",
      "Date 2020-06-15 00:00:00 is before 1st July. Region: Calabria, CM: Public Indoor Gathering Person Limit. Setting to Aug 1st\n",
      "Regex Succeeded: Converted Before 1st August 2020 to 2020-08-01 00:00:00\n",
      "Date 2020-06-15 00:00:00 is before 1st July. Region: Calabria, CM: Public Indoor Household Limit. Setting to Aug 1st\n",
      "Problem: start date is before the end date of the previous row on 2020-09-25 00:00:00 for Mandatory Mask Wearing in Calabria\n",
      "Regex Succeeded: Converted Before 1st August 2020 to 2020-08-01 00:00:00\n",
      "Date 2020-06-15 00:00:00 is before 1st July. Region: Campania, CM: Public Indoor Gathering Person Limit. Setting to Aug 1st\n",
      "Regex Succeeded: Converted Before 1st August 2020 to 2020-08-01 00:00:00\n",
      "Date 2020-06-15 00:00:00 is before 1st July. Region: Campania, CM: Public Indoor Household Limit. Setting to Aug 1st\n",
      "Problem: start date is before the end date of the previous row on 2020-09-24 00:00:00 for Mandatory Mask Wearing in Campania\n",
      "Regex Succeeded: Converted Before 1st August 2020 to 2020-08-01 00:00:00\n",
      "Date 2020-06-15 00:00:00 is before 1st July. Region: Emilia-Romagna, CM: Public Indoor Gathering Person Limit. Setting to Aug 1st\n",
      "Regex Succeeded: Converted Before 1st August 2020 to 2020-08-01 00:00:00\n",
      "Date 2020-06-15 00:00:00 is before 1st July. Region: Emilia-Romagna, CM: Public Indoor Household Limit. Setting to Aug 1st\n",
      "Regex Succeeded: Converted 14 November to 2020-11-14 00:00:00\n",
      "Regex Succeeded: Converted Before 1st August 2020 to 2020-08-01 00:00:00\n",
      "Date 2020-06-15 00:00:00 is before 1st July. Region: Friuli-Venezia Giulia, CM: Public Indoor Gathering Person Limit. Setting to Aug 1st\n",
      "Regex Succeeded: Converted Before 1st August 2020 to 2020-08-01 00:00:00\n",
      "Date 2020-06-15 00:00:00 is before 1st July. Region: Friuli-Venezia Giulia, CM: Public Indoor Household Limit. Setting to Aug 1st\n",
      "Regex Succeeded: Converted 14 November to 2020-11-14 00:00:00\n",
      "Regex Succeeded: Converted Before 1st August 2020 to 2020-08-01 00:00:00\n",
      "Date 2020-06-15 00:00:00 is before 1st July. Region: Lazio, CM: Public Indoor Gathering Person Limit. Setting to Aug 1st\n",
      "Regex Succeeded: Converted Before 1st August 2020 to 2020-08-01 00:00:00\n",
      "Date 2020-06-15 00:00:00 is before 1st July. Region: Lazio, CM: Public Indoor Household Limit. Setting to Aug 1st\n",
      "Problem: start date is before the end date of the previous row on 2020-10-03 00:00:00 for Mandatory Mask Wearing in Lazio\n",
      "Regex Succeeded: Converted Before 1st August 2020 to 2020-08-01 00:00:00\n",
      "Date 2020-06-15 00:00:00 is before 1st July. Region: Liguria , CM: Public Indoor Gathering Person Limit. Setting to Aug 1st\n",
      "Regex Succeeded: Converted Before 1st August 2020 to 2020-08-01 00:00:00\n",
      "Date 2020-06-15 00:00:00 is before 1st July. Region: Liguria , CM: Public Indoor Household Limit. Setting to Aug 1st\n",
      "Regex Succeeded: Converted Before 1st August 2020 to 2020-08-01 00:00:00\n",
      "Date 2020-06-15 00:00:00 is before 1st July. Region: Lombardy, CM: Public Indoor Gathering Person Limit. Setting to Aug 1st\n",
      "Regex Succeeded: Converted Before 1st August 2020 to 2020-08-01 00:00:00\n",
      "Date 2020-06-15 00:00:00 is before 1st July. Region: Lombardy, CM: Public Indoor Household Limit. Setting to Aug 1st\n",
      "Regex Succeeded: Converted Before 1st August 2020 to 2020-08-01 00:00:00\n",
      "Date 2020-06-15 00:00:00 is before 1st July. Region: Marche, CM: Public Indoor Gathering Person Limit. Setting to Aug 1st\n",
      "Regex Succeeded: Converted Before 1st August 2020 to 2020-08-01 00:00:00\n",
      "Date 2020-06-15 00:00:00 is before 1st July. Region: Marche, CM: Public Indoor Household Limit. Setting to Aug 1st\n",
      "Problem: start date is before the end date of the previous row on 2020-10-04 00:00:00 for Mandatory Mask Wearing in Marche\n",
      "Regex Succeeded: Converted 14 November to 2020-11-14 00:00:00\n",
      "Regex Succeeded: Converted Before 1st August 2020 to 2020-08-01 00:00:00\n",
      "Date 2020-06-15 00:00:00 is before 1st July. Region: Molise, CM: Public Indoor Gathering Person Limit. Setting to Aug 1st\n",
      "Regex Succeeded: Converted Before 1st August 2020 to 2020-08-01 00:00:00\n",
      "Date 2020-06-15 00:00:00 is before 1st July. Region: Molise, CM: Public Indoor Household Limit. Setting to Aug 1st\n",
      "Regex Succeeded: Converted Before 1st August 2020 to 2020-08-01 00:00:00\n",
      "Date 2020-06-15 00:00:00 is before 1st July. Region: Piedmont, CM: Public Indoor Gathering Person Limit. Setting to Aug 1st\n",
      "Regex Succeeded: Converted Before 1st August 2020 to 2020-08-01 00:00:00\n",
      "Date 2020-06-15 00:00:00 is before 1st July. Region: Piedmont, CM: Public Indoor Household Limit. Setting to Aug 1st\n",
      "Problem: start date is before the end date of the previous row on 2020-10-05 00:00:00 for Mandatory Mask Wearing in Piedmont\n",
      "Regex Succeeded: Converted Before 1st August 2020 to 2020-08-01 00:00:00\n",
      "Date 2020-06-15 00:00:00 is before 1st July. Region: Sardinia, CM: Public Indoor Gathering Person Limit. Setting to Aug 1st\n",
      "Regex Succeeded: Converted Before 1st August 2020 to 2020-08-01 00:00:00\n",
      "Date 2020-06-15 00:00:00 is before 1st July. Region: Sardinia, CM: Public Indoor Household Limit. Setting to Aug 1st\n",
      "Regex Succeeded: Converted Before 1st August 2020 to 2020-08-01 00:00:00\n",
      "Date 2020-06-15 00:00:00 is before 1st July. Region: Sicily, CM: Public Indoor Gathering Person Limit. Setting to Aug 1st\n",
      "Regex Succeeded: Converted Before 1st August 2020 to 2020-08-01 00:00:00\n",
      "Date 2020-06-15 00:00:00 is before 1st July. Region: Sicily, CM: Public Indoor Household Limit. Setting to Aug 1st\n",
      "Problem: start date is before the end date of the previous row on 2020-09-27 00:00:00 for Mandatory Mask Wearing in Sicily\n",
      "Regex Succeeded: Converted 6 November to 2020-11-06 00:00:00\n",
      "Regex Succeeded: Converted Before 1st August 2020 to 2020-08-01 00:00:00\n",
      "Date 2020-06-15 00:00:00 is before 1st July. Region: Trentino (aka Trento), CM: Public Indoor Gathering Person Limit. Setting to Aug 1st\n",
      "Regex Succeeded: Converted Before 1st August 2020 to 2020-08-01 00:00:00\n",
      "Date 2020-06-15 00:00:00 is before 1st July. Region: Trentino (aka Trento), CM: Public Indoor Household Limit. Setting to Aug 1st\n",
      "Regex Succeeded: Converted Before 1st August 2020 to 2020-08-01 00:00:00\n",
      "Date 2020-06-15 00:00:00 is before 1st July. Region: South Tyrol (aka Bolzano aka Alto-Adige), CM: Public Indoor Gathering Person Limit. Setting to Aug 1st\n",
      "Regex Succeeded: Converted Before 1st August 2020 to 2020-08-01 00:00:00\n",
      "Date 2020-06-15 00:00:00 is before 1st July. Region: South Tyrol (aka Bolzano aka Alto-Adige), CM: Public Indoor Household Limit. Setting to Aug 1st\n",
      "Regex Succeeded: Converted Before 1st August 2020 to 2020-08-01 00:00:00\n",
      "Date 2020-06-15 00:00:00 is before 1st July. Region: Tuscania , CM: Public Indoor Gathering Person Limit. Setting to Aug 1st\n",
      "Regex Succeeded: Converted Before 1st August 2020 to 2020-08-01 00:00:00\n",
      "Date 2020-06-15 00:00:00 is before 1st July. Region: Tuscania , CM: Public Indoor Household Limit. Setting to Aug 1st\n",
      "Regex Succeeded: Converted Before 1st August 2020 to 2020-08-01 00:00:00\n",
      "Date 2020-06-15 00:00:00 is before 1st July. Region: Umbria, CM: Public Indoor Gathering Person Limit. Setting to Aug 1st\n",
      "Regex Succeeded: Converted Before 1st August 2020 to 2020-08-01 00:00:00\n",
      "Date 2020-06-15 00:00:00 is before 1st July. Region: Umbria, CM: Public Indoor Household Limit. Setting to Aug 1st\n",
      "Regex Succeeded: Converted Before 1st August 2020 to 2020-08-01 00:00:00\n",
      "Date 2020-06-15 00:00:00 is before 1st July. Region: Veneto, CM: Public Indoor Gathering Person Limit. Setting to Aug 1st\n",
      "Regex Succeeded: Converted Before 1st August 2020 to 2020-08-01 00:00:00\n",
      "Date 2020-06-15 00:00:00 is before 1st July. Region: Veneto, CM: Public Indoor Household Limit. Setting to Aug 1st\n"
     ]
    }
   ],
   "source": [
    "it_active_cms = create_active_cms_mat(it_df, it_Rs, npi_information_dict, Ds, final=True)"
   ],
   "metadata": {
    "collapsed": false,
    "pycharm": {
     "name": "#%%\n"
    }
   }
  },
  {
   "cell_type": "code",
   "execution_count": 69,
   "outputs": [],
   "source": [
    "italy_df = pd.read_csv('../../data/raw_data_w_sources/it_cases_deaths.csv', delimiter=',')\n",
    "italy_df['date'] = pd.to_datetime(italy_df['date'])\n",
    "italy_df['date'] = italy_df['date'].dt.date\n",
    "italy_df = italy_df.set_index(['area', 'date'])\n",
    "italy_df['new_deaths'] = italy_df.groupby('area').diff()['total_deaths']\n",
    "italy_df = italy_df.drop('total_deaths', axis=1)\n",
    "\n",
    "italy_timeseries_df = italy_df"
   ],
   "metadata": {
    "collapsed": false,
    "pycharm": {
     "name": "#%%\n"
    }
   }
  },
  {
   "cell_type": "code",
   "execution_count": 70,
   "outputs": [],
   "source": [
    "it_Rs_conv = ['Abruzzo',\n",
    " \"Valle d'Aosta\",\n",
    " 'Puglia',\n",
    " 'Basilicata',\n",
    " 'Calabria',\n",
    " 'Campania',\n",
    " 'Emilia-Romagna',\n",
    " 'Friuli Venezia Giulia',\n",
    " 'Lazio',\n",
    " 'Liguria',\n",
    " 'Lombardia',\n",
    " 'Marche',\n",
    " 'Molise',\n",
    " 'Piemonte',\n",
    " 'Sardegna',\n",
    " 'Sicilia',\n",
    " 'P.A. Trento',\n",
    " 'P.A. Bolzano', # or P.A. Trento\n",
    " 'Toscana',\n",
    " 'Umbria',\n",
    " 'Veneto']"
   ],
   "metadata": {
    "collapsed": false,
    "pycharm": {
     "name": "#%%\n"
    }
   }
  },
  {
   "cell_type": "code",
   "execution_count": 71,
   "outputs": [],
   "source": [
    "# for cs_name, npi_name in zip(it_Rs_conv, it_Rs):\n",
    "#     print(f'Cases and deaths from {cs_name}, NPIs from {npi_name}')"
   ],
   "metadata": {
    "collapsed": false,
    "pycharm": {
     "name": "#%%\n"
    }
   }
  },
  {
   "cell_type": "code",
   "execution_count": 72,
   "outputs": [],
   "source": [
    "it_cases, it_deaths = load_new_cases_deaths_from_timeseries_df(it_Rs_conv, italy_timeseries_df, Ds)"
   ],
   "metadata": {
    "collapsed": false,
    "pycharm": {
     "name": "#%%\n"
    }
   }
  },
  {
   "cell_type": "markdown",
   "source": [
    "## Czech"
   ],
   "metadata": {
    "collapsed": false
   }
  },
  {
   "cell_type": "code",
   "execution_count": 73,
   "outputs": [],
   "source": [
    "# currently reads directly from the CSV\n",
    "# cz_df = pd.read_csv('../../data/npi_data/czech.csv', skiprows=2).dropna(axis='index', how='all')#.set_index('Code')\n",
    "cz_df = pd.read_csv('../../data/npi_data/czech.csv', skiprows=2).dropna(axis='index', how='all')#.set_index('Code')\n",
    "droplist = [c for c in cz_df.columns if 'Sources' in c or 'Quotes' in c or 'Description' in c or 'What is the reason' in c or 'How many' in c or 'Unnamed' in c]\n",
    "\n",
    "\n",
    "cz_df = cz_df.drop(droplist, axis=1)\n",
    "cz_df = cz_df.rename(columns=lambda x: x.strip())\n",
    "cz_df['Region'] = cz_df['Region'].apply(lambda x: str(x).strip())\n",
    "\n",
    "cz_df = cz_df.set_index('Region')"
   ],
   "metadata": {
    "collapsed": false,
    "pycharm": {
     "name": "#%%\n"
    }
   }
  },
  {
   "cell_type": "code",
   "execution_count": 74,
   "outputs": [],
   "source": [
    "cz_Rs = list(cz_df.index.unique())\n",
    "# cz_Rs"
   ],
   "metadata": {
    "collapsed": false,
    "pycharm": {
     "name": "#%%\n"
    }
   }
  },
  {
   "cell_type": "code",
   "execution_count": 75,
   "outputs": [],
   "source": [
    "start_date = '08-01-2020'\n",
    "end_date = '01-09-2021'\n",
    "Ds = pd.date_range(start=start_date, end=end_date)"
   ],
   "metadata": {
    "collapsed": false,
    "pycharm": {
     "name": "#%%\n"
    }
   }
  },
  {
   "cell_type": "code",
   "execution_count": 76,
   "outputs": [
    {
     "name": "stdout",
     "output_type": "stream",
     "text": [
      "Date 2021-12-23 00:00:00 was not in my list -- Used month and date\n"
     ]
    }
   ],
   "source": [
    "cz_active_cms = create_active_cms_mat(cz_df, cz_Rs, npi_information_dict, Ds, final=True)"
   ],
   "metadata": {
    "collapsed": false,
    "pycharm": {
     "name": "#%%\n"
    }
   }
  },
  {
   "cell_type": "code",
   "execution_count": 77,
   "outputs": [],
   "source": [
    "czech_df = pd.read_csv('../../data/raw_data_w_sources/cz_cases_deaths.csv', delimiter=',')\n",
    "czech_df = czech_df.rename(columns = {'datum': 'date', 'kraj_nuts_kod':'NUTS3 Unit', 'okres_lau_kod':'LAU Unit', 'kumulativni_pocet_vylecenych':'Recovered', 'kumulativni_pocet_nakazenych': 'Infected', 'kumulativni_pocet_umrti': 'Deaths'})\n",
    "czech_df['date'] = pd.to_datetime(czech_df['date'], format = '%Y-%m-%d')\n",
    "cz_nuts3 = ['CZ042', 'CZ010', 'CZ080', 'CZ020', 'CZ031','CZ063', 'CZ032','CZ041','CZ051', 'CZ052','CZ053', 'CZ071', 'CZ064', 'CZ072']\n",
    "czech_df = czech_df[czech_df['NUTS3 Unit'].isin(cz_nuts3)]\n",
    "cz_nuts3_lookup = {cz_nuts3[i]:cz_Rs[i] for i in range(len(cz_Rs))}\n",
    "czech_df = czech_df.replace({'NUTS3 Unit': cz_nuts3_lookup})\n",
    "czech_df = czech_df.rename(columns = {'NUTS3 Unit':'area'}) #, 'Infected': 'new_cases', 'Deaths': 'new_deaths'})\n",
    "cz_timeseries_df = czech_df.groupby(['area', 'date']).sum()\n",
    "\n",
    "cz_timeseries_df['new_cases'] = cz_timeseries_df.groupby(level=[0]).diff()['Infected']\n",
    "cz_timeseries_df['new_deaths'] = cz_timeseries_df.groupby(level=[0]).diff()['Deaths']\n",
    "\n",
    "# czech_df = czech_df.drop(columns=['LAU Unit', 'Recovered'])"
   ],
   "metadata": {
    "collapsed": false,
    "pycharm": {
     "name": "#%%\n"
    }
   }
  },
  {
   "cell_type": "code",
   "execution_count": 78,
   "outputs": [],
   "source": [
    "czech_cases, czech_deaths = load_new_cases_deaths_from_timeseries_df(cz_Rs, cz_timeseries_df, Ds)"
   ],
   "metadata": {
    "collapsed": false,
    "pycharm": {
     "name": "#%%\n"
    }
   }
  },
  {
   "cell_type": "markdown",
   "source": [
    "## Switzerland"
   ],
   "metadata": {
    "collapsed": false,
    "pycharm": {
     "name": "#%% md\n"
    }
   }
  },
  {
   "cell_type": "code",
   "execution_count": 79,
   "outputs": [],
   "source": [
    "ch_df = pd.read_csv('../../data/npi_data/switzerland.csv', skiprows=2).dropna(axis='index', how='all')#.set_index('Code')\n",
    "droplist = [c for c in ch_df.columns if 'Sources' in c or 'Quotes' in c or 'Description' in c or 'What is the reason' in c or 'How many' in c or 'Unnamed' in c]\n",
    "\n",
    "\n",
    "ch_df = ch_df.drop(droplist, axis=1)\n",
    "ch_df = ch_df.rename(columns=lambda x: x.strip())\n",
    "ch_df['Region'] = ch_df['Region'].apply(lambda x: str(x).strip())\n",
    "\n",
    "ch_df = ch_df.set_index('Region')\n",
    "ch_df = ch_df.iloc[1:]"
   ],
   "metadata": {
    "collapsed": false,
    "pycharm": {
     "name": "#%%\n"
    }
   }
  },
  {
   "cell_type": "code",
   "execution_count": 80,
   "outputs": [],
   "source": [
    "ch_Rs = list(ch_df.index.unique())\n",
    "# cz_Rs"
   ],
   "metadata": {
    "collapsed": false,
    "pycharm": {
     "name": "#%%\n"
    }
   }
  },
  {
   "cell_type": "code",
   "execution_count": 81,
   "outputs": [],
   "source": [
    "start_date = '08-01-2020'\n",
    "end_date = '01-09-2021'\n",
    "Ds = pd.date_range(start=start_date, end=end_date)"
   ],
   "metadata": {
    "collapsed": false,
    "pycharm": {
     "name": "#%%\n"
    }
   }
  },
  {
   "cell_type": "code",
   "execution_count": 82,
   "outputs": [
    {
     "name": "stdout",
     "output_type": "stream",
     "text": [
      "Problem: Date 2021-11-03 00:00:00 is after 9th Jan. Region: Genéve, CM: Gastronomy Closed. Setting index to None\n",
      "Problem with start date: 2021-11-03 00:00:00 for Gastronomy Closed in Genéve\n",
      "Problem: start date is before the end date of the previous row on 2020-11-03 00:00:00 for Leisure Venues Closed in Genéve\n",
      "Problem: Date 2021-11-03 00:00:00 is after 9th Jan. Region: Genéve, CM: Retail Closed. Setting index to None\n",
      "Problem with start date: 2021-11-03 00:00:00 for Retail Closed in Genéve\n",
      "Problem: Date 2021-11-03 00:00:00 is after 9th Jan. Region: Genéve, CM: All Face-to-Face Businesses Closed. Setting index to None\n",
      "Problem with start date: 2021-11-03 00:00:00 for All Face-to-Face Businesses Closed in Genéve\n",
      "Problem: start date is before the end date of the previous row on 2020-08-27 00:00:00 for Private Indoor Gathering Person Limit in Zurich\n",
      "Problem: start date is before the end date of the previous row on 2020-08-27 00:00:00 for Private Indoor Household Limit in Zurich\n",
      "Problem: start date is before the end date of the previous row on 2020-12-05 00:00:00 for Public Outdoor Gathering Person Limit in Grischun\n",
      "Problem: start date is before the end date of the previous row on 2020-12-05 00:00:00 for Public Indoor Gathering Person Limit in Grischun\n",
      "Problem: start date is before the end date of the previous row on 2020-12-05 00:00:00 for Public Outdoor Household Limit in Grischun\n",
      "Problem: start date is before the end date of the previous row on 2020-12-05 00:00:00 for Public Indoor Household Limit in Grischun\n",
      "Date 2020-06-19 00:00:00 is before 1st July. Region: Freiburg, CM: Private Outdoor Gathering Person Limit. Setting to Aug 1st\n",
      "Date 2020-06-19 00:00:00 is before 1st July. Region: Freiburg, CM: Private Outdoor Household Limit. Setting to Aug 1st\n",
      "Regex Succeeded: Converted 23 December to 2020-12-23 00:00:00\n",
      "Date 2020-01-05 00:00:00 is before 1st July. Region: Freiburg, CM: Universities Away. Setting to Aug 1st\n",
      "Problem with start-end date pair: [2020-12-23 00:00:00,2020-08-01 00:00:00] for Universities Away in Freiburg\n",
      "Problem: start date is before the end date of the previous row on 2020-10-12 00:00:00 for Private Outdoor Gathering Person Limit in Aargau\n",
      "Problem: start date is before the end date of the previous row on 2020-10-12 00:00:00 for Private Indoor Gathering Person Limit in Aargau\n",
      "Problem: start date is before the end date of the previous row on 2020-10-12 00:00:00 for Private Outdoor Household Limit in Aargau\n",
      "Problem: start date is before the end date of the previous row on 2020-10-12 00:00:00 for Private Indoor Household Limit in Aargau\n",
      "Regex Succeeded: Converted 19 December to 2020-12-19 00:00:00\n",
      "Problem: Date 2021-01-10 00:00:00 is after 9th Jan. Region: Jura, CM: Primary Schools Closed. Setting index to None\n",
      "Problem with end date: 2021-01-10 00:00:00 for Primary Schools Closed in Jura\n",
      "Problem: Date 2021-01-10 00:00:00 is after 9th Jan. Region: Jura, CM: Secondary Schools Closed. Setting index to None\n",
      "Problem with end date: 2021-01-10 00:00:00 for Secondary Schools Closed in Jura\n",
      "Date 2020-06-27 00:00:00 is before 1st July. Region: Basel-Landschaft, CM: Primary Schools Closed. Setting to Aug 1st\n",
      "Date 2020-06-27 00:00:00 is before 1st July. Region: Basel-Landschaft, CM: Secondary Schools Closed. Setting to Aug 1st\n",
      "Date 2020-06-20 00:00:00 is before 1st July. Region: Valais, CM: Primary Schools Closed. Setting to Aug 1st\n",
      "Date 2020-06-20 00:00:00 is before 1st July. Region: Valais, CM: Secondary Schools Closed. Setting to Aug 1st\n",
      "Problem: Date 2021-01-10 00:00:00 is after 9th Jan. Region: Neuchâtel, CM: Primary Schools Closed. Setting index to None\n",
      "Problem with end date: 2021-01-10 00:00:00 for Primary Schools Closed in Neuchâtel\n",
      "Problem: Date 2021-01-10 00:00:00 is after 9th Jan. Region: Neuchâtel, CM: Secondary Schools Closed. Setting index to None\n",
      "Problem with end date: 2021-01-10 00:00:00 for Secondary Schools Closed in Neuchâtel\n",
      "Problem: Date 2021-01-17 00:00:00 is after 9th Jan. Region: St. Gallen, CM: Secondary Schools Closed. Setting index to None\n",
      "Problem with end date: 2021-01-17 00:00:00 for Secondary Schools Closed in St. Gallen\n"
     ]
    }
   ],
   "source": [
    "ch_active_cms = create_active_cms_mat(ch_df, ch_Rs, npi_information_dict, Ds, final=False)"
   ],
   "metadata": {
    "collapsed": false,
    "pycharm": {
     "name": "#%%\n"
    }
   }
  },
  {
   "cell_type": "code",
   "execution_count": 83,
   "outputs": [],
   "source": [
    "swiss_df = pd.read_csv('../../data/raw_data_w_sources/ch_cases_deaths.csv')\n",
    "swiss_df = swiss_df.drop(swiss_df.columns.difference(['date', 'abbreviation_canton_and_fl', 'ncumul_conf', 'ncumul_deceased']), axis=1)\n",
    "swiss_df = swiss_df.rename({'abbreviation_canton_and_fl': 'area'}, axis=1)"
   ],
   "metadata": {
    "collapsed": false,
    "pycharm": {
     "name": "#%%\n"
    }
   }
  },
  {
   "cell_type": "code",
   "execution_count": 84,
   "outputs": [],
   "source": [
    "import json\n",
    "with open('../../data/raw_data_w_sources/ch_canton_lookup.json', 'r') as fp:\n",
    "    swiss_canton_lookup = json.load(fp)"
   ],
   "metadata": {
    "collapsed": false,
    "pycharm": {
     "name": "#%%\n"
    }
   }
  },
  {
   "cell_type": "code",
   "execution_count": 85,
   "outputs": [],
   "source": [
    "swiss_df['date'] = pd.to_datetime(swiss_df['date'])"
   ],
   "metadata": {
    "collapsed": false,
    "pycharm": {
     "name": "#%%\n"
    }
   }
  },
  {
   "cell_type": "code",
   "execution_count": 86,
   "outputs": [],
   "source": [
    "filled_swiss_df = swiss_df.set_index('date').groupby('area').apply(lambda x: x.reindex(Ds, fill_value=None).drop('area', axis=1)).reset_index()"
   ],
   "metadata": {
    "collapsed": false,
    "pycharm": {
     "name": "#%%\n"
    }
   }
  },
  {
   "cell_type": "code",
   "execution_count": 87,
   "outputs": [],
   "source": [
    "swiss_ts_df = filled_swiss_df.replace(swiss_canton_lookup)\n",
    "swiss_ts_df = swiss_ts_df.rename({'level_1': 'date'}, axis=1)\n",
    "swiss_ts_df = swiss_ts_df.set_index(['area', 'date'])"
   ],
   "metadata": {
    "collapsed": false,
    "pycharm": {
     "name": "#%%\n"
    }
   }
  },
  {
   "cell_type": "code",
   "execution_count": 88,
   "outputs": [],
   "source": [
    "for canton in swiss_ts_df.index.unique(0):\n",
    "    if np.isnan(swiss_ts_df.loc[canton].loc[Ds[0]]['ncumul_conf']):\n",
    "        swiss_ts_df.loc[(canton, Ds[0]), 'ncumul_conf'] = 0\n",
    "\n",
    "    if np.isnan(swiss_ts_df.loc[canton].loc[Ds[0]]['ncumul_deceased']):\n",
    "        swiss_ts_df.loc[(canton, Ds[0]), 'ncumul_deceased'] = 0\n",
    "\n",
    "    interp_df = swiss_ts_df.loc[canton].interpolate()\n",
    "    interp_df['new_cases'] = interp_df['ncumul_conf'].diff()\n",
    "    interp_df['new_deaths'] = interp_df['ncumul_deceased'].diff()\n",
    "    for date in Ds:\n",
    "        swiss_ts_df.loc[(canton, date), 'ncumul_conf'] = interp_df.loc[date, 'ncumul_conf']\n",
    "        swiss_ts_df.loc[(canton, date), 'ncumul_deceased'] = interp_df.loc[date, 'ncumul_deceased']\n",
    "        swiss_ts_df.loc[(canton, date), 'new_cases'] = np.around(interp_df.loc[date, 'new_cases'])\n",
    "        swiss_ts_df.loc[(canton, date), 'new_deaths'] = np.around(interp_df.loc[date, 'new_deaths'])"
   ],
   "metadata": {
    "collapsed": false,
    "pycharm": {
     "name": "#%%\n"
    }
   }
  },
  {
   "cell_type": "markdown",
   "source": [
    "## Warning: there was some missing data here\n",
    "\n",
    "e.g., in some areas, some days are missing. To get around this, I did linear interpolation."
   ],
   "metadata": {
    "collapsed": false
   }
  },
  {
   "cell_type": "code",
   "execution_count": 89,
   "outputs": [],
   "source": [
    "swiss_ts_df = swiss_ts_df.drop(['ncumul_conf', 'ncumul_deceased'], axis=1)"
   ],
   "metadata": {
    "collapsed": false,
    "pycharm": {
     "name": "#%%\n"
    }
   }
  },
  {
   "cell_type": "code",
   "execution_count": 90,
   "outputs": [],
   "source": [
    "for canton in swiss_ts_df.index.unique(0):\n",
    "    if np.isnan(swiss_ts_df.loc[canton].loc[Ds[0]]['new_cases']):\n",
    "        swiss_ts_df.loc[(canton, Ds[0]), 'new_cases'] = 0\n",
    "\n",
    "    if np.isnan(swiss_ts_df.loc[canton].loc[Ds[0]]['new_deaths']):\n",
    "        swiss_ts_df.loc[(canton, Ds[0]), 'new_deaths'] = 0"
   ],
   "metadata": {
    "collapsed": false,
    "pycharm": {
     "name": "#%%\n"
    }
   }
  },
  {
   "cell_type": "code",
   "execution_count": 91,
   "outputs": [],
   "source": [
    "ch_timeseries_df = swiss_ts_df\n",
    "swiss_cases, swiss_deaths = load_new_cases_deaths_from_timeseries_df(ch_Rs, ch_timeseries_df, Ds)\n"
   ],
   "metadata": {
    "collapsed": false,
    "pycharm": {
     "name": "#%%\n"
    }
   }
  },
  {
   "cell_type": "markdown",
   "source": [
    "# create merged CSV file"
   ],
   "metadata": {
    "collapsed": false
   }
  },
  {
   "cell_type": "code",
   "execution_count": 92,
   "outputs": [],
   "source": [
    "CMs = list(npi_information_dict.keys())\n",
    "countries = ['England', 'Austria', 'Germany', 'Italy', 'Czech', 'Switzerland']\n",
    "new_cases = [uk_cases, at_cases, de_cases, it_cases, czech_cases, swiss_cases]\n",
    "new_deaths = [uk_deaths, at_deaths, de_deaths, it_deaths, czech_deaths, swiss_deaths]\n",
    "active_cms = [uk_active_cms, at_active_cms, de_active_cms, it_active_cms, cz_active_cms, ch_active_cms]\n",
    "Rs = [uk_Rs, at_Rs, de_Rs, it_Rs, cz_Rs, ch_Rs]"
   ],
   "metadata": {
    "collapsed": false,
    "pycharm": {
     "name": "#%%\n"
    }
   }
  },
  {
   "cell_type": "code",
   "execution_count": 93,
   "outputs": [],
   "source": [
    "# print(Rs)"
   ],
   "metadata": {
    "collapsed": false,
    "pycharm": {
     "name": "#%%\n"
    }
   }
  },
  {
   "cell_type": "code",
   "execution_count": 94,
   "outputs": [],
   "source": [
    "def set_household_limits(active_CMs, household_NPI_index, gathering_NPI_index):\n",
    "    nRs, _, nDs = active_CMs.shape\n",
    "    new_acms = np.copy(active_CMs)\n",
    "    for r in range(nRs):\n",
    "        for day in range(nDs):\n",
    "            if active_CMs[r, household_NPI_index, day] == 0 or active_CMs[r, gathering_NPI_index, day] < active_CMs[r, household_NPI_index, day]:\n",
    "                new_acms[r, household_NPI_index, day] = active_CMs[r, gathering_NPI_index, day]\n",
    "    return new_acms\n",
    "\n",
    "def all_gathering_bans(active_CMs, household_NPI_index, gathering_NPI_index):\n",
    "    nRs, _, nDs = active_CMs.shape\n",
    "    new_acms = np.copy(active_CMs)\n",
    "    for r in range(nRs):\n",
    "        for day in range(nDs):\n",
    "            if int(active_CMs[r, household_NPI_index, day]) == 1 and active_CMs[r, gathering_NPI_index, day] == 0:\n",
    "                print('mode 3 in use')\n",
    "                new_acms[r, gathering_NPI_index, day] = 1\n",
    "    return new_acms\n",
    "\n",
    "def set_all_limits(active_CMs, fun):\n",
    "    new_acms = np.copy(active_CMs)\n",
    "    new_acms = fun(new_acms, 4, 0)\n",
    "    new_acms = fun(new_acms, 5, 1)\n",
    "    new_acms = fun(new_acms, 6, 2)\n",
    "    new_acms = fun(new_acms, 7, 3)\n",
    "    return new_acms\n",
    "\n",
    "active_cms = [set_all_limits(active_cm, set_household_limits) for active_cm in active_cms]\n",
    "active_cms = [set_all_limits(active_cm, all_gathering_bans) for active_cm in active_cms]"
   ],
   "metadata": {
    "collapsed": false,
    "pycharm": {
     "name": "#%%\n"
    }
   }
  },
  {
   "cell_type": "code",
   "execution_count": 95,
   "outputs": [],
   "source": [
    "all_rows = []\n",
    " \n",
    "for c, ncs, nds, acms, rs in zip(countries, new_cases, new_deaths, active_cms, Rs):\n",
    "    # print(c)\n",
    "    for r_i, r in enumerate(rs):\n",
    "        for d_i, d in enumerate(Ds):\n",
    "            row_dict = {\n",
    "                'Country': c,\n",
    "                'Area': r,\n",
    "                'Date': d,\n",
    "                'New Cases': ncs[r_i, d_i],\n",
    "                'New Deaths': nds[r_i, d_i]\n",
    "            }\n",
    "            \n",
    "            for cm_i, cm in enumerate(CMs):\n",
    "                row_dict[cm] = acms[r_i, cm_i, d_i]\n",
    "\n",
    "            all_rows.append(row_dict)"
   ],
   "metadata": {
    "collapsed": false,
    "pycharm": {
     "name": "#%%\n"
    }
   }
  },
  {
   "cell_type": "code",
   "execution_count": 96,
   "outputs": [],
   "source": [
    "merged_df = pd.DataFrame(all_rows).set_index(['Area', 'Date'])"
   ],
   "metadata": {
    "collapsed": false,
    "pycharm": {
     "name": "#%%\n"
    }
   }
  },
  {
   "cell_type": "code",
   "execution_count": 97,
   "outputs": [],
   "source": [
    "merged_df.to_csv('../../data/all_merged_data.csv')"
   ],
   "metadata": {
    "collapsed": false,
    "pycharm": {
     "name": "#%%\n"
    }
   }
  },
  {
   "cell_type": "markdown",
   "source": [
    "# Additional Sanity Checks\n",
    "\n",
    "Some of the errors below may be solved by fixing the errors presented in the reports above."
   ],
   "metadata": {
    "collapsed": false
   }
  },
  {
   "cell_type": "code",
   "execution_count": 98,
   "outputs": [],
   "source": [
    "def some_businesses(active_CMs, Rs, Ds):\n",
    "    # Any of the businesses NPIs (except “some businesses”) can only be active when “some businesses” is active.\n",
    "    nRs, _, nDs = active_CMs.shape\n",
    "    some_business_ind = 9\n",
    "    business_inds = [10, 11, 12, 13]\n",
    "    for r in range(nRs):\n",
    "        for day in range(nDs):\n",
    "            for ind in business_inds:\n",
    "                if active_CMs[r, ind, day] != 0 and active_CMs[r, some_business_ind, day] == 0:\n",
    "                    print(f'Some f2f business not active but {CMs[ind]} is active in {Rs[r]} on {Ds[day]}')\n",
    "\n",
    "def all_nonessential_businesses(active_CMs, Rs, Ds):\n",
    "    #“All nonessential businesses” can only be active when all other business NPIs are active\n",
    "    nRs, _, nDs = active_CMs.shape\n",
    "    all_business_ind = 13\n",
    "    business_inds = [9, 10, 11, 12]\n",
    "    for r in range(nRs):\n",
    "        for day in range(nDs):\n",
    "            for ind in business_inds:\n",
    "                if active_CMs[r, ind, day] == 0 and active_CMs[r, all_business_ind, day] == 1:\n",
    "                    print(f'All non-essential business is active but {CMs[ind]} is not active in {Rs[r]} on {Ds[day]}')\n",
    "\n",
    "def curfew_and_stay_home(active_CMs, Rs, Ds):\n",
    "    #“All nonessential businesses” can only be active when all other business NPIs are active\n",
    "    nRs, _, nDs = active_CMs.shape\n",
    "    curfew_ind = 15\n",
    "    stay_home_ind = 14\n",
    "    for r in range(nRs):\n",
    "        for day in range(nDs):\n",
    "            if active_CMs[r, curfew_ind, day] == 1 and active_CMs[r, stay_home_ind, day] == 1:\n",
    "                print(f'Both Curfew and Stay-at-home order active in {Rs[r]} on {Ds[day]}')\n",
    "\n",
    "def testing_household_gathering(active_CMs, Rs, Ds):\n",
    "    #“All nonessential businesses” can only be active when all other business NPIs are active\n",
    "    nRs, _, nDs = active_CMs.shape\n",
    "    pair1 = [0, 4]\n",
    "    pair2 = [1, 5]\n",
    "    pair3 = [2, 6]\n",
    "    pair4 = [3, 7]\n",
    "    pairs = [pair1, pair2, pair3, pair4]\n",
    "    for r in range(nRs):\n",
    "        for day in range(nDs):\n",
    "            for pair in pairs:\n",
    "                if active_CMs[r, pair[1], day] > active_CMs[r, pair[0], day] or active_CMs[r, pair[1], day] == 0:\n",
    "                    if active_CMs[r, pair[0], day] != 0:\n",
    "                        print(f'The {CMs[pair[0]]} is stricter than the {CMs[pair[1]]} in {Rs[r]} on {Ds[day]}')\n",
    "\n",
    "def get_short_gaps_region(active_CMs, area_indx, Rs, Ds, threshold):\n",
    "    CMs_data = (active_CMs[area_indx, :, :] > 0).astype(int)\n",
    "    nCMs, _ = CMs_data.shape\n",
    "    CM_changes = np.zeros((nCMs, len(Ds)))\n",
    "    CM_changes[:, 1:] = CMs_data[:, 1:] - CMs_data[:, :-1]\n",
    "    CM_changes = (CM_changes != 0).astype(int)\n",
    "    for i in range(nCMs):\n",
    "        for j in range(len(Ds)-threshold):\n",
    "            if sum(CM_changes[i, j:j+threshold]) > 1:\n",
    "                print(f'{CMs[i]} switched its activation status more than once within a period of {threshold} days in {Rs[area_indx]} on {Ds[j]}')\n",
    "\n",
    "def get_short_gaps(active_CMs, Rs, Ds, threshold):\n",
    "    for i in range(len(Rs)):\n",
    "        get_short_gaps_region(active_CMs, i, Rs, Ds, threshold)\n",
    "\n",
    "def plot_timeline_value_region(active_CMs, area_indx, Rs, Ds):\n",
    "    fig = plt.figure(figsize=((15,10)))\n",
    "    for i in range(4):\n",
    "        ax = fig.add_subplot(2, 2, i+1)\n",
    "        CM_gathering_data = active_CMs[area_indx, i, :]\n",
    "        sns.lineplot(x=Ds, y=list(CM_gathering_data), label = f'{CMs[i]}', ax = ax)\n",
    "        CM_household_data = active_CMs[area_indx, i+4, :]\n",
    "        sns.lineplot(x=Ds, y=list(CM_household_data), label = f'{CMs[i+4]}', ax = ax)\n",
    "        plt.title(f'{CMs[i]} and {CMs[i+4]}')\n",
    "    pl.suptitle(f'{Rs[area_indx]}: Timeline plots for value NPIs')\n",
    "    plt.show()\n",
    "\n",
    "def plot_timeline_value(active_CMs, Rs, Ds):\n",
    "    for R in range(len(Rs)):\n",
    "        plot_timeline_value_region(active_CMs, R, Rs, Ds)\n",
    "\n",
    "def perform_sanity_checks(country, Rs, Ds, threshold, plots=False):\n",
    "    index = countries.index(country)\n",
    "    active_CMs = active_cms[index]\n",
    "\n",
    "    some_businesses(active_CMs, Rs, Ds)\n",
    "    all_nonessential_businesses(active_CMs, Rs, Ds)\n",
    "    curfew_and_stay_home(active_CMs, Rs, Ds)\n",
    "    testing_household_gathering(active_CMs, Rs, Ds)\n",
    "    get_short_gaps(active_CMs, Rs, Ds, threshold)\n",
    "    if plots==True:\n",
    "        plot_timeline_value(active_CMs, Rs, Ds)\n"
   ],
   "metadata": {
    "collapsed": false,
    "pycharm": {
     "name": "#%%\n"
    }
   }
  },
  {
   "cell_type": "markdown",
   "source": [
    "## England"
   ],
   "metadata": {
    "collapsed": false,
    "pycharm": {
     "name": "#%% md\n"
    }
   }
  },
  {
   "cell_type": "code",
   "execution_count": 99,
   "outputs": [
    {
     "name": "stdout",
     "output_type": "stream",
     "text": [
      "Primary Schools Closed switched its activation status more than once within a period of 3 days in Lincolnshire on 2021-01-03 00:00:00\n",
      "Primary Schools Closed switched its activation status more than once within a period of 3 days in Lincolnshire on 2021-01-04 00:00:00\n",
      "Primary Schools Closed switched its activation status more than once within a period of 3 days in Greater Manchester South West on 2021-01-03 00:00:00\n",
      "Primary Schools Closed switched its activation status more than once within a period of 3 days in Greater Manchester South West on 2021-01-04 00:00:00\n",
      "Primary Schools Closed switched its activation status more than once within a period of 3 days in Buckinghamshire CC on 2021-01-03 00:00:00\n",
      "Primary Schools Closed switched its activation status more than once within a period of 3 days in Buckinghamshire CC on 2021-01-04 00:00:00\n",
      "Primary Schools Closed switched its activation status more than once within a period of 3 days in Portsmouth on 2021-01-03 00:00:00\n",
      "Primary Schools Closed switched its activation status more than once within a period of 3 days in Portsmouth on 2021-01-04 00:00:00\n",
      "Primary Schools Closed switched its activation status more than once within a period of 3 days in Southampton on 2021-01-03 00:00:00\n",
      "Primary Schools Closed switched its activation status more than once within a period of 3 days in Southampton on 2021-01-04 00:00:00\n",
      "Primary Schools Closed switched its activation status more than once within a period of 3 days in Coventry on 2021-01-03 00:00:00\n",
      "Primary Schools Closed switched its activation status more than once within a period of 3 days in Coventry on 2021-01-04 00:00:00\n",
      "Primary Schools Closed switched its activation status more than once within a period of 3 days in Walsall on 2021-01-03 00:00:00\n",
      "Primary Schools Closed switched its activation status more than once within a period of 3 days in Walsall on 2021-01-04 00:00:00\n",
      "Primary Schools Closed switched its activation status more than once within a period of 3 days in North Yorkshire CC on 2021-01-03 00:00:00\n",
      "Primary Schools Closed switched its activation status more than once within a period of 3 days in North Yorkshire CC on 2021-01-04 00:00:00\n",
      "Primary Schools Closed switched its activation status more than once within a period of 3 days in East Derbyshire on 2021-01-03 00:00:00\n",
      "Primary Schools Closed switched its activation status more than once within a period of 3 days in East Derbyshire on 2021-01-04 00:00:00\n"
     ]
    }
   ],
   "source": [
    "perform_sanity_checks('England', uk_Rs, Ds, 3, plots=False)"
   ],
   "metadata": {
    "collapsed": false,
    "pycharm": {
     "name": "#%%\n"
    }
   }
  },
  {
   "cell_type": "markdown",
   "source": [
    "## Austria"
   ],
   "metadata": {
    "collapsed": false
   }
  },
  {
   "cell_type": "code",
   "execution_count": 100,
   "outputs": [],
   "source": [
    "perform_sanity_checks('Austria', at_Rs, Ds, 3, plots=False)"
   ],
   "metadata": {
    "collapsed": false,
    "pycharm": {
     "name": "#%%\n"
    }
   }
  },
  {
   "cell_type": "markdown",
   "source": [
    "## Germany"
   ],
   "metadata": {
    "collapsed": false
   }
  },
  {
   "cell_type": "code",
   "execution_count": 101,
   "outputs": [
    {
     "name": "stdout",
     "output_type": "stream",
     "text": [
      "Both Curfew and Stay-at-home order active in Nürnberg on 2020-12-09 00:00:00\n",
      "Both Curfew and Stay-at-home order active in Nürnberg on 2020-12-10 00:00:00\n",
      "Both Curfew and Stay-at-home order active in Nürnberg on 2020-12-11 00:00:00\n",
      "Both Curfew and Stay-at-home order active in Nürnberg on 2020-12-12 00:00:00\n",
      "Both Curfew and Stay-at-home order active in Nürnberg on 2020-12-13 00:00:00\n",
      "Both Curfew and Stay-at-home order active in Nürnberg on 2020-12-14 00:00:00\n",
      "Both Curfew and Stay-at-home order active in Nürnberg on 2020-12-15 00:00:00\n",
      "Both Curfew and Stay-at-home order active in Nürnberg on 2020-12-16 00:00:00\n",
      "Both Curfew and Stay-at-home order active in Nürnberg on 2020-12-17 00:00:00\n",
      "Both Curfew and Stay-at-home order active in Nürnberg on 2020-12-18 00:00:00\n",
      "Both Curfew and Stay-at-home order active in Nürnberg on 2020-12-19 00:00:00\n",
      "Both Curfew and Stay-at-home order active in Nürnberg on 2020-12-20 00:00:00\n",
      "Both Curfew and Stay-at-home order active in Nürnberg on 2020-12-21 00:00:00\n",
      "Both Curfew and Stay-at-home order active in Nürnberg on 2020-12-22 00:00:00\n",
      "Both Curfew and Stay-at-home order active in Nürnberg on 2020-12-23 00:00:00\n",
      "Both Curfew and Stay-at-home order active in Nürnberg on 2020-12-24 00:00:00\n",
      "Both Curfew and Stay-at-home order active in Nürnberg on 2020-12-25 00:00:00\n",
      "Both Curfew and Stay-at-home order active in Nürnberg on 2020-12-26 00:00:00\n",
      "Both Curfew and Stay-at-home order active in Nürnberg on 2020-12-27 00:00:00\n",
      "Both Curfew and Stay-at-home order active in Nürnberg on 2020-12-28 00:00:00\n",
      "Both Curfew and Stay-at-home order active in Nürnberg on 2020-12-29 00:00:00\n",
      "Both Curfew and Stay-at-home order active in Nürnberg on 2020-12-30 00:00:00\n",
      "Both Curfew and Stay-at-home order active in Nürnberg on 2020-12-31 00:00:00\n",
      "Both Curfew and Stay-at-home order active in Nürnberg on 2021-01-01 00:00:00\n",
      "Both Curfew and Stay-at-home order active in Nürnberg on 2021-01-02 00:00:00\n",
      "Both Curfew and Stay-at-home order active in Nürnberg on 2021-01-03 00:00:00\n",
      "Both Curfew and Stay-at-home order active in Nürnberg on 2021-01-04 00:00:00\n",
      "Both Curfew and Stay-at-home order active in Nürnberg on 2021-01-05 00:00:00\n",
      "Both Curfew and Stay-at-home order active in Nürnberg on 2021-01-06 00:00:00\n",
      "Both Curfew and Stay-at-home order active in Nürnberg on 2021-01-07 00:00:00\n",
      "Both Curfew and Stay-at-home order active in Nürnberg on 2021-01-08 00:00:00\n",
      "Both Curfew and Stay-at-home order active in Nürnberg on 2021-01-09 00:00:00\n",
      "Both Curfew and Stay-at-home order active in LK Aschaffenburg on 2020-12-16 00:00:00\n",
      "Both Curfew and Stay-at-home order active in LK Aschaffenburg on 2020-12-17 00:00:00\n",
      "Both Curfew and Stay-at-home order active in LK Aschaffenburg on 2020-12-18 00:00:00\n",
      "Both Curfew and Stay-at-home order active in LK Aschaffenburg on 2020-12-19 00:00:00\n",
      "Both Curfew and Stay-at-home order active in LK Aschaffenburg on 2020-12-20 00:00:00\n",
      "Both Curfew and Stay-at-home order active in LK Aschaffenburg on 2020-12-21 00:00:00\n",
      "Both Curfew and Stay-at-home order active in LK Aschaffenburg on 2020-12-22 00:00:00\n",
      "Both Curfew and Stay-at-home order active in LK Aschaffenburg on 2020-12-23 00:00:00\n",
      "Both Curfew and Stay-at-home order active in LK Aschaffenburg on 2020-12-24 00:00:00\n",
      "Both Curfew and Stay-at-home order active in LK Aschaffenburg on 2020-12-25 00:00:00\n",
      "Both Curfew and Stay-at-home order active in LK Aschaffenburg on 2020-12-26 00:00:00\n",
      "Both Curfew and Stay-at-home order active in LK Aschaffenburg on 2020-12-27 00:00:00\n",
      "Both Curfew and Stay-at-home order active in LK Aschaffenburg on 2020-12-28 00:00:00\n",
      "Both Curfew and Stay-at-home order active in LK Aschaffenburg on 2020-12-29 00:00:00\n",
      "Both Curfew and Stay-at-home order active in LK Aschaffenburg on 2020-12-30 00:00:00\n",
      "Both Curfew and Stay-at-home order active in LK Aschaffenburg on 2020-12-31 00:00:00\n",
      "Both Curfew and Stay-at-home order active in LK Aschaffenburg on 2021-01-01 00:00:00\n",
      "Both Curfew and Stay-at-home order active in LK Aschaffenburg on 2021-01-02 00:00:00\n",
      "Both Curfew and Stay-at-home order active in LK Aschaffenburg on 2021-01-03 00:00:00\n",
      "Both Curfew and Stay-at-home order active in LK Aschaffenburg on 2021-01-04 00:00:00\n",
      "Both Curfew and Stay-at-home order active in LK Aschaffenburg on 2021-01-05 00:00:00\n",
      "Both Curfew and Stay-at-home order active in LK Aschaffenburg on 2021-01-06 00:00:00\n",
      "Both Curfew and Stay-at-home order active in LK Aschaffenburg on 2021-01-07 00:00:00\n",
      "Both Curfew and Stay-at-home order active in LK Aschaffenburg on 2021-01-08 00:00:00\n",
      "Both Curfew and Stay-at-home order active in LK Aschaffenburg on 2021-01-09 00:00:00\n",
      "Both Curfew and Stay-at-home order active in Fürth on 2020-12-16 00:00:00\n",
      "Both Curfew and Stay-at-home order active in Fürth on 2020-12-17 00:00:00\n",
      "Both Curfew and Stay-at-home order active in Fürth on 2020-12-18 00:00:00\n",
      "Both Curfew and Stay-at-home order active in Fürth on 2020-12-19 00:00:00\n",
      "Both Curfew and Stay-at-home order active in Fürth on 2020-12-20 00:00:00\n",
      "Both Curfew and Stay-at-home order active in Fürth on 2020-12-21 00:00:00\n",
      "Both Curfew and Stay-at-home order active in Fürth on 2020-12-22 00:00:00\n",
      "Both Curfew and Stay-at-home order active in Fürth on 2020-12-23 00:00:00\n",
      "Both Curfew and Stay-at-home order active in Fürth on 2020-12-24 00:00:00\n",
      "Both Curfew and Stay-at-home order active in Fürth on 2020-12-25 00:00:00\n",
      "Both Curfew and Stay-at-home order active in Fürth on 2020-12-26 00:00:00\n",
      "Both Curfew and Stay-at-home order active in Fürth on 2020-12-27 00:00:00\n",
      "Both Curfew and Stay-at-home order active in Fürth on 2020-12-28 00:00:00\n",
      "Both Curfew and Stay-at-home order active in Fürth on 2020-12-29 00:00:00\n",
      "Both Curfew and Stay-at-home order active in Fürth on 2020-12-30 00:00:00\n",
      "Both Curfew and Stay-at-home order active in Fürth on 2020-12-31 00:00:00\n",
      "Both Curfew and Stay-at-home order active in Fürth on 2021-01-01 00:00:00\n",
      "Both Curfew and Stay-at-home order active in Fürth on 2021-01-02 00:00:00\n",
      "Both Curfew and Stay-at-home order active in Fürth on 2021-01-03 00:00:00\n",
      "Both Curfew and Stay-at-home order active in Fürth on 2021-01-04 00:00:00\n",
      "Both Curfew and Stay-at-home order active in Fürth on 2021-01-05 00:00:00\n",
      "Both Curfew and Stay-at-home order active in Fürth on 2021-01-06 00:00:00\n",
      "Both Curfew and Stay-at-home order active in Fürth on 2021-01-07 00:00:00\n",
      "Both Curfew and Stay-at-home order active in Fürth on 2021-01-08 00:00:00\n",
      "Both Curfew and Stay-at-home order active in Fürth on 2021-01-09 00:00:00\n",
      "Both Curfew and Stay-at-home order active in Landsberg am Lech on 2020-12-16 00:00:00\n",
      "Both Curfew and Stay-at-home order active in Landsberg am Lech on 2020-12-17 00:00:00\n",
      "Both Curfew and Stay-at-home order active in Landsberg am Lech on 2020-12-18 00:00:00\n",
      "Both Curfew and Stay-at-home order active in Landsberg am Lech on 2020-12-19 00:00:00\n",
      "Both Curfew and Stay-at-home order active in Landsberg am Lech on 2020-12-20 00:00:00\n",
      "Both Curfew and Stay-at-home order active in Landsberg am Lech on 2020-12-21 00:00:00\n",
      "Both Curfew and Stay-at-home order active in Landsberg am Lech on 2020-12-22 00:00:00\n",
      "Both Curfew and Stay-at-home order active in Landsberg am Lech on 2020-12-23 00:00:00\n",
      "Both Curfew and Stay-at-home order active in Landsberg am Lech on 2020-12-24 00:00:00\n",
      "Both Curfew and Stay-at-home order active in Landsberg am Lech on 2020-12-25 00:00:00\n",
      "Both Curfew and Stay-at-home order active in Landsberg am Lech on 2020-12-26 00:00:00\n",
      "Both Curfew and Stay-at-home order active in Landsberg am Lech on 2020-12-27 00:00:00\n",
      "Both Curfew and Stay-at-home order active in Landsberg am Lech on 2020-12-28 00:00:00\n",
      "Both Curfew and Stay-at-home order active in Landsberg am Lech on 2020-12-29 00:00:00\n",
      "Both Curfew and Stay-at-home order active in Landsberg am Lech on 2020-12-30 00:00:00\n",
      "Both Curfew and Stay-at-home order active in Landsberg am Lech on 2020-12-31 00:00:00\n",
      "Both Curfew and Stay-at-home order active in Landsberg am Lech on 2021-01-01 00:00:00\n",
      "Both Curfew and Stay-at-home order active in Landsberg am Lech on 2021-01-02 00:00:00\n",
      "Both Curfew and Stay-at-home order active in Landsberg am Lech on 2021-01-03 00:00:00\n",
      "Both Curfew and Stay-at-home order active in Landsberg am Lech on 2021-01-04 00:00:00\n",
      "Both Curfew and Stay-at-home order active in Landsberg am Lech on 2021-01-05 00:00:00\n",
      "Both Curfew and Stay-at-home order active in Landsberg am Lech on 2021-01-06 00:00:00\n",
      "Both Curfew and Stay-at-home order active in Landsberg am Lech on 2021-01-07 00:00:00\n",
      "Both Curfew and Stay-at-home order active in Landsberg am Lech on 2021-01-08 00:00:00\n",
      "Both Curfew and Stay-at-home order active in Landsberg am Lech on 2021-01-09 00:00:00\n",
      "Both Curfew and Stay-at-home order active in LK Donau-Ries on 2020-12-16 00:00:00\n",
      "Both Curfew and Stay-at-home order active in LK Donau-Ries on 2020-12-17 00:00:00\n",
      "Both Curfew and Stay-at-home order active in LK Donau-Ries on 2020-12-18 00:00:00\n",
      "Both Curfew and Stay-at-home order active in LK Donau-Ries on 2020-12-19 00:00:00\n",
      "Both Curfew and Stay-at-home order active in LK Donau-Ries on 2020-12-20 00:00:00\n",
      "Both Curfew and Stay-at-home order active in LK Donau-Ries on 2020-12-21 00:00:00\n",
      "Both Curfew and Stay-at-home order active in LK Donau-Ries on 2020-12-22 00:00:00\n",
      "Both Curfew and Stay-at-home order active in LK Donau-Ries on 2020-12-23 00:00:00\n",
      "Both Curfew and Stay-at-home order active in LK Donau-Ries on 2020-12-24 00:00:00\n",
      "Both Curfew and Stay-at-home order active in LK Donau-Ries on 2020-12-25 00:00:00\n",
      "Both Curfew and Stay-at-home order active in LK Donau-Ries on 2020-12-26 00:00:00\n",
      "Both Curfew and Stay-at-home order active in LK Donau-Ries on 2020-12-27 00:00:00\n",
      "Both Curfew and Stay-at-home order active in LK Donau-Ries on 2020-12-28 00:00:00\n",
      "Both Curfew and Stay-at-home order active in LK Donau-Ries on 2020-12-29 00:00:00\n",
      "Both Curfew and Stay-at-home order active in LK Donau-Ries on 2020-12-30 00:00:00\n",
      "Both Curfew and Stay-at-home order active in LK Donau-Ries on 2020-12-31 00:00:00\n",
      "Both Curfew and Stay-at-home order active in LK Donau-Ries on 2021-01-01 00:00:00\n",
      "Both Curfew and Stay-at-home order active in LK Donau-Ries on 2021-01-02 00:00:00\n",
      "Both Curfew and Stay-at-home order active in LK Donau-Ries on 2021-01-03 00:00:00\n",
      "Both Curfew and Stay-at-home order active in LK Donau-Ries on 2021-01-04 00:00:00\n",
      "Both Curfew and Stay-at-home order active in LK Donau-Ries on 2021-01-05 00:00:00\n",
      "Both Curfew and Stay-at-home order active in LK Donau-Ries on 2021-01-06 00:00:00\n",
      "Both Curfew and Stay-at-home order active in LK Donau-Ries on 2021-01-07 00:00:00\n",
      "Both Curfew and Stay-at-home order active in LK Donau-Ries on 2021-01-08 00:00:00\n",
      "Both Curfew and Stay-at-home order active in LK Donau-Ries on 2021-01-09 00:00:00\n",
      "Both Curfew and Stay-at-home order active in LK Rems-Murr-Kreis on 2020-12-12 00:00:00\n",
      "Both Curfew and Stay-at-home order active in LK Rems-Murr-Kreis on 2020-12-13 00:00:00\n",
      "Both Curfew and Stay-at-home order active in LK Rems-Murr-Kreis on 2020-12-14 00:00:00\n",
      "Both Curfew and Stay-at-home order active in LK Rems-Murr-Kreis on 2020-12-15 00:00:00\n",
      "Both Curfew and Stay-at-home order active in LK Rems-Murr-Kreis on 2020-12-16 00:00:00\n",
      "Both Curfew and Stay-at-home order active in LK Rems-Murr-Kreis on 2020-12-17 00:00:00\n",
      "Both Curfew and Stay-at-home order active in LK Rems-Murr-Kreis on 2020-12-18 00:00:00\n",
      "Both Curfew and Stay-at-home order active in LK Rems-Murr-Kreis on 2020-12-19 00:00:00\n",
      "Both Curfew and Stay-at-home order active in LK Rems-Murr-Kreis on 2020-12-20 00:00:00\n",
      "Both Curfew and Stay-at-home order active in LK Rems-Murr-Kreis on 2020-12-21 00:00:00\n",
      "Both Curfew and Stay-at-home order active in LK Rems-Murr-Kreis on 2020-12-22 00:00:00\n",
      "Both Curfew and Stay-at-home order active in LK Rems-Murr-Kreis on 2020-12-23 00:00:00\n",
      "Both Curfew and Stay-at-home order active in LK Rems-Murr-Kreis on 2020-12-24 00:00:00\n",
      "Both Curfew and Stay-at-home order active in LK Rems-Murr-Kreis on 2020-12-25 00:00:00\n",
      "Both Curfew and Stay-at-home order active in LK Rems-Murr-Kreis on 2020-12-26 00:00:00\n",
      "Both Curfew and Stay-at-home order active in LK Rems-Murr-Kreis on 2020-12-27 00:00:00\n",
      "Both Curfew and Stay-at-home order active in LK Rems-Murr-Kreis on 2020-12-28 00:00:00\n",
      "Both Curfew and Stay-at-home order active in LK Rems-Murr-Kreis on 2020-12-29 00:00:00\n",
      "Both Curfew and Stay-at-home order active in LK Rems-Murr-Kreis on 2020-12-30 00:00:00\n",
      "Both Curfew and Stay-at-home order active in LK Rems-Murr-Kreis on 2020-12-31 00:00:00\n",
      "Both Curfew and Stay-at-home order active in LK Rems-Murr-Kreis on 2021-01-01 00:00:00\n",
      "Both Curfew and Stay-at-home order active in LK Rems-Murr-Kreis on 2021-01-02 00:00:00\n",
      "Both Curfew and Stay-at-home order active in LK Rems-Murr-Kreis on 2021-01-03 00:00:00\n",
      "Both Curfew and Stay-at-home order active in LK Rems-Murr-Kreis on 2021-01-04 00:00:00\n",
      "Both Curfew and Stay-at-home order active in LK Rems-Murr-Kreis on 2021-01-05 00:00:00\n",
      "Both Curfew and Stay-at-home order active in LK Rems-Murr-Kreis on 2021-01-06 00:00:00\n",
      "Both Curfew and Stay-at-home order active in LK Rems-Murr-Kreis on 2021-01-07 00:00:00\n",
      "Both Curfew and Stay-at-home order active in LK Rems-Murr-Kreis on 2021-01-08 00:00:00\n",
      "Both Curfew and Stay-at-home order active in LK Rems-Murr-Kreis on 2021-01-09 00:00:00\n",
      "Both Curfew and Stay-at-home order active in LK Breisgau-Hochschwarzwald on 2020-12-12 00:00:00\n",
      "Both Curfew and Stay-at-home order active in LK Breisgau-Hochschwarzwald on 2020-12-13 00:00:00\n",
      "Both Curfew and Stay-at-home order active in LK Breisgau-Hochschwarzwald on 2020-12-14 00:00:00\n",
      "Both Curfew and Stay-at-home order active in LK Breisgau-Hochschwarzwald on 2020-12-15 00:00:00\n",
      "Both Curfew and Stay-at-home order active in LK Breisgau-Hochschwarzwald on 2020-12-16 00:00:00\n",
      "Both Curfew and Stay-at-home order active in LK Breisgau-Hochschwarzwald on 2020-12-17 00:00:00\n",
      "Both Curfew and Stay-at-home order active in LK Breisgau-Hochschwarzwald on 2020-12-18 00:00:00\n",
      "Both Curfew and Stay-at-home order active in LK Breisgau-Hochschwarzwald on 2020-12-19 00:00:00\n",
      "Both Curfew and Stay-at-home order active in LK Breisgau-Hochschwarzwald on 2020-12-20 00:00:00\n",
      "Both Curfew and Stay-at-home order active in LK Breisgau-Hochschwarzwald on 2020-12-21 00:00:00\n",
      "Both Curfew and Stay-at-home order active in LK Breisgau-Hochschwarzwald on 2020-12-22 00:00:00\n",
      "Both Curfew and Stay-at-home order active in LK Breisgau-Hochschwarzwald on 2020-12-23 00:00:00\n",
      "Both Curfew and Stay-at-home order active in LK Breisgau-Hochschwarzwald on 2020-12-24 00:00:00\n",
      "Both Curfew and Stay-at-home order active in LK Breisgau-Hochschwarzwald on 2020-12-25 00:00:00\n",
      "Both Curfew and Stay-at-home order active in LK Breisgau-Hochschwarzwald on 2020-12-26 00:00:00\n",
      "Both Curfew and Stay-at-home order active in LK Breisgau-Hochschwarzwald on 2020-12-27 00:00:00\n",
      "Both Curfew and Stay-at-home order active in LK Breisgau-Hochschwarzwald on 2020-12-28 00:00:00\n",
      "Both Curfew and Stay-at-home order active in LK Breisgau-Hochschwarzwald on 2020-12-29 00:00:00\n",
      "Both Curfew and Stay-at-home order active in LK Breisgau-Hochschwarzwald on 2020-12-30 00:00:00\n",
      "Both Curfew and Stay-at-home order active in LK Breisgau-Hochschwarzwald on 2020-12-31 00:00:00\n",
      "Both Curfew and Stay-at-home order active in LK Breisgau-Hochschwarzwald on 2021-01-01 00:00:00\n",
      "Both Curfew and Stay-at-home order active in LK Breisgau-Hochschwarzwald on 2021-01-02 00:00:00\n",
      "Both Curfew and Stay-at-home order active in LK Breisgau-Hochschwarzwald on 2021-01-03 00:00:00\n",
      "Both Curfew and Stay-at-home order active in LK Breisgau-Hochschwarzwald on 2021-01-04 00:00:00\n",
      "Both Curfew and Stay-at-home order active in LK Breisgau-Hochschwarzwald on 2021-01-05 00:00:00\n",
      "Both Curfew and Stay-at-home order active in LK Breisgau-Hochschwarzwald on 2021-01-06 00:00:00\n",
      "Both Curfew and Stay-at-home order active in LK Breisgau-Hochschwarzwald on 2021-01-07 00:00:00\n",
      "Both Curfew and Stay-at-home order active in LK Breisgau-Hochschwarzwald on 2021-01-08 00:00:00\n",
      "Both Curfew and Stay-at-home order active in LK Breisgau-Hochschwarzwald on 2021-01-09 00:00:00\n",
      "Both Curfew and Stay-at-home order active in LK Enzkreis on 2020-12-12 00:00:00\n",
      "Both Curfew and Stay-at-home order active in LK Enzkreis on 2020-12-13 00:00:00\n",
      "Both Curfew and Stay-at-home order active in LK Enzkreis on 2020-12-14 00:00:00\n",
      "Both Curfew and Stay-at-home order active in LK Enzkreis on 2020-12-15 00:00:00\n",
      "Both Curfew and Stay-at-home order active in LK Enzkreis on 2020-12-16 00:00:00\n",
      "Both Curfew and Stay-at-home order active in LK Enzkreis on 2020-12-17 00:00:00\n",
      "Both Curfew and Stay-at-home order active in LK Enzkreis on 2020-12-18 00:00:00\n",
      "Both Curfew and Stay-at-home order active in LK Enzkreis on 2020-12-19 00:00:00\n",
      "Both Curfew and Stay-at-home order active in LK Enzkreis on 2020-12-20 00:00:00\n",
      "Both Curfew and Stay-at-home order active in LK Enzkreis on 2020-12-21 00:00:00\n",
      "Both Curfew and Stay-at-home order active in LK Enzkreis on 2020-12-22 00:00:00\n",
      "Both Curfew and Stay-at-home order active in LK Enzkreis on 2020-12-23 00:00:00\n",
      "Both Curfew and Stay-at-home order active in LK Enzkreis on 2020-12-24 00:00:00\n",
      "Both Curfew and Stay-at-home order active in LK Enzkreis on 2020-12-25 00:00:00\n",
      "Both Curfew and Stay-at-home order active in LK Enzkreis on 2020-12-26 00:00:00\n",
      "Both Curfew and Stay-at-home order active in LK Enzkreis on 2020-12-27 00:00:00\n",
      "Both Curfew and Stay-at-home order active in LK Enzkreis on 2020-12-28 00:00:00\n",
      "Both Curfew and Stay-at-home order active in LK Enzkreis on 2020-12-29 00:00:00\n",
      "Both Curfew and Stay-at-home order active in LK Enzkreis on 2020-12-30 00:00:00\n",
      "Both Curfew and Stay-at-home order active in LK Enzkreis on 2020-12-31 00:00:00\n",
      "Both Curfew and Stay-at-home order active in LK Enzkreis on 2021-01-01 00:00:00\n",
      "Both Curfew and Stay-at-home order active in LK Enzkreis on 2021-01-02 00:00:00\n",
      "Both Curfew and Stay-at-home order active in LK Enzkreis on 2021-01-03 00:00:00\n",
      "Both Curfew and Stay-at-home order active in LK Enzkreis on 2021-01-04 00:00:00\n",
      "Both Curfew and Stay-at-home order active in LK Enzkreis on 2021-01-05 00:00:00\n",
      "Both Curfew and Stay-at-home order active in LK Enzkreis on 2021-01-06 00:00:00\n",
      "Both Curfew and Stay-at-home order active in LK Enzkreis on 2021-01-07 00:00:00\n",
      "Both Curfew and Stay-at-home order active in LK Enzkreis on 2021-01-08 00:00:00\n",
      "Both Curfew and Stay-at-home order active in LK Enzkreis on 2021-01-09 00:00:00\n"
     ]
    }
   ],
   "source": [
    "perform_sanity_checks('Germany', de_Rs, Ds, 3, plots=False)"
   ],
   "metadata": {
    "collapsed": false,
    "pycharm": {
     "name": "#%%\n"
    }
   }
  },
  {
   "cell_type": "markdown",
   "source": [
    "## Italy"
   ],
   "metadata": {
    "collapsed": false,
    "pycharm": {
     "name": "#%% md\n"
    }
   }
  },
  {
   "cell_type": "code",
   "execution_count": 102,
   "outputs": [
    {
     "name": "stdout",
     "output_type": "stream",
     "text": [
      "Both Curfew and Stay-at-home order active in Abruzzo on 2020-11-18 00:00:00\n",
      "Both Curfew and Stay-at-home order active in Abruzzo on 2020-11-19 00:00:00\n",
      "Both Curfew and Stay-at-home order active in Abruzzo on 2020-11-20 00:00:00\n",
      "Both Curfew and Stay-at-home order active in Abruzzo on 2020-11-21 00:00:00\n",
      "Both Curfew and Stay-at-home order active in Abruzzo on 2020-11-22 00:00:00\n",
      "Both Curfew and Stay-at-home order active in Abruzzo on 2020-11-23 00:00:00\n",
      "Both Curfew and Stay-at-home order active in Abruzzo on 2020-11-24 00:00:00\n",
      "Both Curfew and Stay-at-home order active in Abruzzo on 2020-11-25 00:00:00\n",
      "Both Curfew and Stay-at-home order active in Abruzzo on 2020-11-26 00:00:00\n",
      "Both Curfew and Stay-at-home order active in Abruzzo on 2020-11-27 00:00:00\n",
      "Both Curfew and Stay-at-home order active in Abruzzo on 2020-11-28 00:00:00\n",
      "Both Curfew and Stay-at-home order active in Abruzzo on 2020-11-29 00:00:00\n",
      "Both Curfew and Stay-at-home order active in Abruzzo on 2020-11-30 00:00:00\n",
      "Both Curfew and Stay-at-home order active in Abruzzo on 2020-12-01 00:00:00\n",
      "Both Curfew and Stay-at-home order active in Abruzzo on 2020-12-02 00:00:00\n",
      "Both Curfew and Stay-at-home order active in Abruzzo on 2020-12-03 00:00:00\n",
      "Both Curfew and Stay-at-home order active in Abruzzo on 2020-12-04 00:00:00\n",
      "Both Curfew and Stay-at-home order active in Abruzzo on 2020-12-05 00:00:00\n",
      "Both Curfew and Stay-at-home order active in Abruzzo on 2020-12-06 00:00:00\n",
      "Both Curfew and Stay-at-home order active in Abruzzo on 2020-12-07 00:00:00\n",
      "Both Curfew and Stay-at-home order active in Abruzzo on 2020-12-08 00:00:00\n",
      "Both Curfew and Stay-at-home order active in Abruzzo on 2020-12-09 00:00:00\n",
      "Both Curfew and Stay-at-home order active in Abruzzo on 2020-12-10 00:00:00\n",
      "Both Curfew and Stay-at-home order active in Abruzzo on 2020-12-11 00:00:00\n",
      "Both Curfew and Stay-at-home order active in Abruzzo on 2020-12-12 00:00:00\n",
      "Both Curfew and Stay-at-home order active in Abruzzo on 2020-12-24 00:00:00\n",
      "Both Curfew and Stay-at-home order active in Abruzzo on 2020-12-25 00:00:00\n",
      "Both Curfew and Stay-at-home order active in Abruzzo on 2020-12-26 00:00:00\n",
      "Both Curfew and Stay-at-home order active in Abruzzo on 2020-12-27 00:00:00\n",
      "Both Curfew and Stay-at-home order active in Abruzzo on 2020-12-28 00:00:00\n",
      "Both Curfew and Stay-at-home order active in Abruzzo on 2020-12-29 00:00:00\n",
      "Both Curfew and Stay-at-home order active in Abruzzo on 2020-12-30 00:00:00\n",
      "Both Curfew and Stay-at-home order active in Abruzzo on 2020-12-31 00:00:00\n",
      "Both Curfew and Stay-at-home order active in Abruzzo on 2021-01-01 00:00:00\n",
      "Both Curfew and Stay-at-home order active in Abruzzo on 2021-01-02 00:00:00\n",
      "Both Curfew and Stay-at-home order active in Abruzzo on 2021-01-03 00:00:00\n",
      "Both Curfew and Stay-at-home order active in Abruzzo on 2021-01-05 00:00:00\n",
      "Both Curfew and Stay-at-home order active in Abruzzo on 2021-01-06 00:00:00\n",
      "Both Curfew and Stay-at-home order active in Aosta Valley on 2020-11-06 00:00:00\n",
      "Both Curfew and Stay-at-home order active in Aosta Valley on 2020-11-07 00:00:00\n",
      "Both Curfew and Stay-at-home order active in Aosta Valley on 2020-11-08 00:00:00\n",
      "Both Curfew and Stay-at-home order active in Aosta Valley on 2020-11-09 00:00:00\n",
      "Both Curfew and Stay-at-home order active in Aosta Valley on 2020-11-10 00:00:00\n",
      "Both Curfew and Stay-at-home order active in Aosta Valley on 2020-11-11 00:00:00\n",
      "Both Curfew and Stay-at-home order active in Aosta Valley on 2020-11-12 00:00:00\n",
      "Both Curfew and Stay-at-home order active in Aosta Valley on 2020-11-13 00:00:00\n",
      "Both Curfew and Stay-at-home order active in Aosta Valley on 2020-11-14 00:00:00\n",
      "Both Curfew and Stay-at-home order active in Aosta Valley on 2020-11-15 00:00:00\n",
      "Both Curfew and Stay-at-home order active in Aosta Valley on 2020-11-16 00:00:00\n",
      "Both Curfew and Stay-at-home order active in Aosta Valley on 2020-11-17 00:00:00\n",
      "Both Curfew and Stay-at-home order active in Aosta Valley on 2020-11-18 00:00:00\n",
      "Both Curfew and Stay-at-home order active in Aosta Valley on 2020-11-19 00:00:00\n",
      "Both Curfew and Stay-at-home order active in Aosta Valley on 2020-11-20 00:00:00\n",
      "Both Curfew and Stay-at-home order active in Aosta Valley on 2020-11-21 00:00:00\n",
      "Both Curfew and Stay-at-home order active in Aosta Valley on 2020-11-22 00:00:00\n",
      "Both Curfew and Stay-at-home order active in Aosta Valley on 2020-11-23 00:00:00\n",
      "Both Curfew and Stay-at-home order active in Aosta Valley on 2020-11-24 00:00:00\n",
      "Both Curfew and Stay-at-home order active in Aosta Valley on 2020-11-25 00:00:00\n",
      "Both Curfew and Stay-at-home order active in Aosta Valley on 2020-11-26 00:00:00\n",
      "Both Curfew and Stay-at-home order active in Aosta Valley on 2020-11-27 00:00:00\n",
      "Both Curfew and Stay-at-home order active in Aosta Valley on 2020-11-28 00:00:00\n",
      "Both Curfew and Stay-at-home order active in Aosta Valley on 2020-11-29 00:00:00\n",
      "Both Curfew and Stay-at-home order active in Aosta Valley on 2020-11-30 00:00:00\n",
      "Both Curfew and Stay-at-home order active in Aosta Valley on 2020-12-01 00:00:00\n",
      "Both Curfew and Stay-at-home order active in Aosta Valley on 2020-12-02 00:00:00\n",
      "Both Curfew and Stay-at-home order active in Aosta Valley on 2020-12-24 00:00:00\n",
      "Both Curfew and Stay-at-home order active in Aosta Valley on 2020-12-25 00:00:00\n",
      "Both Curfew and Stay-at-home order active in Aosta Valley on 2020-12-26 00:00:00\n",
      "Both Curfew and Stay-at-home order active in Aosta Valley on 2020-12-27 00:00:00\n",
      "Both Curfew and Stay-at-home order active in Aosta Valley on 2020-12-28 00:00:00\n",
      "Both Curfew and Stay-at-home order active in Aosta Valley on 2020-12-29 00:00:00\n",
      "Both Curfew and Stay-at-home order active in Aosta Valley on 2020-12-30 00:00:00\n",
      "Both Curfew and Stay-at-home order active in Aosta Valley on 2020-12-31 00:00:00\n",
      "Both Curfew and Stay-at-home order active in Aosta Valley on 2021-01-01 00:00:00\n",
      "Both Curfew and Stay-at-home order active in Aosta Valley on 2021-01-02 00:00:00\n",
      "Both Curfew and Stay-at-home order active in Aosta Valley on 2021-01-03 00:00:00\n",
      "Both Curfew and Stay-at-home order active in Aosta Valley on 2021-01-05 00:00:00\n",
      "Both Curfew and Stay-at-home order active in Aosta Valley on 2021-01-06 00:00:00\n",
      "Both Curfew and Stay-at-home order active in Apulia (AKA Puglia) on 2020-12-24 00:00:00\n",
      "Both Curfew and Stay-at-home order active in Apulia (AKA Puglia) on 2020-12-25 00:00:00\n",
      "Both Curfew and Stay-at-home order active in Apulia (AKA Puglia) on 2020-12-26 00:00:00\n",
      "Both Curfew and Stay-at-home order active in Apulia (AKA Puglia) on 2020-12-27 00:00:00\n",
      "Both Curfew and Stay-at-home order active in Apulia (AKA Puglia) on 2020-12-28 00:00:00\n",
      "Both Curfew and Stay-at-home order active in Apulia (AKA Puglia) on 2020-12-29 00:00:00\n",
      "Both Curfew and Stay-at-home order active in Apulia (AKA Puglia) on 2020-12-30 00:00:00\n",
      "Both Curfew and Stay-at-home order active in Apulia (AKA Puglia) on 2020-12-31 00:00:00\n",
      "Both Curfew and Stay-at-home order active in Apulia (AKA Puglia) on 2021-01-01 00:00:00\n",
      "Both Curfew and Stay-at-home order active in Apulia (AKA Puglia) on 2021-01-02 00:00:00\n",
      "Both Curfew and Stay-at-home order active in Apulia (AKA Puglia) on 2021-01-03 00:00:00\n",
      "Both Curfew and Stay-at-home order active in Apulia (AKA Puglia) on 2021-01-05 00:00:00\n",
      "Both Curfew and Stay-at-home order active in Apulia (AKA Puglia) on 2021-01-06 00:00:00\n",
      "Both Curfew and Stay-at-home order active in Basilicata on 2020-12-24 00:00:00\n",
      "Both Curfew and Stay-at-home order active in Basilicata on 2020-12-25 00:00:00\n",
      "Both Curfew and Stay-at-home order active in Basilicata on 2020-12-26 00:00:00\n",
      "Both Curfew and Stay-at-home order active in Basilicata on 2020-12-27 00:00:00\n",
      "Both Curfew and Stay-at-home order active in Basilicata on 2020-12-28 00:00:00\n",
      "Both Curfew and Stay-at-home order active in Basilicata on 2020-12-29 00:00:00\n",
      "Both Curfew and Stay-at-home order active in Basilicata on 2020-12-30 00:00:00\n",
      "Both Curfew and Stay-at-home order active in Basilicata on 2020-12-31 00:00:00\n",
      "Both Curfew and Stay-at-home order active in Basilicata on 2021-01-01 00:00:00\n",
      "Both Curfew and Stay-at-home order active in Basilicata on 2021-01-02 00:00:00\n",
      "Both Curfew and Stay-at-home order active in Basilicata on 2021-01-03 00:00:00\n",
      "Both Curfew and Stay-at-home order active in Basilicata on 2021-01-05 00:00:00\n",
      "Both Curfew and Stay-at-home order active in Basilicata on 2021-01-06 00:00:00\n",
      "Both Curfew and Stay-at-home order active in Calabria on 2020-11-06 00:00:00\n",
      "Both Curfew and Stay-at-home order active in Calabria on 2020-11-07 00:00:00\n",
      "Both Curfew and Stay-at-home order active in Calabria on 2020-11-08 00:00:00\n",
      "Both Curfew and Stay-at-home order active in Calabria on 2020-11-09 00:00:00\n",
      "Both Curfew and Stay-at-home order active in Calabria on 2020-11-10 00:00:00\n",
      "Both Curfew and Stay-at-home order active in Calabria on 2020-11-11 00:00:00\n",
      "Both Curfew and Stay-at-home order active in Calabria on 2020-11-12 00:00:00\n",
      "Both Curfew and Stay-at-home order active in Calabria on 2020-11-13 00:00:00\n",
      "Both Curfew and Stay-at-home order active in Calabria on 2020-11-14 00:00:00\n",
      "Both Curfew and Stay-at-home order active in Calabria on 2020-11-15 00:00:00\n",
      "Both Curfew and Stay-at-home order active in Calabria on 2020-11-16 00:00:00\n",
      "Both Curfew and Stay-at-home order active in Calabria on 2020-11-17 00:00:00\n",
      "Both Curfew and Stay-at-home order active in Calabria on 2020-11-18 00:00:00\n",
      "Both Curfew and Stay-at-home order active in Calabria on 2020-11-19 00:00:00\n",
      "Both Curfew and Stay-at-home order active in Calabria on 2020-11-20 00:00:00\n",
      "Both Curfew and Stay-at-home order active in Calabria on 2020-11-21 00:00:00\n",
      "Both Curfew and Stay-at-home order active in Calabria on 2020-11-22 00:00:00\n",
      "Both Curfew and Stay-at-home order active in Calabria on 2020-11-23 00:00:00\n",
      "Both Curfew and Stay-at-home order active in Calabria on 2020-11-24 00:00:00\n",
      "Both Curfew and Stay-at-home order active in Calabria on 2020-11-25 00:00:00\n",
      "Both Curfew and Stay-at-home order active in Calabria on 2020-11-26 00:00:00\n",
      "Both Curfew and Stay-at-home order active in Calabria on 2020-11-27 00:00:00\n",
      "Both Curfew and Stay-at-home order active in Calabria on 2020-11-28 00:00:00\n",
      "Both Curfew and Stay-at-home order active in Calabria on 2020-12-24 00:00:00\n",
      "Both Curfew and Stay-at-home order active in Calabria on 2020-12-25 00:00:00\n",
      "Both Curfew and Stay-at-home order active in Calabria on 2020-12-26 00:00:00\n",
      "Both Curfew and Stay-at-home order active in Calabria on 2020-12-27 00:00:00\n",
      "Both Curfew and Stay-at-home order active in Calabria on 2020-12-28 00:00:00\n",
      "Both Curfew and Stay-at-home order active in Calabria on 2020-12-29 00:00:00\n",
      "Both Curfew and Stay-at-home order active in Calabria on 2020-12-30 00:00:00\n",
      "Both Curfew and Stay-at-home order active in Calabria on 2020-12-31 00:00:00\n",
      "Both Curfew and Stay-at-home order active in Calabria on 2021-01-01 00:00:00\n",
      "Both Curfew and Stay-at-home order active in Calabria on 2021-01-02 00:00:00\n",
      "Both Curfew and Stay-at-home order active in Calabria on 2021-01-03 00:00:00\n",
      "Both Curfew and Stay-at-home order active in Calabria on 2021-01-05 00:00:00\n",
      "Both Curfew and Stay-at-home order active in Calabria on 2021-01-06 00:00:00\n",
      "Both Curfew and Stay-at-home order active in Campania on 2020-11-15 00:00:00\n",
      "Both Curfew and Stay-at-home order active in Campania on 2020-11-16 00:00:00\n",
      "Both Curfew and Stay-at-home order active in Campania on 2020-11-17 00:00:00\n",
      "Both Curfew and Stay-at-home order active in Campania on 2020-11-18 00:00:00\n",
      "Both Curfew and Stay-at-home order active in Campania on 2020-11-19 00:00:00\n",
      "Both Curfew and Stay-at-home order active in Campania on 2020-11-20 00:00:00\n",
      "Both Curfew and Stay-at-home order active in Campania on 2020-11-21 00:00:00\n",
      "Both Curfew and Stay-at-home order active in Campania on 2020-11-22 00:00:00\n",
      "Both Curfew and Stay-at-home order active in Campania on 2020-11-23 00:00:00\n",
      "Both Curfew and Stay-at-home order active in Campania on 2020-11-24 00:00:00\n",
      "Both Curfew and Stay-at-home order active in Campania on 2020-11-25 00:00:00\n",
      "Both Curfew and Stay-at-home order active in Campania on 2020-11-26 00:00:00\n",
      "Both Curfew and Stay-at-home order active in Campania on 2020-11-27 00:00:00\n",
      "Both Curfew and Stay-at-home order active in Campania on 2020-11-28 00:00:00\n",
      "Both Curfew and Stay-at-home order active in Campania on 2020-11-29 00:00:00\n",
      "Both Curfew and Stay-at-home order active in Campania on 2020-11-30 00:00:00\n",
      "Both Curfew and Stay-at-home order active in Campania on 2020-12-01 00:00:00\n",
      "Both Curfew and Stay-at-home order active in Campania on 2020-12-02 00:00:00\n",
      "Both Curfew and Stay-at-home order active in Campania on 2020-12-03 00:00:00\n",
      "Both Curfew and Stay-at-home order active in Campania on 2020-12-04 00:00:00\n",
      "Both Curfew and Stay-at-home order active in Campania on 2020-12-05 00:00:00\n",
      "Both Curfew and Stay-at-home order active in Campania on 2020-12-06 00:00:00\n",
      "Both Curfew and Stay-at-home order active in Campania on 2020-12-24 00:00:00\n",
      "Both Curfew and Stay-at-home order active in Campania on 2020-12-25 00:00:00\n",
      "Both Curfew and Stay-at-home order active in Campania on 2020-12-26 00:00:00\n",
      "Both Curfew and Stay-at-home order active in Campania on 2020-12-27 00:00:00\n",
      "Both Curfew and Stay-at-home order active in Campania on 2020-12-28 00:00:00\n",
      "Both Curfew and Stay-at-home order active in Campania on 2020-12-29 00:00:00\n",
      "Both Curfew and Stay-at-home order active in Campania on 2020-12-30 00:00:00\n",
      "Both Curfew and Stay-at-home order active in Campania on 2020-12-31 00:00:00\n",
      "Both Curfew and Stay-at-home order active in Campania on 2021-01-01 00:00:00\n",
      "Both Curfew and Stay-at-home order active in Campania on 2021-01-02 00:00:00\n",
      "Both Curfew and Stay-at-home order active in Campania on 2021-01-03 00:00:00\n",
      "Both Curfew and Stay-at-home order active in Campania on 2021-01-05 00:00:00\n",
      "Both Curfew and Stay-at-home order active in Campania on 2021-01-06 00:00:00\n",
      "Both Curfew and Stay-at-home order active in Emilia-Romagna on 2020-12-24 00:00:00\n",
      "Both Curfew and Stay-at-home order active in Emilia-Romagna on 2020-12-25 00:00:00\n",
      "Both Curfew and Stay-at-home order active in Emilia-Romagna on 2020-12-26 00:00:00\n",
      "Both Curfew and Stay-at-home order active in Emilia-Romagna on 2020-12-27 00:00:00\n",
      "Both Curfew and Stay-at-home order active in Emilia-Romagna on 2020-12-28 00:00:00\n",
      "Both Curfew and Stay-at-home order active in Emilia-Romagna on 2020-12-29 00:00:00\n",
      "Both Curfew and Stay-at-home order active in Emilia-Romagna on 2020-12-30 00:00:00\n",
      "Both Curfew and Stay-at-home order active in Emilia-Romagna on 2020-12-31 00:00:00\n",
      "Both Curfew and Stay-at-home order active in Emilia-Romagna on 2021-01-01 00:00:00\n",
      "Both Curfew and Stay-at-home order active in Emilia-Romagna on 2021-01-02 00:00:00\n",
      "Both Curfew and Stay-at-home order active in Emilia-Romagna on 2021-01-03 00:00:00\n",
      "Both Curfew and Stay-at-home order active in Emilia-Romagna on 2021-01-05 00:00:00\n",
      "Both Curfew and Stay-at-home order active in Emilia-Romagna on 2021-01-06 00:00:00\n",
      "Both Curfew and Stay-at-home order active in Friuli-Venezia Giulia on 2020-12-24 00:00:00\n",
      "Both Curfew and Stay-at-home order active in Friuli-Venezia Giulia on 2020-12-25 00:00:00\n",
      "Both Curfew and Stay-at-home order active in Friuli-Venezia Giulia on 2020-12-26 00:00:00\n",
      "Both Curfew and Stay-at-home order active in Friuli-Venezia Giulia on 2020-12-27 00:00:00\n",
      "Both Curfew and Stay-at-home order active in Friuli-Venezia Giulia on 2020-12-28 00:00:00\n",
      "Both Curfew and Stay-at-home order active in Friuli-Venezia Giulia on 2020-12-29 00:00:00\n",
      "Both Curfew and Stay-at-home order active in Friuli-Venezia Giulia on 2020-12-30 00:00:00\n",
      "Both Curfew and Stay-at-home order active in Friuli-Venezia Giulia on 2020-12-31 00:00:00\n",
      "Both Curfew and Stay-at-home order active in Friuli-Venezia Giulia on 2021-01-01 00:00:00\n",
      "Both Curfew and Stay-at-home order active in Friuli-Venezia Giulia on 2021-01-02 00:00:00\n",
      "Both Curfew and Stay-at-home order active in Friuli-Venezia Giulia on 2021-01-03 00:00:00\n",
      "Both Curfew and Stay-at-home order active in Friuli-Venezia Giulia on 2021-01-05 00:00:00\n",
      "Both Curfew and Stay-at-home order active in Friuli-Venezia Giulia on 2021-01-06 00:00:00\n",
      "Both Curfew and Stay-at-home order active in Lazio on 2020-12-24 00:00:00\n",
      "Both Curfew and Stay-at-home order active in Lazio on 2020-12-25 00:00:00\n",
      "Both Curfew and Stay-at-home order active in Lazio on 2020-12-26 00:00:00\n",
      "Both Curfew and Stay-at-home order active in Lazio on 2020-12-27 00:00:00\n",
      "Both Curfew and Stay-at-home order active in Lazio on 2020-12-28 00:00:00\n",
      "Both Curfew and Stay-at-home order active in Lazio on 2020-12-29 00:00:00\n",
      "Both Curfew and Stay-at-home order active in Lazio on 2020-12-30 00:00:00\n",
      "Both Curfew and Stay-at-home order active in Lazio on 2020-12-31 00:00:00\n",
      "Both Curfew and Stay-at-home order active in Lazio on 2021-01-01 00:00:00\n",
      "Both Curfew and Stay-at-home order active in Lazio on 2021-01-02 00:00:00\n",
      "Both Curfew and Stay-at-home order active in Lazio on 2021-01-03 00:00:00\n",
      "Both Curfew and Stay-at-home order active in Lazio on 2021-01-05 00:00:00\n",
      "Both Curfew and Stay-at-home order active in Lazio on 2021-01-06 00:00:00\n",
      "Both Curfew and Stay-at-home order active in Liguria  on 2020-12-24 00:00:00\n",
      "Both Curfew and Stay-at-home order active in Liguria  on 2020-12-25 00:00:00\n",
      "Both Curfew and Stay-at-home order active in Liguria  on 2020-12-26 00:00:00\n",
      "Both Curfew and Stay-at-home order active in Liguria  on 2020-12-27 00:00:00\n",
      "Both Curfew and Stay-at-home order active in Liguria  on 2020-12-28 00:00:00\n",
      "Both Curfew and Stay-at-home order active in Liguria  on 2020-12-29 00:00:00\n",
      "Both Curfew and Stay-at-home order active in Liguria  on 2020-12-30 00:00:00\n",
      "Both Curfew and Stay-at-home order active in Liguria  on 2020-12-31 00:00:00\n",
      "Both Curfew and Stay-at-home order active in Liguria  on 2021-01-01 00:00:00\n",
      "Both Curfew and Stay-at-home order active in Liguria  on 2021-01-02 00:00:00\n",
      "Both Curfew and Stay-at-home order active in Liguria  on 2021-01-03 00:00:00\n",
      "Both Curfew and Stay-at-home order active in Liguria  on 2021-01-05 00:00:00\n",
      "Both Curfew and Stay-at-home order active in Liguria  on 2021-01-06 00:00:00\n",
      "Both Curfew and Stay-at-home order active in Lombardy on 2020-11-06 00:00:00\n",
      "Both Curfew and Stay-at-home order active in Lombardy on 2020-11-07 00:00:00\n",
      "Both Curfew and Stay-at-home order active in Lombardy on 2020-11-08 00:00:00\n",
      "Both Curfew and Stay-at-home order active in Lombardy on 2020-11-09 00:00:00\n",
      "Both Curfew and Stay-at-home order active in Lombardy on 2020-11-10 00:00:00\n",
      "Both Curfew and Stay-at-home order active in Lombardy on 2020-11-11 00:00:00\n",
      "Both Curfew and Stay-at-home order active in Lombardy on 2020-11-12 00:00:00\n",
      "Both Curfew and Stay-at-home order active in Lombardy on 2020-11-13 00:00:00\n",
      "Both Curfew and Stay-at-home order active in Lombardy on 2020-11-14 00:00:00\n",
      "Both Curfew and Stay-at-home order active in Lombardy on 2020-11-15 00:00:00\n",
      "Both Curfew and Stay-at-home order active in Lombardy on 2020-11-16 00:00:00\n",
      "Both Curfew and Stay-at-home order active in Lombardy on 2020-11-17 00:00:00\n",
      "Both Curfew and Stay-at-home order active in Lombardy on 2020-11-18 00:00:00\n",
      "Both Curfew and Stay-at-home order active in Lombardy on 2020-11-19 00:00:00\n",
      "Both Curfew and Stay-at-home order active in Lombardy on 2020-11-20 00:00:00\n",
      "Both Curfew and Stay-at-home order active in Lombardy on 2020-11-21 00:00:00\n",
      "Both Curfew and Stay-at-home order active in Lombardy on 2020-11-22 00:00:00\n",
      "Both Curfew and Stay-at-home order active in Lombardy on 2020-11-23 00:00:00\n",
      "Both Curfew and Stay-at-home order active in Lombardy on 2020-11-24 00:00:00\n",
      "Both Curfew and Stay-at-home order active in Lombardy on 2020-11-25 00:00:00\n",
      "Both Curfew and Stay-at-home order active in Lombardy on 2020-11-26 00:00:00\n",
      "Both Curfew and Stay-at-home order active in Lombardy on 2020-11-27 00:00:00\n",
      "Both Curfew and Stay-at-home order active in Lombardy on 2020-11-28 00:00:00\n",
      "Both Curfew and Stay-at-home order active in Lombardy on 2020-12-24 00:00:00\n",
      "Both Curfew and Stay-at-home order active in Lombardy on 2020-12-25 00:00:00\n",
      "Both Curfew and Stay-at-home order active in Lombardy on 2020-12-26 00:00:00\n",
      "Both Curfew and Stay-at-home order active in Lombardy on 2020-12-27 00:00:00\n",
      "Both Curfew and Stay-at-home order active in Lombardy on 2020-12-28 00:00:00\n",
      "Both Curfew and Stay-at-home order active in Lombardy on 2020-12-29 00:00:00\n",
      "Both Curfew and Stay-at-home order active in Lombardy on 2020-12-30 00:00:00\n",
      "Both Curfew and Stay-at-home order active in Lombardy on 2020-12-31 00:00:00\n",
      "Both Curfew and Stay-at-home order active in Lombardy on 2021-01-01 00:00:00\n",
      "Both Curfew and Stay-at-home order active in Lombardy on 2021-01-02 00:00:00\n",
      "Both Curfew and Stay-at-home order active in Lombardy on 2021-01-03 00:00:00\n",
      "Both Curfew and Stay-at-home order active in Lombardy on 2021-01-05 00:00:00\n",
      "Both Curfew and Stay-at-home order active in Lombardy on 2021-01-06 00:00:00\n",
      "Both Curfew and Stay-at-home order active in Marche on 2020-12-24 00:00:00\n",
      "Both Curfew and Stay-at-home order active in Marche on 2020-12-25 00:00:00\n",
      "Both Curfew and Stay-at-home order active in Marche on 2020-12-26 00:00:00\n",
      "Both Curfew and Stay-at-home order active in Marche on 2020-12-27 00:00:00\n",
      "Both Curfew and Stay-at-home order active in Marche on 2020-12-28 00:00:00\n",
      "Both Curfew and Stay-at-home order active in Marche on 2020-12-29 00:00:00\n",
      "Both Curfew and Stay-at-home order active in Marche on 2020-12-30 00:00:00\n",
      "Both Curfew and Stay-at-home order active in Marche on 2020-12-31 00:00:00\n",
      "Both Curfew and Stay-at-home order active in Marche on 2021-01-01 00:00:00\n",
      "Both Curfew and Stay-at-home order active in Marche on 2021-01-02 00:00:00\n",
      "Both Curfew and Stay-at-home order active in Marche on 2021-01-03 00:00:00\n",
      "Both Curfew and Stay-at-home order active in Marche on 2021-01-05 00:00:00\n",
      "Both Curfew and Stay-at-home order active in Marche on 2021-01-06 00:00:00\n",
      "Both Curfew and Stay-at-home order active in Molise on 2020-12-24 00:00:00\n",
      "Both Curfew and Stay-at-home order active in Molise on 2020-12-25 00:00:00\n",
      "Both Curfew and Stay-at-home order active in Molise on 2020-12-26 00:00:00\n",
      "Both Curfew and Stay-at-home order active in Molise on 2020-12-27 00:00:00\n",
      "Both Curfew and Stay-at-home order active in Molise on 2020-12-28 00:00:00\n",
      "Both Curfew and Stay-at-home order active in Molise on 2020-12-29 00:00:00\n",
      "Both Curfew and Stay-at-home order active in Molise on 2020-12-30 00:00:00\n",
      "Both Curfew and Stay-at-home order active in Molise on 2020-12-31 00:00:00\n",
      "Both Curfew and Stay-at-home order active in Molise on 2021-01-01 00:00:00\n",
      "Both Curfew and Stay-at-home order active in Molise on 2021-01-02 00:00:00\n",
      "Both Curfew and Stay-at-home order active in Molise on 2021-01-03 00:00:00\n",
      "Both Curfew and Stay-at-home order active in Molise on 2021-01-05 00:00:00\n",
      "Both Curfew and Stay-at-home order active in Molise on 2021-01-06 00:00:00\n",
      "Both Curfew and Stay-at-home order active in Piedmont on 2020-11-06 00:00:00\n",
      "Both Curfew and Stay-at-home order active in Piedmont on 2020-11-07 00:00:00\n",
      "Both Curfew and Stay-at-home order active in Piedmont on 2020-11-08 00:00:00\n",
      "Both Curfew and Stay-at-home order active in Piedmont on 2020-11-09 00:00:00\n",
      "Both Curfew and Stay-at-home order active in Piedmont on 2020-11-10 00:00:00\n",
      "Both Curfew and Stay-at-home order active in Piedmont on 2020-11-11 00:00:00\n",
      "Both Curfew and Stay-at-home order active in Piedmont on 2020-11-12 00:00:00\n",
      "Both Curfew and Stay-at-home order active in Piedmont on 2020-11-13 00:00:00\n",
      "Both Curfew and Stay-at-home order active in Piedmont on 2020-11-14 00:00:00\n",
      "Both Curfew and Stay-at-home order active in Piedmont on 2020-11-15 00:00:00\n",
      "Both Curfew and Stay-at-home order active in Piedmont on 2020-11-16 00:00:00\n",
      "Both Curfew and Stay-at-home order active in Piedmont on 2020-11-17 00:00:00\n",
      "Both Curfew and Stay-at-home order active in Piedmont on 2020-11-18 00:00:00\n",
      "Both Curfew and Stay-at-home order active in Piedmont on 2020-11-19 00:00:00\n",
      "Both Curfew and Stay-at-home order active in Piedmont on 2020-11-20 00:00:00\n",
      "Both Curfew and Stay-at-home order active in Piedmont on 2020-11-21 00:00:00\n",
      "Both Curfew and Stay-at-home order active in Piedmont on 2020-11-22 00:00:00\n",
      "Both Curfew and Stay-at-home order active in Piedmont on 2020-11-23 00:00:00\n",
      "Both Curfew and Stay-at-home order active in Piedmont on 2020-11-24 00:00:00\n",
      "Both Curfew and Stay-at-home order active in Piedmont on 2020-11-25 00:00:00\n",
      "Both Curfew and Stay-at-home order active in Piedmont on 2020-11-26 00:00:00\n",
      "Both Curfew and Stay-at-home order active in Piedmont on 2020-11-27 00:00:00\n",
      "Both Curfew and Stay-at-home order active in Piedmont on 2020-11-28 00:00:00\n",
      "Both Curfew and Stay-at-home order active in Piedmont on 2020-12-24 00:00:00\n",
      "Both Curfew and Stay-at-home order active in Piedmont on 2020-12-25 00:00:00\n",
      "Both Curfew and Stay-at-home order active in Piedmont on 2020-12-26 00:00:00\n",
      "Both Curfew and Stay-at-home order active in Piedmont on 2020-12-27 00:00:00\n",
      "Both Curfew and Stay-at-home order active in Piedmont on 2020-12-28 00:00:00\n",
      "Both Curfew and Stay-at-home order active in Piedmont on 2020-12-29 00:00:00\n",
      "Both Curfew and Stay-at-home order active in Piedmont on 2020-12-30 00:00:00\n",
      "Both Curfew and Stay-at-home order active in Piedmont on 2020-12-31 00:00:00\n",
      "Both Curfew and Stay-at-home order active in Piedmont on 2021-01-01 00:00:00\n",
      "Both Curfew and Stay-at-home order active in Piedmont on 2021-01-02 00:00:00\n",
      "Both Curfew and Stay-at-home order active in Piedmont on 2021-01-03 00:00:00\n",
      "Both Curfew and Stay-at-home order active in Piedmont on 2021-01-05 00:00:00\n",
      "Both Curfew and Stay-at-home order active in Piedmont on 2021-01-06 00:00:00\n",
      "Both Curfew and Stay-at-home order active in Sardinia on 2020-12-24 00:00:00\n",
      "Both Curfew and Stay-at-home order active in Sardinia on 2020-12-25 00:00:00\n",
      "Both Curfew and Stay-at-home order active in Sardinia on 2020-12-26 00:00:00\n",
      "Both Curfew and Stay-at-home order active in Sardinia on 2020-12-27 00:00:00\n",
      "Both Curfew and Stay-at-home order active in Sardinia on 2020-12-28 00:00:00\n",
      "Both Curfew and Stay-at-home order active in Sardinia on 2020-12-29 00:00:00\n",
      "Both Curfew and Stay-at-home order active in Sardinia on 2020-12-30 00:00:00\n",
      "Both Curfew and Stay-at-home order active in Sardinia on 2020-12-31 00:00:00\n",
      "Both Curfew and Stay-at-home order active in Sardinia on 2021-01-01 00:00:00\n",
      "Both Curfew and Stay-at-home order active in Sardinia on 2021-01-02 00:00:00\n",
      "Both Curfew and Stay-at-home order active in Sardinia on 2021-01-03 00:00:00\n",
      "Both Curfew and Stay-at-home order active in Sardinia on 2021-01-05 00:00:00\n",
      "Both Curfew and Stay-at-home order active in Sardinia on 2021-01-06 00:00:00\n",
      "Both Curfew and Stay-at-home order active in Sicily on 2020-12-24 00:00:00\n",
      "Both Curfew and Stay-at-home order active in Sicily on 2020-12-25 00:00:00\n",
      "Both Curfew and Stay-at-home order active in Sicily on 2020-12-26 00:00:00\n",
      "Both Curfew and Stay-at-home order active in Sicily on 2020-12-27 00:00:00\n",
      "Both Curfew and Stay-at-home order active in Sicily on 2020-12-28 00:00:00\n",
      "Both Curfew and Stay-at-home order active in Sicily on 2020-12-29 00:00:00\n",
      "Both Curfew and Stay-at-home order active in Sicily on 2020-12-30 00:00:00\n",
      "Both Curfew and Stay-at-home order active in Sicily on 2020-12-31 00:00:00\n",
      "Both Curfew and Stay-at-home order active in Sicily on 2021-01-01 00:00:00\n",
      "Both Curfew and Stay-at-home order active in Sicily on 2021-01-02 00:00:00\n",
      "Both Curfew and Stay-at-home order active in Sicily on 2021-01-03 00:00:00\n",
      "Both Curfew and Stay-at-home order active in Sicily on 2021-01-05 00:00:00\n",
      "Both Curfew and Stay-at-home order active in Sicily on 2021-01-06 00:00:00\n",
      "Both Curfew and Stay-at-home order active in Trentino (aka Trento) on 2020-12-24 00:00:00\n",
      "Both Curfew and Stay-at-home order active in Trentino (aka Trento) on 2020-12-25 00:00:00\n",
      "Both Curfew and Stay-at-home order active in Trentino (aka Trento) on 2020-12-26 00:00:00\n",
      "Both Curfew and Stay-at-home order active in Trentino (aka Trento) on 2020-12-27 00:00:00\n",
      "Both Curfew and Stay-at-home order active in Trentino (aka Trento) on 2020-12-28 00:00:00\n",
      "Both Curfew and Stay-at-home order active in Trentino (aka Trento) on 2020-12-29 00:00:00\n",
      "Both Curfew and Stay-at-home order active in Trentino (aka Trento) on 2020-12-30 00:00:00\n",
      "Both Curfew and Stay-at-home order active in Trentino (aka Trento) on 2020-12-31 00:00:00\n",
      "Both Curfew and Stay-at-home order active in Trentino (aka Trento) on 2021-01-01 00:00:00\n",
      "Both Curfew and Stay-at-home order active in Trentino (aka Trento) on 2021-01-02 00:00:00\n",
      "Both Curfew and Stay-at-home order active in Trentino (aka Trento) on 2021-01-03 00:00:00\n",
      "Both Curfew and Stay-at-home order active in Trentino (aka Trento) on 2021-01-05 00:00:00\n",
      "Both Curfew and Stay-at-home order active in Trentino (aka Trento) on 2021-01-06 00:00:00\n",
      "Both Curfew and Stay-at-home order active in South Tyrol (aka Bolzano aka Alto-Adige) on 2020-11-06 00:00:00\n",
      "Both Curfew and Stay-at-home order active in South Tyrol (aka Bolzano aka Alto-Adige) on 2020-11-07 00:00:00\n",
      "Both Curfew and Stay-at-home order active in South Tyrol (aka Bolzano aka Alto-Adige) on 2020-11-08 00:00:00\n",
      "Both Curfew and Stay-at-home order active in South Tyrol (aka Bolzano aka Alto-Adige) on 2020-11-09 00:00:00\n",
      "Both Curfew and Stay-at-home order active in South Tyrol (aka Bolzano aka Alto-Adige) on 2020-11-10 00:00:00\n",
      "Both Curfew and Stay-at-home order active in South Tyrol (aka Bolzano aka Alto-Adige) on 2020-11-11 00:00:00\n",
      "Both Curfew and Stay-at-home order active in South Tyrol (aka Bolzano aka Alto-Adige) on 2020-11-12 00:00:00\n",
      "Both Curfew and Stay-at-home order active in South Tyrol (aka Bolzano aka Alto-Adige) on 2020-11-13 00:00:00\n",
      "Both Curfew and Stay-at-home order active in South Tyrol (aka Bolzano aka Alto-Adige) on 2020-11-14 00:00:00\n",
      "Both Curfew and Stay-at-home order active in South Tyrol (aka Bolzano aka Alto-Adige) on 2020-11-15 00:00:00\n",
      "Both Curfew and Stay-at-home order active in South Tyrol (aka Bolzano aka Alto-Adige) on 2020-11-16 00:00:00\n",
      "Both Curfew and Stay-at-home order active in South Tyrol (aka Bolzano aka Alto-Adige) on 2020-11-17 00:00:00\n",
      "Both Curfew and Stay-at-home order active in South Tyrol (aka Bolzano aka Alto-Adige) on 2020-11-18 00:00:00\n",
      "Both Curfew and Stay-at-home order active in South Tyrol (aka Bolzano aka Alto-Adige) on 2020-11-19 00:00:00\n",
      "Both Curfew and Stay-at-home order active in South Tyrol (aka Bolzano aka Alto-Adige) on 2020-11-20 00:00:00\n",
      "Both Curfew and Stay-at-home order active in South Tyrol (aka Bolzano aka Alto-Adige) on 2020-11-21 00:00:00\n",
      "Both Curfew and Stay-at-home order active in South Tyrol (aka Bolzano aka Alto-Adige) on 2020-11-22 00:00:00\n",
      "Both Curfew and Stay-at-home order active in South Tyrol (aka Bolzano aka Alto-Adige) on 2020-11-23 00:00:00\n",
      "Both Curfew and Stay-at-home order active in South Tyrol (aka Bolzano aka Alto-Adige) on 2020-11-24 00:00:00\n",
      "Both Curfew and Stay-at-home order active in South Tyrol (aka Bolzano aka Alto-Adige) on 2020-11-25 00:00:00\n",
      "Both Curfew and Stay-at-home order active in South Tyrol (aka Bolzano aka Alto-Adige) on 2020-11-26 00:00:00\n",
      "Both Curfew and Stay-at-home order active in South Tyrol (aka Bolzano aka Alto-Adige) on 2020-11-27 00:00:00\n",
      "Both Curfew and Stay-at-home order active in South Tyrol (aka Bolzano aka Alto-Adige) on 2020-11-28 00:00:00\n",
      "Both Curfew and Stay-at-home order active in South Tyrol (aka Bolzano aka Alto-Adige) on 2020-11-29 00:00:00\n",
      "Both Curfew and Stay-at-home order active in South Tyrol (aka Bolzano aka Alto-Adige) on 2020-11-30 00:00:00\n",
      "Both Curfew and Stay-at-home order active in South Tyrol (aka Bolzano aka Alto-Adige) on 2020-12-01 00:00:00\n",
      "Both Curfew and Stay-at-home order active in South Tyrol (aka Bolzano aka Alto-Adige) on 2020-12-02 00:00:00\n",
      "Both Curfew and Stay-at-home order active in South Tyrol (aka Bolzano aka Alto-Adige) on 2020-12-03 00:00:00\n",
      "Both Curfew and Stay-at-home order active in South Tyrol (aka Bolzano aka Alto-Adige) on 2020-12-04 00:00:00\n",
      "Both Curfew and Stay-at-home order active in South Tyrol (aka Bolzano aka Alto-Adige) on 2020-12-05 00:00:00\n",
      "Both Curfew and Stay-at-home order active in South Tyrol (aka Bolzano aka Alto-Adige) on 2020-12-24 00:00:00\n",
      "Both Curfew and Stay-at-home order active in South Tyrol (aka Bolzano aka Alto-Adige) on 2020-12-25 00:00:00\n",
      "Both Curfew and Stay-at-home order active in South Tyrol (aka Bolzano aka Alto-Adige) on 2020-12-26 00:00:00\n",
      "Both Curfew and Stay-at-home order active in South Tyrol (aka Bolzano aka Alto-Adige) on 2020-12-27 00:00:00\n",
      "Both Curfew and Stay-at-home order active in South Tyrol (aka Bolzano aka Alto-Adige) on 2020-12-28 00:00:00\n",
      "Both Curfew and Stay-at-home order active in South Tyrol (aka Bolzano aka Alto-Adige) on 2020-12-29 00:00:00\n",
      "Both Curfew and Stay-at-home order active in South Tyrol (aka Bolzano aka Alto-Adige) on 2020-12-30 00:00:00\n",
      "Both Curfew and Stay-at-home order active in South Tyrol (aka Bolzano aka Alto-Adige) on 2020-12-31 00:00:00\n",
      "Both Curfew and Stay-at-home order active in South Tyrol (aka Bolzano aka Alto-Adige) on 2021-01-01 00:00:00\n",
      "Both Curfew and Stay-at-home order active in South Tyrol (aka Bolzano aka Alto-Adige) on 2021-01-02 00:00:00\n",
      "Both Curfew and Stay-at-home order active in South Tyrol (aka Bolzano aka Alto-Adige) on 2021-01-03 00:00:00\n",
      "Both Curfew and Stay-at-home order active in South Tyrol (aka Bolzano aka Alto-Adige) on 2021-01-05 00:00:00\n",
      "Both Curfew and Stay-at-home order active in South Tyrol (aka Bolzano aka Alto-Adige) on 2021-01-06 00:00:00\n",
      "Both Curfew and Stay-at-home order active in Tuscania  on 2020-11-15 00:00:00\n",
      "Both Curfew and Stay-at-home order active in Tuscania  on 2020-11-16 00:00:00\n",
      "Both Curfew and Stay-at-home order active in Tuscania  on 2020-11-17 00:00:00\n",
      "Both Curfew and Stay-at-home order active in Tuscania  on 2020-11-18 00:00:00\n",
      "Both Curfew and Stay-at-home order active in Tuscania  on 2020-11-19 00:00:00\n",
      "Both Curfew and Stay-at-home order active in Tuscania  on 2020-11-20 00:00:00\n",
      "Both Curfew and Stay-at-home order active in Tuscania  on 2020-11-21 00:00:00\n",
      "Both Curfew and Stay-at-home order active in Tuscania  on 2020-11-22 00:00:00\n",
      "Both Curfew and Stay-at-home order active in Tuscania  on 2020-11-23 00:00:00\n",
      "Both Curfew and Stay-at-home order active in Tuscania  on 2020-11-24 00:00:00\n",
      "Both Curfew and Stay-at-home order active in Tuscania  on 2020-11-25 00:00:00\n",
      "Both Curfew and Stay-at-home order active in Tuscania  on 2020-11-26 00:00:00\n",
      "Both Curfew and Stay-at-home order active in Tuscania  on 2020-11-27 00:00:00\n",
      "Both Curfew and Stay-at-home order active in Tuscania  on 2020-11-28 00:00:00\n",
      "Both Curfew and Stay-at-home order active in Tuscania  on 2020-11-29 00:00:00\n",
      "Both Curfew and Stay-at-home order active in Tuscania  on 2020-11-30 00:00:00\n",
      "Both Curfew and Stay-at-home order active in Tuscania  on 2020-12-01 00:00:00\n",
      "Both Curfew and Stay-at-home order active in Tuscania  on 2020-12-02 00:00:00\n",
      "Both Curfew and Stay-at-home order active in Tuscania  on 2020-12-03 00:00:00\n",
      "Both Curfew and Stay-at-home order active in Tuscania  on 2020-12-04 00:00:00\n",
      "Both Curfew and Stay-at-home order active in Tuscania  on 2020-12-05 00:00:00\n",
      "Both Curfew and Stay-at-home order active in Tuscania  on 2020-12-06 00:00:00\n",
      "Both Curfew and Stay-at-home order active in Tuscania  on 2020-12-24 00:00:00\n",
      "Both Curfew and Stay-at-home order active in Tuscania  on 2020-12-25 00:00:00\n",
      "Both Curfew and Stay-at-home order active in Tuscania  on 2020-12-26 00:00:00\n",
      "Both Curfew and Stay-at-home order active in Tuscania  on 2020-12-27 00:00:00\n",
      "Both Curfew and Stay-at-home order active in Tuscania  on 2020-12-28 00:00:00\n",
      "Both Curfew and Stay-at-home order active in Tuscania  on 2020-12-29 00:00:00\n",
      "Both Curfew and Stay-at-home order active in Tuscania  on 2020-12-30 00:00:00\n",
      "Both Curfew and Stay-at-home order active in Tuscania  on 2020-12-31 00:00:00\n",
      "Both Curfew and Stay-at-home order active in Tuscania  on 2021-01-01 00:00:00\n",
      "Both Curfew and Stay-at-home order active in Tuscania  on 2021-01-02 00:00:00\n",
      "Both Curfew and Stay-at-home order active in Tuscania  on 2021-01-03 00:00:00\n",
      "Both Curfew and Stay-at-home order active in Tuscania  on 2021-01-05 00:00:00\n",
      "Both Curfew and Stay-at-home order active in Tuscania  on 2021-01-06 00:00:00\n",
      "Both Curfew and Stay-at-home order active in Umbria on 2020-12-24 00:00:00\n",
      "Both Curfew and Stay-at-home order active in Umbria on 2020-12-25 00:00:00\n",
      "Both Curfew and Stay-at-home order active in Umbria on 2020-12-26 00:00:00\n",
      "Both Curfew and Stay-at-home order active in Umbria on 2020-12-27 00:00:00\n",
      "Both Curfew and Stay-at-home order active in Umbria on 2020-12-28 00:00:00\n",
      "Both Curfew and Stay-at-home order active in Umbria on 2020-12-29 00:00:00\n",
      "Both Curfew and Stay-at-home order active in Umbria on 2020-12-30 00:00:00\n",
      "Both Curfew and Stay-at-home order active in Umbria on 2020-12-31 00:00:00\n",
      "Both Curfew and Stay-at-home order active in Umbria on 2021-01-01 00:00:00\n",
      "Both Curfew and Stay-at-home order active in Umbria on 2021-01-02 00:00:00\n",
      "Both Curfew and Stay-at-home order active in Umbria on 2021-01-03 00:00:00\n",
      "Both Curfew and Stay-at-home order active in Umbria on 2021-01-05 00:00:00\n",
      "Both Curfew and Stay-at-home order active in Umbria on 2021-01-06 00:00:00\n",
      "Both Curfew and Stay-at-home order active in Veneto on 2020-12-24 00:00:00\n",
      "Both Curfew and Stay-at-home order active in Veneto on 2020-12-25 00:00:00\n",
      "Both Curfew and Stay-at-home order active in Veneto on 2020-12-26 00:00:00\n",
      "Both Curfew and Stay-at-home order active in Veneto on 2020-12-27 00:00:00\n",
      "Both Curfew and Stay-at-home order active in Veneto on 2020-12-28 00:00:00\n",
      "Both Curfew and Stay-at-home order active in Veneto on 2020-12-29 00:00:00\n",
      "Both Curfew and Stay-at-home order active in Veneto on 2020-12-30 00:00:00\n",
      "Both Curfew and Stay-at-home order active in Veneto on 2020-12-31 00:00:00\n",
      "Both Curfew and Stay-at-home order active in Veneto on 2021-01-01 00:00:00\n",
      "Both Curfew and Stay-at-home order active in Veneto on 2021-01-02 00:00:00\n",
      "Both Curfew and Stay-at-home order active in Veneto on 2021-01-03 00:00:00\n",
      "Both Curfew and Stay-at-home order active in Veneto on 2021-01-05 00:00:00\n",
      "Both Curfew and Stay-at-home order active in Veneto on 2021-01-06 00:00:00\n",
      "Stay at Home Order switched its activation status more than once within a period of 3 days in Abruzzo on 2021-01-03 00:00:00\n",
      "Stay at Home Order switched its activation status more than once within a period of 3 days in Abruzzo on 2021-01-04 00:00:00\n",
      "Stay at Home Order switched its activation status more than once within a period of 3 days in Abruzzo on 2021-01-05 00:00:00\n",
      "Stay at Home Order switched its activation status more than once within a period of 3 days in Aosta Valley on 2021-01-03 00:00:00\n",
      "Stay at Home Order switched its activation status more than once within a period of 3 days in Aosta Valley on 2021-01-04 00:00:00\n",
      "Stay at Home Order switched its activation status more than once within a period of 3 days in Aosta Valley on 2021-01-05 00:00:00\n",
      "Stay at Home Order switched its activation status more than once within a period of 3 days in Apulia (AKA Puglia) on 2021-01-03 00:00:00\n",
      "Stay at Home Order switched its activation status more than once within a period of 3 days in Apulia (AKA Puglia) on 2021-01-04 00:00:00\n",
      "Stay at Home Order switched its activation status more than once within a period of 3 days in Apulia (AKA Puglia) on 2021-01-05 00:00:00\n",
      "Stay at Home Order switched its activation status more than once within a period of 3 days in Basilicata on 2021-01-03 00:00:00\n",
      "Stay at Home Order switched its activation status more than once within a period of 3 days in Basilicata on 2021-01-04 00:00:00\n",
      "Stay at Home Order switched its activation status more than once within a period of 3 days in Basilicata on 2021-01-05 00:00:00\n",
      "Stay at Home Order switched its activation status more than once within a period of 3 days in Calabria on 2021-01-03 00:00:00\n",
      "Stay at Home Order switched its activation status more than once within a period of 3 days in Calabria on 2021-01-04 00:00:00\n",
      "Stay at Home Order switched its activation status more than once within a period of 3 days in Calabria on 2021-01-05 00:00:00\n",
      "Stay at Home Order switched its activation status more than once within a period of 3 days in Campania on 2021-01-03 00:00:00\n",
      "Stay at Home Order switched its activation status more than once within a period of 3 days in Campania on 2021-01-04 00:00:00\n",
      "Stay at Home Order switched its activation status more than once within a period of 3 days in Campania on 2021-01-05 00:00:00\n",
      "Stay at Home Order switched its activation status more than once within a period of 3 days in Emilia-Romagna on 2021-01-03 00:00:00\n",
      "Stay at Home Order switched its activation status more than once within a period of 3 days in Emilia-Romagna on 2021-01-04 00:00:00\n",
      "Stay at Home Order switched its activation status more than once within a period of 3 days in Emilia-Romagna on 2021-01-05 00:00:00\n",
      "Stay at Home Order switched its activation status more than once within a period of 3 days in Friuli-Venezia Giulia on 2021-01-03 00:00:00\n",
      "Stay at Home Order switched its activation status more than once within a period of 3 days in Friuli-Venezia Giulia on 2021-01-04 00:00:00\n",
      "Stay at Home Order switched its activation status more than once within a period of 3 days in Friuli-Venezia Giulia on 2021-01-05 00:00:00\n",
      "Stay at Home Order switched its activation status more than once within a period of 3 days in Lazio on 2021-01-03 00:00:00\n",
      "Stay at Home Order switched its activation status more than once within a period of 3 days in Lazio on 2021-01-04 00:00:00\n",
      "Stay at Home Order switched its activation status more than once within a period of 3 days in Lazio on 2021-01-05 00:00:00\n",
      "Stay at Home Order switched its activation status more than once within a period of 3 days in Liguria  on 2021-01-03 00:00:00\n",
      "Stay at Home Order switched its activation status more than once within a period of 3 days in Liguria  on 2021-01-04 00:00:00\n",
      "Stay at Home Order switched its activation status more than once within a period of 3 days in Liguria  on 2021-01-05 00:00:00\n",
      "Stay at Home Order switched its activation status more than once within a period of 3 days in Lombardy on 2021-01-03 00:00:00\n",
      "Stay at Home Order switched its activation status more than once within a period of 3 days in Lombardy on 2021-01-04 00:00:00\n",
      "Stay at Home Order switched its activation status more than once within a period of 3 days in Lombardy on 2021-01-05 00:00:00\n",
      "Stay at Home Order switched its activation status more than once within a period of 3 days in Marche on 2021-01-03 00:00:00\n",
      "Stay at Home Order switched its activation status more than once within a period of 3 days in Marche on 2021-01-04 00:00:00\n",
      "Stay at Home Order switched its activation status more than once within a period of 3 days in Marche on 2021-01-05 00:00:00\n",
      "Stay at Home Order switched its activation status more than once within a period of 3 days in Molise on 2021-01-03 00:00:00\n",
      "Stay at Home Order switched its activation status more than once within a period of 3 days in Molise on 2021-01-04 00:00:00\n",
      "Stay at Home Order switched its activation status more than once within a period of 3 days in Molise on 2021-01-05 00:00:00\n",
      "Stay at Home Order switched its activation status more than once within a period of 3 days in Piedmont on 2021-01-03 00:00:00\n",
      "Stay at Home Order switched its activation status more than once within a period of 3 days in Piedmont on 2021-01-04 00:00:00\n",
      "Stay at Home Order switched its activation status more than once within a period of 3 days in Piedmont on 2021-01-05 00:00:00\n",
      "Stay at Home Order switched its activation status more than once within a period of 3 days in Sardinia on 2021-01-03 00:00:00\n",
      "Stay at Home Order switched its activation status more than once within a period of 3 days in Sardinia on 2021-01-04 00:00:00\n",
      "Stay at Home Order switched its activation status more than once within a period of 3 days in Sardinia on 2021-01-05 00:00:00\n",
      "Stay at Home Order switched its activation status more than once within a period of 3 days in Sicily on 2021-01-03 00:00:00\n",
      "Stay at Home Order switched its activation status more than once within a period of 3 days in Sicily on 2021-01-04 00:00:00\n",
      "Stay at Home Order switched its activation status more than once within a period of 3 days in Sicily on 2021-01-05 00:00:00\n",
      "Stay at Home Order switched its activation status more than once within a period of 3 days in Trentino (aka Trento) on 2021-01-03 00:00:00\n",
      "Stay at Home Order switched its activation status more than once within a period of 3 days in Trentino (aka Trento) on 2021-01-04 00:00:00\n",
      "Stay at Home Order switched its activation status more than once within a period of 3 days in Trentino (aka Trento) on 2021-01-05 00:00:00\n",
      "Stay at Home Order switched its activation status more than once within a period of 3 days in South Tyrol (aka Bolzano aka Alto-Adige) on 2021-01-03 00:00:00\n",
      "Stay at Home Order switched its activation status more than once within a period of 3 days in South Tyrol (aka Bolzano aka Alto-Adige) on 2021-01-04 00:00:00\n",
      "Stay at Home Order switched its activation status more than once within a period of 3 days in South Tyrol (aka Bolzano aka Alto-Adige) on 2021-01-05 00:00:00\n",
      "Stay at Home Order switched its activation status more than once within a period of 3 days in Tuscania  on 2021-01-03 00:00:00\n",
      "Stay at Home Order switched its activation status more than once within a period of 3 days in Tuscania  on 2021-01-04 00:00:00\n",
      "Stay at Home Order switched its activation status more than once within a period of 3 days in Tuscania  on 2021-01-05 00:00:00\n",
      "Stay at Home Order switched its activation status more than once within a period of 3 days in Umbria on 2021-01-03 00:00:00\n",
      "Stay at Home Order switched its activation status more than once within a period of 3 days in Umbria on 2021-01-04 00:00:00\n",
      "Stay at Home Order switched its activation status more than once within a period of 3 days in Umbria on 2021-01-05 00:00:00\n",
      "Stay at Home Order switched its activation status more than once within a period of 3 days in Veneto on 2021-01-03 00:00:00\n",
      "Stay at Home Order switched its activation status more than once within a period of 3 days in Veneto on 2021-01-04 00:00:00\n",
      "Stay at Home Order switched its activation status more than once within a period of 3 days in Veneto on 2021-01-05 00:00:00\n"
     ]
    }
   ],
   "source": [
    "perform_sanity_checks('Italy', it_Rs, Ds, 3, plots=False)"
   ],
   "metadata": {
    "collapsed": false,
    "pycharm": {
     "name": "#%%\n"
    }
   }
  },
  {
   "cell_type": "markdown",
   "source": [
    "## Czech"
   ],
   "metadata": {
    "collapsed": false,
    "pycharm": {
     "name": "#%% md\n"
    }
   }
  },
  {
   "cell_type": "code",
   "execution_count": 103,
   "outputs": [],
   "source": [
    "perform_sanity_checks('Czech', cz_Rs, Ds, 3, plots=False)"
   ],
   "metadata": {
    "collapsed": false,
    "pycharm": {
     "name": "#%%\n"
    }
   }
  },
  {
   "cell_type": "markdown",
   "source": [
    "## Switzerland"
   ],
   "metadata": {
    "collapsed": false
   }
  },
  {
   "cell_type": "code",
   "execution_count": 106,
   "outputs": [
    {
     "name": "stdout",
     "output_type": "stream",
     "text": [
      "Some f2f business not active but Leisure Venues Closed is active in Freiburg on 2020-10-24 00:00:00\n",
      "Some f2f business not active but Leisure Venues Closed is active in Freiburg on 2020-10-25 00:00:00\n",
      "Some f2f business not active but Leisure Venues Closed is active in Freiburg on 2020-10-26 00:00:00\n",
      "Some f2f business not active but Leisure Venues Closed is active in Freiburg on 2020-10-27 00:00:00\n",
      "All non-essential business is active but Leisure Venues Closed is not active in Genéve on 2020-08-01 00:00:00\n",
      "All non-essential business is active but Leisure Venues Closed is not active in Genéve on 2020-08-02 00:00:00\n",
      "All non-essential business is active but Leisure Venues Closed is not active in Genéve on 2020-08-03 00:00:00\n",
      "All non-essential business is active but Leisure Venues Closed is not active in Genéve on 2020-08-04 00:00:00\n",
      "All non-essential business is active but Leisure Venues Closed is not active in Genéve on 2020-08-05 00:00:00\n",
      "All non-essential business is active but Leisure Venues Closed is not active in Genéve on 2020-08-06 00:00:00\n",
      "All non-essential business is active but Leisure Venues Closed is not active in Genéve on 2020-08-07 00:00:00\n",
      "All non-essential business is active but Leisure Venues Closed is not active in Genéve on 2020-08-08 00:00:00\n",
      "All non-essential business is active but Leisure Venues Closed is not active in Genéve on 2020-08-09 00:00:00\n",
      "All non-essential business is active but Leisure Venues Closed is not active in Genéve on 2020-08-10 00:00:00\n",
      "All non-essential business is active but Leisure Venues Closed is not active in Genéve on 2020-08-11 00:00:00\n",
      "All non-essential business is active but Leisure Venues Closed is not active in Genéve on 2020-08-12 00:00:00\n",
      "All non-essential business is active but Leisure Venues Closed is not active in Genéve on 2020-08-13 00:00:00\n",
      "All non-essential business is active but Leisure Venues Closed is not active in Genéve on 2020-08-14 00:00:00\n",
      "All non-essential business is active but Leisure Venues Closed is not active in Genéve on 2020-08-15 00:00:00\n",
      "All non-essential business is active but Leisure Venues Closed is not active in Genéve on 2020-08-16 00:00:00\n",
      "All non-essential business is active but Leisure Venues Closed is not active in Genéve on 2020-08-17 00:00:00\n",
      "All non-essential business is active but Leisure Venues Closed is not active in Genéve on 2020-08-18 00:00:00\n",
      "All non-essential business is active but Leisure Venues Closed is not active in Genéve on 2020-08-19 00:00:00\n",
      "All non-essential business is active but Leisure Venues Closed is not active in Genéve on 2020-08-20 00:00:00\n",
      "All non-essential business is active but Leisure Venues Closed is not active in Genéve on 2020-08-21 00:00:00\n",
      "All non-essential business is active but Leisure Venues Closed is not active in Genéve on 2020-08-22 00:00:00\n",
      "All non-essential business is active but Leisure Venues Closed is not active in Genéve on 2020-08-23 00:00:00\n",
      "All non-essential business is active but Leisure Venues Closed is not active in Genéve on 2020-08-24 00:00:00\n",
      "All non-essential business is active but Leisure Venues Closed is not active in Genéve on 2020-08-25 00:00:00\n",
      "All non-essential business is active but Leisure Venues Closed is not active in Genéve on 2020-08-26 00:00:00\n",
      "All non-essential business is active but Leisure Venues Closed is not active in Genéve on 2020-08-27 00:00:00\n",
      "All non-essential business is active but Leisure Venues Closed is not active in Genéve on 2020-08-28 00:00:00\n",
      "All non-essential business is active but Leisure Venues Closed is not active in Genéve on 2020-08-29 00:00:00\n",
      "All non-essential business is active but Leisure Venues Closed is not active in Genéve on 2020-08-30 00:00:00\n",
      "All non-essential business is active but Leisure Venues Closed is not active in Genéve on 2020-08-31 00:00:00\n",
      "All non-essential business is active but Leisure Venues Closed is not active in Genéve on 2020-09-01 00:00:00\n",
      "All non-essential business is active but Leisure Venues Closed is not active in Genéve on 2020-09-02 00:00:00\n",
      "All non-essential business is active but Leisure Venues Closed is not active in Genéve on 2020-09-03 00:00:00\n",
      "All non-essential business is active but Leisure Venues Closed is not active in Genéve on 2020-09-04 00:00:00\n",
      "All non-essential business is active but Leisure Venues Closed is not active in Genéve on 2020-09-05 00:00:00\n",
      "All non-essential business is active but Leisure Venues Closed is not active in Genéve on 2020-09-06 00:00:00\n",
      "All non-essential business is active but Leisure Venues Closed is not active in Genéve on 2020-09-07 00:00:00\n",
      "All non-essential business is active but Leisure Venues Closed is not active in Genéve on 2020-09-08 00:00:00\n",
      "All non-essential business is active but Leisure Venues Closed is not active in Genéve on 2020-09-09 00:00:00\n",
      "All non-essential business is active but Leisure Venues Closed is not active in Genéve on 2020-09-10 00:00:00\n",
      "All non-essential business is active but Leisure Venues Closed is not active in Genéve on 2020-09-11 00:00:00\n",
      "All non-essential business is active but Leisure Venues Closed is not active in Genéve on 2020-09-12 00:00:00\n",
      "All non-essential business is active but Leisure Venues Closed is not active in Genéve on 2020-09-13 00:00:00\n",
      "All non-essential business is active but Leisure Venues Closed is not active in Genéve on 2020-09-14 00:00:00\n",
      "All non-essential business is active but Leisure Venues Closed is not active in Genéve on 2020-09-15 00:00:00\n",
      "All non-essential business is active but Leisure Venues Closed is not active in Genéve on 2020-09-16 00:00:00\n",
      "All non-essential business is active but Leisure Venues Closed is not active in Genéve on 2020-09-17 00:00:00\n",
      "All non-essential business is active but Leisure Venues Closed is not active in Genéve on 2020-09-18 00:00:00\n",
      "All non-essential business is active but Leisure Venues Closed is not active in Genéve on 2020-09-19 00:00:00\n",
      "All non-essential business is active but Leisure Venues Closed is not active in Genéve on 2020-09-20 00:00:00\n",
      "All non-essential business is active but Leisure Venues Closed is not active in Genéve on 2020-09-21 00:00:00\n",
      "All non-essential business is active but Leisure Venues Closed is not active in Genéve on 2020-09-22 00:00:00\n",
      "All non-essential business is active but Leisure Venues Closed is not active in Genéve on 2020-09-23 00:00:00\n",
      "All non-essential business is active but Leisure Venues Closed is not active in Genéve on 2020-09-24 00:00:00\n",
      "All non-essential business is active but Leisure Venues Closed is not active in Genéve on 2020-09-25 00:00:00\n",
      "All non-essential business is active but Leisure Venues Closed is not active in Genéve on 2020-09-26 00:00:00\n",
      "All non-essential business is active but Leisure Venues Closed is not active in Genéve on 2020-09-27 00:00:00\n",
      "All non-essential business is active but Leisure Venues Closed is not active in Genéve on 2020-09-28 00:00:00\n",
      "All non-essential business is active but Leisure Venues Closed is not active in Genéve on 2020-09-29 00:00:00\n",
      "All non-essential business is active but Leisure Venues Closed is not active in Genéve on 2020-09-30 00:00:00\n",
      "All non-essential business is active but Leisure Venues Closed is not active in Genéve on 2020-10-01 00:00:00\n",
      "All non-essential business is active but Leisure Venues Closed is not active in Genéve on 2020-10-02 00:00:00\n",
      "All non-essential business is active but Leisure Venues Closed is not active in Genéve on 2020-10-03 00:00:00\n",
      "All non-essential business is active but Leisure Venues Closed is not active in Genéve on 2020-10-04 00:00:00\n",
      "All non-essential business is active but Leisure Venues Closed is not active in Genéve on 2020-10-05 00:00:00\n",
      "All non-essential business is active but Leisure Venues Closed is not active in Genéve on 2020-10-06 00:00:00\n",
      "All non-essential business is active but Leisure Venues Closed is not active in Genéve on 2020-10-07 00:00:00\n",
      "All non-essential business is active but Leisure Venues Closed is not active in Genéve on 2020-10-08 00:00:00\n",
      "All non-essential business is active but Leisure Venues Closed is not active in Genéve on 2020-10-09 00:00:00\n",
      "All non-essential business is active but Leisure Venues Closed is not active in Genéve on 2020-10-10 00:00:00\n",
      "All non-essential business is active but Leisure Venues Closed is not active in Genéve on 2020-10-11 00:00:00\n",
      "All non-essential business is active but Leisure Venues Closed is not active in Genéve on 2020-10-12 00:00:00\n",
      "All non-essential business is active but Leisure Venues Closed is not active in Genéve on 2020-10-13 00:00:00\n",
      "All non-essential business is active but Leisure Venues Closed is not active in Genéve on 2020-10-14 00:00:00\n",
      "All non-essential business is active but Leisure Venues Closed is not active in Genéve on 2020-10-15 00:00:00\n",
      "All non-essential business is active but Leisure Venues Closed is not active in Genéve on 2020-10-16 00:00:00\n",
      "All non-essential business is active but Leisure Venues Closed is not active in Genéve on 2020-10-17 00:00:00\n",
      "All non-essential business is active but Leisure Venues Closed is not active in Genéve on 2020-10-18 00:00:00\n",
      "All non-essential business is active but Leisure Venues Closed is not active in Genéve on 2020-10-19 00:00:00\n",
      "All non-essential business is active but Leisure Venues Closed is not active in Genéve on 2020-10-20 00:00:00\n",
      "All non-essential business is active but Leisure Venues Closed is not active in Genéve on 2020-10-21 00:00:00\n",
      "All non-essential business is active but Leisure Venues Closed is not active in Genéve on 2020-10-22 00:00:00\n",
      "All non-essential business is active but Leisure Venues Closed is not active in Genéve on 2020-10-23 00:00:00\n",
      "All non-essential business is active but Leisure Venues Closed is not active in Genéve on 2020-10-24 00:00:00\n",
      "All non-essential business is active but Leisure Venues Closed is not active in Genéve on 2020-10-25 00:00:00\n",
      "Mandatory Mask Wearing switched its activation status more than once within a period of 3 days in Freiburg on 2020-10-15 00:00:00\n",
      "Mandatory Mask Wearing switched its activation status more than once within a period of 3 days in Freiburg on 2020-10-16 00:00:00\n"
     ]
    }
   ],
   "source": [
    "perform_sanity_checks('Switzerland', ch_Rs, Ds, 3, plots=False)"
   ],
   "metadata": {
    "collapsed": false,
    "pycharm": {
     "name": "#%%\n"
    }
   }
  },
  {
   "cell_type": "markdown",
   "source": [
    "### Investigating differences in gathering and household limits"
   ],
   "metadata": {
    "collapsed": false,
    "pycharm": {
     "name": "#%% md\n"
    }
   }
  },
  {
   "cell_type": "code",
   "execution_count": 104,
   "outputs": [],
   "source": [
    "# def plot_timeline_diffs_region(active_CMs, area_indx, Rs, Ds):\n",
    "#     for i in range(4):\n",
    "#         CM_gathering_data = active_CMs[area_indx, i, :]\n",
    "#         CM_household_data = active_CMs[area_indx, i+4, :]\n",
    "#         if list(CM_gathering_data) != list(CM_household_data):\n",
    "#             equal_rows = [i for i in range(len(list(CM_gathering_data))) if list(CM_gathering_data)[i] == list(CM_household_data)[i]]\n",
    "#             CM_gathering_data[equal_rows] = [None for i in range(len(equal_rows))]\n",
    "#             CM_household_data[equal_rows] = [None for i in range(len(equal_rows))]\n",
    "#             sns.lineplot(x=Ds, y=list(CM_gathering_data), label = f'{CMs[i]}')\n",
    "#             sns.lineplot(x=Ds, y=list(CM_household_data), label = f'{CMs[i+4]}')\n",
    "#             plt.title(f'{Rs[area_indx]}')\n",
    "#             plt.show()\n",
    "#\n",
    "# def plot_timeline_diffs(active_CMs, Rs, Ds):\n",
    "#     for R in range(len(Rs)):\n",
    "#         plot_timeline_diffs_region(active_CMs, R, Rs, Ds)\n",
    "#\n",
    "# plot_timeline_diffs(active_cms[0], uk_Rs, Ds)\n",
    "# plot_timeline_diffs(active_cms[1], at_Rs, Ds)\n",
    "# plot_timeline_diffs(active_cms[2], de_Rs, Ds)\n",
    "# plot_timeline_diffs(active_cms[3], it_Rs, Ds)\n",
    "# plot_timeline_diffs(active_cms[4], cz_Rs, Ds)\n"
   ],
   "metadata": {
    "collapsed": false,
    "pycharm": {
     "name": "#%%\n"
    }
   }
  }
 ],
 "metadata": {
  "kernelspec": {
   "name": "pycharm-d6daf54e",
   "language": "python",
   "display_name": "PyCharm (COVID19NPISecondWave)"
  },
  "language_info": {
   "codemirror_mode": {
    "name": "ipython",
    "version": 3
   },
   "file_extension": ".py",
   "mimetype": "text/x-python",
   "name": "python",
   "nbconvert_exporter": "python",
   "pygments_lexer": "ipython3",
   "version": "3.8.3"
  },
  "pycharm": {
   "stem_cell": {
    "cell_type": "raw",
    "source": [
     "\n"
    ],
    "metadata": {
     "collapsed": false
    }
   }
  }
 },
 "nbformat": 4,
 "nbformat_minor": 4
}