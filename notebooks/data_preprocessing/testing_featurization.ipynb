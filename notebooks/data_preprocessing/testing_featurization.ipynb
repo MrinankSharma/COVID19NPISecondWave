{
 "cells": [
  {
   "cell_type": "code",
   "execution_count": null,
   "metadata": {
    "pycharm": {
     "name": "#%%\n"
    }
   },
   "outputs": [],
   "source": [
    "import pandas as pd\n",
    "import numpy as np\n",
    "import seaborn as sns\n",
    "import pylab as pl\n",
    "import matplotlib.pyplot as plt\n",
    "from epimodel import preprocess_data\n"
   ]
  },
  {
   "cell_type": "code",
   "execution_count": null,
   "metadata": {
    "pycharm": {
     "name": "#%%\n"
    }
   },
   "outputs": [],
   "source": [
    "def make_features(gatherings_aggregation, gatherings_aggregation_type):\n",
    "    data = preprocess_data('../../data/all_merged_data.csv')\n",
    "    data.featurize(gatherings_aggregation = gatherings_aggregation, gatherings_aggregation_type=gatherings_aggregation_type, keep_merged_value=True)\n",
    "    return data\n",
    "\n",
    "out_in_weaker = make_features('out_in', 'weaker')\n",
    "pub_priv_weaker = make_features('pub_priv', 'weaker')\n",
    "out_in_stricter = make_features('out_in', 'stricter')\n",
    "pub_priv_stricter = make_features('pub_priv', 'stricter')\n",
    "aggregations = [out_in_weaker, out_in_stricter, pub_priv_weaker, pub_priv_stricter]\n",
    "aggregation_names = ['out_in_weaker', 'out_in_stricter','pub_priv_weaker', 'pub_priv_stricter']\n",
    "\n",
    "all_features = make_features('none', 'none')\n",
    "non_featurized = preprocess_data('../../data/all_merged_data.csv')"
   ]
  },
  {
   "cell_type": "code",
   "execution_count": null,
   "metadata": {
    "pycharm": {
     "name": "#%%\n"
    }
   },
   "outputs": [],
   "source": [
    "\n",
    "def raw_plots(region_ind, non_featurized):\n",
    "    j = 0\n",
    "    raw_CMs = [CM for CM in non_featurized.CMs if 'Limit' in CM]\n",
    "    raw_indices = np.where(np.isin(raw_CMs,non_featurized.CMs))\n",
    "\n",
    "    fig = plt.figure(figsize=((25,5)))\n",
    "    for r in list(raw_indices)[0]:\n",
    "        ax =  fig.add_subplot(2, 4, j+1)\n",
    "        limits = non_featurized.active_cms[region_ind, r, :]\n",
    "        sns.lineplot(x=non_featurized.Ds, y=list(limits), label = f'{non_featurized.CMs[r]}', ax = ax)\n",
    "        j += 1\n",
    "    pl.suptitle(f'{non_featurized.Rs[region_ind]}: Raw limit plots')\n",
    "    plt.show()\n",
    "\n",
    "def plot_aggregation(region_ind, aggregation, aggregation_name, non_featurized):\n",
    "    j = 0\n",
    "    # raw_CMs = [CM for CM in aggregation.CMs if 'Limit' in CM]\n",
    "    # print(raw_CMs)\n",
    "    # print(aggregation.CMs)\n",
    "    raw_indices = [i for i in range(len(aggregation.CMs)) if 'Limit' in aggregation.CMs[i]]\n",
    "\n",
    "    fig = plt.figure(figsize=((25,10)))\n",
    "    for r in raw_indices:\n",
    "        ax =  fig.add_subplot(4, 4, j+1)\n",
    "        limits = aggregation.active_cms[region_ind, r, :]\n",
    "        sns.lineplot(x=non_featurized.Ds, y=list(limits), label = f'{aggregation.CMs[r]}', ax = ax)\n",
    "        j += 1\n",
    "    pl.suptitle(f'{non_featurized.Rs[region_ind]} - {aggregation_name} - Binary plots', size = 12)\n",
    "    plt.show()\n",
    "\n",
    "def plot_all_features(region_ind, all_features, non_featurized):\n",
    "    j = 0\n",
    "    raw_indices = [i for i in range(len(all_features.CMs)) if 'Limit' in all_features.CMs[i]]\n",
    "\n",
    "    fig = plt.figure(figsize=((20,40)))\n",
    "    for r in raw_indices:\n",
    "        ax =  fig.add_subplot(8, 4, j+1)\n",
    "        limits = all_features.active_cms[region_ind, r, :]\n",
    "        sns.lineplot(x=non_featurized.Ds, y=list(limits), label = f'{all_features.CMs[r]}', ax = ax)\n",
    "        j += 1\n",
    "    pl.suptitle(f'All features countplots')\n",
    "    plt.show()\n",
    "\n",
    "def region_plotter(region_ind, aggregations, aggregation_names, non_featurized):\n",
    "    raw_plots(region_ind, non_featurized)\n",
    "    plot_all_features(region_ind, all_features, non_featurized)\n",
    "    for aggregation, aggregation_name in zip(aggregations, aggregation_names):\n",
    "        plot_aggregation(region_ind, aggregation, aggregation_name, non_featurized)\n",
    "\n",
    "def plot_all_aggregations(aggregations, aggregation_names, non_featurized):\n",
    "    for region_ind in range(len(non_featurized.Rs)):\n",
    "        region_plotter(region_ind, aggregations, aggregation_names, non_featurized)\n"
   ]
  },
  {
   "cell_type": "code",
   "execution_count": null,
   "metadata": {
    "pycharm": {
     "name": "#%%\n"
    }
   },
   "outputs": [],
   "source": [
    "# plot_all_aggregations(aggregations, aggregation_names, non_featurized)\n",
    "region_plotter(8, aggregations, aggregation_names, non_featurized)"
   ]
  },
  {
   "cell_type": "code",
   "execution_count": null,
   "metadata": {
    "pycharm": {
     "name": "#%%\n"
    }
   },
   "outputs": [],
   "source": [
    "def raw_plots(non_featurized):\n",
    "    j = 0\n",
    "    raw_CMs = [CM for CM in non_featurized.CMs if 'Limit' in CM]\n",
    "    raw_indices = np.where(np.isin(raw_CMs,non_featurized.CMs))\n",
    "    fig = plt.figure(figsize=((20,15)))\n",
    "    for r in list(raw_indices)[0]:\n",
    "        ax =  fig.add_subplot(2, 4, j+1)\n",
    "        ax.set(ylim=(0, 5000))\n",
    "        # limits = non_featurized.active_cms[:, r, :]\n",
    "        data = pd.DataFrame(np.reshape(non_featurized.active_cms[:, r, :], (1,-1)).T, dtype=int)\n",
    "        data.columns = [non_featurized.CMs[r]]\n",
    "        plt.xticks(rotation=70)\n",
    "        sns.countplot(x=non_featurized.CMs[r], data = data, label = f'{non_featurized.CMs[r]}', ax = ax)\n",
    "        j += 1\n",
    "    pl.suptitle(f'Raw limit plots')\n",
    "    plt.show()\n",
    "\n",
    "def plot_all_features(all_features, non_featurized):\n",
    "    j = 0\n",
    "    raw_indices = [i for i in range(len(all_features.CMs)) if 'Limit' in all_features.CMs[i]]\n",
    "\n",
    "    fig = plt.figure(figsize=((20,40)))\n",
    "    for r in raw_indices:\n",
    "        ax =  fig.add_subplot(8, 4, j+1)\n",
    "        ax.set(ylim=(0, 5000))\n",
    "        # limits = non_featurized.active_cms[:, r, :]\n",
    "        data = pd.DataFrame(np.reshape(all_features.active_cms[:, r, :], (1,-1)).T, dtype=int)\n",
    "        data.columns = [all_features.CMs[r]]\n",
    "        plt.xticks(rotation=70)\n",
    "        sns.countplot(x=all_features.CMs[r], data = data, label = f'{all_features.CMs[r]}', ax = ax)\n",
    "        j += 1\n",
    "    pl.suptitle(f'All features countplots')\n",
    "    plt.show()\n",
    "\n",
    "def plot_aggregation(aggregation, aggregation_name):\n",
    "    j = 0\n",
    "    raw_indices = [9, 15]\n",
    "\n",
    "    fig = plt.figure(figsize=((20,10)))\n",
    "    for r in raw_indices:\n",
    "        ax =  fig.add_subplot(1, 2, j+1)\n",
    "        ax.set(ylim=(0, 5000))\n",
    "        data = pd.DataFrame(np.reshape(aggregation.active_cms[:, r, :], (1,-1)).T, dtype=int)\n",
    "        data.columns = [aggregation.CMs[r]]\n",
    "        plt.xticks(rotation=70)\n",
    "        sns.countplot(x=aggregation.CMs[r], data = data, label = f'{aggregation.CMs[r]}', ax = ax)\n",
    "        j += 1\n",
    "    pl.suptitle(f'{aggregation_name} - count plots', size = 12)\n",
    "    plt.show()\n",
    "\n",
    "def total_plotter(aggregations, aggregation_names, non_featurized):\n",
    "    raw_plots(non_featurized)\n",
    "    # plot_all_features(all_features, non_featurized)\n",
    "    for aggregation, aggregation_name in zip(aggregations, aggregation_names):\n",
    "        plot_aggregation(aggregation, aggregation_name)"
   ]
  },
  {
   "cell_type": "code",
   "execution_count": null,
   "metadata": {
    "pycharm": {
     "name": "#%%\n"
    }
   },
   "outputs": [],
   "source": [
    "total_plotter(aggregations, aggregation_names, non_featurized)"
   ]
  },
  {
   "cell_type": "code",
   "execution_count": null,
   "metadata": {
    "pycharm": {
     "name": "#%%\n"
    }
   },
   "outputs": [],
   "source": [
    "aggregations[0].Rs[120:]"
   ]
  },
  {
   "cell_type": "markdown",
   "metadata": {
    "pycharm": {
     "name": "#%% md\n"
    }
   },
   "source": [
    "## Redone plots"
   ]
  },
  {
   "cell_type": "code",
   "execution_count": null,
   "metadata": {
    "pycharm": {
     "name": "#%%\n"
    }
   },
   "outputs": [],
   "source": [
    "\n",
    "def raw_plots(region_ind, non_featurized):\n",
    "    j = 0\n",
    "    raw_CMs = [CM for CM in non_featurized.CMs if 'Limit' in CM]\n",
    "    raw_indices = np.where(np.isin(raw_CMs,non_featurized.CMs))\n",
    "\n",
    "    fig = plt.figure(figsize=((25,5)))\n",
    "    for r in list(raw_indices)[0]:\n",
    "        ax =  fig.add_subplot(2, 4, j+1)\n",
    "        limits = non_featurized.active_cms[region_ind, r, :]\n",
    "        sns.lineplot(x=non_featurized.Ds, y=list(limits), label = f'{non_featurized.CMs[r]}', ax = ax)\n",
    "        j += 1\n",
    "    pl.suptitle(f'{non_featurized.Rs[region_ind]}')\n",
    "    plt.show()\n",
    "\n",
    "# want a function that plots all relevant npis from an aggregation on the given axis\n",
    "\n",
    "def plot_relevant_npis_type(ax, npi, region_ind, aggregation, aggregation_name):\n",
    "    raw_indices = [i for i in range(len(aggregation.CMs)) if aggregation.CMs[i].split(' ')[0] in npi and aggregation.CMs[i].split(' ')[1] in npi and aggregation.CMs[i].split(' ')[-1] == npi.split(' ')[-1]]\n",
    "    for r in raw_indices:\n",
    "        limits = aggregation.active_cms[region_ind, r, :]\n",
    "        if np.var(limits) > 0.01:\n",
    "            limits = limits + np.random.normal(0,0.07,1)\n",
    "        sns.lineplot(x=aggregation.Ds, y=list(limits), label = f'{aggregation_name} - {aggregation.CMs[r]}', ax = ax)\n",
    "\n",
    "def plot_all_features(region_ind, all_features, non_featurized, aggregations, aggregation_names):\n",
    "    j = 0\n",
    "    raw_indices = [i for i in range(len(all_features.CMs)) if 'Limit' in all_features.CMs[i]]\n",
    "\n",
    "    fig = plt.figure(figsize=((30,50)))\n",
    "    for r in raw_indices:\n",
    "        ax =  fig.add_subplot(8, 4, j+1)\n",
    "        limits = all_features.active_cms[region_ind, r, :]\n",
    "        # if np.var(limits) < 0.01:\n",
    "        #     gitter = False\n",
    "        # else:\n",
    "        #     gitter = True\n",
    "\n",
    "        sns.lineplot(x=non_featurized.Ds, y=list(limits), label = f'NO FEATURIZATION - {all_features.CMs[r]}', ax = ax)\n",
    "        for aggregation, agg_name in zip(aggregations, aggregation_names):\n",
    "            plot_relevant_npis_type(ax, all_features.CMs[r], region_ind, aggregation, agg_name)\n",
    "        j += 1\n",
    "    plt.show()\n",
    "\n",
    "def plot_all(all_features, non_featurized, aggregations, aggregation_names):\n",
    "    for region_ind in [6, 7, 8, 9, 10, 11, 12, 13]:\n",
    "        raw_plots(region_ind, non_featurized)\n",
    "        plot_all_features(region_ind, all_features, non_featurized, aggregations, aggregation_names)"
   ]
  },
  {
   "cell_type": "code",
   "execution_count": null,
   "metadata": {
    "pycharm": {
     "name": "#%%\n"
    }
   },
   "outputs": [],
   "source": [
    "plot_all(all_features, non_featurized, aggregations, aggregation_names)"
   ]
  }
 ],
 "metadata": {
  "kernelspec": {
   "display_name": "PyCharm (COVID19NPISecondWave)",
   "language": "python",
   "name": "pycharm-d6daf54e"
  },
  "language_info": {
   "codemirror_mode": {
    "name": "ipython",
    "version": 2
   },
   "file_extension": ".py",
   "mimetype": "text/x-python",
   "name": "python",
   "nbconvert_exporter": "python",
   "pygments_lexer": "ipython2",
   "version": "2.7.6"
  }
 },
 "nbformat": 4,
 "nbformat_minor": 0
}
