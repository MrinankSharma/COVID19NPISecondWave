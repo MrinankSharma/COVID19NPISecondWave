{
 "cells": [
  {
   "cell_type": "code",
   "execution_count": null,
   "metadata": {
    "pycharm": {
     "name": "#%%\n"
    }
   },
   "outputs": [],
   "source": [
    "import os\n",
    "import yaml\n",
    "\n",
    "def get_all_experiments(dir):\n",
    "    experiments = []\n",
    "    for subdir, dirs, files in os.walk(f'../../results/{dir}'):\n",
    "        for filename in files:\n",
    "            filepath = subdir + os.sep + filename\n",
    "            if filepath.endswith(\".yaml\"):\n",
    "                with open(filepath) as f:\n",
    "                    data = yaml.load(f, Loader=yaml.FullLoader)\n",
    "                experiments.append(data)\n",
    "    return experiments\n",
    "\n",
    "def filter_by_exp_tag(experiments, exp_tag):\n",
    "    filtered = []\n",
    "    for experiment in experiments:\n",
    "        if experiment['exp_tag'] == exp_tag:\n",
    "                    filtered.append(experiment)\n",
    "    return filtered"
   ]
  },
  {
   "cell_type": "code",
   "execution_count": null,
   "metadata": {
    "pycharm": {
     "name": "#%%\n"
    }
   },
   "outputs": [],
   "source": [
    "exp_tag_to_exp_variable = {\n",
    "    'death_delay_mean' : 'deaths_delay_mean_shift'\n",
    "}\n",
    "\n",
    "def get_exp_variables(experiments):\n",
    "    exp_vars_name = exp_tag_to_exp_variable[experiments[0]['exp_tag']]\n",
    "\n",
    "    exp_vars = []\n",
    "    for i, experiment in enumerate(experiments):\n",
    "        exp_vars.append(experiment['exp_config'][exp_vars_name])\n",
    "    return exp_vars_name, exp_vars"
   ]
  },
  {
   "cell_type": "code",
   "execution_count": null,
   "metadata": {
    "pycharm": {
     "name": "#%%\n"
    }
   },
   "outputs": [],
   "source": [
    "res_dir = 'rc_3a_cdef_drop_outdoors'\n",
    "all_experiments = get_all_experiments(res_dir)"
   ]
  },
  {
   "cell_type": "code",
   "execution_count": null,
   "metadata": {
    "pycharm": {
     "name": "#%%\n"
    }
   },
   "outputs": [],
   "source": [
    "death_delay_mean_experiments = filter_by_exp_tag(all_experiments, 'death_delay_mean')\n",
    "death_delay_name, death_delays = get_exp_variables(death_delay_mean_experiments)\n"
   ]
  },
  {
   "cell_type": "code",
   "execution_count": null,
   "metadata": {
    "pycharm": {
     "name": "#%%\n"
    }
   },
   "outputs": [],
   "source": [
    "import matplotlib.pyplot as plt\n",
    "import seaborn as sns\n",
    "import numpy as np\n",
    "\n",
    "def plot_intervention_effectiveness(\n",
    "    posterior_samples,\n",
    "    cm_names=None,\n",
    "    intervention_varname=\"alpha_i\",\n",
    "    xlim=\"auto\",\n",
    "    newfig=True,\n",
    "):\n",
    "    if newfig:\n",
    "        plt.figure(figsize=(4, 4), dpi=300)\n",
    "\n",
    "    if isinstance(posterior_samples, dict):\n",
    "        per_red = 100 * (1 - np.exp(-np.array(posterior_samples[intervention_varname])))\n",
    "    else:\n",
    "        per_red = 100 * (1 - np.exp(-np.array(posterior_samples)))\n",
    "\n",
    "    median_alpha = np.median(per_red, axis=0)\n",
    "\n",
    "    nS, nCMs = per_red.shape\n",
    "    print(nS, nCMs)\n",
    "\n",
    "    li, lq, uq, ui = np.percentile(per_red, [2.5, 25, 75, 97.5], axis=0)\n",
    "    print(li, lq, uq, ui)\n",
    "    for n in range(nCMs):\n",
    "        plt.plot([li[n], ui[n]], [-n, -n], color=\"k\", alpha=0.1)\n",
    "        plt.plot([lq[n], uq[n]], [-n, -n], color=\"k\", alpha=0.5)\n",
    "\n",
    "    plt.plot([0, 0], [0.5, -nCMs - 2], \"k--\", linewidth=0.5)\n",
    "\n",
    "    if cm_names is None:\n",
    "        cm_names = [f\"NPI {i + 1}\" for i in range(nCMs)]\n",
    "\n",
    "    assert len(cm_names) == nCMs\n",
    "\n",
    "    plt.yticks(-np.arange(len(median_alpha)), cm_names)\n",
    "    plt.scatter(median_alpha, -np.arange(len(median_alpha)), marker=\"|\", color=\"k\")\n",
    "    plt.xlabel(\"Percentage reduction in $R_t$\")\n",
    "    plt.ylim([-nCMs + 0.5, 0.5])\n",
    "\n",
    "    if xlim == \"auto\":\n",
    "        lower_xlim, upper_xlim = plt.xlim()\n",
    "        print(lower_xlim, upper_xlim)\n",
    "        lower_xlim = np.floor(lower_xlim / 25.0) * 25\n",
    "        upper_xlim = np.ceil(upper_xlim / 25.0) * 25\n",
    "        plt.xlim([lower_xlim, upper_xlim])\n",
    "    else:\n",
    "        plt.xlim(xlim)\n",
    "        lower_xlim, upper_xlim = plt.xlim()\n",
    "\n",
    "    for i in range(0, nCMs, 2):\n",
    "        plt.fill_between(\n",
    "            [lower_xlim, upper_xlim],\n",
    "            [-i + 0.5, -i + 0.5],\n",
    "            [-i - 0.5, -i - 0.5],\n",
    "            color=\"k\",\n",
    "            alpha=0.1,\n",
    "            linewidth=0,\n",
    "        )\n",
    "\n",
    "    plt.title(\"NPI Effectiveness\")"
   ]
  },
  {
   "cell_type": "code",
   "execution_count": null,
   "metadata": {
    "pycharm": {
     "name": "#%%\n"
    }
   },
   "outputs": [],
   "source": [
    "plot_intervention_effectiveness(death_delay_mean_experiments[0],\n",
    "                                cm_names=death_delay_mean_experiments[0]['cm_names'],\n",
    "                                )"
   ]
  },
  {
   "cell_type": "code",
   "execution_count": null,
   "metadata": {
    "pycharm": {
     "name": "#%%\n"
    }
   },
   "outputs": [],
   "source": [
    "def produce_ranges(per_red, intervention_varname='alpha_i'):\n",
    "\n",
    "    median_alpha = np.median(per_red, axis=0)\n",
    "    mean_alphi = np.mean(per_red, axis=0)\n",
    "\n",
    "    li, lq, uq, ui = np.percentile(per_red, [2.5, 25, 75, 97.5], axis=0)\n",
    "\n",
    "    return mean_alphi, median_alpha, li, ui, lq, uq\n",
    "\n",
    "def add_trace_to_plot(posterior_samples, y_off, col, label, alpha, width, size=8, zeros=None, derived_features=None, intervention_varname='alpha_i'):\n",
    "    if derived_features is None:\n",
    "        derived_features = posterior_samples['cm_names']\n",
    "\n",
    "    if isinstance(posterior_samples, dict):\n",
    "        per_red = 100 * (1 - np.exp(-np.array(posterior_samples[intervention_varname])))\n",
    "    else:\n",
    "        per_red = 100 * (1 - np.exp(-np.array(posterior_samples)))\n",
    "\n",
    "    nS, _ = per_red.shape\n",
    "    nF = len(derived_features)\n",
    "    # derived_samples = np.zeros((nS, nF))\n",
    "    #\n",
    "    # for f_i, (f, prodrows) in enumerate(derived_features):\n",
    "    #     samples = np.ones(nS)\n",
    "    #     for r in prodrows:\n",
    "    #         samples = samples * per_red[:, r]\n",
    "    #     derived_samples[:, f_i] = samples\n",
    "    #\n",
    "    # res = derived_samples\n",
    "    # res = 100*(1-res)\n",
    "\n",
    "    # if zeros is not None:\n",
    "    #     for z in zeros:\n",
    "    #         if z < nF:\n",
    "    #             res[:, z] = 1e5\n",
    "\n",
    "    y_vals = -1 * np.arange(nF)\n",
    "    plt.plot([100], [100], color=col, linewidth=1, alpha=alpha, label=label)\n",
    "    mn, med, li, ui, lq, uq = produce_ranges(per_red)\n",
    "    plt.scatter(med, y_vals+y_off, marker=\"|\", color=col, s=size, alpha=alpha)\n",
    "    for cm in range(nF):\n",
    "        plt.plot([li[cm], ui[cm]], [y_vals[cm]+y_off, y_vals[cm]+y_off], color=col, alpha=alpha*0.25, linewidth=width)\n",
    "        plt.plot([lq[cm], uq[cm]], [y_vals[cm]+y_off, y_vals[cm]+y_off], color=col, alpha=alpha*0.75, linewidth=width)\n",
    "\n",
    "def setup_large_plot(posterior_samples, y_ticks = True, xlabel=True, derived_features=None):\n",
    "    if derived_features is None:\n",
    "        derived_features = posterior_samples['cm_names']\n",
    "\n",
    "    nF = len(derived_features)\n",
    "    ax = plt.gca()\n",
    "    x_min = -25\n",
    "    x_max = 75\n",
    "    plt.plot([0, 0], [1, -(nF+2)], \"--k\", linewidth=0.5)\n",
    "\n",
    "    xrange = np.array([x_min, x_max])\n",
    "    for height in range(0, nF+2, 2):\n",
    "        plt.fill_between(xrange, -(height-0.5), -(height+0.5), color=\"silver\", alpha=0.5, linewidth=0)\n",
    "    xtick_vals = [-25, 0, 25, 50, 75, 100]\n",
    "    xtick_str = [f\"{x:.0f}%\" for x in xtick_vals]\n",
    "    if y_ticks:\n",
    "        plt.yticks(-np.arange(nF), [f\"{f}\" for f in derived_features], fontsize=8, ha=\"left\")\n",
    "        yax = ax.get_yaxis()\n",
    "        yax.set_tick_params(pad=210)\n",
    "\n",
    "    else:\n",
    "        plt.yticks([])\n",
    "    x_r = np.abs(x_min - x_max)\n",
    "    plt.xticks(xtick_vals, xtick_str, fontsize=8)\n",
    "    plt.xlim([x_min, x_max])\n",
    "    plt.ylim([-(nF - 0.25), 0.75])\n",
    "\n",
    "    if xlabel:\n",
    "        plt.xlabel(\"Reduction in $R_t$\\nin the context of our data\", fontsize=8)"
   ]
  },
  {
   "cell_type": "code",
   "execution_count": null,
   "metadata": {
    "pycharm": {
     "name": "#%%\n"
    }
   },
   "outputs": [],
   "source": [
    "def sort_experiments(exp_vars, experiments):\n",
    "    try:\n",
    "        new_dict = dict(sorted(dict(zip(exp_vars, experiments)).items()))\n",
    "        return list(new_dict.keys()), list(new_dict.values())\n",
    "    except:\n",
    "        return\n",
    "\n",
    "death_delays, death_delay_mean_experiments = sort_experiments(death_delays, death_delay_mean_experiments)\n"
   ]
  },
  {
   "cell_type": "code",
   "execution_count": null,
   "metadata": {
    "pycharm": {
     "name": "#%%\n"
    }
   },
   "outputs": [],
   "source": [
    "setup_large_plot(death_delay_mean_experiments[0])\n",
    "\n",
    "colors = [*sns.color_palette(\"colorblind\"), *sns.color_palette(\"dark\")]\n",
    "\n",
    "death_delay_name, death_delays = get_exp_variables(death_delay_mean_experiments)\n",
    "\n",
    "y_off = -np.linspace(-0.3, 0.3, len(death_delay_mean_experiments)+1)\n",
    "width = 1\n",
    "for i, trace in enumerate(death_delay_mean_experiments):\n",
    "    add_trace_to_plot(trace, y_off[i], colors[i], death_delays[i], 1, width)\n",
    "# add_trace_to_plot(default_res, y_off[-1], 'k', \"Default\", 1, width)\n",
    "\n",
    "plt.legend(shadow=True, fancybox=True, loc=\"upper left\", bbox_to_anchor=(0.8, 1.01), fontsize=6, title=f'{death_delay_name}', title_fontsize=8)\n",
    "plt.title(f\"{death_delay_name}\", fontsize=\"10\")\n",
    "\n",
    "\n",
    "\n",
    "\n"
   ]
  },
  {
   "cell_type": "code",
   "execution_count": null,
   "metadata": {
    "pycharm": {
     "name": "#%%\n"
    }
   },
   "outputs": [],
   "source": [
    "def plot_intervention_correlation(\n",
    "    posterior_samples,\n",
    "    cm_names=None,\n",
    "    intervention_varname=\"alpha_i\",\n",
    "    newfig=True,\n",
    "):\n",
    "    if newfig:\n",
    "        plt.figure(figsize=(3, 4.5), dpi=300)\n",
    "\n",
    "    if isinstance(posterior_samples, dict):\n",
    "        cormat = np.corrcoef(posterior_samples[intervention_varname].T)\n",
    "    else:\n",
    "        cormat = np.corrcoef(posterior_samples.T)\n",
    "\n",
    "    nCMs, _ = cormat.shape\n",
    "    if cm_names is None:\n",
    "        cm_names = [f\"NPI {i + 1}\" for i in range(nCMs)]\n",
    "\n",
    "    assert len(cm_names) == nCMs\n",
    "\n",
    "    plt.imshow(cormat, vmin=-1, vmax=1, cmap=\"PuOr\")\n",
    "    plt.colorbar()\n",
    "    plt.xticks(np.arange(nCMs), cm_names, rotation=90, fontsize=4)\n",
    "    plt.yticks(np.arange(nCMs), cm_names, fontsize=4)\n",
    "    plt.title(f\"most correlation\\n: {np.min(cormat):-.2f}\")\n",
    "\n",
    "def plot_intervention_sd(\n",
    "    posterior_samples,\n",
    "    cm_names=None,\n",
    "    sd_varname=\"sigma_i\",\n",
    "    xlim=None,\n",
    "):\n",
    "    if isinstance(posterior_samples, dict):\n",
    "        sigma = posterior_samples[sd_varname]\n",
    "    else:\n",
    "        sigma = posterior_samples\n",
    "\n",
    "    if xlim is None:\n",
    "        xlim = [0, 1]\n",
    "\n",
    "    nS, _, nCMs = sigma.shape\n",
    "    sigma = sigma.reshape((nS, nCMs))\n",
    "\n",
    "    median_alpha = np.median(sigma, axis=0)\n",
    "\n",
    "    for i in range(0, nCMs, 2):\n",
    "        plt.fill_between(\n",
    "            [-100, 100],\n",
    "            [-i + 0.5, -i + 0.5],\n",
    "            [-i - 0.5, -i - 0.5],\n",
    "            color=\"k\",\n",
    "            alpha=0.1,\n",
    "            linewidth=0,\n",
    "        )\n",
    "\n",
    "    li, lq, uq, ui = np.percentile(sigma, [2.5, 25, 75, 97.5], axis=0)\n",
    "\n",
    "    for n in range(nCMs):\n",
    "        plt.plot([li[n], ui[n]], [-n, -n], color=\"k\", alpha=0.1)\n",
    "        plt.plot([lq[n], uq[n]], [-n, -n], color=\"k\", alpha=0.5)\n",
    "\n",
    "    plt.plot([0, 0], [0.5, -nCMs - 2], \"k--\", linewidth=0.5)\n",
    "\n",
    "    if cm_names is None:\n",
    "        cm_names = [f\"NPI {i + 1}\" for i in range(nCMs)]\n",
    "\n",
    "    assert len(cm_names) == nCMs\n",
    "\n",
    "    plt.yticks(-np.arange(len(median_alpha)), cm_names)\n",
    "    plt.scatter(median_alpha, -np.arange(len(median_alpha)), marker=\"|\", color=\"k\")\n",
    "    plt.xlabel(\"Percentage reduction in $R_t$\")\n",
    "    plt.ylim([-nCMs + 0.5, 0.5])\n",
    "\n",
    "    if xlim == \"auto\":\n",
    "        lower_xlim, upper_xlim = plt.xlim()\n",
    "        lower_xlim = np.floor(lower_xlim / 25.0) * 1\n",
    "        upper_xlim = np.ceil(upper_xlim / 25.0) * 1\n",
    "        plt.xlim([lower_xlim, upper_xlim])\n",
    "    else:\n",
    "        plt.xlim(xlim)\n",
    "\n",
    "    plt.title(\"NPI Effectiveness Variability\")\n",
    "\n"
   ]
  },
  {
   "cell_type": "code",
   "execution_count": null,
   "metadata": {
    "pycharm": {
     "name": "#%%\n"
    }
   },
   "outputs": [],
   "source": [
    "grouped_npi_base = {\n",
    "    \"Some Face-to-Face Businesses Closed\": {\n",
    "        \"npis\": [\"Some Face-to-Face Businesses Closed\"],\n",
    "        \"type\": \"include\"},\n",
    "    \"Gastronomy Closed\": {\n",
    "        \"npis\": [\"Gastronomy Closed\"],\n",
    "        \"type\": \"include\"},\n",
    "    \"Leisure Venues Closed\": {\n",
    "        \"npis\": [\"Leisure Venues Closed\"],\n",
    "        \"type\": \"include\"},\n",
    "    \"All Face-to-Face Businesses Closed + Stay at Home Order\": {\n",
    "        \"npis\": [\"All Face-to-Face Businesses Closed\", \"Leisure Venues Closed\", \"Gastronomy Closed\", \"Some Face-to-Face Businesses Closed\", \"Stay at Home Order\"],\n",
    "        \"type\": \"include\"},\n",
    "    \"Curfew\": {\n",
    "        \"npis\": [\"Curfew\"],\n",
    "        \"type\": \"include\"},\n",
    "    \"Childcare Closed\": {\n",
    "        \"npis\": [\"Childcare Closed\"],\n",
    "        \"type\": \"include\"},\n",
    "    \"Schools Closed\": {\n",
    "        \"npis\": [\"Primary Schools Closed\", \"Secondary Schools Closed\"],\n",
    "        \"type\": \"include\"},\n",
    "    \"All Education Closed\": {\n",
    "        \"npis\": [\"Primary Schools Closed\", \"Secondary Schools Closed\", \"Universities Away\", \"Childcare Closed\"],\n",
    "        \"type\": \"include\"},\n",
    "    \"Universities Away\": {\n",
    "        \"npis\": [\"Universities Away\"],\n",
    "        \"type\": \"include\"},\n",
    "    \"Mandatory Mask Wearing >= 3\": {\n",
    "        \"npis\": ['Mandatory Mask Wearing >= 3'],\n",
    "        \"type\": \"include\"}\n",
    "}\n",
    "def combine_npi_samples(grouped_npis, alpha_i_samples, npi_names):\n",
    "    nS, nCMs_orig = alpha_i_samples.shape\n",
    "    CMs_new = list(grouped_npis.keys())\n",
    "    CMs_new_include = np.ones(len(CMs_new), dtype=np.bool)\n",
    "    nCMs_new = len(CMs_new)\n",
    "\n",
    "    new_samples = np.zeros((nS, nCMs_new))\n",
    "    for cm_i_new, (gnpi, sub_npilist_dict) in enumerate(grouped_npis.items()):\n",
    "        sub_npilist = sub_npilist_dict[\"npis\"]\n",
    "        add_type = sub_npilist_dict[\"type\"]\n",
    "\n",
    "        for cm in sub_npilist:\n",
    "            if cm in npi_names:\n",
    "                new_samples[:, cm_i_new] += alpha_i_samples[:, npi_names.index(cm)]\n",
    "            elif add_type == \"exclude\":\n",
    "                CMs_new_include[cm_i_new] = False\n",
    "\n",
    "    CMs_new = np.array(CMs_new)[CMs_new_include].tolist()\n",
    "    new_samples = new_samples[:, CMs_new_include]\n",
    "\n",
    "    return new_samples, CMs_new"
   ]
  },
  {
   "cell_type": "code",
   "execution_count": null,
   "metadata": {
    "pycharm": {
     "name": "#%%\n"
    }
   },
   "outputs": [],
   "source": [
    "# config = load_model_config(args.model_config)\n",
    "# pprint_mb_dict(config)\n",
    "\n",
    "from epimodel import preprocess_data\n",
    "all_merged = preprocess_data('../../data/all_merged_data.csv')\n",
    "all_merged.featurize(drop_npi_filter = res.featurize_kwargs['drop_npi_filter'])\n",
    "npi_names = all_merged.CMs"
   ]
  },
  {
   "cell_type": "code",
   "execution_count": null,
   "metadata": {
    "pycharm": {
     "name": "#%%\n"
    }
   },
   "outputs": [],
   "source": [
    "samples, newCMs = combine_npi_samples(grouped_npi_base, pd.DataFrame(res.alpha_i).T, npi_names)"
   ]
  }
 ],
 "metadata": {
  "kernelspec": {
   "display_name": "PyCharm (COVID19NPISecondWave)",
   "language": "python",
   "name": "pycharm-d6daf54e"
  },
  "language_info": {
   "codemirror_mode": {
    "name": "ipython",
    "version": 2
   },
   "file_extension": ".py",
   "mimetype": "text/x-python",
   "name": "python",
   "nbconvert_exporter": "python",
   "pygments_lexer": "ipython2",
   "version": "2.7.6"
  },
  "pycharm": {
   "stem_cell": {
    "cell_type": "raw",
    "metadata": {
     "collapsed": false
    },
    "source": [
     "\n"
    ]
   }
  }
 },
 "nbformat": 4,
 "nbformat_minor": 0
}
