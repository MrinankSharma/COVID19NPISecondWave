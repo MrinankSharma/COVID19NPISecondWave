{
 "cells": [
  {
   "cell_type": "code",
   "execution_count": null,
   "metadata": {},
   "outputs": [],
   "source": [
    "import sys\n",
    "sys.path.append(\"../\") "
   ]
  },
  {
   "cell_type": "code",
   "execution_count": null,
   "metadata": {},
   "outputs": [],
   "source": [
    "import pandas as pd\n",
    "import numpy as np"
   ]
  },
  {
   "cell_type": "code",
   "execution_count": null,
   "metadata": {},
   "outputs": [],
   "source": [
    "from epimodel.preprocessing import preprocess_data, PreprocessedData\n",
    "from epimodel.epiparam import EpidemiologicalParameters"
   ]
  },
  {
   "cell_type": "code",
   "execution_count": null,
   "metadata": {},
   "outputs": [],
   "source": [
    "from epimodel.models.giprior_complex_mixed_intervention_rw_model import giprior_complex_mixed_intervention_rw_model"
   ]
  },
  {
   "cell_type": "code",
   "execution_count": null,
   "metadata": {},
   "outputs": [],
   "source": [
    "import pickle\n",
    "\n",
    "data_pickle = pickle.load(open('uk_test_set.pkl', 'rb'))"
   ]
  },
  {
   "cell_type": "code",
   "execution_count": null,
   "metadata": {},
   "outputs": [],
   "source": [
    "data = PreprocessedData(data_pickle['regions'], data_pickle['days'], data_pickle['CMs'], data_pickle['new_cases'], data_pickle['new_deaths'], data_pickle['active_cms'])"
   ]
  },
  {
   "cell_type": "code",
   "execution_count": null,
   "metadata": {},
   "outputs": [],
   "source": [
    "data.new_cases = np.ma.array(data.new_cases)\n",
    "data.new_cases[:, :10] = np.ma.masked\n",
    "data.new_deaths = np.ma.array(data.new_deaths)\n",
    "data.new_deaths[:, :30] = np.ma.masked"
   ]
  },
  {
   "cell_type": "code",
   "execution_count": null,
   "metadata": {},
   "outputs": [],
   "source": [
    "data.la_indices = [np.arange(80)[::4], np.arange(80)[1::4], np.arange(80)[2::4], np.arange(80)[3::4]]\n",
    "data.countries = ['liverpool', 'oxford', 'cambridge', 'london']"
   ]
  },
  {
   "cell_type": "code",
   "execution_count": null,
   "metadata": {},
   "outputs": [],
   "source": [
    "ep = EpidemiologicalParameters()"
   ]
  },
  {
   "cell_type": "code",
   "execution_count": null,
   "metadata": {},
   "outputs": [],
   "source": [
    "import matplotlib.pyplot as plt"
   ]
  },
  {
   "cell_type": "code",
   "execution_count": null,
   "metadata": {},
   "outputs": [],
   "source": [
    "import numpyro\n",
    "from numpyro.infer import MCMC, NUTS, Predictive\n",
    "import numpyro.distributions as dist\n",
    "from jax import random\n",
    "import jax.numpy as jnp\n",
    "import jax.scipy.signal as jss\n",
    "\n",
    "import jax\n",
    "\n",
    "import numpy as np\n",
    "import matplotlib.pyplot as plt\n",
    "import seaborn as sns"
   ]
  },
  {
   "cell_type": "code",
   "execution_count": null,
   "metadata": {},
   "outputs": [],
   "source": [
    "import time "
   ]
  },
  {
   "cell_type": "code",
   "execution_count": null,
   "metadata": {},
   "outputs": [],
   "source": [
    "from numpyro.infer import init_to_median\n",
    "nuts_kernel = NUTS(giprior_complex_mixed_intervention_rw_model, init_strategy = init_to_median)\n",
    "\n",
    "mcmc = MCMC(nuts_kernel, num_samples=500, num_warmup=500, num_chains=1)\n",
    "rng_key = random.PRNGKey(0)\n",
    "\n",
    "start = time.time()\n",
    "\n",
    "with numpyro.validation_enabled():\n",
    "    res = mcmc.run(rng_key, data, ep)\n",
    "    \n",
    "end = time.time()\n",
    "\n",
    "posterior_samples = mcmc.get_samples(np.array([0]))\n",
    "\n",
    "print(f'Sampling 1000 samples per chain took {end - start}')"
   ]
  },
  {
   "cell_type": "markdown",
   "metadata": {},
   "source": [
    "# Notes on implementation:\n",
    "\n",
    "* includes uncertainty in the Generation Interval with a discrete renewal model!\n",
    "* compile time was slow! took about 4 minutes to compile into XLA - might be worth looking into reusing this if need be, if that can be done.\n",
    "* i think I could switch to numpyro plate, or similar?\n",
    "* once it gets going it does a bit better :) "
   ]
  },
  {
   "cell_type": "code",
   "execution_count": null,
   "metadata": {},
   "outputs": [],
   "source": [
    "import arviz as az"
   ]
  },
  {
   "cell_type": "code",
   "execution_count": null,
   "metadata": {},
   "outputs": [],
   "source": [
    "inference_data = az.from_numpyro(mcmc)"
   ]
  },
  {
   "cell_type": "code",
   "execution_count": null,
   "metadata": {},
   "outputs": [],
   "source": []
  },
  {
   "cell_type": "code",
   "execution_count": null,
   "metadata": {},
   "outputs": [],
   "source": [
    "inference_data.sample_stats.diverging.data.sum()"
   ]
  },
  {
   "cell_type": "code",
   "execution_count": null,
   "metadata": {},
   "outputs": [],
   "source": [
    "%load_ext autoreload \n",
    "\n",
    "%autoreload 2"
   ]
  },
  {
   "cell_type": "code",
   "execution_count": null,
   "metadata": {},
   "outputs": [],
   "source": [
    "from epimodel.plotting import epicurve_plots, intervention_plots, param_plots"
   ]
  },
  {
   "cell_type": "code",
   "execution_count": null,
   "metadata": {},
   "outputs": [],
   "source": [
    "plt.figure(figsize=(4, 4), dpi=300)\n",
    "intervention_plots.plot_intervention_effectiveness(posterior_samples, data.CMs, xlim=[-50, 50])"
   ]
  },
  {
   "cell_type": "code",
   "execution_count": null,
   "metadata": {},
   "outputs": [],
   "source": [
    "posterior_samples['sigma_i'].shape"
   ]
  },
  {
   "cell_type": "code",
   "execution_count": null,
   "metadata": {},
   "outputs": [],
   "source": [
    "plt.figure(figsize=(4, 4), dpi=300)\n",
    "intervention_plots.plot_intervention_sd(posterior_samples, data.CMs, xlim=[0, 1])"
   ]
  },
  {
   "cell_type": "code",
   "execution_count": null,
   "metadata": {},
   "outputs": [],
   "source": [
    "plt.figure(figsize=(4, 4), dpi=300)\n",
    "intervention_plots.plot_intervention_correlation(posterior_samples, data.CMs)"
   ]
  },
  {
   "cell_type": "code",
   "execution_count": null,
   "metadata": {},
   "outputs": [],
   "source": [
    "posterior_samples.keys()"
   ]
  },
  {
   "cell_type": "code",
   "execution_count": null,
   "metadata": {},
   "outputs": [],
   "source": [
    "posterior_samples.keys()"
   ]
  },
  {
   "cell_type": "code",
   "execution_count": null,
   "metadata": {},
   "outputs": [],
   "source": [
    "param_plots.plot_gi(posterior_samples)"
   ]
  },
  {
   "cell_type": "code",
   "execution_count": null,
   "metadata": {},
   "outputs": [],
   "source": [
    "np.sum(['cd_' in k for k in posterior_samples.keys()])"
   ]
  },
  {
   "cell_type": "code",
   "execution_count": null,
   "metadata": {},
   "outputs": [],
   "source": [
    "data.countries"
   ]
  },
  {
   "cell_type": "code",
   "execution_count": null,
   "metadata": {},
   "outputs": [],
   "source": [
    "posterior_samples.keys()"
   ]
  },
  {
   "cell_type": "code",
   "execution_count": null,
   "metadata": {},
   "outputs": [],
   "source": [
    "import seaborn as sns"
   ]
  },
  {
   "cell_type": "code",
   "execution_count": null,
   "metadata": {},
   "outputs": [],
   "source": [
    "param_plots.plot_cases_death_delays(data, posterior_samples)"
   ]
  },
  {
   "cell_type": "code",
   "execution_count": null,
   "metadata": {},
   "outputs": [],
   "source": [
    "param_plots.plot_output_noise_scales(posterior_samples)"
   ]
  },
  {
   "cell_type": "code",
   "execution_count": null,
   "metadata": {},
   "outputs": [],
   "source": [
    "param_plots.plot_rw_noise_scales(posterior_samples)"
   ]
  },
  {
   "cell_type": "code",
   "execution_count": null,
   "metadata": {},
   "outputs": [],
   "source": [
    "epicurve_plots.area_summary_plot(posterior_samples, 0, data)"
   ]
  },
  {
   "cell_type": "code",
   "execution_count": null,
   "metadata": {},
   "outputs": [],
   "source": [
    "epicurve_plots.area_transmission_plot()"
   ]
  },
  {
   "cell_type": "code",
   "execution_count": null,
   "metadata": {},
   "outputs": [],
   "source": [
    "posterior_samples['iar']"
   ]
  },
  {
   "cell_type": "code",
   "execution_count": null,
   "metadata": {},
   "outputs": [],
   "source": [
    "log_iar_noise[:, 0].reshape((500, 1)).repeat(122, axis=1).shape"
   ]
  },
  {
   "cell_type": "code",
   "execution_count": null,
   "metadata": {},
   "outputs": [],
   "source": [
    "jnp.exp(log_iar_noise - log_iar_noise[:, 0].reshape((500, 1)).repeat(122, axis=1))"
   ]
  },
  {
   "cell_type": "code",
   "execution_count": null,
   "metadata": {},
   "outputs": [],
   "source": []
  },
  {
   "cell_type": "code",
   "execution_count": null,
   "metadata": {},
   "outputs": [],
   "source": [
    "plt.plot(np.median(posterior_samples['cfr'], axis=0))"
   ]
  },
  {
   "cell_type": "code",
   "execution_count": null,
   "metadata": {},
   "outputs": [],
   "source": [
    "posterior_samples['noisepoint_log_iar_noise_series'][:, r_i, :].shape"
   ]
  },
  {
   "cell_type": "code",
   "execution_count": null,
   "metadata": {},
   "outputs": [],
   "source": [
    "for r_i in range(80):\n",
    "    plt.figure()\n",
    "    log_iar_noise = jnp.repeat(\n",
    "            jnp.cumsum(np.median(posterior_samples['iar_walk_noise_scale']) * posterior_samples['noisepoint_log_iar_noise_series'][:, r_i, :], axis=-1),\n",
    "            7,\n",
    "            axis=-1,\n",
    "        )[:, :len(data.Ds)]\n",
    "    \n",
    "    li, lq, m, uq, ui = np.percentile(jnp.exp(log_iar_noise - log_iar_noise[:, 0].reshape((500, 1)).repeat(122, axis=1)), [2.5, 25, 50, 75, 97.5], axis=0)\n",
    "\n",
    "    plt.plot(data.Ds, m, color=\"k\")\n",
    "    plt.fill_between(data.Ds, li, ui, color=\"k\", alpha=0.1, linewidth=0)\n",
    "    plt.fill_between(data.Ds, lq, uq, color=\"k\", alpha=0.3, linewidth=0)\n"
   ]
  },
  {
   "cell_type": "code",
   "execution_count": null,
   "metadata": {},
   "outputs": [],
   "source": [
    "iar_0 = 1\n",
    "iar_walk_noise_scale = 1\n",
    "    # number of 'noise points'\n",
    "nNP = int(data.nDs / 7) + 1\n",
    "noisepoint_log_iar_noise_series = np.random.normal(loc=jnp.zeros(nNP))\n",
    "\n",
    "log_iar_noise = jnp.repeat(\n",
    "    jnp.cumsum(iar_walk_noise_scale * noisepoint_log_iar_noise_series, axis=-1),\n",
    "    7,\n",
    "    axis=-1,\n",
    ")\n",
    "iar_t = iar_0 * 5*jax.nn.sigmoid(log_iar_noise)"
   ]
  },
  {
   "cell_type": "code",
   "execution_count": null,
   "metadata": {},
   "outputs": [],
   "source": [
    "jax.nn.sigmoid(0.0)"
   ]
  },
  {
   "cell_type": "code",
   "execution_count": null,
   "metadata": {},
   "outputs": [],
   "source": [
    "plt.plot(iar_t)"
   ]
  },
  {
   "cell_type": "code",
   "execution_count": null,
   "metadata": {},
   "outputs": [],
   "source": [
    "iar_t"
   ]
  },
  {
   "cell_type": "code",
   "execution_count": null,
   "metadata": {},
   "outputs": [],
   "source": [
    "jax.nn.sigmoid(0.5)"
   ]
  },
  {
   "cell_type": "code",
   "execution_count": null,
   "metadata": {},
   "outputs": [],
   "source": []
  }
 ],
 "metadata": {
  "kernelspec": {
   "display_name": "Python 3",
   "language": "python",
   "name": "python3"
  },
  "language_info": {
   "codemirror_mode": {
    "name": "ipython",
    "version": 3
   },
   "file_extension": ".py",
   "mimetype": "text/x-python",
   "name": "python",
   "nbconvert_exporter": "python",
   "pygments_lexer": "ipython3",
   "version": "3.8.3"
  }
 },
 "nbformat": 4,
 "nbformat_minor": 4
}
