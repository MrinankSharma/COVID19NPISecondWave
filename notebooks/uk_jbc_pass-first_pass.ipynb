{
 "cells": [
  {
   "cell_type": "code",
   "execution_count": null,
   "metadata": {},
   "outputs": [],
   "source": [
    "import sys\n",
    "sys.path.append(\"../\") "
   ]
  },
  {
   "cell_type": "code",
   "execution_count": null,
   "metadata": {},
   "outputs": [],
   "source": [
    "import pandas as pd\n",
    "import numpy as np"
   ]
  },
  {
   "cell_type": "code",
   "execution_count": null,
   "metadata": {},
   "outputs": [],
   "source": [
    "from epimodel.preprocessing import preprocess_data, PreprocessedData\n",
    "from epimodel.epiparam import EpidemiologicalParameters"
   ]
  },
  {
   "cell_type": "code",
   "execution_count": null,
   "metadata": {},
   "outputs": [],
   "source": [
    "from epimodel.models.mixed_intervention_rw_model import mixed_intervention_rw_model"
   ]
  },
  {
   "cell_type": "code",
   "execution_count": null,
   "metadata": {},
   "outputs": [],
   "source": [
    "import pickle\n",
    "\n",
    "data_pickle = pickle.load(open('uk_test_set.pkl', 'rb'))"
   ]
  },
  {
   "cell_type": "code",
   "execution_count": null,
   "metadata": {},
   "outputs": [],
   "source": [
    "data = PreprocessedData(data_pickle['regions'], data_pickle['days'], data_pickle['CMs'], data_pickle['new_cases'], data_pickle['new_deaths'], data_pickle['active_cms'])"
   ]
  },
  {
   "cell_type": "code",
   "execution_count": null,
   "metadata": {},
   "outputs": [],
   "source": [
    "data.new_cases = np.ma.array(data.new_cases)\n",
    "data.new_cases[:, :10] = np.ma.masked\n",
    "data.new_deaths = np.ma.array(data.new_deaths)\n",
    "data.new_deaths[:, :30] = np.ma.masked"
   ]
  },
  {
   "cell_type": "code",
   "execution_count": null,
   "metadata": {},
   "outputs": [],
   "source": [
    "ep = EpidemiologicalParameters()"
   ]
  },
  {
   "cell_type": "code",
   "execution_count": null,
   "metadata": {},
   "outputs": [],
   "source": [
    "import matplotlib.pyplot as plt"
   ]
  },
  {
   "cell_type": "code",
   "execution_count": null,
   "metadata": {},
   "outputs": [],
   "source": [
    "import numpyro\n",
    "from numpyro.infer import MCMC, NUTS, Predictive\n",
    "import numpyro.distributions as dist\n",
    "from jax import random\n",
    "import jax.numpy as jnp\n",
    "import jax.scipy.signal as jss\n",
    "\n",
    "import jax\n",
    "\n",
    "import numpy as np\n",
    "import matplotlib.pyplot as plt\n",
    "import seaborn as sns"
   ]
  },
  {
   "cell_type": "code",
   "execution_count": null,
   "metadata": {},
   "outputs": [],
   "source": [
    "import time "
   ]
  },
  {
   "cell_type": "code",
   "execution_count": null,
   "metadata": {},
   "outputs": [],
   "source": [
    "from numpyro.infer import init_to_median\n",
    "nuts_kernel = NUTS(mixed_intervention_rw_model, init_strategy = init_to_median)\n",
    "\n",
    "mcmc = MCMC(nuts_kernel, num_samples=500, num_warmup=500, num_chains=1)\n",
    "rng_key = random.PRNGKey(0)\n",
    "\n",
    "start = time.time()\n",
    "\n",
    "with numpyro.validation_enabled():\n",
    "    res = mcmc.run(rng_key, data, ep)\n",
    "    \n",
    "end = time.time()\n",
    "\n",
    "posterior_samples = mcmc.get_samples(np.array([0]))\n",
    "\n",
    "print(f'Sampling 1000 samples per chain took {end - start}')"
   ]
  },
  {
   "cell_type": "code",
   "execution_count": null,
   "metadata": {},
   "outputs": [],
   "source": []
  }
 ],
 "metadata": {
  "kernelspec": {
   "display_name": "Python 3",
   "language": "python",
   "name": "python3"
  },
  "language_info": {
   "codemirror_mode": {
    "name": "ipython",
    "version": 3
   },
   "file_extension": ".py",
   "mimetype": "text/x-python",
   "name": "python",
   "nbconvert_exporter": "python",
   "pygments_lexer": "ipython3",
   "version": "3.8.3"
  }
 },
 "nbformat": 4,
 "nbformat_minor": 4
}
