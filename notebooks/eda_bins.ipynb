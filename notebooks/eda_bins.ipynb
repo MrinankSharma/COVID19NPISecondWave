{
 "cells": [
  {
   "cell_type": "markdown",
   "metadata": {},
   "source": [
    "# Exploratory Data Analysis"
   ]
  },
  {
   "cell_type": "code",
   "execution_count": null,
   "metadata": {
    "pycharm": {
     "name": "#%%\n"
    }
   },
   "outputs": [],
   "source": [
    "import numpy as np\n",
    "import pandas as pd\n",
    "import matplotlib.pyplot as plt\n",
    "import seaborn as sns\n",
    "sns.set_theme(style=\"ticks\", color_codes=True)\n",
    "import pylab as pl\n",
    "\n",
    "df = pd.read_csv('../data/all_merged_data.csv')\n",
    "CMs = df.columns[5:]\n",
    "countries = ['Austria', 'UK', 'Germany', 'Italy', 'Czech', 'Switzerland', 'Netherlands']"
   ]
  },
  {
   "cell_type": "markdown",
   "metadata": {
    "pycharm": {
     "name": "#%% md\n"
    }
   },
   "source": [
    "## Binning the limit NPIs"
   ]
  },
  {
   "cell_type": "code",
   "execution_count": null,
   "metadata": {
    "pycharm": {
     "name": "#%%\n"
    }
   },
   "outputs": [],
   "source": [
    "def make_bin(df, npi, limit):\n",
    "    data = df[npi]\n",
    "    rows = [i for i in range(len(data)) if data[i] > 0 and data[i] <= limit]\n",
    "    new_data = np.zeros_like(data)\n",
    "    new_data[rows] = 1\n",
    "    col_name = f'{npi}ed to {limit} or less'\n",
    "    df[col_name] = new_data\n",
    "    return df\n",
    "\n",
    "gathering_npis = [CMs[i] for i in [0,1,2,3]]\n",
    "household_npis = [CMs[i] for i in [4,5,6,7]]\n",
    "\n",
    "def make_all_bins(df, gathering_lims, household_lims):\n",
    "    data = df\n",
    "    for npi in gathering_npis:\n",
    "        for lim in gathering_lims:\n",
    "            data = make_bin(data, npi, lim)\n",
    "    for npi in household_npis:\n",
    "        for lim in household_lims:\n",
    "            data = make_bin(data, npi, lim)\n",
    "    return data"
   ]
  },
  {
   "cell_type": "code",
   "execution_count": null,
   "metadata": {
    "pycharm": {
     "name": "#%%\n"
    }
   },
   "outputs": [],
   "source": [
    "gathering_limits = [1, 5, 10, 30, 200, 1000]\n",
    "household_limits = [1, 2]\n",
    "\n",
    "df = make_all_bins(df, gathering_limits, household_limits)\n",
    "df = df.drop(columns=CMs[:8])\n",
    "CMs = df.columns[5:]"
   ]
  },
  {
   "cell_type": "markdown",
   "metadata": {},
   "source": [
    "## NPI representation by region\n"
   ]
  },
  {
   "cell_type": "code",
   "execution_count": null,
   "metadata": {
    "pycharm": {
     "name": "#%%\n"
    }
   },
   "outputs": [],
   "source": [
    "def count_active_days_region(npi, country):\n",
    "    df_country = df[df['Country']==country]\n",
    "    #non_zero_rows = [ind for ind in range(df_country.shape[0]) if df_country[npi][ind] != 0]\n",
    "    non_zero_rows = df_country[df_country[npi] != 0]\n",
    "    regions = np.unique(df_country['Area'])\n",
    "    active_inds = []\n",
    "    for region in regions:\n",
    "        #active_ind = [ind for ind in non_zero_rows if df_country['Area'][ind] == region]\n",
    "        #active_ind = df_country.loc[df_country['Area'] == region]\n",
    "        active_rows = non_zero_rows[non_zero_rows['Area']==region]\n",
    "        count = active_rows.shape[0]\n",
    "        active_inds.append(count)\n",
    "    return regions, active_inds\n",
    "\n",
    "active_days_uk = [count_active_days_region(npi, 'England')[1] for npi in CMs]\n",
    "active_days_de = [count_active_days_region(npi, 'Germany')[1] for npi in CMs]\n",
    "active_days_at = [count_active_days_region(npi, 'Austria')[1] for npi in CMs]\n",
    "active_days_it = [count_active_days_region(npi, 'Italy')[1] for npi in CMs]\n",
    "active_days_cz = [count_active_days_region(npi, 'Czech')[1] for npi in CMs]\n",
    "active_days_ch = [count_active_days_region(npi, 'Switzerland')[1] for npi in CMs]\n",
    "active_days_nl = [count_active_days_region(npi, 'Netherlands')[1] for npi in CMs]\n",
    "# summing up counts from the regions for each npi:\n",
    "region_counts_uk = [sum(i) for i in active_days_uk]\n",
    "region_counts_de = [sum(i) for i in active_days_de]\n",
    "region_counts_at = [sum(i) for i in active_days_at]\n",
    "region_counts_it = [sum(i) for i in active_days_it]\n",
    "region_counts_cz = [sum(i) for i in active_days_cz]\n",
    "region_counts_ch = [sum(i) for i in active_days_ch]\n",
    "region_counts_nl = [sum(i) for i in active_days_nl]"
   ]
  },
  {
   "cell_type": "code",
   "execution_count": null,
   "metadata": {
    "pycharm": {
     "name": "#%%\n"
    }
   },
   "outputs": [],
   "source": [
    "region_counts = pd.DataFrame((region_counts_at, region_counts_uk,\n",
    "region_counts_de, region_counts_it, region_counts_cz, region_counts_ch, region_counts_nl)).T.set_index(CMs)\n",
    "region_counts.columns = countries\n",
    "region_counts.plot(kind='bar', stacked=True, title='Coloured bar length is the sum of days across the country\\'s regions that the NPI is active', figsize = (10,5))\n",
    "plt.show()\n",
    "region_counts_normalised = region_counts.div(region_counts.sum(axis=1), axis=0)\n",
    "fig, ax = plt.subplots(figsize=(10,10))\n",
    "sns.heatmap(region_counts_normalised, xticklabels = region_counts.columns, yticklabels = CMs, ax=ax).set_title('Active days attributable to each country')"
   ]
  },
  {
   "cell_type": "code",
   "execution_count": null,
   "metadata": {
    "pycharm": {
     "name": "#%%\n"
    }
   },
   "outputs": [],
   "source": [
    "def plot_region_contribution_heatmap(active_days_specific_country, country):\n",
    "    active_days_specific_country = pd.DataFrame(active_days_specific_country)\n",
    "    active_days_specific_country.columns = count_active_days_region(CMs[0], country)[0]\n",
    "    active_days_specific_country.index = CMs\n",
    "    active_days_normalised = active_days_specific_country.div(active_days_specific_country.sum(axis=1), axis=0)\n",
    "    fig, ax = plt.subplots(figsize=(10,10))\n",
    "    return sns.heatmap(active_days_normalised, xticklabels = active_days_specific_country.columns, yticklabels = CMs, ax = ax).set_title('Proportion of active days in '+ country + ' attributable to each constituent region')"
   ]
  },
  {
   "cell_type": "code",
   "execution_count": null,
   "metadata": {
    "pycharm": {
     "name": "#%%\n"
    }
   },
   "outputs": [],
   "source": [
    "plot_region_contribution_heatmap(active_days_uk, 'England')"
   ]
  },
  {
   "cell_type": "code",
   "execution_count": null,
   "metadata": {
    "pycharm": {
     "name": "#%%\n"
    }
   },
   "outputs": [],
   "source": [
    "plot_region_contribution_heatmap(active_days_de, 'Germany')"
   ]
  },
  {
   "cell_type": "code",
   "execution_count": null,
   "metadata": {
    "pycharm": {
     "name": "#%%\n"
    }
   },
   "outputs": [],
   "source": [
    "plot_region_contribution_heatmap(active_days_at, 'Austria')"
   ]
  },
  {
   "cell_type": "code",
   "execution_count": null,
   "metadata": {
    "pycharm": {
     "name": "#%%\n"
    }
   },
   "outputs": [],
   "source": [
    "plot_region_contribution_heatmap(active_days_it, 'Italy')"
   ]
  },
  {
   "cell_type": "code",
   "execution_count": null,
   "metadata": {
    "pycharm": {
     "name": "#%%\n"
    }
   },
   "outputs": [],
   "source": [
    "plot_region_contribution_heatmap(active_days_cz, 'Czech')"
   ]
  },
  {
   "cell_type": "code",
   "execution_count": null,
   "metadata": {
    "pycharm": {
     "name": "#%%\n"
    }
   },
   "outputs": [],
   "source": [
    "plot_region_contribution_heatmap(active_days_ch, 'Switzerland')"
   ]
  },
  {
   "cell_type": "code",
   "execution_count": null,
   "metadata": {
    "pycharm": {
     "name": "#%%\n"
    }
   },
   "outputs": [],
   "source": [
    "plot_region_contribution_heatmap(active_days_nl, 'Netherlands')"
   ]
  },
  {
   "cell_type": "markdown",
   "metadata": {},
   "source": [
    "## Thresholding"
   ]
  },
  {
   "cell_type": "code",
   "execution_count": null,
   "metadata": {
    "pycharm": {
     "name": "#%%\n"
    }
   },
   "outputs": [],
   "source": [
    "# thresholding_CMs = [CM for CM in CMs if len(np.unique(df[CM]))>2]\n",
    "# df_reduced = df\n",
    "# df_thresholds = df_reduced[thresholding_CMs]\n",
    "# fig = plt.figure(figsize=((15,10)))\n",
    "# fig.subplots_adjust(hspace=1, wspace=1)\n",
    "# for i in range(len(thresholding_CMs)):\n",
    "#     ax = fig.add_subplot(3, 3, i+1)\n",
    "#     plt.xticks(rotation=90)\n",
    "#     sns.countplot(x = thresholding_CMs[i], data=df_thresholds, ax=ax)\n",
    "# pl.suptitle(\"Histogram of values (thresholds) for the relevant NPIs\")\n",
    "# plt.show()"
   ]
  },
  {
   "cell_type": "markdown",
   "metadata": {},
   "source": [
    "## Correlations\n",
    "\n",
    "Correlations don't work when you have an npi always inactive or active for a region,\n",
    "so instead this is a plot of proportion of region-days where the state of each npi is the same."
   ]
  },
  {
   "cell_type": "code",
   "execution_count": null,
   "metadata": {
    "pycharm": {
     "name": "#%%\n"
    }
   },
   "outputs": [],
   "source": [
    "def corr_region(region):\n",
    "    df_region = df[df['Area'] == region].drop(columns=['Area', 'Date', 'Country', 'New Cases', 'New Deaths'])\n",
    "    df_binary = (df_region > 0).astype(float)\n",
    "    corr_mat = np.zeros((len(CMs), len(CMs)))\n",
    "    for i in range(len(CMs)):\n",
    "        for j in range(len(CMs)):\n",
    "            corr_mat[i, j] = np.sum(df_binary[CMs[i]] == df_binary[CMs[j]])/df_binary.shape[0]\n",
    "    return corr_mat\n",
    "def corr_country(country):\n",
    "    df_country = df[df['Country'] == country]\n",
    "    regions = list(set(df_country['Area']))\n",
    "    return np.nanmean([corr_region(region) for region in regions], axis=0)\n",
    "def corr_total():\n",
    "    countries = list(set(df['Country']))\n",
    "    return np.nanmean([corr_country(country) for country in countries], axis=0)"
   ]
  },
  {
   "cell_type": "code",
   "execution_count": null,
   "metadata": {
    "pycharm": {
     "name": "#%%\n"
    }
   },
   "outputs": [],
   "source": [
    "fig, ax = plt.subplots(figsize=(10,10))\n",
    "sns.heatmap(pd.DataFrame(corr_total(), dtype=float), xticklabels = CMs, yticklabels = CMs).set_title('Correlation plot, aggregated across countries')\n",
    "plt.show()"
   ]
  },
  {
   "cell_type": "code",
   "execution_count": null,
   "metadata": {
    "pycharm": {
     "name": "#%%\n"
    }
   },
   "outputs": [],
   "source": [
    "fig, ax = plt.subplots(figsize=(10,10))\n",
    "sns.heatmap(pd.DataFrame(corr_country('Austria'), dtype=float), xticklabels = CMs, yticklabels = CMs, ax = ax).set_title('Austria: Correlation plot')\n",
    "plt.show()"
   ]
  },
  {
   "cell_type": "code",
   "execution_count": null,
   "metadata": {
    "pycharm": {
     "name": "#%%\n"
    }
   },
   "outputs": [],
   "source": [
    "fig, ax = plt.subplots(figsize=(10,10))\n",
    "sns.heatmap(pd.DataFrame(corr_country('England'), dtype=float), xticklabels = CMs, yticklabels = CMs, ax = ax).set_title('England: Correlation plot')\n",
    "plt.show()"
   ]
  },
  {
   "cell_type": "code",
   "execution_count": null,
   "metadata": {
    "pycharm": {
     "name": "#%%\n"
    }
   },
   "outputs": [],
   "source": [
    "fig, ax = plt.subplots(figsize=(10,10))\n",
    "sns.heatmap(pd.DataFrame(corr_country('Germany'), dtype=float), xticklabels = CMs, yticklabels = CMs, ax = ax).set_title('Germany: Correlation plot')\n",
    "plt.show()"
   ]
  },
  {
   "cell_type": "code",
   "execution_count": null,
   "metadata": {
    "pycharm": {
     "name": "#%%\n"
    }
   },
   "outputs": [],
   "source": [
    "fig, ax = plt.subplots(figsize=(10,10))\n",
    "sns.heatmap(pd.DataFrame(corr_country('Italy'), dtype=float), xticklabels = CMs, yticklabels = CMs, ax = ax).set_title('Italy: Correlation plot')\n",
    "plt.show()"
   ]
  },
  {
   "cell_type": "code",
   "execution_count": null,
   "metadata": {
    "pycharm": {
     "name": "#%%\n"
    }
   },
   "outputs": [],
   "source": [
    "fig, ax = plt.subplots(figsize=(10,10))\n",
    "sns.heatmap(pd.DataFrame(corr_country('Czech'), dtype=float), xticklabels = CMs, yticklabels = CMs, ax = ax).set_title('Czech: Correlation plot')\n",
    "plt.show()"
   ]
  },
  {
   "cell_type": "code",
   "execution_count": null,
   "metadata": {
    "pycharm": {
     "name": "#%%\n"
    }
   },
   "outputs": [],
   "source": [
    "fig, ax = plt.subplots(figsize=(10,10))\n",
    "sns.heatmap(pd.DataFrame(corr_country('Switzerland'), dtype=float), xticklabels = CMs, yticklabels = CMs, ax = ax).set_title('Switzerland: Correlation plot')\n",
    "plt.show()"
   ]
  },
  {
   "cell_type": "code",
   "execution_count": null,
   "metadata": {
    "pycharm": {
     "name": "#%%\n"
    }
   },
   "outputs": [],
   "source": [
    "fig, ax = plt.subplots(figsize=(10,10))\n",
    "sns.heatmap(pd.DataFrame(corr_country('Netherlands'), dtype=float), xticklabels = CMs, yticklabels = CMs, ax = ax).set_title('Netherlands: Correlation plot')\n",
    "plt.show()"
   ]
  },
  {
   "cell_type": "markdown",
   "metadata": {},
   "source": [
    "## Conditional activation\n"
   ]
  },
  {
   "cell_type": "code",
   "execution_count": null,
   "metadata": {
    "pycharm": {
     "name": "#%%\n"
    }
   },
   "outputs": [],
   "source": [
    "def get_active_dates_region(data, npi):\n",
    "    non_zero_dates = data['Date'][data[npi] != 0]\n",
    "    return non_zero_dates\n",
    "\n",
    "def intersect_npi_active_dates_region(active_days_1, active_days_2):\n",
    "    return set(active_days_1).intersection(set(active_days_2))\n",
    "\n",
    "def proportional_activation_region(active_days_1, active_days_2):\n",
    "    number_of_active_days = len(active_days_1)\n",
    "    if number_of_active_days == 0: return float('nan')\n",
    "    number_of_jointly_active_days = len(intersect_npi_active_dates_region(active_days_1, active_days_2))\n",
    "    return number_of_jointly_active_days/number_of_active_days\n",
    "\n",
    "def activation_difference_region(active_days_1, active_days_2):\n",
    "    return len(set(active_days_1) - set(active_days_2))\n",
    "\n",
    "def only_one_active_region(active_days_1, active_days_2):\n",
    "    return len(set(active_days_1) - set(active_days_2)) + len(set(active_days_2) - set(active_days_1))\n",
    "\n",
    "def find_conditional_activations(country):\n",
    "    regions = np.unique(df['Area'][df['Country']==country])\n",
    "    proportional_activations = np.empty((len(CMs),len(CMs)), dtype=object)\n",
    "    activation_differences = np.empty((len(CMs),len(CMs)), dtype=object)\n",
    "    single_activations = np.empty((len(CMs),len(CMs)), dtype=object)\n",
    "    count = 0\n",
    "    for region in regions:\n",
    "        data = df[df['Area']==region]\n",
    "        for i in range(len(CMs)):\n",
    "            for j in range(len(CMs)):\n",
    "                active_days_1 = get_active_dates_region(data, CMs[i])\n",
    "                active_days_2 = get_active_dates_region(data, CMs[j])\n",
    "                if count == 0:\n",
    "                    proportional_activations[i, j] = [proportional_activation_region(active_days_1, active_days_2)]\n",
    "                    activation_differences[i, j] = [activation_difference_region(active_days_1, active_days_2)]\n",
    "                    single_activations[i, j] = [only_one_active_region(active_days_1, active_days_2)]\n",
    "                else:\n",
    "                    proportional_activations[i, j].append(proportional_activation_region(active_days_1, active_days_2))\n",
    "                    activation_differences[i, j].append(activation_difference_region(active_days_1, active_days_2))\n",
    "                    single_activations[i, j].append(only_one_active_region(active_days_1, active_days_2))\n",
    "        count += 1\n",
    "    for i in range(len(CMs)):\n",
    "        for j in range(len(CMs)):\n",
    "            proportional_activations[i, j] = np.mean(proportional_activations[i, j])\n",
    "            activation_differences[i, j] = np.sum(activation_differences[i, j])\n",
    "            single_activations[i, j] = np.sum(single_activations[i, j])\n",
    "\n",
    "    return proportional_activations, activation_differences, single_activations\n",
    "\n",
    "def find_conditional_activations_total():\n",
    "\n",
    "    proportional_activations = np.empty((len(CMs),len(CMs)), dtype=object)\n",
    "    activation_differences = np.empty((len(CMs),len(CMs)), dtype=object)\n",
    "    single_activations = np.empty((len(CMs),len(CMs)), dtype=object)\n",
    "\n",
    "    countries = np.unique(df['Country'])\n",
    "    count = 0\n",
    "    for country in countries:\n",
    "        prop, act, single = find_conditional_activations(country)\n",
    "        for i in range(len(CMs)):\n",
    "            for j in range(len(CMs)):\n",
    "                if count == 0:\n",
    "                    proportional_activations[i, j] = [prop[i,j]]\n",
    "                    activation_differences[i, j] = [act[i,j]]\n",
    "                    single_activations[i, j] = [single[i,j]]\n",
    "                else:\n",
    "                    proportional_activations[i, j].append(prop[i,j])\n",
    "                    activation_differences[i, j].append(act[i,j])\n",
    "                    single_activations[i, j].append(single[i,j])\n",
    "        count += 1\n",
    "    for i in range(len(CMs)):\n",
    "        for j in range(len(CMs)):\n",
    "            proportional_activations[i, j] = np.nanmean(proportional_activations[i, j])\n",
    "            activation_differences[i, j] = np.sum(activation_differences[i, j])\n",
    "            single_activations[i, j] = np.sum(single_activations[i, j])\n",
    "\n",
    "    return proportional_activations, activation_differences, single_activations"
   ]
  },
  {
   "cell_type": "code",
   "execution_count": null,
   "metadata": {
    "pycharm": {
     "name": "#%%\n"
    }
   },
   "outputs": [],
   "source": [
    "prop, act, single = find_conditional_activations_total()\n",
    "fig = plt.figure(figsize=((10,40)))\n",
    "fig.subplots_adjust(hspace=1)\n",
    "ax = fig.add_subplot(3, 1, 1)\n",
    "sns.heatmap(pd.DataFrame(prop, dtype=float), xticklabels = CMs, yticklabels = CMs).set_title(': Conditional activation matrix: of the proportion of time that NPI Y was active, how often was NPI X active?')\n",
    "ax = fig.add_subplot(3, 1, 2)\n",
    "sns.heatmap(pd.DataFrame(act, dtype=float), xticklabels = CMs, yticklabels = CMs).set_title(': Number of days where only NPI Y is active')\n",
    "ax = fig.add_subplot(3, 1, 3)\n",
    "sns.heatmap(pd.DataFrame(single, dtype=float), xticklabels = CMs, yticklabels = CMs).set_title(': Number of days where exactly one of NPI X and NPI Y is active')\n",
    "plt.show()"
   ]
  },
  {
   "cell_type": "code",
   "execution_count": null,
   "metadata": {
    "pycharm": {
     "name": "#%%\n"
    }
   },
   "outputs": [],
   "source": [
    "def conditional_activation_plotter(country):\n",
    "    prop, act, single = find_conditional_activations(country)\n",
    "    fig = plt.figure(figsize=((10,40)))\n",
    "    fig.subplots_adjust(hspace=1)\n",
    "    ax = fig.add_subplot(3, 1, 1)\n",
    "    sns.heatmap(pd.DataFrame(prop, dtype=float), xticklabels = CMs, yticklabels = CMs).set_title(country + ': Conditional activation matrix: of the proportion of time that NPI Y was active, how often was NPI X active?')\n",
    "    ax = fig.add_subplot(3, 1, 2)\n",
    "    sns.heatmap(pd.DataFrame(act, dtype=float), xticklabels = CMs, yticklabels = CMs).set_title(country + ': Number of days where only NPI Y is active')\n",
    "    ax = fig.add_subplot(3, 1, 3)\n",
    "    sns.heatmap(pd.DataFrame(single, dtype=float), xticklabels = CMs, yticklabels = CMs).set_title(country + ': Number of days where exactly one of NPI X and NPI Y is active')\n",
    "    plt.show()\n"
   ]
  },
  {
   "cell_type": "markdown",
   "metadata": {},
   "source": [
    "### Austria"
   ]
  },
  {
   "cell_type": "code",
   "execution_count": null,
   "metadata": {
    "pycharm": {
     "name": "#%%\n"
    }
   },
   "outputs": [],
   "source": [
    "conditional_activation_plotter('Austria')"
   ]
  },
  {
   "cell_type": "markdown",
   "metadata": {},
   "source": [
    "### England"
   ]
  },
  {
   "cell_type": "code",
   "execution_count": null,
   "metadata": {
    "pycharm": {
     "name": "#%%\n"
    }
   },
   "outputs": [],
   "source": [
    "conditional_activation_plotter('England')"
   ]
  },
  {
   "cell_type": "markdown",
   "metadata": {},
   "source": [
    "### Germany"
   ]
  },
  {
   "cell_type": "code",
   "execution_count": null,
   "metadata": {
    "pycharm": {
     "name": "#%%\n"
    }
   },
   "outputs": [],
   "source": [
    "conditional_activation_plotter('Germany')"
   ]
  },
  {
   "cell_type": "markdown",
   "metadata": {},
   "source": [
    "### Italy"
   ]
  },
  {
   "cell_type": "code",
   "execution_count": null,
   "metadata": {
    "pycharm": {
     "name": "#%%\n"
    }
   },
   "outputs": [],
   "source": [
    "conditional_activation_plotter('Italy')"
   ]
  },
  {
   "cell_type": "code",
   "execution_count": null,
   "metadata": {
    "pycharm": {
     "name": "#%%\n"
    }
   },
   "outputs": [],
   "source": [
    "conditional_activation_plotter('Czech')"
   ]
  },
  {
   "cell_type": "code",
   "execution_count": null,
   "metadata": {
    "pycharm": {
     "name": "#%%\n"
    }
   },
   "outputs": [],
   "source": [
    "conditional_activation_plotter('Switzerland')"
   ]
  },
  {
   "cell_type": "code",
   "execution_count": null,
   "metadata": {
    "pycharm": {
     "name": "#%%\n"
    }
   },
   "outputs": [],
   "source": [
    "conditional_activation_plotter('Netherlands')"
   ]
  },
  {
   "cell_type": "markdown",
   "metadata": {},
   "source": [
    "## Paired Activation Differences"
   ]
  },
  {
   "cell_type": "code",
   "execution_count": null,
   "metadata": {
    "pycharm": {
     "name": "#%%\n"
    }
   },
   "outputs": [],
   "source": [
    "def get_start_dates(data, npi, region):\n",
    "    df_region = data[data['Area']==region]\n",
    "    start_dates = []\n",
    "    if list(df_region[npi])[0] != 0:\n",
    "        start_dates.append(0)\n",
    "    #loop through list and find date when go from 0 to non-zero\n",
    "    last = list(df_region[npi])[0]\n",
    "    for i in range(1, df_region.shape[0]):\n",
    "        next = list(df_region[npi])[i]\n",
    "        if last == 0 and next != 0:\n",
    "            start_dates.append(i)\n",
    "        last = next\n",
    "    return start_dates\n",
    "\n",
    "def compare_dates(ds1, ds2):\n",
    "    diffs = []\n",
    "    for d1 in ds1:\n",
    "        for d2 in ds2:\n",
    "            diffs.append(d1 - d2)\n",
    "    return diffs\n",
    "\n",
    "def compute_start_dates(data):\n",
    "    starts = np.empty((len(CMs), len(CMs)), dtype=object)\n",
    "    for npi1 in range(len(CMs)):\n",
    "        for npi2 in range(len(CMs)):\n",
    "            starts[npi1, npi2] = []\n",
    "            for region in np.unique(data['Area']):\n",
    "                starts[npi1, npi2].append(compare_dates(get_start_dates(data, CMs[npi1], region),get_start_dates(data, CMs[npi2], region)))\n",
    "            starts[npi1, npi2] = [diff for diffs in starts[npi1, npi2] for diff in diffs]\n",
    "    return starts\n",
    "\n",
    "def extract_diff_population(difference_data, threshold):\n",
    "    count_data = np.zeros_like(difference_data)\n",
    "    for i in range(count_data.shape[0]):\n",
    "        for j in range(count_data.shape[1]):\n",
    "            diff_reduced = [diff for diff in difference_data[i, j] if abs(diff) < threshold]\n",
    "            count_data[i,j] = len(diff_reduced)\n",
    "    return count_data\n",
    "\n",
    "def get_end_dates(data, npi, region):\n",
    "    df_region = data[data['Area']==region]\n",
    "    end_dates = []\n",
    "    #loop through list and find date when go from 0 to non-zero\n",
    "    last = list(df_region[npi])[0]\n",
    "    for i in range(1, df_region.shape[0]):\n",
    "        next = list(df_region[npi])[i]\n",
    "        if last != 0 and next == 0:\n",
    "            end_dates.append(i)\n",
    "        last = next\n",
    "    return end_dates\n",
    "\n",
    "def compute_end_dates(data):\n",
    "    ends = np.empty((len(CMs), len(CMs)), dtype=object)\n",
    "    for npi1 in range(len(CMs)):\n",
    "        for npi2 in range(len(CMs)):\n",
    "            ends[npi1, npi2] = []\n",
    "            for region in np.unique(data['Area']):\n",
    "                ends[npi1, npi2].append(compare_dates(get_end_dates(data, CMs[npi1], region),get_end_dates(data, CMs[npi2], region)))\n",
    "            ends[npi1, npi2] = [diff for diffs in ends[npi1, npi2] for diff in diffs]\n",
    "    return ends"
   ]
  },
  {
   "cell_type": "code",
   "execution_count": null,
   "metadata": {
    "pycharm": {
     "name": "#%%\n"
    }
   },
   "outputs": [],
   "source": [
    "starts = compute_start_dates(df)\n",
    "# np.save('../data/npi_paired_activations', starts)"
   ]
  },
  {
   "cell_type": "code",
   "execution_count": null,
   "metadata": {
    "pycharm": {
     "name": "#%%\n"
    }
   },
   "outputs": [],
   "source": [
    "ends = compute_end_dates(df)\n",
    "# np.save('../data/npi_paired_deactivations', ends)"
   ]
  },
  {
   "cell_type": "code",
   "execution_count": null,
   "metadata": {
    "pycharm": {
     "name": "#%%\n"
    }
   },
   "outputs": [],
   "source": [
    "starts_extracted = extract_diff_population(starts, 0.5)\n",
    "fig, ax = plt.subplots(figsize=(10,10))\n",
    "sns.heatmap(pd.DataFrame(starts_extracted, dtype=float), xticklabels = CMs, yticklabels = CMs, ax=ax).set_title('On how many days (across regions) did each NPI pair activate at exactly the same time?')"
   ]
  },
  {
   "cell_type": "code",
   "execution_count": null,
   "metadata": {
    "pycharm": {
     "name": "#%%\n"
    }
   },
   "outputs": [],
   "source": [
    "starts_extracted_5 = extract_diff_population(starts, 5)\n",
    "fig, ax = plt.subplots(figsize=(10,10))\n",
    "sns.heatmap(pd.DataFrame(starts_extracted_5, dtype=float), xticklabels = CMs, yticklabels = CMs, ax=ax).set_title('On how many days (across regions) did each NPI pair activate within 5 days of each other?')"
   ]
  },
  {
   "cell_type": "code",
   "execution_count": null,
   "metadata": {
    "pycharm": {
     "name": "#%%\n"
    }
   },
   "outputs": [],
   "source": [
    "ends_extracted = extract_diff_population(ends, 0.5)\n",
    "fig, ax = plt.subplots(figsize=(10,10))\n",
    "sns.heatmap(pd.DataFrame(ends_extracted, dtype=float), xticklabels = CMs, yticklabels = CMs, ax=ax).set_title('On how many days (across regions) did each NPI pair deactive at exactly the same time?')"
   ]
  },
  {
   "cell_type": "code",
   "execution_count": null,
   "metadata": {
    "pycharm": {
     "name": "#%%\n"
    }
   },
   "outputs": [],
   "source": [
    "ends_extracted_5 = extract_diff_population(ends, 5)\n",
    "fig, ax = plt.subplots(figsize=(10,10))\n",
    "sns.heatmap(pd.DataFrame(ends_extracted_5, dtype=float), xticklabels = CMs, yticklabels = CMs, ax=ax).set_title('On how many days (across regions) did each NPI pair deactive within 5 days of each other?')"
   ]
  },
  {
   "cell_type": "markdown",
   "metadata": {},
   "source": [
    "### Country-specific joint activation/deactivation"
   ]
  },
  {
   "cell_type": "code",
   "execution_count": null,
   "metadata": {
    "pycharm": {
     "name": "#%%\n"
    }
   },
   "outputs": [],
   "source": [
    "df_uk = df[df['Country']=='England']\n",
    "df_de = df[df['Country']=='Germany']\n",
    "df_it = df[df['Country']=='Italy']\n",
    "df_at = df[df['Country']=='Austria']\n",
    "df_cz = df[df['Country']=='Czech']\n",
    "df_ch = df[df['Country']=='Switzerland']"
   ]
  },
  {
   "cell_type": "code",
   "execution_count": null,
   "metadata": {
    "pycharm": {
     "name": "#%%\n"
    }
   },
   "outputs": [],
   "source": [
    "# starts_uk = compute_start_dates(df_uk)\n",
    "# ends_uk = compute_end_dates(df_uk)\n",
    "# starts_de = compute_start_dates(df_de)\n",
    "# ends_de = compute_end_dates(df_de)\n",
    "# starts_it = compute_start_dates(df_it)\n",
    "# ends_it = compute_end_dates(df_it)\n",
    "# starts_at = compute_start_dates(df_at)\n",
    "# ends_at = compute_end_dates(df_at)\n",
    "# starts_cz = compute_start_dates(df_cz)\n",
    "# ends_cz = compute_end_dates(df_cz)\n",
    "starts_ch = compute_start_dates(df_ch)\n",
    "ends_ch = compute_end_dates(df_ch)\n",
    "starts_countries = [starts_at, starts_uk, starts_de, starts_it, starts_cz, starts_ch]\n",
    "ends_countries = [ends_at, ends_uk, ends_de, ends_it, ends_cz, ends_ch]"
   ]
  },
  {
   "cell_type": "code",
   "execution_count": null,
   "metadata": {
    "pycharm": {
     "name": "#%%\n"
    }
   },
   "outputs": [],
   "source": [
    "def plot_joint_activation_heatmap(data, country, threshold, activate, ax):\n",
    "    extracted = extract_diff_population(data, threshold)\n",
    "    sns.heatmap(pd.DataFrame(extracted, dtype=float), xticklabels = CMs, yticklabels = CMs, ax=ax).set_title('On how many days across regions in '+ country + ' did each NPI pair '+activate+' within '+ str(threshold) + ' days of one another?')\n",
    "def plot_all_joint_activation_heatmaps(threshold, activate = 'activate'):\n",
    "    fig = plt.figure(figsize=((10,80)))\n",
    "    fig.subplots_adjust(hspace=1)\n",
    "    fig_number = 0\n",
    "    for country in np.unique(df['Country']):\n",
    "        fig_number += 1\n",
    "        ax = fig.add_subplot(len(countries), 1, fig_number)\n",
    "        if activate=='activate':\n",
    "            data = starts_countries\n",
    "        else:\n",
    "            data = ends_countries\n",
    "        plot_joint_activation_heatmap(data[fig_number-1], country, threshold, activate, ax = ax)\n",
    "    plt.show()"
   ]
  },
  {
   "cell_type": "code",
   "execution_count": null,
   "metadata": {
    "pycharm": {
     "name": "#%%\n"
    }
   },
   "outputs": [],
   "source": [
    "plot_all_joint_activation_heatmaps(0.5)"
   ]
  },
  {
   "cell_type": "code",
   "execution_count": null,
   "metadata": {
    "pycharm": {
     "name": "#%%\n"
    }
   },
   "outputs": [],
   "source": [
    "plot_all_joint_activation_heatmaps(0.5, 'deactivate')\n"
   ]
  }
 ],
 "metadata": {
  "kernelspec": {
   "display_name": "PyCharm (COVID19NPISecondWave)",
   "language": "python",
   "name": "pycharm-d6daf54e"
  },
  "language_info": {
   "codemirror_mode": {
    "name": "ipython",
    "version": 2
   },
   "file_extension": ".py",
   "mimetype": "text/x-python",
   "name": "python",
   "nbconvert_exporter": "python",
   "pygments_lexer": "ipython2",
   "version": "2.7.6"
  }
 },
 "nbformat": 4,
 "nbformat_minor": 0
}