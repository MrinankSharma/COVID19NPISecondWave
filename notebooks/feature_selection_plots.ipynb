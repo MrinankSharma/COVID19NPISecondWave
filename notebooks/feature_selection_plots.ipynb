{
 "cells": [
  {
   "cell_type": "code",
   "execution_count": null,
   "metadata": {
    "pycharm": {
     "name": "#%%\n"
    }
   },
   "outputs": [],
   "source": []
  },
  {
   "cell_type": "markdown",
   "metadata": {},
   "source": [
    "# Masks"
   ]
  },
  {
   "cell_type": "code",
   "execution_count": null,
   "metadata": {
    "pycharm": {
     "name": "#%%\n"
    }
   },
   "outputs": [],
   "source": [
    "import numpy as np\n",
    "import pandas as pd\n",
    "import matplotlib.pyplot as plt\n",
    "import seaborn as sns\n",
    "sns.set_theme(style=\"ticks\", color_codes=True)\n",
    "import pylab as pl\n",
    "\n",
    "df = pd.read_csv('../data/all_merged_data.csv')\n",
    "CMs = df.columns[5:]\n",
    "countries = ['Austria', 'UK', 'Germany', 'Italy', 'Czech', 'Switzerland', 'Netherlands']"
   ]
  },
  {
   "cell_type": "code",
   "execution_count": null,
   "metadata": {
    "pycharm": {
     "name": "#%%\n"
    }
   },
   "outputs": [],
   "source": [
    "def make_bin(df, npi, limit):\n",
    "    data = df[npi]\n",
    "    rows = [i for i in range(len(data)) if int(data[i]) >= limit]\n",
    "    new_data = np.zeros_like(data)\n",
    "    new_data[rows] = 1\n",
    "    col_name = f'{npi}ed to {limit} or more'\n",
    "    df[col_name] = new_data\n",
    "    return df\n",
    "\n",
    "mask_npi = CMs[8]\n",
    "mask_limits = [2, 3, 4]\n",
    "\n",
    "def make_all_bins(df, mask_lims):\n",
    "    data = df\n",
    "    for lim in mask_lims:\n",
    "        data = make_bin(data, mask_npi, lim)\n",
    "    return data\n",
    "\n",
    "df = make_all_bins(df, mask_limits)\n",
    "df = df.drop(columns=CMs[:20])\n",
    "CMs = df.columns[5:]"
   ]
  },
  {
   "cell_type": "code",
   "execution_count": null,
   "metadata": {
    "pycharm": {
     "name": "#%%\n"
    }
   },
   "outputs": [],
   "source": [
    "def count_active_days_region(npi, country):\n",
    "    df_country = df[df['Country']==country]\n",
    "    #non_zero_rows = [ind for ind in range(df_country.shape[0]) if df_country[npi][ind] != 0]\n",
    "    non_zero_rows = df_country[df_country[npi] != 0]\n",
    "    regions = np.unique(df_country['Area'])\n",
    "    active_inds = []\n",
    "    for region in regions:\n",
    "        #active_ind = [ind for ind in non_zero_rows if df_country['Area'][ind] == region]\n",
    "        #active_ind = df_country.loc[df_country['Area'] == region]\n",
    "        active_rows = non_zero_rows[non_zero_rows['Area']==region]\n",
    "        count = active_rows.shape[0]\n",
    "        active_inds.append(count)\n",
    "    return regions, active_inds\n",
    "\n",
    "active_days_uk = [count_active_days_region(npi, 'England')[1] for npi in CMs]\n",
    "active_days_de = [count_active_days_region(npi, 'Germany')[1] for npi in CMs]\n",
    "active_days_at = [count_active_days_region(npi, 'Austria')[1] for npi in CMs]\n",
    "active_days_it = [count_active_days_region(npi, 'Italy')[1] for npi in CMs]\n",
    "active_days_cz = [count_active_days_region(npi, 'Czech')[1] for npi in CMs]\n",
    "active_days_ch = [count_active_days_region(npi, 'Switzerland')[1] for npi in CMs]\n",
    "active_days_nl = [count_active_days_region(npi, 'Netherlands')[1] for npi in CMs]\n",
    "# summing up counts from the regions for each npi:\n",
    "region_counts_uk = [sum(i) for i in active_days_uk]\n",
    "region_counts_de = [sum(i) for i in active_days_de]\n",
    "region_counts_at = [sum(i) for i in active_days_at]\n",
    "region_counts_it = [sum(i) for i in active_days_it]\n",
    "region_counts_cz = [sum(i) for i in active_days_cz]\n",
    "region_counts_ch = [sum(i) for i in active_days_ch]\n",
    "region_counts_nl = [sum(i) for i in active_days_nl]"
   ]
  },
  {
   "cell_type": "code",
   "execution_count": null,
   "metadata": {
    "pycharm": {
     "name": "#%%\n"
    }
   },
   "outputs": [],
   "source": [
    "region_counts = pd.DataFrame((region_counts_at, region_counts_uk,\n",
    "region_counts_de, region_counts_it, region_counts_cz, region_counts_ch, region_counts_nl)).T.set_index(CMs)\n",
    "region_counts.columns = countries\n",
    "region_counts.plot(kind='bar', stacked=True, title='Coloured bar length is the sum of days across the country\\'s regions that the NPI is active', figsize = (10,5))\n",
    "plt.show()\n",
    "region_counts_normalised = region_counts.div(region_counts.sum(axis=1), axis=0)\n",
    "fig, ax = plt.subplots(figsize=(10,10))\n",
    "sns.heatmap(region_counts_normalised, xticklabels = region_counts.columns, yticklabels = CMs, ax=ax).set_title('Active days attributable to each country')"
   ]
  },
  {
   "cell_type": "markdown",
   "metadata": {},
   "source": [
    "# Retail closure, all non-essential businesses closed, stay-at-home order\n"
   ]
  },
  {
   "cell_type": "code",
   "execution_count": null,
   "metadata": {
    "pycharm": {
     "name": "#%%\n"
    }
   },
   "outputs": [],
   "source": [
    "df = pd.read_csv('../data/all_merged_data.csv')\n",
    "CMs = df.columns[5:]\n",
    "df = df.drop(columns=CMs[:12])\n",
    "df = df.drop(columns=CMs[15:])\n",
    "CMs = df.columns[5:]"
   ]
  },
  {
   "cell_type": "code",
   "execution_count": null,
   "metadata": {
    "pycharm": {
     "name": "#%%\n"
    }
   },
   "outputs": [],
   "source": [
    "def get_active_dates_region(data, npi):\n",
    "    non_zero_dates = data['Date'][data[npi] != 0]\n",
    "    return non_zero_dates\n",
    "\n",
    "def intersect_npi_active_dates_region(active_days_1, active_days_2):\n",
    "    return set(active_days_1).intersection(set(active_days_2))\n",
    "\n",
    "def proportional_activation_region(active_days_1, active_days_2):\n",
    "    number_of_active_days = len(active_days_1)\n",
    "    if number_of_active_days == 0: return float('nan')\n",
    "    number_of_jointly_active_days = len(intersect_npi_active_dates_region(active_days_1, active_days_2))\n",
    "    return number_of_jointly_active_days/number_of_active_days\n",
    "\n",
    "def activation_difference_region(active_days_1, active_days_2):\n",
    "    return len(set(active_days_1) - set(active_days_2))\n",
    "\n",
    "def only_one_active_region(active_days_1, active_days_2):\n",
    "    return len(set(active_days_1) - set(active_days_2)) + len(set(active_days_2) - set(active_days_1))\n",
    "\n",
    "def find_conditional_activations(country):\n",
    "    regions = np.unique(df['Area'][df['Country']==country])\n",
    "    proportional_activations = np.empty((len(CMs),len(CMs)), dtype=object)\n",
    "    activation_differences = np.empty((len(CMs),len(CMs)), dtype=object)\n",
    "    single_activations = np.empty((len(CMs),len(CMs)), dtype=object)\n",
    "    count = 0\n",
    "    for region in regions:\n",
    "        data = df[df['Area']==region]\n",
    "        for i in range(len(CMs)):\n",
    "            for j in range(len(CMs)):\n",
    "                active_days_1 = get_active_dates_region(data, CMs[i])\n",
    "                active_days_2 = get_active_dates_region(data, CMs[j])\n",
    "                if count == 0:\n",
    "                    proportional_activations[i, j] = [proportional_activation_region(active_days_1, active_days_2)]\n",
    "                    activation_differences[i, j] = [activation_difference_region(active_days_1, active_days_2)]\n",
    "                    single_activations[i, j] = [only_one_active_region(active_days_1, active_days_2)]\n",
    "                else:\n",
    "                    proportional_activations[i, j].append(proportional_activation_region(active_days_1, active_days_2))\n",
    "                    activation_differences[i, j].append(activation_difference_region(active_days_1, active_days_2))\n",
    "                    single_activations[i, j].append(only_one_active_region(active_days_1, active_days_2))\n",
    "        count += 1\n",
    "    for i in range(len(CMs)):\n",
    "        for j in range(len(CMs)):\n",
    "            proportional_activations[i, j] = np.mean(proportional_activations[i, j])\n",
    "            activation_differences[i, j] = np.sum(activation_differences[i, j])\n",
    "            single_activations[i, j] = np.sum(single_activations[i, j])\n",
    "\n",
    "    return proportional_activations, activation_differences, single_activations\n",
    "\n",
    "def find_conditional_activations_total():\n",
    "\n",
    "    proportional_activations = np.empty((len(CMs),len(CMs)), dtype=object)\n",
    "    activation_differences = np.empty((len(CMs),len(CMs)), dtype=object)\n",
    "    single_activations = np.empty((len(CMs),len(CMs)), dtype=object)\n",
    "\n",
    "    countries = np.unique(df['Country'])\n",
    "    count = 0\n",
    "    for country in countries:\n",
    "        prop, act, single = find_conditional_activations(country)\n",
    "        for i in range(len(CMs)):\n",
    "            for j in range(len(CMs)):\n",
    "                if count == 0:\n",
    "                    proportional_activations[i, j] = [prop[i,j]]\n",
    "                    activation_differences[i, j] = [act[i,j]]\n",
    "                    single_activations[i, j] = [single[i,j]]\n",
    "                else:\n",
    "                    proportional_activations[i, j].append(prop[i,j])\n",
    "                    activation_differences[i, j].append(act[i,j])\n",
    "                    single_activations[i, j].append(single[i,j])\n",
    "        count += 1\n",
    "    for i in range(len(CMs)):\n",
    "        for j in range(len(CMs)):\n",
    "            proportional_activations[i, j] = np.nanmean(proportional_activations[i, j])\n",
    "            activation_differences[i, j] = np.sum(activation_differences[i, j])\n",
    "            single_activations[i, j] = np.sum(single_activations[i, j])\n",
    "\n",
    "    return proportional_activations, activation_differences, single_activations"
   ]
  },
  {
   "cell_type": "code",
   "execution_count": null,
   "metadata": {
    "pycharm": {
     "name": "#%%\n"
    }
   },
   "outputs": [],
   "source": [
    "prop, act, single = find_conditional_activations_total()\n",
    "sns.heatmap(pd.DataFrame(single, dtype=float), xticklabels = CMs, yticklabels = CMs, annot = True).set_title(': Number of days where exactly one of NPI X and NPI Y is active')\n",
    "plt.show()"
   ]
  },
  {
   "cell_type": "code",
   "execution_count": null,
   "metadata": {
    "pycharm": {
     "name": "#%%\n"
    }
   },
   "outputs": [],
   "source": [
    "def conditional_activation_plotter(country):\n",
    "    prop, act, single = find_conditional_activations(country)\n",
    "    sns.heatmap(pd.DataFrame(single, dtype=float), xticklabels = CMs, yticklabels = CMs, annot = True).set_title(country + ': Number of days where exactly one of NPI X and NPI Y is active')\n",
    "    plt.show()"
   ]
  },
  {
   "cell_type": "markdown",
   "metadata": {},
   "source": [
    "### Austria"
   ]
  },
  {
   "cell_type": "code",
   "execution_count": null,
   "metadata": {
    "pycharm": {
     "name": "#%%\n"
    }
   },
   "outputs": [],
   "source": [
    "conditional_activation_plotter('Austria')"
   ]
  },
  {
   "cell_type": "markdown",
   "metadata": {},
   "source": [
    "### England"
   ]
  },
  {
   "cell_type": "code",
   "execution_count": null,
   "metadata": {
    "pycharm": {
     "name": "#%%\n"
    }
   },
   "outputs": [],
   "source": [
    "conditional_activation_plotter('England')"
   ]
  },
  {
   "cell_type": "markdown",
   "metadata": {},
   "source": [
    "### Germany"
   ]
  },
  {
   "cell_type": "code",
   "execution_count": null,
   "metadata": {
    "pycharm": {
     "name": "#%%\n"
    }
   },
   "outputs": [],
   "source": [
    "conditional_activation_plotter('Germany')"
   ]
  },
  {
   "cell_type": "markdown",
   "metadata": {},
   "source": [
    "### Italy"
   ]
  },
  {
   "cell_type": "code",
   "execution_count": null,
   "metadata": {
    "pycharm": {
     "name": "#%%\n"
    }
   },
   "outputs": [],
   "source": [
    "conditional_activation_plotter('Italy')"
   ]
  },
  {
   "cell_type": "code",
   "execution_count": null,
   "metadata": {
    "pycharm": {
     "name": "#%%\n"
    }
   },
   "outputs": [],
   "source": [
    "conditional_activation_plotter('Czech')"
   ]
  },
  {
   "cell_type": "code",
   "execution_count": null,
   "metadata": {
    "pycharm": {
     "name": "#%%\n"
    }
   },
   "outputs": [],
   "source": [
    "conditional_activation_plotter('Switzerland')"
   ]
  },
  {
   "cell_type": "code",
   "execution_count": null,
   "metadata": {
    "pycharm": {
     "name": "#%%\n"
    }
   },
   "outputs": [],
   "source": [
    "conditional_activation_plotter('Netherlands')\n"
   ]
  },
  {
   "cell_type": "markdown",
   "metadata": {},
   "source": [
    "# Education"
   ]
  },
  {
   "cell_type": "code",
   "execution_count": null,
   "metadata": {
    "pycharm": {
     "name": "#%%\n"
    }
   },
   "outputs": [],
   "source": [
    "df = pd.read_csv('../data/all_merged_data.csv')\n",
    "CMs = df.columns[5:]\n",
    "df = df.drop(columns=CMs[:16])\n",
    "CMs = df.columns[5:]\n"
   ]
  },
  {
   "cell_type": "code",
   "execution_count": null,
   "metadata": {
    "pycharm": {
     "name": "#%%\n"
    }
   },
   "outputs": [],
   "source": [
    "prop, act, single = find_conditional_activations_total()\n",
    "sns.heatmap(pd.DataFrame(single, dtype=float), xticklabels = CMs, yticklabels = CMs, annot = True).set_title(': Number of days where exactly one of NPI X and NPI Y is active')\n",
    "plt.show()"
   ]
  },
  {
   "cell_type": "markdown",
   "metadata": {},
   "source": [
    "# Gatherings"
   ]
  },
  {
   "cell_type": "code",
   "execution_count": null,
   "metadata": {
    "pycharm": {
     "name": "#%%\n"
    }
   },
   "outputs": [],
   "source": [
    "df = pd.read_csv('../data/all_merged_data.csv')\n",
    "CMs = df.columns[5:]\n",
    "\n",
    "def make_bin(df, npi, limit):\n",
    "    data = df[npi]\n",
    "    rows = [i for i in range(len(data)) if data[i] > 0 and data[i] <= limit]\n",
    "    new_data = np.zeros_like(data)\n",
    "    new_data[rows] = 1\n",
    "    col_name = f'{npi}ed to {limit} or less'\n",
    "    df[col_name] = new_data\n",
    "    return df\n",
    "\n",
    "gathering_npis = [CMs[i] for i in [0,1,2,3]]\n",
    "\n",
    "def make_all_bins(df, gathering_lim):\n",
    "    data = df\n",
    "    for npi in gathering_npis:\n",
    "        data = make_bin(data, npi, gathering_lim)\n",
    "    return data"
   ]
  },
  {
   "cell_type": "code",
   "execution_count": null,
   "metadata": {
    "pycharm": {
     "name": "#%%\n"
    }
   },
   "outputs": [],
   "source": [
    "gathering_limits = [1, 5, 10, 30, 200, 1000]\n",
    "for i in range(len(gathering_limits)):\n",
    "    df = make_all_bins(df, gathering_limits[i])\n",
    "    df = df.drop(columns=CMs[:20])\n",
    "    CMs = df.columns[5:]\n",
    "    prop, act, single = find_conditional_activations_total()\n",
    "    sns.heatmap(pd.DataFrame(single, dtype=float), xticklabels = CMs, yticklabels = CMs, annot = True).set_title(': Number of days where exactly one of NPI X and NPI Y is active')\n",
    "    plt.show()\n",
    "    df = pd.read_csv('../data/all_merged_data.csv')\n",
    "    CMs = df.columns[5:]"
   ]
  }
 ],
 "metadata": {
  "kernelspec": {
   "display_name": "PyCharm (COVID19NPISecondWave)",
   "language": "python",
   "name": "pycharm-d6daf54e"
  },
  "language_info": {
   "codemirror_mode": {
    "name": "ipython",
    "version": 2
   },
   "file_extension": ".py",
   "mimetype": "text/x-python",
   "name": "python",
   "nbconvert_exporter": "python",
   "pygments_lexer": "ipython2",
   "version": "2.7.6"
  }
 },
 "nbformat": 4,
 "nbformat_minor": 0
}