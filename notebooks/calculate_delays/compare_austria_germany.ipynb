{
 "cells": [
  {
   "cell_type": "code",
   "execution_count": null,
   "metadata": {},
   "outputs": [],
   "source": [
    "import sys\n",
    "sys.path.append(\"../../\") "
   ]
  },
  {
   "cell_type": "code",
   "execution_count": null,
   "metadata": {},
   "outputs": [],
   "source": [
    "from epimodel.epiparam import EpidemiologicalParameters"
   ]
  },
  {
   "cell_type": "code",
   "execution_count": null,
   "metadata": {},
   "outputs": [],
   "source": [
    "ep = EpidemiologicalParameters()"
   ]
  },
  {
   "cell_type": "code",
   "execution_count": null,
   "metadata": {},
   "outputs": [],
   "source": [
    "import pandas as pd\n",
    "\n",
    "import numpy as np\n",
    "\n",
    "import seaborn as sns"
   ]
  },
  {
   "cell_type": "code",
   "execution_count": null,
   "metadata": {},
   "outputs": [],
   "source": [
    "germany_linelist = pd.read_csv('../../data/raw_data_w_sources/de_linelist.csv')"
   ]
  },
  {
   "cell_type": "code",
   "execution_count": null,
   "metadata": {},
   "outputs": [],
   "source": [
    "de_ll = germany_linelist.rename({'Meldedatum': 'confirmation date', 'IstErkrankungsbeginn': 'valid', 'Refdatum': 'onsetdate'}, axis=1)"
   ]
  },
  {
   "cell_type": "code",
   "execution_count": null,
   "metadata": {},
   "outputs": [],
   "source": [
    "de_ll = de_ll[de_ll['valid']==1]"
   ]
  },
  {
   "cell_type": "code",
   "execution_count": null,
   "metadata": {},
   "outputs": [],
   "source": [
    "dates_df = de_ll[['confirmation date', 'onsetdate']]"
   ]
  },
  {
   "cell_type": "code",
   "execution_count": null,
   "metadata": {},
   "outputs": [],
   "source": [
    "dates_df['confirmation date'] = pd.to_datetime(dates_df['confirmation date'])\n",
    "dates_df['onsetdate'] = pd.to_datetime(dates_df['onsetdate'])"
   ]
  },
  {
   "cell_type": "code",
   "execution_count": null,
   "metadata": {},
   "outputs": [],
   "source": [
    "dates_df = dates_df[dates_df['onsetdate'] > '2020/08/01']"
   ]
  },
  {
   "cell_type": "code",
   "execution_count": null,
   "metadata": {},
   "outputs": [],
   "source": [
    "days = (dates_df['confirmation date'] - dates_df['onsetdate']).to_numpy().astype('timedelta64[D]').astype(np.float32)"
   ]
  },
  {
   "cell_type": "code",
   "execution_count": null,
   "metadata": {},
   "outputs": [],
   "source": [
    "days[days>64] = 0\n",
    "days[days<0] = 0"
   ]
  },
  {
   "cell_type": "code",
   "execution_count": null,
   "metadata": {},
   "outputs": [],
   "source": [
    "np.var(days)"
   ]
  },
  {
   "cell_type": "code",
   "execution_count": null,
   "metadata": {},
   "outputs": [],
   "source": [
    "np.mean(days)"
   ]
  },
  {
   "cell_type": "code",
   "execution_count": null,
   "metadata": {},
   "outputs": [],
   "source": [
    "infection_to_confirmation = {\n",
    "    'mean': np.mean(days),\n",
    "    'sd' :np.std(days),\n",
    "    'dist': 'gamma'\n",
    "}"
   ]
  },
  {
   "cell_type": "code",
   "execution_count": null,
   "metadata": {},
   "outputs": [],
   "source": [
    "incubation = {\n",
    "    'mean' :5.1,\n",
    "    'sd': 5.1*0.86,\n",
    "    'dist': 'gamma'\n",
    "}"
   ]
  },
  {
   "cell_type": "code",
   "execution_count": null,
   "metadata": {},
   "outputs": [],
   "source": [
    "s = ep.generate_dist_samples(infection_to_confirmation, int(1e9)) + ep.generate_dist_samples(incubation, int(1e9))"
   ]
  },
  {
   "cell_type": "code",
   "execution_count": null,
   "metadata": {},
   "outputs": [],
   "source": [
    "germany_pmf = ep.discretise_samples(s, 64)"
   ]
  },
  {
   "cell_type": "code",
   "execution_count": null,
   "metadata": {},
   "outputs": [],
   "source": [
    "austria_pmf = [8.5e-4, 5.76e-3, 1.96e-2, 4.34e-2, 6.99e-2, 9.16e-2, 1.03e-1, 1.05e-1, 9.86e-2, 8.8e-2, 7.53e-2, 6.23e-2, \n",
    "               5.04e-2, 4.01e-2, 3.18e-2, 2.49e-2, 1.9e-2, 1.47e-2, 1.12e-2, 8.63e-3, 6.54e-3, 5.13e-3, 3.85e-3, 2.9e-3,\n",
    "               2.34e-3, 1.84e-3, 1.42e-3, 1.09e-3, 9e-4]"
   ]
  },
  {
   "cell_type": "code",
   "execution_count": null,
   "metadata": {},
   "outputs": [],
   "source": [
    "import matplotlib.pyplot as plt"
   ]
  },
  {
   "cell_type": "code",
   "execution_count": null,
   "metadata": {},
   "outputs": [],
   "source": [
    "ep.generate_pmf_statistics_str(germany_pmf.flatten())"
   ]
  },
  {
   "cell_type": "code",
   "execution_count": null,
   "metadata": {},
   "outputs": [],
   "source": [
    "ep.generate_pmf_statistics_str(np.array(austria_pmf))"
   ]
  },
  {
   "cell_type": "code",
   "execution_count": null,
   "metadata": {},
   "outputs": [],
   "source": [
    "plt.plot(germany_pmf.T, label='Germany Linelist')\n",
    "plt.plot(austria_pmf, label='Austria (from ICL website)')\n",
    "plt.title('Infection to Confirmation')\n",
    "plt.legend()\n",
    "plt.xlim([0, 32])"
   ]
  },
  {
   "cell_type": "code",
   "execution_count": null,
   "metadata": {},
   "outputs": [],
   "source": [
    "sns.histplot(days)"
   ]
  },
  {
   "cell_type": "code",
   "execution_count": null,
   "metadata": {},
   "outputs": [],
   "source": []
  }
 ],
 "metadata": {
  "kernelspec": {
   "display_name": "Python 3",
   "language": "python",
   "name": "python3"
  },
  "language_info": {
   "codemirror_mode": {
    "name": "ipython",
    "version": 3
   },
   "file_extension": ".py",
   "mimetype": "text/x-python",
   "name": "python",
   "nbconvert_exporter": "python",
   "pygments_lexer": "ipython3",
   "version": "3.8.3"
  }
 },
 "nbformat": 4,
 "nbformat_minor": 4
}
