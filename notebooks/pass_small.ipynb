{
 "cells": [
  {
   "cell_type": "code",
   "execution_count": 5,
   "metadata": {},
   "outputs": [],
   "source": [
    "import sys\n",
    "sys.path.append(\"../\") "
   ]
  },
  {
   "cell_type": "code",
   "execution_count": 6,
   "metadata": {},
   "outputs": [],
   "source": [
    "import pandas as pd\n",
    "import numpy as np"
   ]
  },
  {
   "cell_type": "code",
   "execution_count": 7,
   "metadata": {},
   "outputs": [],
   "source": [
    "from epimodel.preprocessing import preprocess_data\n",
    "from epimodel.epiparam import EpidemiologicalParameters"
   ]
  },
  {
   "cell_type": "code",
   "execution_count": 8,
   "metadata": {},
   "outputs": [],
   "source": [
    "data = preprocess_data(\"../data/synth_data_small.csv\")"
   ]
  },
  {
   "cell_type": "code",
   "execution_count": 9,
   "metadata": {},
   "outputs": [],
   "source": [
    "ep = EpidemiologicalParameters()"
   ]
  },
  {
   "cell_type": "markdown",
   "metadata": {},
   "source": [
    "# construct model"
   ]
  },
  {
   "cell_type": "code",
   "execution_count": 25,
   "metadata": {},
   "outputs": [],
   "source": [
    "nRs = 40\n",
    "nDs = 114"
   ]
  },
  {
   "cell_type": "code",
   "execution_count": 81,
   "metadata": {},
   "outputs": [],
   "source": [
    "nNP = jnp.ceil(nDs / 7)\n",
    "\n",
    "noise = np.random.normal(size=(40, int(nNP)))"
   ]
  },
  {
   "cell_type": "code",
   "execution_count": null,
   "metadata": {},
   "outputs": [],
   "source": []
  },
  {
   "cell_type": "code",
   "execution_count": 82,
   "metadata": {},
   "outputs": [
    {
     "data": {
      "text/plain": [
       "[<matplotlib.lines.Line2D at 0x158d601c0>,\n",
       " <matplotlib.lines.Line2D at 0x158d602b0>,\n",
       " <matplotlib.lines.Line2D at 0x158d60370>,\n",
       " <matplotlib.lines.Line2D at 0x158d60430>,\n",
       " <matplotlib.lines.Line2D at 0x158d604f0>,\n",
       " <matplotlib.lines.Line2D at 0x158d605b0>,\n",
       " <matplotlib.lines.Line2D at 0x158d60670>,\n",
       " <matplotlib.lines.Line2D at 0x158d60730>,\n",
       " <matplotlib.lines.Line2D at 0x158d607f0>,\n",
       " <matplotlib.lines.Line2D at 0x158d608b0>,\n",
       " <matplotlib.lines.Line2D at 0x158c70d00>]"
      ]
     },
     "execution_count": 82,
     "metadata": {},
     "output_type": "execute_result"
    },
    {
     "data": {
      "image/png": "[encoded data removed]",
      "text/plain": [
       "<Figure size 432x288 with 1 Axes>"
      ]
     },
     "metadata": {
      "needs_background": "light"
     },
     "output_type": "display_data"
    }
   ],
   "source": [
    "plt.plot(np.exp(np.repeat(np.cumsum(noise * 0.25, axis=-1), 7, axis=-1)[:data.nRs, :data.nDs].T))"
   ]
  },
  {
   "cell_type": "code",
   "execution_count": null,
   "metadata": {},
   "outputs": [],
   "source": [
    "log_Rt_noise = r_walk_noise_scale * jnp.repeat(jnp.cumsum(noisepoint_log_Rt_noise_series, axis=-1), noise_scale_period, axis=-1)"
   ]
  },
  {
   "cell_type": "code",
   "execution_count": 21,
   "metadata": {},
   "outputs": [],
   "source": [
    "x = np.array([[1, 2], [3, 4]])"
   ]
  },
  {
   "cell_type": "code",
   "execution_count": 24,
   "metadata": {},
   "outputs": [
    {
     "data": {
      "text/plain": [
       "array([[1, 1, 1, 1, 1, 1, 1, 2, 2, 2, 2, 2, 2, 2],\n",
       "       [3, 3, 3, 3, 3, 3, 3, 4, 4, 4, 4, 4, 4, 4]])"
      ]
     },
     "execution_count": 24,
     "metadata": {},
     "output_type": "execute_result"
    }
   ],
   "source": [
    "x.repeat(7, axis=1)"
   ]
  },
  {
   "cell_type": "code",
   "execution_count": 10,
   "metadata": {},
   "outputs": [],
   "source": [
    "import numpyro\n",
    "from numpyro.infer import MCMC, NUTS, Predictive\n",
    "import numpyro.distributions as dist\n",
    "from jax import random\n",
    "import jax.numpy as jnp\n",
    "import jax.scipy.signal as jss\n",
    "\n",
    "import jax\n",
    "\n",
    "import numpy as np\n",
    "import matplotlib.pyplot as plt\n",
    "import seaborn as sns"
   ]
  },
  {
   "cell_type": "code",
   "execution_count": 18,
   "metadata": {},
   "outputs": [],
   "source": [
    "def model(data, ep, ar_noise=0.01, ifr_noise=0.01, r_noise_scale=0.05):\n",
    "    # data has nCMs, nRs, nDs as attributes\n",
    "    alpha_i = numpyro.sample(\"alpha_i\", dist.TruncatedNormal(low=-0.1, loc=np.zeros(data.nCMs), scale=0.2)) \n",
    "    cm_reduction = jnp.sum(data.active_cms * alpha_i.reshape((1, data.nCMs, 1)), axis=1)\n",
    "    \n",
    "    basic_R_variation = numpyro.sample(\"basic_R_variation\", dist.HalfNormal(5))\n",
    "    basic_R = numpyro.sample(\"R_base\", dist.TruncatedNormal(low=0.1, loc=1.5*jnp.ones(data.nRs), scale=basic_R_variation))\n",
    "    log_Rt_noise = numpyro.sample(\"log_Rt_noise\", dist.Normal(loc=np.zeros((data.nRs, data.nDs))))\n",
    "    log_Rt = jnp.log(basic_R.reshape((data.nRs, 1))) - cm_reduction + log_Rt_noise * r_noise_scale\n",
    "    \n",
    "    Rt = numpyro.deterministic('Rt', jnp.exp(log_Rt)) # nRs x nDs\n",
    "    \n",
    "    seeding_padding = 7\n",
    "    total_padding = ep.GIv.size-1\n",
    "    \n",
    "    seeding_scale = numpyro.sample(\"seeding_scale\", dist.HalfNormal(3))\n",
    "    seeding = numpyro.sample(\"seeding\", dist.LogNormal(jnp.zeros((data.nRs, 1)), scale=seeding_scale))\n",
    "    \n",
    "    init_infections = jnp.zeros((data.nRs, total_padding))\n",
    "    init_infections = jax.ops.index_add(init_infections, jax.ops.index[:, -seeding_padding:], jnp.repeat(seeding, seeding_padding, axis=-1))\n",
    "    \n",
    "    total_infections = jnp.zeros((data.nRs, seeding_padding + data.nDs))\n",
    "    \n",
    "    infection_noise_scale = numpyro.sample(\"infection_noise_scale\", dist.HalfNormal(3))\n",
    "    infection_noise = numpyro.sample(\"infection_noise\", dist.HalfNormal(infection_noise_scale*jnp.ones((data.nRs, data.nDs))))\n",
    "    \n",
    "    def discrete_renewal_transition(infections, R_with_noise_tuple):\n",
    "        # infections is an nR x total_padding size array of infections in the previous \n",
    "        # total_padding days. \n",
    "        R, inf_noise = R_with_noise_tuple\n",
    "        new_infections = infections @ ep.GI_projmat\n",
    "        new_infections = jax.ops.index_update(new_infections, jax.ops.index[:, -1], jnp.multiply(new_infections[:, -1], R) + inf_noise)\n",
    "        return new_infections, new_infections[:, -1]\n",
    "    \n",
    "    # we need to transpose R because jax.lax.scan scans over the first dimension. We want to scan over time\n",
    "    # we also will transpose infections at the end \n",
    "    _, infections = jax.lax.scan(discrete_renewal_transition, init_infections, [Rt.T, infection_noise.T])\n",
    "    \n",
    "    total_infections = jax.ops.index_update(total_infections, jax.ops.index[:, :seeding_padding], init_infections[:, -seeding_padding:])\n",
    "    total_infections = jax.ops.index_update(total_infections, jax.ops.index[:, seeding_padding:], infections.T)\n",
    "    \n",
    "    total_infections = numpyro.deterministic('total_infections', total_infections)\n",
    "    \n",
    "    ar_rw = numpyro.sample(\"ar_rw\", dist.Normal(np.zeros((data.nRs, data.nDs+seeding_padding)), ar_noise))\n",
    "    # i.e., ar_0 is 1.\n",
    "    ar_t = numpyro.deterministic('ar_t', jnp.exp(jnp.cumsum(ar_rw, axis=-1)))\n",
    "    \n",
    "    # lazy - probably can do better than uniform. \n",
    "    ifr_0 = numpyro.sample(\"ifr_0\", dist.Uniform(low=0.01, high=np.ones((data.nRs, 1))))\n",
    "    ifr_rw = numpyro.sample(\"ifr_rw\", dist.Normal(np.zeros((data.nRs, data.nDs+seeding_padding)), ifr_noise)) \n",
    "    ifr_t = numpyro.deterministic('ifr_t', ifr_0 * jnp.exp(jnp.cumsum(ifr_rw, axis=-1)))\n",
    "\n",
    "    future_cases_t = numpyro.deterministic('future_cases_t', jnp.multiply(total_infections, ar_t))\n",
    "    future_deaths_t = numpyro.deterministic('future_deaths_t', jnp.multiply(total_infections, ifr_t))\n",
    "        \n",
    "    expected_cases = numpyro.deterministic('expected_cases', jss.convolve2d(future_cases_t, ep.DPCv, mode='full')[:, seeding_padding:data.nDs+seeding_padding])\n",
    "    expected_deaths = numpyro.deterministic('expected_deaths', jss.convolve2d(future_deaths_t, ep.DPDv, mode='full')[:, seeding_padding:data.nDs+seeding_padding])\n",
    "    psi_cases = numpyro.sample(\"psi_cases\", dist.HalfNormal(5))\n",
    "    psi_deaths = numpyro.sample(\"psi_deaths\", dist.HalfNormal(5))\n",
    "    \n",
    "    with numpyro.handlers.mask(mask=np.logical_not(data.new_cases.mask)):\n",
    "        observed_cases = numpyro.sample(\"observed_cases\", dist.GammaPoisson(concentration=psi_cases, rate=psi_cases/expected_cases), obs=data.new_cases.data)\n",
    "        \n",
    "    with numpyro.handlers.mask(mask=np.logical_not(data.new_deaths.mask)):\n",
    "        observed_deaths = numpyro.sample(\"observed_deaths\", dist.GammaPoisson(concentration=psi_deaths, rate=psi_deaths/expected_deaths), obs=data.new_deaths.data)"
   ]
  },
  {
   "cell_type": "code",
   "execution_count": 19,
   "metadata": {},
   "outputs": [],
   "source": [
    "from numpyro.infer import init_to_median"
   ]
  },
  {
   "cell_type": "code",
   "execution_count": 20,
   "metadata": {},
   "outputs": [
    {
     "name": "stderr",
     "output_type": "stream",
     "text": [
      "warmup:   0%|          | 45/10000 [01:39<6:07:36,  2.22s/it, 1023 steps of size 1.82e-03. acc. prob=0.72]\n"
     ]
    },
    {
     "ename": "KeyboardInterrupt",
     "evalue": "",
     "output_type": "error",
     "traceback": [
      "\u001b[0;31m---------------------------------------------------------------------------\u001b[0m",
      "\u001b[0;31mKeyboardInterrupt\u001b[0m                         Traceback (most recent call last)",
      "\u001b[0;32m<ipython-input-20-7f51a45bab0f>\u001b[0m in \u001b[0;36m<module>\u001b[0;34m\u001b[0m\n\u001b[1;32m      5\u001b[0m \u001b[0;34m\u001b[0m\u001b[0m\n\u001b[1;32m      6\u001b[0m \u001b[0;32mwith\u001b[0m \u001b[0mnumpyro\u001b[0m\u001b[0;34m.\u001b[0m\u001b[0mvalidation_enabled\u001b[0m\u001b[0;34m(\u001b[0m\u001b[0;34m)\u001b[0m\u001b[0;34m:\u001b[0m\u001b[0;34m\u001b[0m\u001b[0;34m\u001b[0m\u001b[0m\n\u001b[0;32m----> 7\u001b[0;31m     \u001b[0mres\u001b[0m \u001b[0;34m=\u001b[0m \u001b[0mmcmc\u001b[0m\u001b[0;34m.\u001b[0m\u001b[0mrun\u001b[0m\u001b[0;34m(\u001b[0m\u001b[0mrng_key\u001b[0m\u001b[0;34m,\u001b[0m \u001b[0mdata\u001b[0m\u001b[0;34m,\u001b[0m \u001b[0mep\u001b[0m\u001b[0;34m)\u001b[0m\u001b[0;34m\u001b[0m\u001b[0;34m\u001b[0m\u001b[0m\n\u001b[0m\u001b[1;32m      8\u001b[0m \u001b[0;34m\u001b[0m\u001b[0m\n\u001b[1;32m      9\u001b[0m \u001b[0mposterior_samples\u001b[0m \u001b[0;34m=\u001b[0m \u001b[0mmcmc\u001b[0m\u001b[0;34m.\u001b[0m\u001b[0mget_samples\u001b[0m\u001b[0;34m(\u001b[0m\u001b[0mnp\u001b[0m\u001b[0;34m.\u001b[0m\u001b[0marray\u001b[0m\u001b[0;34m(\u001b[0m\u001b[0;34m[\u001b[0m\u001b[0;36m0\u001b[0m\u001b[0;34m]\u001b[0m\u001b[0;34m)\u001b[0m\u001b[0;34m)\u001b[0m\u001b[0;34m\u001b[0m\u001b[0;34m\u001b[0m\u001b[0m\n",
      "\u001b[0;32m~/Library/Caches/pypoetry/virtualenvs/covid19npisecondwave-AvRpmSJm-py3.8/lib/python3.8/site-packages/numpyro/infer/mcmc.py\u001b[0m in \u001b[0;36mrun\u001b[0;34m(self, rng_key, extra_fields, init_params, *args, **kwargs)\u001b[0m\n\u001b[1;32m    447\u001b[0m         \u001b[0mmap_args\u001b[0m \u001b[0;34m=\u001b[0m \u001b[0;34m(\u001b[0m\u001b[0mrng_key\u001b[0m\u001b[0;34m,\u001b[0m \u001b[0minit_state\u001b[0m\u001b[0;34m,\u001b[0m \u001b[0minit_params\u001b[0m\u001b[0;34m)\u001b[0m\u001b[0;34m\u001b[0m\u001b[0;34m\u001b[0m\u001b[0m\n\u001b[1;32m    448\u001b[0m         \u001b[0;32mif\u001b[0m \u001b[0mself\u001b[0m\u001b[0;34m.\u001b[0m\u001b[0mnum_chains\u001b[0m \u001b[0;34m==\u001b[0m \u001b[0;36m1\u001b[0m\u001b[0;34m:\u001b[0m\u001b[0;34m\u001b[0m\u001b[0;34m\u001b[0m\u001b[0m\n\u001b[0;32m--> 449\u001b[0;31m             \u001b[0mstates_flat\u001b[0m\u001b[0;34m,\u001b[0m \u001b[0mlast_state\u001b[0m \u001b[0;34m=\u001b[0m \u001b[0mpartial_map_fn\u001b[0m\u001b[0;34m(\u001b[0m\u001b[0mmap_args\u001b[0m\u001b[0;34m)\u001b[0m\u001b[0;34m\u001b[0m\u001b[0;34m\u001b[0m\u001b[0m\n\u001b[0m\u001b[1;32m    450\u001b[0m             \u001b[0mstates\u001b[0m \u001b[0;34m=\u001b[0m \u001b[0mtree_map\u001b[0m\u001b[0;34m(\u001b[0m\u001b[0;32mlambda\u001b[0m \u001b[0mx\u001b[0m\u001b[0;34m:\u001b[0m \u001b[0mx\u001b[0m\u001b[0;34m[\u001b[0m\u001b[0mjnp\u001b[0m\u001b[0;34m.\u001b[0m\u001b[0mnewaxis\u001b[0m\u001b[0;34m,\u001b[0m \u001b[0;34m...\u001b[0m\u001b[0;34m]\u001b[0m\u001b[0;34m,\u001b[0m \u001b[0mstates_flat\u001b[0m\u001b[0;34m)\u001b[0m\u001b[0;34m\u001b[0m\u001b[0;34m\u001b[0m\u001b[0m\n\u001b[1;32m    451\u001b[0m         \u001b[0;32melse\u001b[0m\u001b[0;34m:\u001b[0m\u001b[0;34m\u001b[0m\u001b[0;34m\u001b[0m\u001b[0m\n",
      "\u001b[0;32m~/Library/Caches/pypoetry/virtualenvs/covid19npisecondwave-AvRpmSJm-py3.8/lib/python3.8/site-packages/numpyro/infer/mcmc.py\u001b[0m in \u001b[0;36m_single_chain_mcmc\u001b[0;34m(self, init, args, kwargs, collect_fields)\u001b[0m\n\u001b[1;32m    321\u001b[0m         \u001b[0mupper_idx\u001b[0m \u001b[0;34m=\u001b[0m \u001b[0mself\u001b[0m\u001b[0;34m.\u001b[0m\u001b[0m_collection_params\u001b[0m\u001b[0;34m[\u001b[0m\u001b[0;34m\"upper\"\u001b[0m\u001b[0;34m]\u001b[0m\u001b[0;34m\u001b[0m\u001b[0;34m\u001b[0m\u001b[0m\n\u001b[1;32m    322\u001b[0m \u001b[0;34m\u001b[0m\u001b[0m\n\u001b[0;32m--> 323\u001b[0;31m         collect_vals = fori_collect(lower_idx,\n\u001b[0m\u001b[1;32m    324\u001b[0m                                     \u001b[0mupper_idx\u001b[0m\u001b[0;34m,\u001b[0m\u001b[0;34m\u001b[0m\u001b[0;34m\u001b[0m\u001b[0m\n\u001b[1;32m    325\u001b[0m                                     \u001b[0mself\u001b[0m\u001b[0;34m.\u001b[0m\u001b[0m_get_cached_fn\u001b[0m\u001b[0;34m(\u001b[0m\u001b[0;34m)\u001b[0m\u001b[0;34m,\u001b[0m\u001b[0;34m\u001b[0m\u001b[0;34m\u001b[0m\u001b[0m\n",
      "\u001b[0;32m~/Library/Caches/pypoetry/virtualenvs/covid19npisecondwave-AvRpmSJm-py3.8/lib/python3.8/site-packages/numpyro/util.py\u001b[0m in \u001b[0;36mfori_collect\u001b[0;34m(lower, upper, body_fun, init_val, transform, progbar, return_last_val, collection_size, **progbar_opts)\u001b[0m\n\u001b[1;32m    227\u001b[0m                     \u001b[0mt\u001b[0m\u001b[0;34m.\u001b[0m\u001b[0mset_description\u001b[0m\u001b[0;34m(\u001b[0m\u001b[0mprogbar_desc\u001b[0m\u001b[0;34m(\u001b[0m\u001b[0mi\u001b[0m\u001b[0;34m)\u001b[0m\u001b[0;34m,\u001b[0m \u001b[0mrefresh\u001b[0m\u001b[0;34m=\u001b[0m\u001b[0;32mFalse\u001b[0m\u001b[0;34m)\u001b[0m\u001b[0;34m\u001b[0m\u001b[0;34m\u001b[0m\u001b[0m\n\u001b[1;32m    228\u001b[0m                     \u001b[0;32mif\u001b[0m \u001b[0mdiagnostics_fn\u001b[0m\u001b[0;34m:\u001b[0m\u001b[0;34m\u001b[0m\u001b[0;34m\u001b[0m\u001b[0m\n\u001b[0;32m--> 229\u001b[0;31m                         \u001b[0mt\u001b[0m\u001b[0;34m.\u001b[0m\u001b[0mset_postfix_str\u001b[0m\u001b[0;34m(\u001b[0m\u001b[0mdiagnostics_fn\u001b[0m\u001b[0;34m(\u001b[0m\u001b[0mvals\u001b[0m\u001b[0;34m[\u001b[0m\u001b[0;36m0\u001b[0m\u001b[0;34m]\u001b[0m\u001b[0;34m)\u001b[0m\u001b[0;34m,\u001b[0m \u001b[0mrefresh\u001b[0m\u001b[0;34m=\u001b[0m\u001b[0;32mFalse\u001b[0m\u001b[0;34m)\u001b[0m\u001b[0;34m\u001b[0m\u001b[0;34m\u001b[0m\u001b[0m\n\u001b[0m\u001b[1;32m    230\u001b[0m \u001b[0;34m\u001b[0m\u001b[0m\n\u001b[1;32m    231\u001b[0m         \u001b[0mlast_val\u001b[0m\u001b[0;34m,\u001b[0m \u001b[0mcollection\u001b[0m\u001b[0;34m,\u001b[0m \u001b[0m_\u001b[0m \u001b[0;34m=\u001b[0m \u001b[0mvals\u001b[0m\u001b[0;34m\u001b[0m\u001b[0;34m\u001b[0m\u001b[0m\n",
      "\u001b[0;32m~/Library/Caches/pypoetry/virtualenvs/covid19npisecondwave-AvRpmSJm-py3.8/lib/python3.8/site-packages/numpyro/infer/mcmc.py\u001b[0m in \u001b[0;36m<lambda>\u001b[0;34m(x)\u001b[0m\n\u001b[1;32m    316\u001b[0m         \u001b[0;32melse\u001b[0m\u001b[0;34m:\u001b[0m\u001b[0;34m\u001b[0m\u001b[0;34m\u001b[0m\u001b[0m\n\u001b[1;32m    317\u001b[0m             \u001b[0mpostprocess_fn\u001b[0m \u001b[0;34m=\u001b[0m \u001b[0mself\u001b[0m\u001b[0;34m.\u001b[0m\u001b[0mpostprocess_fn\u001b[0m\u001b[0;34m\u001b[0m\u001b[0;34m\u001b[0m\u001b[0m\n\u001b[0;32m--> 318\u001b[0;31m         \u001b[0mdiagnostics\u001b[0m \u001b[0;34m=\u001b[0m \u001b[0;32mlambda\u001b[0m \u001b[0mx\u001b[0m\u001b[0;34m:\u001b[0m \u001b[0mself\u001b[0m\u001b[0;34m.\u001b[0m\u001b[0msampler\u001b[0m\u001b[0;34m.\u001b[0m\u001b[0mget_diagnostics_str\u001b[0m\u001b[0;34m(\u001b[0m\u001b[0mx\u001b[0m\u001b[0;34m[\u001b[0m\u001b[0;36m0\u001b[0m\u001b[0;34m]\u001b[0m\u001b[0;34m)\u001b[0m \u001b[0;32mif\u001b[0m \u001b[0mrng_key\u001b[0m\u001b[0;34m.\u001b[0m\u001b[0mndim\u001b[0m \u001b[0;34m==\u001b[0m \u001b[0;36m1\u001b[0m \u001b[0;32melse\u001b[0m \u001b[0;34m''\u001b[0m   \u001b[0;31m# noqa: E731\u001b[0m\u001b[0;34m\u001b[0m\u001b[0;34m\u001b[0m\u001b[0m\n\u001b[0m\u001b[1;32m    319\u001b[0m         \u001b[0minit_val\u001b[0m \u001b[0;34m=\u001b[0m \u001b[0;34m(\u001b[0m\u001b[0minit_state\u001b[0m\u001b[0;34m,\u001b[0m \u001b[0margs\u001b[0m\u001b[0;34m,\u001b[0m \u001b[0mkwargs\u001b[0m\u001b[0;34m)\u001b[0m \u001b[0;32mif\u001b[0m \u001b[0mself\u001b[0m\u001b[0;34m.\u001b[0m\u001b[0m_jit_model_args\u001b[0m \u001b[0;32melse\u001b[0m \u001b[0;34m(\u001b[0m\u001b[0minit_state\u001b[0m\u001b[0;34m,\u001b[0m\u001b[0;34m)\u001b[0m\u001b[0;34m\u001b[0m\u001b[0;34m\u001b[0m\u001b[0m\n\u001b[1;32m    320\u001b[0m         \u001b[0mlower_idx\u001b[0m \u001b[0;34m=\u001b[0m \u001b[0mself\u001b[0m\u001b[0;34m.\u001b[0m\u001b[0m_collection_params\u001b[0m\u001b[0;34m[\u001b[0m\u001b[0;34m\"lower\"\u001b[0m\u001b[0;34m]\u001b[0m\u001b[0;34m\u001b[0m\u001b[0;34m\u001b[0m\u001b[0m\n",
      "\u001b[0;32m~/Library/Caches/pypoetry/virtualenvs/covid19npisecondwave-AvRpmSJm-py3.8/lib/python3.8/site-packages/numpyro/infer/hmc.py\u001b[0m in \u001b[0;36mget_diagnostics_str\u001b[0;34m(self, state)\u001b[0m\n\u001b[1;32m    437\u001b[0m \u001b[0;34m\u001b[0m\u001b[0m\n\u001b[1;32m    438\u001b[0m     \u001b[0;32mdef\u001b[0m \u001b[0mget_diagnostics_str\u001b[0m\u001b[0;34m(\u001b[0m\u001b[0mself\u001b[0m\u001b[0;34m,\u001b[0m \u001b[0mstate\u001b[0m\u001b[0;34m)\u001b[0m\u001b[0;34m:\u001b[0m\u001b[0;34m\u001b[0m\u001b[0;34m\u001b[0m\u001b[0m\n\u001b[0;32m--> 439\u001b[0;31m         return '{} steps of size {:.2e}. acc. prob={:.2f}'.format(state.num_steps,\n\u001b[0m\u001b[1;32m    440\u001b[0m                                                                   \u001b[0mstate\u001b[0m\u001b[0;34m.\u001b[0m\u001b[0madapt_state\u001b[0m\u001b[0;34m.\u001b[0m\u001b[0mstep_size\u001b[0m\u001b[0;34m,\u001b[0m\u001b[0;34m\u001b[0m\u001b[0;34m\u001b[0m\u001b[0m\n\u001b[1;32m    441\u001b[0m                                                                   state.mean_accept_prob)\n",
      "\u001b[0;32m~/Library/Caches/pypoetry/virtualenvs/covid19npisecondwave-AvRpmSJm-py3.8/lib/python3.8/site-packages/jax/interpreters/xla.py\u001b[0m in \u001b[0;36m__format__\u001b[0;34m(self, format_spec)\u001b[0m\n\u001b[1;32m   1117\u001b[0m     \u001b[0;31m# Simulates behavior of https://github.com/numpy/numpy/pull/9883\u001b[0m\u001b[0;34m\u001b[0m\u001b[0;34m\u001b[0m\u001b[0;34m\u001b[0m\u001b[0m\n\u001b[1;32m   1118\u001b[0m     \u001b[0;32mif\u001b[0m \u001b[0mself\u001b[0m\u001b[0;34m.\u001b[0m\u001b[0mndim\u001b[0m \u001b[0;34m==\u001b[0m \u001b[0;36m0\u001b[0m\u001b[0;34m:\u001b[0m\u001b[0;34m\u001b[0m\u001b[0;34m\u001b[0m\u001b[0m\n\u001b[0;32m-> 1119\u001b[0;31m       \u001b[0;32mreturn\u001b[0m \u001b[0mformat\u001b[0m\u001b[0;34m(\u001b[0m\u001b[0mself\u001b[0m\u001b[0;34m.\u001b[0m\u001b[0m_value\u001b[0m\u001b[0;34m[\u001b[0m\u001b[0;34m(\u001b[0m\u001b[0;34m)\u001b[0m\u001b[0;34m]\u001b[0m\u001b[0;34m,\u001b[0m \u001b[0mformat_spec\u001b[0m\u001b[0;34m)\u001b[0m\u001b[0;34m\u001b[0m\u001b[0;34m\u001b[0m\u001b[0m\n\u001b[0m\u001b[1;32m   1120\u001b[0m     \u001b[0;32melse\u001b[0m\u001b[0;34m:\u001b[0m\u001b[0;34m\u001b[0m\u001b[0;34m\u001b[0m\u001b[0m\n\u001b[1;32m   1121\u001b[0m       \u001b[0;32mreturn\u001b[0m \u001b[0mformat\u001b[0m\u001b[0;34m(\u001b[0m\u001b[0mself\u001b[0m\u001b[0;34m.\u001b[0m\u001b[0m_value\u001b[0m\u001b[0;34m,\u001b[0m \u001b[0mformat_spec\u001b[0m\u001b[0;34m)\u001b[0m\u001b[0;34m\u001b[0m\u001b[0;34m\u001b[0m\u001b[0m\n",
      "\u001b[0;32m~/Library/Caches/pypoetry/virtualenvs/covid19npisecondwave-AvRpmSJm-py3.8/lib/python3.8/site-packages/jax/interpreters/xla.py\u001b[0m in \u001b[0;36m_value\u001b[0;34m(self)\u001b[0m\n\u001b[1;32m   1027\u001b[0m         \u001b[0mself\u001b[0m\u001b[0;34m.\u001b[0m\u001b[0m_npy_value\u001b[0m \u001b[0;34m=\u001b[0m \u001b[0mlazy\u001b[0m\u001b[0;34m.\u001b[0m\u001b[0meval_lexpr\u001b[0m\u001b[0;34m(\u001b[0m\u001b[0mself\u001b[0m\u001b[0;34m.\u001b[0m\u001b[0m_lazy_expr\u001b[0m\u001b[0;34m,\u001b[0m \u001b[0;32mNone\u001b[0m\u001b[0;34m)\u001b[0m\u001b[0;34m\u001b[0m\u001b[0;34m\u001b[0m\u001b[0m\n\u001b[1;32m   1028\u001b[0m       \u001b[0;32melse\u001b[0m\u001b[0;34m:\u001b[0m\u001b[0;34m\u001b[0m\u001b[0;34m\u001b[0m\u001b[0m\n\u001b[0;32m-> 1029\u001b[0;31m         \u001b[0mself\u001b[0m\u001b[0;34m.\u001b[0m\u001b[0m_npy_value\u001b[0m \u001b[0;34m=\u001b[0m \u001b[0m_force\u001b[0m\u001b[0;34m(\u001b[0m\u001b[0mself\u001b[0m\u001b[0;34m)\u001b[0m\u001b[0;34m.\u001b[0m\u001b[0mdevice_buffer\u001b[0m\u001b[0;34m.\u001b[0m\u001b[0mto_py\u001b[0m\u001b[0;34m(\u001b[0m\u001b[0;34m)\u001b[0m\u001b[0;34m\u001b[0m\u001b[0;34m\u001b[0m\u001b[0m\n\u001b[0m\u001b[1;32m   1030\u001b[0m       \u001b[0mself\u001b[0m\u001b[0;34m.\u001b[0m\u001b[0m_npy_value\u001b[0m\u001b[0;34m.\u001b[0m\u001b[0mflags\u001b[0m\u001b[0;34m.\u001b[0m\u001b[0mwriteable\u001b[0m \u001b[0;34m=\u001b[0m \u001b[0;32mFalse\u001b[0m\u001b[0;34m\u001b[0m\u001b[0;34m\u001b[0m\u001b[0m\n\u001b[1;32m   1031\u001b[0m     \u001b[0;32mreturn\u001b[0m \u001b[0mself\u001b[0m\u001b[0;34m.\u001b[0m\u001b[0m_npy_value\u001b[0m\u001b[0;34m\u001b[0m\u001b[0;34m\u001b[0m\u001b[0m\n",
      "\u001b[0;31mKeyboardInterrupt\u001b[0m: "
     ]
    }
   ],
   "source": [
    "from numpyro.infer import init_to_median\n",
    "nuts_kernel = NUTS(model, init_strategy = init_to_median)\n",
    "\n",
    "mcmc = MCMC(nuts_kernel, num_samples=8000, num_warmup=2000)\n",
    "rng_key = random.PRNGKey(0)\n",
    "\n",
    "with numpyro.validation_enabled():\n",
    "    res = mcmc.run(rng_key, data, ep)\n",
    "\n",
    "posterior_samples = mcmc.get_samples(np.array([0]))"
   ]
  },
  {
   "cell_type": "markdown",
   "metadata": {},
   "source": [
    "# validate results"
   ]
  },
  {
   "cell_type": "code",
   "execution_count": 16,
   "metadata": {},
   "outputs": [
    {
     "data": {
      "text/plain": [
       "array([-0.0922296 , -0.02480441,  0.02960566,  0.11717707,  0.32023165,\n",
       "        0.23702009,  0.11831836,  0.14161979,  0.22399722,  0.34911132],\n",
       "      dtype=float32)"
      ]
     },
     "execution_count": 16,
     "metadata": {},
     "output_type": "execute_result"
    }
   ],
   "source": [
    "np.median(posterior_samples['alpha_i'], axis=0)"
   ]
  },
  {
   "cell_type": "code",
   "execution_count": 18,
   "metadata": {},
   "outputs": [
    {
     "data": {
      "text/plain": [
       "array([-0.06273155,  0.04780565,  0.10314327,  0.2071218 ,  0.38541228,\n",
       "        0.30720744,  0.19270417,  0.20892247,  0.2982357 ,  0.403318  ])"
      ]
     },
     "execution_count": 18,
     "metadata": {},
     "output_type": "execute_result"
    }
   ],
   "source": [
    "np.percentile(posterior_samples['alpha_i'], 97.5, axis=0)"
   ]
  },
  {
   "cell_type": "code",
   "execution_count": null,
   "metadata": {},
   "outputs": [],
   "source": [
    "all_df = pd.read_csv('../data/synth_data_small.csv')\n",
    "all_df['date'] = pd.to_datetime(all_df['date'])\n",
    "all_df = all_df.set_index(['area', 'date'])"
   ]
  },
  {
   "cell_type": "code",
   "execution_count": null,
   "metadata": {},
   "outputs": [],
   "source": [
    "for r_i, r in enumerate(data.Rs):\n",
    "    plt.figure(figsize=(6, 6), dpi=300)\n",
    "    \n",
    "    plt.subplot(331)\n",
    "    plt.plot(data.Ds, np.median(posterior_samples['Rt'][:, r_i, :], axis=0), color='tab:purple')\n",
    "    plt.plot(data.Ds, all_df.loc[r].loc[data.Ds]['R'], color='k')\n",
    "    plt.fill_between(data.Ds, np.percentile(posterior_samples['Rt'][:, r_i, :], 2.5, axis=0), np.percentile(posterior_samples['Rt'][:, r_i, :], 97.5, axis=0), color='tab:purple', alpha=0.5)\n",
    "    plt.xticks(fontsize=3, rotation=-45, ha='left')\n",
    "    plt.title('$R_t$', fontsize=8)\n",
    "    \n",
    "    plt.subplot(332)\n",
    "    plt.plot(data.Ds, np.percentile(np.exp(np.cumsum(posterior_samples['ar_rw'][:, r_i, 7:], axis=-1)), 50, axis=0), color='tab:purple')\n",
    "    plt.plot(data.Ds, all_df.loc[r].loc[data.Ds]['AR']/all_df.loc[r].loc[data.Ds[0]]['AR'], color='k')\n",
    "    plt.fill_between(data.Ds, np.percentile(np.exp(np.cumsum(posterior_samples['ar_rw'][:, r_i, 7:], axis=-1)), 2.5, axis=0), np.percentile(np.exp(np.cumsum(posterior_samples['ar_rw'][:, r_i, 7:], axis=-1)), 97.5, axis=0), color='tab:purple', alpha=0.5)\n",
    "    plt.xticks(fontsize=3, rotation=-45, ha='left')\n",
    "    plt.title('$\\Delta\\ AR_t$', fontsize=8)\n",
    "    \n",
    "    plt.subplot(333)\n",
    "    plt.plot(data.Ds, np.percentile(np.exp(np.cumsum(posterior_samples['ifr_rw'][:, r_i, 7:], axis=-1)), 50, axis=0), color='tab:purple')\n",
    "    plt.plot(data.Ds, all_df.loc[r].loc[data.Ds]['IFR']/all_df.loc[r].loc[data.Ds[0]]['IFR'], color='k')\n",
    "    plt.fill_between(data.Ds, np.percentile(np.exp(np.cumsum(posterior_samples['ifr_rw'][:, r_i, 7:], axis=-1)), 2.5, axis=0), np.percentile(np.exp(np.cumsum(posterior_samples['ifr_rw'][:, r_i, 7:], axis=-1)), 97.5, axis=0), color='tab:purple', alpha=0.5)\n",
    "    plt.xticks(fontsize=3, rotation=-45, ha='left')\n",
    "    plt.title('$\\Delta\\ IFR_t$', fontsize=8)\n",
    "    \n",
    "    plt.subplot(334)\n",
    "    plt.plot(data.Ds, np.percentile(5*posterior_samples['total_infections'][:, r_i, 7:], 50, axis=0), color='tab:purple')\n",
    "    plt.plot(data.Ds, all_df.loc[r].loc[data.Ds]['N'], color='k')\n",
    "    plt.fill_between(data.Ds, np.percentile(5*posterior_samples['total_infections'][:, r_i, 7:], 2.5, axis=0), np.percentile(5*posterior_samples['total_infections'][:, r_i, 7:], 97.5, axis=0), color='tab:purple', alpha=0.5)\n",
    "    plt.xticks(fontsize=3, rotation=-45, ha='left')\n",
    "    plt.title('$N$', fontsize=8)\n",
    "    plt.yscale('log')\n",
    "    \n",
    "    plt.subplot(335)\n",
    "    plt.plot(data.Ds, np.percentile(posterior_samples['expected_cases'][:, r_i, :], 50, axis=0), color='tab:purple')\n",
    "    plt.scatter(data.Ds, all_df.loc[r].loc[data.Ds]['new_cases'], color='k', s=6)\n",
    "    plt.fill_between(data.Ds, np.percentile(posterior_samples['expected_cases'][:, r_i, :], 2.5, axis=0), np.percentile(posterior_samples['expected_cases'][:, r_i, :], 97.5, axis=0), color='tab:purple', alpha=0.5)\n",
    "    plt.xticks(fontsize=3, rotation=-45, ha='left')\n",
    "    plt.title('Cases', fontsize=8)\n",
    "    \n",
    "    plt.subplot(336)\n",
    "    plt.plot(data.Ds, np.percentile(posterior_samples['expected_deaths'][:, r_i, :], 50, axis=0), color='tab:purple')\n",
    "    plt.scatter(data.Ds, all_df.loc[r].loc[data.Ds]['new_deaths'], color='k', s=6)\n",
    "    plt.fill_between(data.Ds, np.percentile(posterior_samples['expected_deaths'][:, r_i, :], 2.5, axis=0), np.percentile(posterior_samples['expected_deaths'][:, r_i, :], 97.5, axis=0), color='tab:purple', alpha=0.5)\n",
    "    plt.xticks(fontsize=3, rotation=-45, ha='left')\n",
    "    plt.title('Deaths', fontsize=8)\n",
    "    \n",
    "    plt.subplot(337)\n",
    "    plt.plot(data.Ds, np.percentile(5*posterior_samples['total_infections'][:, r_i, 7:], 50, axis=0), color='tab:purple')\n",
    "    plt.plot(data.Ds, all_df.loc[r].loc[data.Ds]['N']*all_df.loc[r].loc[data.Ds]['AR'], color='k')\n",
    "    plt.fill_between(data.Ds, np.percentile(5*posterior_samples['total_infections'][:, r_i, 7:], 2.5, axis=0), np.percentile(5*posterior_samples['total_infections'][:, r_i, 7:], 97.5, axis=0), color='tab:purple', alpha=0.5)\n",
    "    plt.xticks(fontsize=3, rotation=-45, ha='left')\n",
    "    plt.title('$FC_t$', fontsize=8)\n",
    "    plt.yscale('log')\n",
    "    \n",
    "    plt.tight_layout()\n",
    "    plt.suptitle(f'{r}', y=1.01)"
   ]
  },
  {
   "cell_type": "code",
   "execution_count": null,
   "metadata": {},
   "outputs": [],
   "source": [
    "sns.kdeplot(posterior_samples['g'][:, 0].flatten())"
   ]
  },
  {
   "cell_type": "code",
   "execution_count": null,
   "metadata": {},
   "outputs": [],
   "source": []
  }
 ],
 "metadata": {
  "kernelspec": {
   "display_name": "Python 3",
   "language": "python",
   "name": "python3"
  },
  "language_info": {
   "codemirror_mode": {
    "name": "ipython",
    "version": 3
   },
   "file_extension": ".py",
   "mimetype": "text/x-python",
   "name": "python",
   "nbconvert_exporter": "python",
   "pygments_lexer": "ipython3",
   "version": "3.8.3"
  }
 },
 "nbformat": 4,
 "nbformat_minor": 4
}
