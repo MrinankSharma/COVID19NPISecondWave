{
 "cells": [
  {
   "cell_type": "code",
   "execution_count": null,
   "metadata": {},
   "outputs": [],
   "source": [
    "import sys\n",
    "sys.path.append(\"../\") "
   ]
  },
  {
   "cell_type": "code",
   "execution_count": null,
   "metadata": {},
   "outputs": [],
   "source": [
    "import pandas as pd\n",
    "import numpy as np"
   ]
  },
  {
   "cell_type": "code",
   "execution_count": null,
   "metadata": {},
   "outputs": [],
   "source": [
    "from epimodel.preprocessing import preprocess_data\n",
    "from epimodel.epiparam import EpidemiologicalParameters"
   ]
  },
  {
   "cell_type": "code",
   "execution_count": null,
   "metadata": {},
   "outputs": [],
   "source": [
    "data = preprocess_data(\"../data/synth_data_small.csv\")"
   ]
  },
  {
   "cell_type": "code",
   "execution_count": null,
   "metadata": {},
   "outputs": [],
   "source": [
    "ep = EpidemiologicalParameters()"
   ]
  },
  {
   "cell_type": "markdown",
   "metadata": {},
   "source": [
    "# construct model"
   ]
  },
  {
   "cell_type": "code",
   "execution_count": null,
   "metadata": {},
   "outputs": [],
   "source": [
    "import numpyro\n",
    "from numpyro.infer import MCMC, NUTS, Predictive\n",
    "import numpyro.distributions as dist\n",
    "from jax import random\n",
    "import jax.numpy as jnp\n",
    "import jax.scipy.signal as jss\n",
    "\n",
    "import jax\n",
    "\n",
    "import numpy as np\n",
    "import matplotlib.pyplot as plt\n",
    "import seaborn as sns"
   ]
  },
  {
   "cell_type": "code",
   "execution_count": null,
   "metadata": {},
   "outputs": [],
   "source": [
    "np.cumsum(ep.DPDv)"
   ]
  },
  {
   "cell_type": "code",
   "execution_count": null,
   "metadata": {},
   "outputs": [],
   "source": [
    "data.new_cases[:, :20] = np.ma.masked\n",
    "data.new_deaths[:, :30] = np.ma.masked"
   ]
  },
  {
   "cell_type": "code",
   "execution_count": null,
   "metadata": {},
   "outputs": [],
   "source": [
    "def model(data, ep, ar_noise=0.01, ifr_noise=0.01, r_noise_scale=0.05):\n",
    "    # data has nCMs, nRs, nDs as attributes\n",
    "    \n",
    "    alpha_i = numpyro.sample(\"alpha_i\", dist.TruncatedNormal(low=-0.1, loc=np.zeros(data.nCMs), scale=0.2)) \n",
    "    cm_reduction = jnp.sum(data.active_cms * alpha_i.reshape((1, data.nCMs, 1)), axis=1)\n",
    "    \n",
    "    basic_R = numpyro.sample(\"R_base\", dist.TruncatedNormal(low=0.1, loc=1.5*jnp.ones(data.nRs), scale=0.2))\n",
    "#     basic_R = numpyro.sample(\"basic_R\", dist.Uniform(low=0.1, high=2.5*jnp.ones(data.nRs)))\n",
    "    log_Rt_noise = numpyro.sample(\"log_Rt_noise\", dist.Normal(loc=np.zeros((data.nRs, data.nDs))))\n",
    "    log_Rt = jnp.log(basic_R.reshape((data.nRs, 1))) - cm_reduction + log_Rt_noise * r_noise_scale\n",
    "    \n",
    "    Rt = numpyro.deterministic('Rt', jnp.exp(log_Rt)) # nRs x nDs\n",
    "    \n",
    "    seeding_padding = 7\n",
    "    total_padding = ep.GIv.size-1\n",
    "    \n",
    "    seeding_scale = numpyro.sample(\"seeding_scale\", dist.HalfNormal(3))\n",
    "    seeding = numpyro.sample(\"seeding\", dist.LogNormal(jnp.zeros((data.nRs, 1)), scale=seeding_scale))\n",
    "    \n",
    "    init_infections = jnp.zeros((data.nRs, total_padding))\n",
    "    init_infections = jax.ops.index_add(init_infections, jax.ops.index[:, -seeding_padding:], jnp.repeat(seeding, seeding_padding, axis=-1))\n",
    "    \n",
    "    total_infections = jnp.zeros((data.nRs, seeding_padding + data.nDs))\n",
    "    \n",
    "    def discrete_renewal_transition(infections, R):\n",
    "        # infections is an nR x total_padding size array of infections in the previous \n",
    "        # total_padding days. \n",
    "        new_infections = infections @ ep.GI_projmat\n",
    "        new_infections = jax.ops.index_update(new_infections, jax.ops.index[:, -1], jnp.multiply(new_infections[:, -1], R))\n",
    "        return new_infections, new_infections[:, -1]\n",
    "    \n",
    "    # we need to transpose R because jax.lax.scan scans over the first dimension. We want to scan over time\n",
    "    # we also will transpose infections at the end \n",
    "    _, infections = jax.lax.scan(discrete_renewal_transition, init_infections, Rt.T)\n",
    "    \n",
    "    total_infections = jax.ops.index_update(total_infections, jax.ops.index[:, :seeding_padding], init_infections[:, -seeding_padding:])\n",
    "    total_infections = jax.ops.index_update(total_infections, jax.ops.index[:, seeding_padding:], infections.T)\n",
    "    \n",
    "    total_infections = numpyro.deterministic('total_infections', total_infections)\n",
    "    \n",
    "    ar_rw = numpyro.sample(\"ar_rw\", dist.Normal(np.zeros((data.nRs, data.nDs+seeding_padding)), ar_noise))\n",
    "    # i.e., ar_0 is 1.\n",
    "    ar_t = numpyro.deterministic('ar_t', jnp.exp(jnp.cumsum(ar_rw, axis=-1)))\n",
    "    \n",
    "    # lazy - probably can do better than uniform. \n",
    "    ifr_0 = numpyro.sample(\"ifr_0\", dist.Uniform(low=0.01, high=np.ones((data.nRs, 1))))\n",
    "    ifr_rw = numpyro.sample(\"ifr_rw\", dist.Normal(np.zeros((data.nRs, data.nDs+seeding_padding)), ifr_noise)) \n",
    "    ifr_t = numpyro.deterministic('ifr_t', ifr_0 * jnp.exp(jnp.cumsum(ifr_rw, axis=-1)))\n",
    "\n",
    "    future_cases_t = numpyro.deterministic('future_cases_t', jnp.multiply(total_infections, ar_t))\n",
    "    future_deaths_t = numpyro.deterministic('future_deaths_t', jnp.multiply(total_infections, ifr_t))\n",
    "        \n",
    "#     # at the moment, this is technically neglecting the very earliest infections\n",
    "    expected_cases = numpyro.deterministic('expected_cases', jss.convolve2d(future_cases_t, ep.DPCv, mode='full')[:, total_padding:data.nDs+total_padding])\n",
    "    expected_deaths = numpyro.deterministic('expected_deaths', jss.convolve2d(future_deaths_t, ep.DPDv, mode='full')[:, total_padding:data.nDs+total_padding])\n",
    "    psi_cases = numpyro.sample(\"psi_cases\", dist.HalfNormal(5))\n",
    "    psi_deaths = numpyro.sample(\"psi_deaths\", dist.HalfNormal(5))\n",
    "    \n",
    "    with numpyro.handlers.mask(mask=np.logical_not(data.new_cases.mask)):\n",
    "        observed_cases = numpyro.sample(\"observed_cases\", dist.GammaPoisson(concentration=psi_cases, rate=psi_cases/expected_cases), obs=data.new_cases.data)\n",
    "        \n",
    "    with numpyro.handlers.mask(mask=np.logical_not(data.new_deaths.mask)):\n",
    "        observed_deaths = numpyro.sample(\"observed_deaths\", dist.GammaPoisson(concentration=psi_deaths, rate=psi_deaths/expected_deaths), obs=data.new_deaths.data)"
   ]
  },
  {
   "cell_type": "code",
   "execution_count": null,
   "metadata": {},
   "outputs": [],
   "source": [
    "from numpyro.infer import init_to_median"
   ]
  },
  {
   "cell_type": "code",
   "execution_count": null,
   "metadata": {},
   "outputs": [],
   "source": [
    "nuts_kernel = NUTS(model, init_strategy = init_to_median)\n",
    "\n",
    "mcmc = MCMC(nuts_kernel, num_samples=2000, num_warmup=2000)\n",
    "rng_key = random.PRNGKey(0)\n",
    "\n",
    "with numpyro.validation_enabled():\n",
    "    res = mcmc.run(rng_key, data, ep)\n",
    "\n",
    "posterior_samples = mcmc.get_samples(np.array([0]))"
   ]
  },
  {
   "cell_type": "markdown",
   "metadata": {},
   "source": [
    "# validate results"
   ]
  },
  {
   "cell_type": "code",
   "execution_count": null,
   "metadata": {},
   "outputs": [],
   "source": [
    "all_df"
   ]
  },
  {
   "cell_type": "code",
   "execution_count": null,
   "metadata": {},
   "outputs": [],
   "source": [
    "all_df = pd.read_csv('../data/synth_data_small.csv')\n",
    "all_df['date'] = pd.to_datetime(all_df['date'])\n",
    "all_df = all_df.set_index(['area', 'date'])"
   ]
  },
  {
   "cell_type": "code",
   "execution_count": null,
   "metadata": {},
   "outputs": [],
   "source": [
    "for r_i, r in enumerate(data.Rs):\n",
    "    plt.figure(figsize=(6, 6), dpi=300)\n",
    "    \n",
    "    plt.subplot(331)\n",
    "    plt.plot(data.Ds, np.median(posterior_samples['Rt'][:, r_i, :], axis=0), color='tab:purple')\n",
    "    plt.plot(data.Ds, all_df.loc[r].loc[data.Ds]['R'], color='k')\n",
    "    plt.fill_between(data.Ds, np.percentile(posterior_samples['Rt'][:, r_i, :], 2.5, axis=0), np.percentile(posterior_samples['Rt'][:, r_i, :], 97.5, axis=0), color='tab:purple', alpha=0.5)\n",
    "    plt.xticks(fontsize=3, rotation=-45, ha='left')\n",
    "    plt.title('$R_t$', fontsize=8)\n",
    "    \n",
    "    plt.subplot(332)\n",
    "    plt.plot(data.Ds, np.percentile(np.exp(np.cumsum(posterior_samples['ar_rw'][:, r_i, 7:], axis=-1)), 50, axis=0), color='tab:purple')\n",
    "    plt.plot(data.Ds, all_df.loc[r].loc[data.Ds]['AR']/all_df.loc[r].loc[data.Ds[0]]['AR'], color='k')\n",
    "    plt.fill_between(data.Ds, np.percentile(np.exp(np.cumsum(posterior_samples['ar_rw'][:, r_i, 7:], axis=-1)), 2.5, axis=0), np.percentile(np.exp(np.cumsum(posterior_samples['ar_rw'][:, r_i, 7:], axis=-1)), 97.5, axis=0), color='tab:purple', alpha=0.5)\n",
    "    plt.xticks(fontsize=3, rotation=-45, ha='left')\n",
    "    plt.title('$\\Delta\\ AR_t$', fontsize=8)\n",
    "    \n",
    "    plt.subplot(333)\n",
    "    plt.plot(data.Ds, np.percentile(np.exp(np.cumsum(posterior_samples['ifr_rw'][:, r_i, 7:], axis=-1)), 50, axis=0), color='tab:purple')\n",
    "    plt.plot(data.Ds, all_df.loc[r].loc[data.Ds]['IFR']/all_df.loc[r].loc[data.Ds[0]]['IFR'], color='k')\n",
    "    plt.fill_between(data.Ds, np.percentile(np.exp(np.cumsum(posterior_samples['ifr_rw'][:, r_i, 7:], axis=-1)), 2.5, axis=0), np.percentile(np.exp(np.cumsum(posterior_samples['ifr_rw'][:, r_i, 7:], axis=-1)), 97.5, axis=0), color='tab:purple', alpha=0.5)\n",
    "    plt.xticks(fontsize=3, rotation=-45, ha='left')\n",
    "    plt.title('$\\Delta\\ IFR_t$', fontsize=8)\n",
    "    \n",
    "    plt.subplot(334)\n",
    "    plt.plot(data.Ds, np.percentile(5*posterior_samples['total_infections'][:, r_i, 7:], 50, axis=0), color='tab:purple')\n",
    "    plt.plot(data.Ds, all_df.loc[r].loc[data.Ds]['N'], color='k')\n",
    "    plt.fill_between(data.Ds, np.percentile(5*posterior_samples['total_infections'][:, r_i, 7:], 2.5, axis=0), np.percentile(5*posterior_samples['total_infections'][:, r_i, 7:], 97.5, axis=0), color='tab:purple', alpha=0.5)\n",
    "    plt.xticks(fontsize=3, rotation=-45, ha='left')\n",
    "    plt.title('$N$', fontsize=8)\n",
    "    plt.yscale('log')\n",
    "    \n",
    "    plt.subplot(335)\n",
    "    plt.plot(data.Ds, np.percentile(posterior_samples['expected_cases'][:, r_i, :], 50, axis=0), color='tab:purple')\n",
    "    plt.scatter(data.Ds, all_df.loc[r].loc[data.Ds]['new_cases'], color='k', s=6)\n",
    "    plt.fill_between(data.Ds, np.percentile(posterior_samples['expected_cases'][:, r_i, :], 2.5, axis=0), np.percentile(posterior_samples['expected_cases'][:, r_i, :], 97.5, axis=0), color='tab:purple', alpha=0.5)\n",
    "    plt.xticks(fontsize=3, rotation=-45, ha='left')\n",
    "    plt.title('Cases', fontsize=8)\n",
    "    \n",
    "    plt.subplot(336)\n",
    "    plt.plot(data.Ds, np.percentile(posterior_samples['expected_deaths'][:, r_i, :], 50, axis=0), color='tab:purple')\n",
    "    plt.scatter(data.Ds, all_df.loc[r].loc[data.Ds]['new_deaths'], color='k', s=6)\n",
    "    plt.fill_between(data.Ds, np.percentile(posterior_samples['expected_deaths'][:, r_i, :], 2.5, axis=0), np.percentile(posterior_samples['expected_deaths'][:, r_i, :], 97.5, axis=0), color='tab:purple', alpha=0.5)\n",
    "    plt.xticks(fontsize=3, rotation=-45, ha='left')\n",
    "    plt.title('Deaths', fontsize=8)\n",
    "    \n",
    "    plt.subplot(337)\n",
    "    plt.plot(data.Ds, np.percentile(5*posterior_samples['total_infections'][:, r_i, 7:], 50, axis=0), color='tab:purple')\n",
    "    plt.plot(data.Ds, all_df.loc[r].loc[data.Ds]['N']*all_df.loc[r].loc[data.Ds]['AR'], color='k')\n",
    "    plt.fill_between(data.Ds, np.percentile(5*posterior_samples['total_infections'][:, r_i, 7:], 2.5, axis=0), np.percentile(5*posterior_samples['total_infections'][:, r_i, 7:], 97.5, axis=0), color='tab:purple', alpha=0.5)\n",
    "    plt.xticks(fontsize=3, rotation=-45, ha='left')\n",
    "    plt.title('$FC_t$', fontsize=8)\n",
    "    plt.yscale('log')\n",
    "    \n",
    "    plt.tight_layout()\n",
    "    plt.suptitle(f'{r}', y=1.01)"
   ]
  },
  {
   "cell_type": "code",
   "execution_count": null,
   "metadata": {},
   "outputs": [],
   "source": [
    "sns.kdeplot(posterior_samples['seeding'][:, 0].flatten())"
   ]
  },
  {
   "cell_type": "code",
   "execution_count": null,
   "metadata": {},
   "outputs": [],
   "source": [
    "sns.kdeplot(posterior_samples['psi_cases'].flatten())"
   ]
  },
  {
   "cell_type": "code",
   "execution_count": null,
   "metadata": {},
   "outputs": [],
   "source": [
    "sns.kdeplot(posterior_samples['psi_deaths'].flatten())"
   ]
  },
  {
   "cell_type": "code",
   "execution_count": null,
   "metadata": {},
   "outputs": [],
   "source": []
  }
 ],
 "metadata": {
  "kernelspec": {
   "display_name": "Python 3",
   "language": "python",
   "name": "python3"
  },
  "language_info": {
   "codemirror_mode": {
    "name": "ipython",
    "version": 3
   },
   "file_extension": ".py",
   "mimetype": "text/x-python",
   "name": "python",
   "nbconvert_exporter": "python",
   "pygments_lexer": "ipython3",
   "version": "3.8.3"
  }
 },
 "nbformat": 4,
 "nbformat_minor": 4
}
