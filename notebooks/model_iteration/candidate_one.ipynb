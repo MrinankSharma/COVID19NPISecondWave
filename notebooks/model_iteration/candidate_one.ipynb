{
 "cells": [
  {
   "cell_type": "code",
   "execution_count": null,
   "metadata": {},
   "outputs": [],
   "source": [
    "%load_ext autoreload\n",
    "%autoreload 2"
   ]
  },
  {
   "cell_type": "code",
   "execution_count": null,
   "metadata": {},
   "outputs": [],
   "source": [
    "import sys\n",
    "sys.path.append(\"../../\") "
   ]
  },
  {
   "cell_type": "code",
   "execution_count": null,
   "metadata": {},
   "outputs": [],
   "source": [
    "import pandas as pd\n",
    "import numpy as np\n",
    "import numpyro\n",
    "numpyro.set_host_device_count(1)\n",
    "\n",
    "from epimodel import preprocess_data, run_model, candidate_model, EpidemiologicalParameters"
   ]
  },
  {
   "cell_type": "code",
   "execution_count": null,
   "metadata": {},
   "outputs": [],
   "source": [
    "ep = EpidemiologicalParameters()\n",
    "data = preprocess_data('../../data/all_merged_data.csv')\n",
    "\n",
    "\n",
    "# I made up some NPI thresholds because I'm lazy. \n",
    "# these NPIs are on if there exists a limit, and it is less than 6 people allowed in the respective category\n",
    "for i in range(4):\n",
    "    data.active_cms[:, i, :] = np.logical_and(data.active_cms[:, i, :] > 0, data.active_cms[:, i, :] <7) \n",
    "    \n",
    "# these NPIs (the household NPIs) are on if there is any limit on household gatherings at all\n",
    "for i in range(4):\n",
    "    # i.e., if there is any limit, since its 0 otherwise\n",
    "    data.active_cms[:, i+4, :] = data.active_cms[:, i+4, :] > 0\n",
    "    \n",
    "data.active_cms[:, 8, :] = data.active_cms[:, 8, :] > 2"
   ]
  },
  {
   "cell_type": "code",
   "execution_count": null,
   "metadata": {},
   "outputs": [],
   "source": [
    "samples, info = run_model(candidate_model, data, ep, num_chains=2)"
   ]
  },
  {
   "cell_type": "code",
   "execution_count": null,
   "metadata": {},
   "outputs": [],
   "source": [
    "from epimodel.plotting import *"
   ]
  },
  {
   "cell_type": "code",
   "execution_count": null,
   "metadata": {},
   "outputs": [],
   "source": [
    "plot_intervention_effectiveness(samples, data.CMs, xlim=[-50, 50])"
   ]
  },
  {
   "cell_type": "code",
   "execution_count": null,
   "metadata": {},
   "outputs": [],
   "source": []
  }
 ],
 "metadata": {
  "kernelspec": {
   "display_name": "Python 3",
   "language": "python",
   "name": "python3"
  },
  "language_info": {
   "codemirror_mode": {
    "name": "ipython",
    "version": 3
   },
   "file_extension": ".py",
   "mimetype": "text/x-python",
   "name": "python",
   "nbconvert_exporter": "python",
   "pygments_lexer": "ipython3",
   "version": "3.8.3"
  }
 },
 "nbformat": 4,
 "nbformat_minor": 4
}
