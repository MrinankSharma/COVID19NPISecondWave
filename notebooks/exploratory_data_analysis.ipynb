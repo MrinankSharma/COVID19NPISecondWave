{
 "cells": [
  {
   "cell_type": "markdown",
   "metadata": {
    "pycharm": {
     "name": "#%% md\n"
    }
   },
   "source": [
    "# Exploratory Data Analysis"
   ]
  },
  {
   "cell_type": "code",
   "execution_count": 2,
   "metadata": {},
   "outputs": [],
   "source": [
    "import numpy as np\n",
    "import pandas as pd\n",
    "import matplotlib.pyplot as plt\n",
    "import seaborn as sns\n",
    "from matplotlib import gridspec\n",
    "# sns.set_theme('colorblind', color_codes=True)\n",
    "sns.set_palette([*sns.color_palette(\"colorblind\"), *sns.color_palette(\"dark\")], color_codes=True)\n",
    "# colors = [*sns.color_palette(\"colorblind\"), *sns.color_palette(\"dark\")]\n",
    "import pylab as pl\n",
    "\n",
    "df = pd.read_csv('../data/all_merged_data_2021-01-22.csv')\n"
   ]
  },
  {
   "cell_type": "markdown",
   "source": [
    "checking on retail == all F2F"
   ],
   "metadata": {
    "collapsed": false,
    "pycharm": {
     "name": "#%% md\n"
    }
   }
  },
  {
   "cell_type": "code",
   "execution_count": 3,
   "outputs": [],
   "source": [
    "retail = df['Retail Closed']\n",
    "f2f = df['All Face-to-Face Businesses Closed']\n",
    "\n",
    "count = sum(retail != f2f)\n",
    "# 0"
   ],
   "metadata": {
    "collapsed": false,
    "pycharm": {
     "name": "#%%\n"
    }
   }
  },
  {
   "cell_type": "code",
   "execution_count": 4,
   "outputs": [],
   "source": [
    "df = df.drop(df.columns[5:], axis=1)\n",
    "countries = ['Austria', 'England', 'Germany', 'Italy', 'Czech Republic', 'Switzerland', 'The Netherlands']\n",
    "\n",
    "df = df.set_index(['Area', 'Date'])\n",
    "df = df.sort_index(level=[0],ascending=[True])\n",
    "df.reset_index(level=1, inplace=True)# df = df.sort_values(by=['Area'])\n",
    "df.reset_index(level=0, inplace=True)# df = df.sort_values(by=['Area'])"
   ],
   "metadata": {
    "collapsed": false,
    "pycharm": {
     "name": "#%%\n"
    }
   }
  },
  {
   "cell_type": "code",
   "execution_count": 5,
   "metadata": {
    "pycharm": {
     "name": "#%%\n"
    }
   },
   "outputs": [
    {
     "name": "stdout",
     "output_type": "stream",
     "text": [
      "Processing data from 2020-08-01 00:00:00 to 2021-01-22 00:00:00\n",
      "Note: under drop_outdoor gathering aggregation, the gatherings_aggregation_type is disregarded\n"
     ]
    }
   ],
   "source": [
    "from epimodel import preprocess_data\n",
    "all_merged = preprocess_data('../data/all_merged_data_2021-01-22.csv', end_date='2021-01-22')\n",
    "all_merged.featurize(drop_npi_filter = [\n",
    "                {\"query\": \"Childcare\", \"type\": \"includes\"},\n",
    "                {'query': 'Stay at Home Order AND All F2F Businesses Closed', 'type': 'equals'}\n",
    "            ])\n",
    "CMs = all_merged.CMs\n",
    "Rs = all_merged.Rs\n",
    "active_cms = all_merged.active_cms\n"
   ]
  },
  {
   "cell_type": "code",
   "execution_count": 6,
   "metadata": {
    "pycharm": {
     "name": "#%%\n"
    }
   },
   "outputs": [],
   "source": [
    "new_active = all_merged.active_cms.transpose((0, 2, 1))\n",
    "new_active = new_active.reshape(-1, new_active.shape[2])\n",
    "new_active = pd.DataFrame(new_active)\n",
    "new_active.columns = all_merged.CMs\n",
    "\n"
   ]
  },
  {
   "cell_type": "code",
   "execution_count": 7,
   "outputs": [],
   "source": [
    "CM_dict = {\n",
    "    'Some Face-to-Face Businesses Closed': 'Night clubs closed',\n",
    "    'Leisure Venues Closed': 'Leisure and entertainment venues closed',\n",
    "    'Gastronomy Closed': 'Gastronomy closed',\n",
    "    'Retail Closed': 'Retail and close-contact services closed',\n",
    "    'Primary Schools Closed': 'Primary schools closed',\n",
    "    'Secondary Schools Closed': 'Secondary schools closed',\n",
    "    'Universities Away': 'Universities closed',\n",
    "    'Public Indoor Gathering Person Limit - 1': 'All public gatherings banned',\n",
    "    'Public Indoor Gathering Person Limit - 2': 'Public gatherings limited to 2 people',\n",
    "    'Extra Public Indoor Household Limit': 'Public gatherings limited to ≤10 people from 2 households',\n",
    "    'Public Indoor Gathering Person Limit - 10': 'Public gatherings limited to ≤10 people',\n",
    "    'Public Indoor Gathering Person Limit - 30': 'Public gatherings limited to ≤30 people',\n",
    "    'Private Indoor Gathering Person Limit - 1': 'All household mixing in private banned',\n",
    "    'Private Indoor Gathering Person Limit - 2': 'Household mixing in private limited to 2 people',\n",
    "    'Extra Private Indoor Household Limit': 'Household mixing in private limited to ≤10 people from 2 households',\n",
    "    'Private Indoor Gathering Person Limit - 10': 'Household mixing in private limited to ≤10 people',\n",
    "    'Private Indoor Gathering Person Limit - 30': 'Household mixing in private limited to ≤30 people',\n",
    "    'Curfew': 'Night time curfew',\n",
    "    'Mandatory Mask Wearing >= 3': 'Stricter mask-wearing policy'\n",
    "}\n",
    "\n",
    "\n",
    "new_active.rename(columns=CM_dict, inplace=True)\n",
    "CMs = list(CM_dict.values())\n",
    "new_active = new_active[CMs]"
   ],
   "metadata": {
    "collapsed": false,
    "pycharm": {
     "name": "#%%\n"
    }
   }
  },
  {
   "cell_type": "code",
   "execution_count": 8,
   "outputs": [],
   "source": [
    "df = pd.concat((df, new_active), axis=1)"
   ],
   "metadata": {
    "collapsed": false,
    "pycharm": {
     "name": "#%%\n"
    }
   }
  },
  {
   "cell_type": "markdown",
   "metadata": {
    "pycharm": {
     "name": "#%% md\n"
    }
   },
   "source": [
    "## NPI representation by region\n"
   ]
  },
  {
   "cell_type": "code",
   "execution_count": 9,
   "metadata": {
    "pycharm": {
     "name": "#%%\n"
    }
   },
   "outputs": [],
   "source": [
    "def count_active_days_region(npi, country):\n",
    "    df_country = df[df['Country']==country]\n",
    "    #non_zero_rows = [ind for ind in range(df_country.shape[0]) if df_country[npi][ind] != 0]\n",
    "    non_zero_rows = df_country[df_country[npi] != 0]\n",
    "    regions = np.unique(df_country['Area'])\n",
    "    active_inds = []\n",
    "    for region in regions:\n",
    "        #active_ind = [ind for ind in non_zero_rows if df_country['Area'][ind] == region]\n",
    "        #active_ind = df_country.loc[df_country['Area'] == region]\n",
    "        active_rows = non_zero_rows[non_zero_rows['Area']==region]\n",
    "        active_rows = active_rows[pd.to_datetime(active_rows['Date']) <= pd.to_datetime('2021-01-09')]\n",
    "        count = active_rows.shape[0]\n",
    "        active_inds.append(count)\n",
    "    return regions, active_inds\n",
    "\n",
    "active_days_uk = [count_active_days_region(npi, 'England')[1] for npi in CMs]\n",
    "active_days_de = [count_active_days_region(npi, 'Germany')[1] for npi in CMs]\n",
    "active_days_at = [count_active_days_region(npi, 'Austria')[1] for npi in CMs]\n",
    "active_days_it = [count_active_days_region(npi, 'Italy')[1] for npi in CMs]\n",
    "active_days_cz = [count_active_days_region(npi, 'Czech')[1] for npi in CMs]\n",
    "active_days_ch = [count_active_days_region(npi, 'Switzerland')[1] for npi in CMs]\n",
    "active_days_nl = [count_active_days_region(npi, 'Netherlands')[1] for npi in CMs]\n",
    "# summing up counts from the regions for each npi:\n",
    "region_counts_uk = [sum(i) for i in active_days_uk]\n",
    "region_counts_de = [sum(i) for i in active_days_de]\n",
    "region_counts_at = [sum(i) for i in active_days_at]\n",
    "region_counts_it = [sum(i) for i in active_days_it]\n",
    "region_counts_cz = [sum(i) for i in active_days_cz]\n",
    "region_counts_ch = [sum(i) for i in active_days_ch]\n",
    "region_counts_nl = [sum(i) for i in active_days_nl]"
   ]
  },
  {
   "cell_type": "code",
   "execution_count": 10,
   "metadata": {
    "pycharm": {
     "name": "#%%\n"
    }
   },
   "outputs": [],
   "source": [
    "region_counts = pd.DataFrame((region_counts_at, region_counts_uk,\n",
    "region_counts_de, region_counts_it, region_counts_cz, region_counts_ch, region_counts_nl)).T\n",
    "region_counts.index = CMs\n",
    "region_counts.columns = countries\n"
   ]
  },
  {
   "cell_type": "code",
   "execution_count": 11,
   "outputs": [
    {
     "ename": "KeyboardInterrupt",
     "evalue": "",
     "output_type": "error",
     "traceback": [
      "\u001B[0;31m---------------------------------------------------------------------------\u001B[0m",
      "\u001B[0;31mKeyboardInterrupt\u001B[0m                         Traceback (most recent call last)",
      "\u001B[0;32m<ipython-input-11-da185e2d177c>\u001B[0m in \u001B[0;36m<module>\u001B[0;34m\u001B[0m\n\u001B[1;32m     12\u001B[0m \u001B[0msns\u001B[0m\u001B[0;34m.\u001B[0m\u001B[0mdespine\u001B[0m\u001B[0;34m(\u001B[0m\u001B[0mright\u001B[0m\u001B[0;34m=\u001B[0m\u001B[0;32mTrue\u001B[0m\u001B[0;34m)\u001B[0m\u001B[0;34m\u001B[0m\u001B[0;34m\u001B[0m\u001B[0m\n\u001B[1;32m     13\u001B[0m \u001B[0max\u001B[0m\u001B[0;34m.\u001B[0m\u001B[0mlegend\u001B[0m\u001B[0;34m(\u001B[0m\u001B[0mbbox_to_anchor\u001B[0m\u001B[0;34m=\u001B[0m\u001B[0;34m(\u001B[0m\u001B[0;36m0.53\u001B[0m\u001B[0;34m,\u001B[0m \u001B[0;36m0.95\u001B[0m\u001B[0;34m)\u001B[0m\u001B[0;34m)\u001B[0m\u001B[0;34m\u001B[0m\u001B[0;34m\u001B[0m\u001B[0m\n\u001B[0;32m---> 14\u001B[0;31m \u001B[0mplt\u001B[0m\u001B[0;34m.\u001B[0m\u001B[0msavefig\u001B[0m\u001B[0;34m(\u001B[0m\u001B[0;34m'barplot.svg'\u001B[0m\u001B[0;34m,\u001B[0m \u001B[0mformat\u001B[0m \u001B[0;34m=\u001B[0m \u001B[0;34m'svg'\u001B[0m\u001B[0;34m,\u001B[0m \u001B[0mdpi\u001B[0m\u001B[0;34m=\u001B[0m\u001B[0;36m300\u001B[0m\u001B[0;34m,\u001B[0m \u001B[0mbbox_inches\u001B[0m\u001B[0;34m=\u001B[0m\u001B[0;34m'tight'\u001B[0m\u001B[0;34m)\u001B[0m\u001B[0;34m\u001B[0m\u001B[0;34m\u001B[0m\u001B[0m\n\u001B[0m\u001B[1;32m     15\u001B[0m \u001B[0;34m\u001B[0m\u001B[0m\n",
      "\u001B[0;32m~/.cache/pypoetry/virtualenvs/covid19npisecondwave-rNDyq_Fa-py3.8/lib/python3.8/site-packages/matplotlib/pyplot.py\u001B[0m in \u001B[0;36msavefig\u001B[0;34m(*args, **kwargs)\u001B[0m\n\u001B[1;32m    857\u001B[0m \u001B[0;32mdef\u001B[0m \u001B[0msavefig\u001B[0m\u001B[0;34m(\u001B[0m\u001B[0;34m*\u001B[0m\u001B[0margs\u001B[0m\u001B[0;34m,\u001B[0m \u001B[0;34m**\u001B[0m\u001B[0mkwargs\u001B[0m\u001B[0;34m)\u001B[0m\u001B[0;34m:\u001B[0m\u001B[0;34m\u001B[0m\u001B[0;34m\u001B[0m\u001B[0m\n\u001B[1;32m    858\u001B[0m     \u001B[0mfig\u001B[0m \u001B[0;34m=\u001B[0m \u001B[0mgcf\u001B[0m\u001B[0;34m(\u001B[0m\u001B[0;34m)\u001B[0m\u001B[0;34m\u001B[0m\u001B[0;34m\u001B[0m\u001B[0m\n\u001B[0;32m--> 859\u001B[0;31m     \u001B[0mres\u001B[0m \u001B[0;34m=\u001B[0m \u001B[0mfig\u001B[0m\u001B[0;34m.\u001B[0m\u001B[0msavefig\u001B[0m\u001B[0;34m(\u001B[0m\u001B[0;34m*\u001B[0m\u001B[0margs\u001B[0m\u001B[0;34m,\u001B[0m \u001B[0;34m**\u001B[0m\u001B[0mkwargs\u001B[0m\u001B[0;34m)\u001B[0m\u001B[0;34m\u001B[0m\u001B[0;34m\u001B[0m\u001B[0m\n\u001B[0m\u001B[1;32m    860\u001B[0m     \u001B[0mfig\u001B[0m\u001B[0;34m.\u001B[0m\u001B[0mcanvas\u001B[0m\u001B[0;34m.\u001B[0m\u001B[0mdraw_idle\u001B[0m\u001B[0;34m(\u001B[0m\u001B[0;34m)\u001B[0m   \u001B[0;31m# need this if 'transparent=True' to reset colors\u001B[0m\u001B[0;34m\u001B[0m\u001B[0;34m\u001B[0m\u001B[0m\n\u001B[1;32m    861\u001B[0m     \u001B[0;32mreturn\u001B[0m \u001B[0mres\u001B[0m\u001B[0;34m\u001B[0m\u001B[0;34m\u001B[0m\u001B[0m\n",
      "\u001B[0;32m~/.cache/pypoetry/virtualenvs/covid19npisecondwave-rNDyq_Fa-py3.8/lib/python3.8/site-packages/matplotlib/figure.py\u001B[0m in \u001B[0;36msavefig\u001B[0;34m(self, fname, transparent, **kwargs)\u001B[0m\n\u001B[1;32m   2309\u001B[0m                 \u001B[0mpatch\u001B[0m\u001B[0;34m.\u001B[0m\u001B[0mset_edgecolor\u001B[0m\u001B[0;34m(\u001B[0m\u001B[0;34m'none'\u001B[0m\u001B[0;34m)\u001B[0m\u001B[0;34m\u001B[0m\u001B[0;34m\u001B[0m\u001B[0m\n\u001B[1;32m   2310\u001B[0m \u001B[0;34m\u001B[0m\u001B[0m\n\u001B[0;32m-> 2311\u001B[0;31m         \u001B[0mself\u001B[0m\u001B[0;34m.\u001B[0m\u001B[0mcanvas\u001B[0m\u001B[0;34m.\u001B[0m\u001B[0mprint_figure\u001B[0m\u001B[0;34m(\u001B[0m\u001B[0mfname\u001B[0m\u001B[0;34m,\u001B[0m \u001B[0;34m**\u001B[0m\u001B[0mkwargs\u001B[0m\u001B[0;34m)\u001B[0m\u001B[0;34m\u001B[0m\u001B[0;34m\u001B[0m\u001B[0m\n\u001B[0m\u001B[1;32m   2312\u001B[0m \u001B[0;34m\u001B[0m\u001B[0m\n\u001B[1;32m   2313\u001B[0m         \u001B[0;32mif\u001B[0m \u001B[0mtransparent\u001B[0m\u001B[0;34m:\u001B[0m\u001B[0;34m\u001B[0m\u001B[0;34m\u001B[0m\u001B[0m\n",
      "\u001B[0;32m~/.cache/pypoetry/virtualenvs/covid19npisecondwave-rNDyq_Fa-py3.8/lib/python3.8/site-packages/matplotlib/backend_bases.py\u001B[0m in \u001B[0;36mprint_figure\u001B[0;34m(self, filename, dpi, facecolor, edgecolor, orientation, format, bbox_inches, pad_inches, bbox_extra_artists, backend, **kwargs)\u001B[0m\n\u001B[1;32m   2208\u001B[0m \u001B[0;34m\u001B[0m\u001B[0m\n\u001B[1;32m   2209\u001B[0m             \u001B[0;32mtry\u001B[0m\u001B[0;34m:\u001B[0m\u001B[0;34m\u001B[0m\u001B[0;34m\u001B[0m\u001B[0m\n\u001B[0;32m-> 2210\u001B[0;31m                 result = print_method(\n\u001B[0m\u001B[1;32m   2211\u001B[0m                     \u001B[0mfilename\u001B[0m\u001B[0;34m,\u001B[0m\u001B[0;34m\u001B[0m\u001B[0;34m\u001B[0m\u001B[0m\n\u001B[1;32m   2212\u001B[0m                     \u001B[0mdpi\u001B[0m\u001B[0;34m=\u001B[0m\u001B[0mdpi\u001B[0m\u001B[0;34m,\u001B[0m\u001B[0;34m\u001B[0m\u001B[0;34m\u001B[0m\u001B[0m\n",
      "\u001B[0;32m~/.cache/pypoetry/virtualenvs/covid19npisecondwave-rNDyq_Fa-py3.8/lib/python3.8/site-packages/matplotlib/backends/backend_svg.py\u001B[0m in \u001B[0;36mprint_svg\u001B[0;34m(self, filename, *args, **kwargs)\u001B[0m\n\u001B[1;32m   1327\u001B[0m                 \u001B[0mdetach\u001B[0m \u001B[0;34m=\u001B[0m \u001B[0;32mTrue\u001B[0m\u001B[0;34m\u001B[0m\u001B[0;34m\u001B[0m\u001B[0m\n\u001B[1;32m   1328\u001B[0m \u001B[0;34m\u001B[0m\u001B[0m\n\u001B[0;32m-> 1329\u001B[0;31m             \u001B[0mself\u001B[0m\u001B[0;34m.\u001B[0m\u001B[0m_print_svg\u001B[0m\u001B[0;34m(\u001B[0m\u001B[0mfilename\u001B[0m\u001B[0;34m,\u001B[0m \u001B[0mfh\u001B[0m\u001B[0;34m,\u001B[0m \u001B[0;34m**\u001B[0m\u001B[0mkwargs\u001B[0m\u001B[0;34m)\u001B[0m\u001B[0;34m\u001B[0m\u001B[0;34m\u001B[0m\u001B[0m\n\u001B[0m\u001B[1;32m   1330\u001B[0m \u001B[0;34m\u001B[0m\u001B[0m\n\u001B[1;32m   1331\u001B[0m             \u001B[0;31m# Detach underlying stream from wrapper so that it remains open in\u001B[0m\u001B[0;34m\u001B[0m\u001B[0;34m\u001B[0m\u001B[0;34m\u001B[0m\u001B[0m\n",
      "\u001B[0;32m~/.cache/pypoetry/virtualenvs/covid19npisecondwave-rNDyq_Fa-py3.8/lib/python3.8/site-packages/matplotlib/backend_bases.py\u001B[0m in \u001B[0;36mwrapper\u001B[0;34m(*args, **kwargs)\u001B[0m\n\u001B[1;32m   1637\u001B[0m             \u001B[0mkwargs\u001B[0m\u001B[0;34m.\u001B[0m\u001B[0mpop\u001B[0m\u001B[0;34m(\u001B[0m\u001B[0marg\u001B[0m\u001B[0;34m)\u001B[0m\u001B[0;34m\u001B[0m\u001B[0;34m\u001B[0m\u001B[0m\n\u001B[1;32m   1638\u001B[0m \u001B[0;34m\u001B[0m\u001B[0m\n\u001B[0;32m-> 1639\u001B[0;31m         \u001B[0;32mreturn\u001B[0m \u001B[0mfunc\u001B[0m\u001B[0;34m(\u001B[0m\u001B[0;34m*\u001B[0m\u001B[0margs\u001B[0m\u001B[0;34m,\u001B[0m \u001B[0;34m**\u001B[0m\u001B[0mkwargs\u001B[0m\u001B[0;34m)\u001B[0m\u001B[0;34m\u001B[0m\u001B[0;34m\u001B[0m\u001B[0m\n\u001B[0m\u001B[1;32m   1640\u001B[0m \u001B[0;34m\u001B[0m\u001B[0m\n\u001B[1;32m   1641\u001B[0m     \u001B[0;32mreturn\u001B[0m \u001B[0mwrapper\u001B[0m\u001B[0;34m\u001B[0m\u001B[0;34m\u001B[0m\u001B[0m\n",
      "\u001B[0;32m~/.cache/pypoetry/virtualenvs/covid19npisecondwave-rNDyq_Fa-py3.8/lib/python3.8/site-packages/matplotlib/backends/backend_svg.py\u001B[0m in \u001B[0;36m_print_svg\u001B[0;34m(self, filename, fh, dpi, bbox_inches_restore, metadata)\u001B[0m\n\u001B[1;32m   1351\u001B[0m             bbox_inches_restore=bbox_inches_restore)\n\u001B[1;32m   1352\u001B[0m \u001B[0;34m\u001B[0m\u001B[0m\n\u001B[0;32m-> 1353\u001B[0;31m         \u001B[0mself\u001B[0m\u001B[0;34m.\u001B[0m\u001B[0mfigure\u001B[0m\u001B[0;34m.\u001B[0m\u001B[0mdraw\u001B[0m\u001B[0;34m(\u001B[0m\u001B[0mrenderer\u001B[0m\u001B[0;34m)\u001B[0m\u001B[0;34m\u001B[0m\u001B[0;34m\u001B[0m\u001B[0m\n\u001B[0m\u001B[1;32m   1354\u001B[0m         \u001B[0mrenderer\u001B[0m\u001B[0;34m.\u001B[0m\u001B[0mfinalize\u001B[0m\u001B[0;34m(\u001B[0m\u001B[0;34m)\u001B[0m\u001B[0;34m\u001B[0m\u001B[0;34m\u001B[0m\u001B[0m\n\u001B[1;32m   1355\u001B[0m \u001B[0;34m\u001B[0m\u001B[0m\n",
      "\u001B[0;32m~/.cache/pypoetry/virtualenvs/covid19npisecondwave-rNDyq_Fa-py3.8/lib/python3.8/site-packages/matplotlib/artist.py\u001B[0m in \u001B[0;36mdraw_wrapper\u001B[0;34m(artist, renderer, *args, **kwargs)\u001B[0m\n\u001B[1;32m     39\u001B[0m                 \u001B[0mrenderer\u001B[0m\u001B[0;34m.\u001B[0m\u001B[0mstart_filter\u001B[0m\u001B[0;34m(\u001B[0m\u001B[0;34m)\u001B[0m\u001B[0;34m\u001B[0m\u001B[0;34m\u001B[0m\u001B[0m\n\u001B[1;32m     40\u001B[0m \u001B[0;34m\u001B[0m\u001B[0m\n\u001B[0;32m---> 41\u001B[0;31m             \u001B[0;32mreturn\u001B[0m \u001B[0mdraw\u001B[0m\u001B[0;34m(\u001B[0m\u001B[0martist\u001B[0m\u001B[0;34m,\u001B[0m \u001B[0mrenderer\u001B[0m\u001B[0;34m,\u001B[0m \u001B[0;34m*\u001B[0m\u001B[0margs\u001B[0m\u001B[0;34m,\u001B[0m \u001B[0;34m**\u001B[0m\u001B[0mkwargs\u001B[0m\u001B[0;34m)\u001B[0m\u001B[0;34m\u001B[0m\u001B[0;34m\u001B[0m\u001B[0m\n\u001B[0m\u001B[1;32m     42\u001B[0m         \u001B[0;32mfinally\u001B[0m\u001B[0;34m:\u001B[0m\u001B[0;34m\u001B[0m\u001B[0;34m\u001B[0m\u001B[0m\n\u001B[1;32m     43\u001B[0m             \u001B[0;32mif\u001B[0m \u001B[0martist\u001B[0m\u001B[0;34m.\u001B[0m\u001B[0mget_agg_filter\u001B[0m\u001B[0;34m(\u001B[0m\u001B[0;34m)\u001B[0m \u001B[0;32mis\u001B[0m \u001B[0;32mnot\u001B[0m \u001B[0;32mNone\u001B[0m\u001B[0;34m:\u001B[0m\u001B[0;34m\u001B[0m\u001B[0;34m\u001B[0m\u001B[0m\n",
      "\u001B[0;32m~/.cache/pypoetry/virtualenvs/covid19npisecondwave-rNDyq_Fa-py3.8/lib/python3.8/site-packages/matplotlib/figure.py\u001B[0m in \u001B[0;36mdraw\u001B[0;34m(self, renderer)\u001B[0m\n\u001B[1;32m   1861\u001B[0m \u001B[0;34m\u001B[0m\u001B[0m\n\u001B[1;32m   1862\u001B[0m             \u001B[0mself\u001B[0m\u001B[0;34m.\u001B[0m\u001B[0mpatch\u001B[0m\u001B[0;34m.\u001B[0m\u001B[0mdraw\u001B[0m\u001B[0;34m(\u001B[0m\u001B[0mrenderer\u001B[0m\u001B[0;34m)\u001B[0m\u001B[0;34m\u001B[0m\u001B[0;34m\u001B[0m\u001B[0m\n\u001B[0;32m-> 1863\u001B[0;31m             mimage._draw_list_compositing_images(\n\u001B[0m\u001B[1;32m   1864\u001B[0m                 renderer, self, artists, self.suppressComposite)\n\u001B[1;32m   1865\u001B[0m \u001B[0;34m\u001B[0m\u001B[0m\n",
      "\u001B[0;32m~/.cache/pypoetry/virtualenvs/covid19npisecondwave-rNDyq_Fa-py3.8/lib/python3.8/site-packages/matplotlib/image.py\u001B[0m in \u001B[0;36m_draw_list_compositing_images\u001B[0;34m(renderer, parent, artists, suppress_composite)\u001B[0m\n\u001B[1;32m    129\u001B[0m     \u001B[0;32mif\u001B[0m \u001B[0mnot_composite\u001B[0m \u001B[0;32mor\u001B[0m \u001B[0;32mnot\u001B[0m \u001B[0mhas_images\u001B[0m\u001B[0;34m:\u001B[0m\u001B[0;34m\u001B[0m\u001B[0;34m\u001B[0m\u001B[0m\n\u001B[1;32m    130\u001B[0m         \u001B[0;32mfor\u001B[0m \u001B[0ma\u001B[0m \u001B[0;32min\u001B[0m \u001B[0martists\u001B[0m\u001B[0;34m:\u001B[0m\u001B[0;34m\u001B[0m\u001B[0;34m\u001B[0m\u001B[0m\n\u001B[0;32m--> 131\u001B[0;31m             \u001B[0ma\u001B[0m\u001B[0;34m.\u001B[0m\u001B[0mdraw\u001B[0m\u001B[0;34m(\u001B[0m\u001B[0mrenderer\u001B[0m\u001B[0;34m)\u001B[0m\u001B[0;34m\u001B[0m\u001B[0;34m\u001B[0m\u001B[0m\n\u001B[0m\u001B[1;32m    132\u001B[0m     \u001B[0;32melse\u001B[0m\u001B[0;34m:\u001B[0m\u001B[0;34m\u001B[0m\u001B[0;34m\u001B[0m\u001B[0m\n\u001B[1;32m    133\u001B[0m         \u001B[0;31m# Composite any adjacent images together\u001B[0m\u001B[0;34m\u001B[0m\u001B[0;34m\u001B[0m\u001B[0;34m\u001B[0m\u001B[0m\n",
      "\u001B[0;32m~/.cache/pypoetry/virtualenvs/covid19npisecondwave-rNDyq_Fa-py3.8/lib/python3.8/site-packages/matplotlib/artist.py\u001B[0m in \u001B[0;36mdraw_wrapper\u001B[0;34m(artist, renderer, *args, **kwargs)\u001B[0m\n\u001B[1;32m     39\u001B[0m                 \u001B[0mrenderer\u001B[0m\u001B[0;34m.\u001B[0m\u001B[0mstart_filter\u001B[0m\u001B[0;34m(\u001B[0m\u001B[0;34m)\u001B[0m\u001B[0;34m\u001B[0m\u001B[0;34m\u001B[0m\u001B[0m\n\u001B[1;32m     40\u001B[0m \u001B[0;34m\u001B[0m\u001B[0m\n\u001B[0;32m---> 41\u001B[0;31m             \u001B[0;32mreturn\u001B[0m \u001B[0mdraw\u001B[0m\u001B[0;34m(\u001B[0m\u001B[0martist\u001B[0m\u001B[0;34m,\u001B[0m \u001B[0mrenderer\u001B[0m\u001B[0;34m,\u001B[0m \u001B[0;34m*\u001B[0m\u001B[0margs\u001B[0m\u001B[0;34m,\u001B[0m \u001B[0;34m**\u001B[0m\u001B[0mkwargs\u001B[0m\u001B[0;34m)\u001B[0m\u001B[0;34m\u001B[0m\u001B[0;34m\u001B[0m\u001B[0m\n\u001B[0m\u001B[1;32m     42\u001B[0m         \u001B[0;32mfinally\u001B[0m\u001B[0;34m:\u001B[0m\u001B[0;34m\u001B[0m\u001B[0;34m\u001B[0m\u001B[0m\n\u001B[1;32m     43\u001B[0m             \u001B[0;32mif\u001B[0m \u001B[0martist\u001B[0m\u001B[0;34m.\u001B[0m\u001B[0mget_agg_filter\u001B[0m\u001B[0;34m(\u001B[0m\u001B[0;34m)\u001B[0m \u001B[0;32mis\u001B[0m \u001B[0;32mnot\u001B[0m \u001B[0;32mNone\u001B[0m\u001B[0;34m:\u001B[0m\u001B[0;34m\u001B[0m\u001B[0;34m\u001B[0m\u001B[0m\n",
      "\u001B[0;32m~/.cache/pypoetry/virtualenvs/covid19npisecondwave-rNDyq_Fa-py3.8/lib/python3.8/site-packages/matplotlib/cbook/deprecation.py\u001B[0m in \u001B[0;36mwrapper\u001B[0;34m(*inner_args, **inner_kwargs)\u001B[0m\n\u001B[1;32m    409\u001B[0m                          \u001B[0;32melse\u001B[0m \u001B[0mdeprecation_addendum\u001B[0m\u001B[0;34m,\u001B[0m\u001B[0;34m\u001B[0m\u001B[0;34m\u001B[0m\u001B[0m\n\u001B[1;32m    410\u001B[0m                 **kwargs)\n\u001B[0;32m--> 411\u001B[0;31m         \u001B[0;32mreturn\u001B[0m \u001B[0mfunc\u001B[0m\u001B[0;34m(\u001B[0m\u001B[0;34m*\u001B[0m\u001B[0minner_args\u001B[0m\u001B[0;34m,\u001B[0m \u001B[0;34m**\u001B[0m\u001B[0minner_kwargs\u001B[0m\u001B[0;34m)\u001B[0m\u001B[0;34m\u001B[0m\u001B[0;34m\u001B[0m\u001B[0m\n\u001B[0m\u001B[1;32m    412\u001B[0m \u001B[0;34m\u001B[0m\u001B[0m\n\u001B[1;32m    413\u001B[0m     \u001B[0;32mreturn\u001B[0m \u001B[0mwrapper\u001B[0m\u001B[0;34m\u001B[0m\u001B[0;34m\u001B[0m\u001B[0m\n",
      "\u001B[0;32m~/.cache/pypoetry/virtualenvs/covid19npisecondwave-rNDyq_Fa-py3.8/lib/python3.8/site-packages/matplotlib/axes/_base.py\u001B[0m in \u001B[0;36mdraw\u001B[0;34m(self, renderer, inframe)\u001B[0m\n\u001B[1;32m   2745\u001B[0m             \u001B[0mrenderer\u001B[0m\u001B[0;34m.\u001B[0m\u001B[0mstop_rasterizing\u001B[0m\u001B[0;34m(\u001B[0m\u001B[0;34m)\u001B[0m\u001B[0;34m\u001B[0m\u001B[0;34m\u001B[0m\u001B[0m\n\u001B[1;32m   2746\u001B[0m \u001B[0;34m\u001B[0m\u001B[0m\n\u001B[0;32m-> 2747\u001B[0;31m         \u001B[0mmimage\u001B[0m\u001B[0;34m.\u001B[0m\u001B[0m_draw_list_compositing_images\u001B[0m\u001B[0;34m(\u001B[0m\u001B[0mrenderer\u001B[0m\u001B[0;34m,\u001B[0m \u001B[0mself\u001B[0m\u001B[0;34m,\u001B[0m \u001B[0martists\u001B[0m\u001B[0;34m)\u001B[0m\u001B[0;34m\u001B[0m\u001B[0;34m\u001B[0m\u001B[0m\n\u001B[0m\u001B[1;32m   2748\u001B[0m \u001B[0;34m\u001B[0m\u001B[0m\n\u001B[1;32m   2749\u001B[0m         \u001B[0mrenderer\u001B[0m\u001B[0;34m.\u001B[0m\u001B[0mclose_group\u001B[0m\u001B[0;34m(\u001B[0m\u001B[0;34m'axes'\u001B[0m\u001B[0;34m)\u001B[0m\u001B[0;34m\u001B[0m\u001B[0;34m\u001B[0m\u001B[0m\n",
      "\u001B[0;32m~/.cache/pypoetry/virtualenvs/covid19npisecondwave-rNDyq_Fa-py3.8/lib/python3.8/site-packages/matplotlib/image.py\u001B[0m in \u001B[0;36m_draw_list_compositing_images\u001B[0;34m(renderer, parent, artists, suppress_composite)\u001B[0m\n\u001B[1;32m    129\u001B[0m     \u001B[0;32mif\u001B[0m \u001B[0mnot_composite\u001B[0m \u001B[0;32mor\u001B[0m \u001B[0;32mnot\u001B[0m \u001B[0mhas_images\u001B[0m\u001B[0;34m:\u001B[0m\u001B[0;34m\u001B[0m\u001B[0;34m\u001B[0m\u001B[0m\n\u001B[1;32m    130\u001B[0m         \u001B[0;32mfor\u001B[0m \u001B[0ma\u001B[0m \u001B[0;32min\u001B[0m \u001B[0martists\u001B[0m\u001B[0;34m:\u001B[0m\u001B[0;34m\u001B[0m\u001B[0;34m\u001B[0m\u001B[0m\n\u001B[0;32m--> 131\u001B[0;31m             \u001B[0ma\u001B[0m\u001B[0;34m.\u001B[0m\u001B[0mdraw\u001B[0m\u001B[0;34m(\u001B[0m\u001B[0mrenderer\u001B[0m\u001B[0;34m)\u001B[0m\u001B[0;34m\u001B[0m\u001B[0;34m\u001B[0m\u001B[0m\n\u001B[0m\u001B[1;32m    132\u001B[0m     \u001B[0;32melse\u001B[0m\u001B[0;34m:\u001B[0m\u001B[0;34m\u001B[0m\u001B[0;34m\u001B[0m\u001B[0m\n\u001B[1;32m    133\u001B[0m         \u001B[0;31m# Composite any adjacent images together\u001B[0m\u001B[0;34m\u001B[0m\u001B[0;34m\u001B[0m\u001B[0;34m\u001B[0m\u001B[0m\n",
      "\u001B[0;32m~/.cache/pypoetry/virtualenvs/covid19npisecondwave-rNDyq_Fa-py3.8/lib/python3.8/site-packages/matplotlib/artist.py\u001B[0m in \u001B[0;36mdraw_wrapper\u001B[0;34m(artist, renderer, *args, **kwargs)\u001B[0m\n\u001B[1;32m     39\u001B[0m                 \u001B[0mrenderer\u001B[0m\u001B[0;34m.\u001B[0m\u001B[0mstart_filter\u001B[0m\u001B[0;34m(\u001B[0m\u001B[0;34m)\u001B[0m\u001B[0;34m\u001B[0m\u001B[0;34m\u001B[0m\u001B[0m\n\u001B[1;32m     40\u001B[0m \u001B[0;34m\u001B[0m\u001B[0m\n\u001B[0;32m---> 41\u001B[0;31m             \u001B[0;32mreturn\u001B[0m \u001B[0mdraw\u001B[0m\u001B[0;34m(\u001B[0m\u001B[0martist\u001B[0m\u001B[0;34m,\u001B[0m \u001B[0mrenderer\u001B[0m\u001B[0;34m,\u001B[0m \u001B[0;34m*\u001B[0m\u001B[0margs\u001B[0m\u001B[0;34m,\u001B[0m \u001B[0;34m**\u001B[0m\u001B[0mkwargs\u001B[0m\u001B[0;34m)\u001B[0m\u001B[0;34m\u001B[0m\u001B[0;34m\u001B[0m\u001B[0m\n\u001B[0m\u001B[1;32m     42\u001B[0m         \u001B[0;32mfinally\u001B[0m\u001B[0;34m:\u001B[0m\u001B[0;34m\u001B[0m\u001B[0;34m\u001B[0m\u001B[0m\n\u001B[1;32m     43\u001B[0m             \u001B[0;32mif\u001B[0m \u001B[0martist\u001B[0m\u001B[0;34m.\u001B[0m\u001B[0mget_agg_filter\u001B[0m\u001B[0;34m(\u001B[0m\u001B[0;34m)\u001B[0m \u001B[0;32mis\u001B[0m \u001B[0;32mnot\u001B[0m \u001B[0;32mNone\u001B[0m\u001B[0;34m:\u001B[0m\u001B[0;34m\u001B[0m\u001B[0;34m\u001B[0m\u001B[0m\n",
      "\u001B[0;32m~/.cache/pypoetry/virtualenvs/covid19npisecondwave-rNDyq_Fa-py3.8/lib/python3.8/site-packages/matplotlib/axis.py\u001B[0m in \u001B[0;36mdraw\u001B[0;34m(self, renderer, *args, **kwargs)\u001B[0m\n\u001B[1;32m   1167\u001B[0m \u001B[0;34m\u001B[0m\u001B[0m\n\u001B[1;32m   1168\u001B[0m         \u001B[0;32mfor\u001B[0m \u001B[0mtick\u001B[0m \u001B[0;32min\u001B[0m \u001B[0mticks_to_draw\u001B[0m\u001B[0;34m:\u001B[0m\u001B[0;34m\u001B[0m\u001B[0;34m\u001B[0m\u001B[0m\n\u001B[0;32m-> 1169\u001B[0;31m             \u001B[0mtick\u001B[0m\u001B[0;34m.\u001B[0m\u001B[0mdraw\u001B[0m\u001B[0;34m(\u001B[0m\u001B[0mrenderer\u001B[0m\u001B[0;34m)\u001B[0m\u001B[0;34m\u001B[0m\u001B[0;34m\u001B[0m\u001B[0m\n\u001B[0m\u001B[1;32m   1170\u001B[0m \u001B[0;34m\u001B[0m\u001B[0m\n\u001B[1;32m   1171\u001B[0m         \u001B[0;31m# scale up the axis label box to also find the neighbors, not\u001B[0m\u001B[0;34m\u001B[0m\u001B[0;34m\u001B[0m\u001B[0;34m\u001B[0m\u001B[0m\n",
      "\u001B[0;32m~/.cache/pypoetry/virtualenvs/covid19npisecondwave-rNDyq_Fa-py3.8/lib/python3.8/site-packages/matplotlib/artist.py\u001B[0m in \u001B[0;36mdraw_wrapper\u001B[0;34m(artist, renderer, *args, **kwargs)\u001B[0m\n\u001B[1;32m     39\u001B[0m                 \u001B[0mrenderer\u001B[0m\u001B[0;34m.\u001B[0m\u001B[0mstart_filter\u001B[0m\u001B[0;34m(\u001B[0m\u001B[0;34m)\u001B[0m\u001B[0;34m\u001B[0m\u001B[0;34m\u001B[0m\u001B[0m\n\u001B[1;32m     40\u001B[0m \u001B[0;34m\u001B[0m\u001B[0m\n\u001B[0;32m---> 41\u001B[0;31m             \u001B[0;32mreturn\u001B[0m \u001B[0mdraw\u001B[0m\u001B[0;34m(\u001B[0m\u001B[0martist\u001B[0m\u001B[0;34m,\u001B[0m \u001B[0mrenderer\u001B[0m\u001B[0;34m,\u001B[0m \u001B[0;34m*\u001B[0m\u001B[0margs\u001B[0m\u001B[0;34m,\u001B[0m \u001B[0;34m**\u001B[0m\u001B[0mkwargs\u001B[0m\u001B[0;34m)\u001B[0m\u001B[0;34m\u001B[0m\u001B[0;34m\u001B[0m\u001B[0m\n\u001B[0m\u001B[1;32m     42\u001B[0m         \u001B[0;32mfinally\u001B[0m\u001B[0;34m:\u001B[0m\u001B[0;34m\u001B[0m\u001B[0;34m\u001B[0m\u001B[0m\n\u001B[1;32m     43\u001B[0m             \u001B[0;32mif\u001B[0m \u001B[0martist\u001B[0m\u001B[0;34m.\u001B[0m\u001B[0mget_agg_filter\u001B[0m\u001B[0;34m(\u001B[0m\u001B[0;34m)\u001B[0m \u001B[0;32mis\u001B[0m \u001B[0;32mnot\u001B[0m \u001B[0;32mNone\u001B[0m\u001B[0;34m:\u001B[0m\u001B[0;34m\u001B[0m\u001B[0;34m\u001B[0m\u001B[0m\n",
      "\u001B[0;32m~/.cache/pypoetry/virtualenvs/covid19npisecondwave-rNDyq_Fa-py3.8/lib/python3.8/site-packages/matplotlib/axis.py\u001B[0m in \u001B[0;36mdraw\u001B[0;34m(self, renderer)\u001B[0m\n\u001B[1;32m    289\u001B[0m         for artist in [self.gridline, self.tick1line, self.tick2line,\n\u001B[1;32m    290\u001B[0m                        self.label1, self.label2]:\n\u001B[0;32m--> 291\u001B[0;31m             \u001B[0martist\u001B[0m\u001B[0;34m.\u001B[0m\u001B[0mdraw\u001B[0m\u001B[0;34m(\u001B[0m\u001B[0mrenderer\u001B[0m\u001B[0;34m)\u001B[0m\u001B[0;34m\u001B[0m\u001B[0;34m\u001B[0m\u001B[0m\n\u001B[0m\u001B[1;32m    292\u001B[0m         \u001B[0mrenderer\u001B[0m\u001B[0;34m.\u001B[0m\u001B[0mclose_group\u001B[0m\u001B[0;34m(\u001B[0m\u001B[0mself\u001B[0m\u001B[0;34m.\u001B[0m\u001B[0m__name__\u001B[0m\u001B[0;34m)\u001B[0m\u001B[0;34m\u001B[0m\u001B[0;34m\u001B[0m\u001B[0m\n\u001B[1;32m    293\u001B[0m         \u001B[0mself\u001B[0m\u001B[0;34m.\u001B[0m\u001B[0mstale\u001B[0m \u001B[0;34m=\u001B[0m \u001B[0;32mFalse\u001B[0m\u001B[0;34m\u001B[0m\u001B[0;34m\u001B[0m\u001B[0m\n",
      "\u001B[0;32m~/.cache/pypoetry/virtualenvs/covid19npisecondwave-rNDyq_Fa-py3.8/lib/python3.8/site-packages/matplotlib/artist.py\u001B[0m in \u001B[0;36mdraw_wrapper\u001B[0;34m(artist, renderer, *args, **kwargs)\u001B[0m\n\u001B[1;32m     39\u001B[0m                 \u001B[0mrenderer\u001B[0m\u001B[0;34m.\u001B[0m\u001B[0mstart_filter\u001B[0m\u001B[0;34m(\u001B[0m\u001B[0;34m)\u001B[0m\u001B[0;34m\u001B[0m\u001B[0;34m\u001B[0m\u001B[0m\n\u001B[1;32m     40\u001B[0m \u001B[0;34m\u001B[0m\u001B[0m\n\u001B[0;32m---> 41\u001B[0;31m             \u001B[0;32mreturn\u001B[0m \u001B[0mdraw\u001B[0m\u001B[0;34m(\u001B[0m\u001B[0martist\u001B[0m\u001B[0;34m,\u001B[0m \u001B[0mrenderer\u001B[0m\u001B[0;34m,\u001B[0m \u001B[0;34m*\u001B[0m\u001B[0margs\u001B[0m\u001B[0;34m,\u001B[0m \u001B[0;34m**\u001B[0m\u001B[0mkwargs\u001B[0m\u001B[0;34m)\u001B[0m\u001B[0;34m\u001B[0m\u001B[0;34m\u001B[0m\u001B[0m\n\u001B[0m\u001B[1;32m     42\u001B[0m         \u001B[0;32mfinally\u001B[0m\u001B[0;34m:\u001B[0m\u001B[0;34m\u001B[0m\u001B[0;34m\u001B[0m\u001B[0m\n\u001B[1;32m     43\u001B[0m             \u001B[0;32mif\u001B[0m \u001B[0martist\u001B[0m\u001B[0;34m.\u001B[0m\u001B[0mget_agg_filter\u001B[0m\u001B[0;34m(\u001B[0m\u001B[0;34m)\u001B[0m \u001B[0;32mis\u001B[0m \u001B[0;32mnot\u001B[0m \u001B[0;32mNone\u001B[0m\u001B[0;34m:\u001B[0m\u001B[0;34m\u001B[0m\u001B[0;34m\u001B[0m\u001B[0m\n",
      "\u001B[0;32m~/.cache/pypoetry/virtualenvs/covid19npisecondwave-rNDyq_Fa-py3.8/lib/python3.8/site-packages/matplotlib/text.py\u001B[0m in \u001B[0;36mdraw\u001B[0;34m(self, renderer)\u001B[0m\n\u001B[1;32m    725\u001B[0m                                           mtext=mtext)\n\u001B[1;32m    726\u001B[0m                 \u001B[0;32melse\u001B[0m\u001B[0;34m:\u001B[0m\u001B[0;34m\u001B[0m\u001B[0;34m\u001B[0m\u001B[0m\n\u001B[0;32m--> 727\u001B[0;31m                     textrenderer.draw_text(gc, x, y, clean_line,\n\u001B[0m\u001B[1;32m    728\u001B[0m                                            \u001B[0mtextobj\u001B[0m\u001B[0;34m.\u001B[0m\u001B[0m_fontproperties\u001B[0m\u001B[0;34m,\u001B[0m \u001B[0mangle\u001B[0m\u001B[0;34m,\u001B[0m\u001B[0;34m\u001B[0m\u001B[0;34m\u001B[0m\u001B[0m\n\u001B[1;32m    729\u001B[0m                                            ismath=ismath, mtext=mtext)\n",
      "\u001B[0;32m~/.cache/pypoetry/virtualenvs/covid19npisecondwave-rNDyq_Fa-py3.8/lib/python3.8/site-packages/matplotlib/backends/backend_svg.py\u001B[0m in \u001B[0;36mdraw_text\u001B[0;34m(self, gc, x, y, s, prop, angle, ismath, mtext)\u001B[0m\n\u001B[1;32m   1255\u001B[0m \u001B[0;34m\u001B[0m\u001B[0m\n\u001B[1;32m   1256\u001B[0m         \u001B[0;32mif\u001B[0m \u001B[0mmpl\u001B[0m\u001B[0;34m.\u001B[0m\u001B[0mrcParams\u001B[0m\u001B[0;34m[\u001B[0m\u001B[0;34m'svg.fonttype'\u001B[0m\u001B[0;34m]\u001B[0m \u001B[0;34m==\u001B[0m \u001B[0;34m'path'\u001B[0m\u001B[0;34m:\u001B[0m\u001B[0;34m\u001B[0m\u001B[0;34m\u001B[0m\u001B[0m\n\u001B[0;32m-> 1257\u001B[0;31m             \u001B[0mself\u001B[0m\u001B[0;34m.\u001B[0m\u001B[0m_draw_text_as_path\u001B[0m\u001B[0;34m(\u001B[0m\u001B[0mgc\u001B[0m\u001B[0;34m,\u001B[0m \u001B[0mx\u001B[0m\u001B[0;34m,\u001B[0m \u001B[0my\u001B[0m\u001B[0;34m,\u001B[0m \u001B[0ms\u001B[0m\u001B[0;34m,\u001B[0m \u001B[0mprop\u001B[0m\u001B[0;34m,\u001B[0m \u001B[0mangle\u001B[0m\u001B[0;34m,\u001B[0m \u001B[0mismath\u001B[0m\u001B[0;34m,\u001B[0m \u001B[0mmtext\u001B[0m\u001B[0;34m)\u001B[0m\u001B[0;34m\u001B[0m\u001B[0;34m\u001B[0m\u001B[0m\n\u001B[0m\u001B[1;32m   1258\u001B[0m         \u001B[0;32melse\u001B[0m\u001B[0;34m:\u001B[0m\u001B[0;34m\u001B[0m\u001B[0;34m\u001B[0m\u001B[0m\n\u001B[1;32m   1259\u001B[0m             \u001B[0mself\u001B[0m\u001B[0;34m.\u001B[0m\u001B[0m_draw_text_as_text\u001B[0m\u001B[0;34m(\u001B[0m\u001B[0mgc\u001B[0m\u001B[0;34m,\u001B[0m \u001B[0mx\u001B[0m\u001B[0;34m,\u001B[0m \u001B[0my\u001B[0m\u001B[0;34m,\u001B[0m \u001B[0ms\u001B[0m\u001B[0;34m,\u001B[0m \u001B[0mprop\u001B[0m\u001B[0;34m,\u001B[0m \u001B[0mangle\u001B[0m\u001B[0;34m,\u001B[0m \u001B[0mismath\u001B[0m\u001B[0;34m,\u001B[0m \u001B[0mmtext\u001B[0m\u001B[0;34m)\u001B[0m\u001B[0;34m\u001B[0m\u001B[0;34m\u001B[0m\u001B[0m\n",
      "\u001B[0;32m~/.cache/pypoetry/virtualenvs/covid19npisecondwave-rNDyq_Fa-py3.8/lib/python3.8/site-packages/matplotlib/backends/backend_svg.py\u001B[0m in \u001B[0;36m_draw_text_as_path\u001B[0;34m(self, gc, x, y, s, prop, angle, ismath, mtext)\u001B[0m\n\u001B[1;32m   1069\u001B[0m         \u001B[0;32mif\u001B[0m \u001B[0;32mnot\u001B[0m \u001B[0mismath\u001B[0m\u001B[0;34m:\u001B[0m\u001B[0;34m\u001B[0m\u001B[0;34m\u001B[0m\u001B[0m\n\u001B[1;32m   1070\u001B[0m             \u001B[0mfont\u001B[0m \u001B[0;34m=\u001B[0m \u001B[0mtext2path\u001B[0m\u001B[0;34m.\u001B[0m\u001B[0m_get_font\u001B[0m\u001B[0;34m(\u001B[0m\u001B[0mprop\u001B[0m\u001B[0;34m)\u001B[0m\u001B[0;34m\u001B[0m\u001B[0;34m\u001B[0m\u001B[0m\n\u001B[0;32m-> 1071\u001B[0;31m             _glyphs = text2path.get_glyphs_with_font(\n\u001B[0m\u001B[1;32m   1072\u001B[0m                 font, s, glyph_map=glyph_map, return_new_glyphs_only=True)\n\u001B[1;32m   1073\u001B[0m             \u001B[0mglyph_info\u001B[0m\u001B[0;34m,\u001B[0m \u001B[0mglyph_map_new\u001B[0m\u001B[0;34m,\u001B[0m \u001B[0mrects\u001B[0m \u001B[0;34m=\u001B[0m \u001B[0m_glyphs\u001B[0m\u001B[0;34m\u001B[0m\u001B[0;34m\u001B[0m\u001B[0m\n",
      "\u001B[0;32m~/.cache/pypoetry/virtualenvs/covid19npisecondwave-rNDyq_Fa-py3.8/lib/python3.8/site-packages/matplotlib/textpath.py\u001B[0m in \u001B[0;36mget_glyphs_with_font\u001B[0;34m(self, font, s, glyph_map, return_new_glyphs_only)\u001B[0m\n\u001B[1;32m    160\u001B[0m         \u001B[0mglyph_ids\u001B[0m \u001B[0;34m=\u001B[0m \u001B[0;34m[\u001B[0m\u001B[0;34m]\u001B[0m\u001B[0;34m\u001B[0m\u001B[0;34m\u001B[0m\u001B[0m\n\u001B[1;32m    161\u001B[0m         \u001B[0;32mfor\u001B[0m \u001B[0mchar\u001B[0m\u001B[0;34m,\u001B[0m \u001B[0;34m(\u001B[0m\u001B[0m_\u001B[0m\u001B[0;34m,\u001B[0m \u001B[0mx\u001B[0m\u001B[0;34m)\u001B[0m \u001B[0;32min\u001B[0m \u001B[0mzip\u001B[0m\u001B[0;34m(\u001B[0m\u001B[0ms\u001B[0m\u001B[0;34m,\u001B[0m \u001B[0m_text_layout\u001B[0m\u001B[0;34m.\u001B[0m\u001B[0mlayout\u001B[0m\u001B[0;34m(\u001B[0m\u001B[0ms\u001B[0m\u001B[0;34m,\u001B[0m \u001B[0mfont\u001B[0m\u001B[0;34m)\u001B[0m\u001B[0;34m)\u001B[0m\u001B[0;34m:\u001B[0m\u001B[0;34m\u001B[0m\u001B[0;34m\u001B[0m\u001B[0m\n\u001B[0;32m--> 162\u001B[0;31m             \u001B[0mchar_id\u001B[0m \u001B[0;34m=\u001B[0m \u001B[0mself\u001B[0m\u001B[0;34m.\u001B[0m\u001B[0m_get_char_id\u001B[0m\u001B[0;34m(\u001B[0m\u001B[0mfont\u001B[0m\u001B[0;34m,\u001B[0m \u001B[0mord\u001B[0m\u001B[0;34m(\u001B[0m\u001B[0mchar\u001B[0m\u001B[0;34m)\u001B[0m\u001B[0;34m)\u001B[0m\u001B[0;34m\u001B[0m\u001B[0;34m\u001B[0m\u001B[0m\n\u001B[0m\u001B[1;32m    163\u001B[0m             \u001B[0mglyph_ids\u001B[0m\u001B[0;34m.\u001B[0m\u001B[0mappend\u001B[0m\u001B[0;34m(\u001B[0m\u001B[0mchar_id\u001B[0m\u001B[0;34m)\u001B[0m\u001B[0;34m\u001B[0m\u001B[0;34m\u001B[0m\u001B[0m\n\u001B[1;32m    164\u001B[0m             \u001B[0mxpositions\u001B[0m\u001B[0;34m.\u001B[0m\u001B[0mappend\u001B[0m\u001B[0;34m(\u001B[0m\u001B[0mx\u001B[0m\u001B[0;34m)\u001B[0m\u001B[0;34m\u001B[0m\u001B[0;34m\u001B[0m\u001B[0m\n",
      "\u001B[0;32m~/.cache/pypoetry/virtualenvs/covid19npisecondwave-rNDyq_Fa-py3.8/lib/python3.8/site-packages/matplotlib/textpath.py\u001B[0m in \u001B[0;36m_get_char_id\u001B[0;34m(self, font, ccode)\u001B[0m\n\u001B[1;32m     42\u001B[0m         \u001B[0mReturn\u001B[0m \u001B[0ma\u001B[0m \u001B[0munique\u001B[0m \u001B[0mid\u001B[0m \u001B[0;32mfor\u001B[0m \u001B[0mthe\u001B[0m \u001B[0mgiven\u001B[0m \u001B[0mfont\u001B[0m \u001B[0;32mand\u001B[0m \u001B[0mcharacter\u001B[0m\u001B[0;34m-\u001B[0m\u001B[0mcode\u001B[0m \u001B[0mset\u001B[0m\u001B[0;34m.\u001B[0m\u001B[0;34m\u001B[0m\u001B[0;34m\u001B[0m\u001B[0m\n\u001B[1;32m     43\u001B[0m         \"\"\"\n\u001B[0;32m---> 44\u001B[0;31m         \u001B[0;32mreturn\u001B[0m \u001B[0murllib\u001B[0m\u001B[0;34m.\u001B[0m\u001B[0mparse\u001B[0m\u001B[0;34m.\u001B[0m\u001B[0mquote\u001B[0m\u001B[0;34m(\u001B[0m\u001B[0;34m'{}-{}'\u001B[0m\u001B[0;34m.\u001B[0m\u001B[0mformat\u001B[0m\u001B[0;34m(\u001B[0m\u001B[0mfont\u001B[0m\u001B[0;34m.\u001B[0m\u001B[0mpostscript_name\u001B[0m\u001B[0;34m,\u001B[0m \u001B[0mccode\u001B[0m\u001B[0;34m)\u001B[0m\u001B[0;34m)\u001B[0m\u001B[0;34m\u001B[0m\u001B[0;34m\u001B[0m\u001B[0m\n\u001B[0m\u001B[1;32m     45\u001B[0m \u001B[0;34m\u001B[0m\u001B[0m\n\u001B[1;32m     46\u001B[0m     \u001B[0;32mdef\u001B[0m \u001B[0m_get_char_id_ps\u001B[0m\u001B[0;34m(\u001B[0m\u001B[0mself\u001B[0m\u001B[0;34m,\u001B[0m \u001B[0mfont\u001B[0m\u001B[0;34m,\u001B[0m \u001B[0mccode\u001B[0m\u001B[0;34m)\u001B[0m\u001B[0;34m:\u001B[0m\u001B[0;34m\u001B[0m\u001B[0;34m\u001B[0m\u001B[0m\n",
      "\u001B[0;31mKeyboardInterrupt\u001B[0m: "
     ]
    },
    {
     "data": {
      "text/plain": "<Figure size 1200x900 with 1 Axes>",
      "image/png": "[encoded data removed]"
     },
     "metadata": {},
     "output_type": "display_data"
    }
   ],
   "source": [
    "n_region_days = len(Rs)*162\n",
    "sns.set(font_scale=0.35)\n",
    "sns.set_style(style='whitegrid')\n",
    "fig = plt.figure(figsize=((4,3)), dpi=300)\n",
    "ax = plt.gca()\n",
    "ln1 = region_counts.plot.barh(stacked=True, ax = ax, width=0.6)\n",
    "plt.title('Total number of active days for each NPI across all regions', y=-0.15)\n",
    "ax.invert_yaxis()\n",
    "ln2 = plt.axvline(x=n_region_days, color='black', linestyle='dashed', linewidth=0.4, label='Total number of days across all regions')\n",
    "ax.tick_params(axis='both', which='major', length=0)\n",
    "ax.grid(False)\n",
    "sns.despine(right=True)\n",
    "ax.legend(bbox_to_anchor=(0.53, 0.95))\n",
    "plt.savefig('barplot.svg', format = 'svg', dpi=300, bbox_inches='tight')"
   ],
   "metadata": {
    "collapsed": false,
    "pycharm": {
     "name": "#%%\n"
    }
   }
  },
  {
   "cell_type": "code",
   "execution_count": null,
   "metadata": {
    "pycharm": {
     "name": "#%%\n"
    }
   },
   "outputs": [],
   "source": [
    "region_counts_normalised = region_counts.div(region_counts.sum(axis=1), axis=0)\n",
    "fig, ax = plt.subplots(figsize=(10,10))\n",
    "sns.heatmap(region_counts_normalised, xticklabels = region_counts.columns, yticklabels = CMs, ax=ax).set_title('Active days attributable to each country')"
   ]
  },
  {
   "cell_type": "code",
   "execution_count": null,
   "metadata": {
    "pycharm": {
     "name": "#%%\n"
    }
   },
   "outputs": [],
   "source": [
    "def plot_region_contribution_heatmap(active_days_specific_country, country):\n",
    "    active_days_specific_country = pd.DataFrame(active_days_specific_country)\n",
    "    active_days_specific_country.columns = count_active_days_region(CMs[0], country)[0]\n",
    "    active_days_specific_country.index = CMs\n",
    "    active_days_normalised = active_days_specific_country.div(active_days_specific_country.sum(axis=1), axis=0)\n",
    "    return sns.heatmap(active_days_normalised, xticklabels = active_days_specific_country.columns, yticklabels = CMs).set_title('Proportion of active days in '+ country + ' attributable to each constituent region')"
   ]
  },
  {
   "cell_type": "code",
   "execution_count": null,
   "metadata": {
    "pycharm": {
     "name": "#%%\n"
    }
   },
   "outputs": [],
   "source": [
    "plot_region_contribution_heatmap(active_days_uk, 'England')"
   ]
  },
  {
   "cell_type": "code",
   "execution_count": null,
   "metadata": {
    "pycharm": {
     "name": "#%%\n"
    }
   },
   "outputs": [],
   "source": [
    "plot_region_contribution_heatmap(active_days_de, 'Germany')"
   ]
  },
  {
   "cell_type": "code",
   "execution_count": null,
   "metadata": {
    "pycharm": {
     "name": "#%%\n"
    }
   },
   "outputs": [],
   "source": [
    "plot_region_contribution_heatmap(active_days_at, 'Austria')"
   ]
  },
  {
   "cell_type": "code",
   "execution_count": null,
   "metadata": {
    "pycharm": {
     "name": "#%%\n"
    }
   },
   "outputs": [],
   "source": [
    "plot_region_contribution_heatmap(active_days_it, 'Italy')"
   ]
  },
  {
   "cell_type": "code",
   "execution_count": null,
   "metadata": {
    "pycharm": {
     "name": "#%%\n"
    }
   },
   "outputs": [],
   "source": [
    "plot_region_contribution_heatmap(active_days_cz, 'Czech')"
   ]
  },
  {
   "cell_type": "code",
   "execution_count": null,
   "metadata": {
    "pycharm": {
     "name": "#%%\n"
    }
   },
   "outputs": [],
   "source": [
    "plot_region_contribution_heatmap(active_days_ch, 'Switzerland')"
   ]
  },
  {
   "cell_type": "code",
   "execution_count": null,
   "metadata": {
    "pycharm": {
     "name": "#%%\n"
    }
   },
   "outputs": [],
   "source": [
    "plot_region_contribution_heatmap(active_days_nl, 'Netherlands')"
   ]
  },
  {
   "cell_type": "markdown",
   "metadata": {},
   "source": [
    "## Thresholding"
   ]
  },
  {
   "cell_type": "code",
   "execution_count": null,
   "metadata": {
    "pycharm": {
     "name": "#%%\n"
    }
   },
   "outputs": [],
   "source": [
    "thresholding_CMs = [CM for CM in CMs if len(np.unique(df[CM]))>2]\n",
    "df_reduced = df\n",
    "df_thresholds = df_reduced[thresholding_CMs]\n",
    "fig = plt.figure(figsize=((15,10)))\n",
    "fig.subplots_adjust(hspace=1, wspace=1)\n",
    "for i in range(len(thresholding_CMs)):\n",
    "    ax = fig.add_subplot(3, 3, i+1)\n",
    "    plt.xticks(rotation=70)\n",
    "    sns.countplot(x = thresholding_CMs[i], data=df_thresholds, ax=ax)\n",
    "pl.suptitle(\"Histogram of values (thresholds) for the relevant NPIs\")\n",
    "plt.show()"
   ]
  },
  {
   "cell_type": "markdown",
   "metadata": {},
   "source": [
    "## Correlations\n",
    "\n",
    "Correlations don't work when you have an npi always inactive or active for a region,\n",
    "so instead this is a plot of proportion of region-days where the state of each npi is the same."
   ]
  },
  {
   "cell_type": "code",
   "execution_count": null,
   "metadata": {
    "pycharm": {
     "name": "#%%\n"
    }
   },
   "outputs": [],
   "source": [
    "def corr_region(region):\n",
    "    df_region = df[df['Area'] == region].drop(columns=['Area', 'Date', 'Country', 'New Cases', 'New Deaths'])\n",
    "    df_binary = (df_region > 0).astype(float)\n",
    "    corr_mat = np.zeros((len(CMs), len(CMs)))\n",
    "    for i in range(len(CMs)):\n",
    "        for j in range(len(CMs)):\n",
    "            corr_mat[i, j] = np.sum(df_binary[CMs[i]] == df_binary[CMs[j]])/df_binary.shape[0]\n",
    "    return corr_mat\n",
    "def corr_country(country):\n",
    "    df_country = df[df['Country'] == country]\n",
    "    regions = list(set(df_country['Area']))\n",
    "    return np.nanmean([corr_region(region) for region in regions], axis=0)\n",
    "def corr_total():\n",
    "    countries = list(set(df['Country']))\n",
    "    return np.nanmean([corr_country(country) for country in countries], axis=0)"
   ]
  },
  {
   "cell_type": "code",
   "execution_count": null,
   "metadata": {
    "pycharm": {
     "name": "#%%\n"
    }
   },
   "outputs": [],
   "source": [
    "fig, ax = plt.subplots(figsize=(10,10))\n",
    "sns.heatmap(pd.DataFrame(corr_total(), dtype=float), xticklabels = CMs, yticklabels = CMs).set_title('Correlation plot, aggregated across countries')\n",
    "plt.show()"
   ]
  },
  {
   "cell_type": "code",
   "execution_count": null,
   "metadata": {
    "pycharm": {
     "name": "#%%\n"
    }
   },
   "outputs": [],
   "source": [
    "fig, ax = plt.subplots(figsize=(10,10))\n",
    "sns.heatmap(pd.DataFrame(corr_country('Austria'), dtype=float), xticklabels = CMs, yticklabels = CMs, ax = ax).set_title('Austria: Correlation plot')\n",
    "plt.show()"
   ]
  },
  {
   "cell_type": "code",
   "execution_count": null,
   "metadata": {
    "pycharm": {
     "name": "#%%\n"
    }
   },
   "outputs": [],
   "source": [
    "fig, ax = plt.subplots(figsize=(10,10))\n",
    "sns.heatmap(pd.DataFrame(corr_country('England'), dtype=float), xticklabels = CMs, yticklabels = CMs, ax = ax).set_title('England: Correlation plot')\n",
    "plt.show()"
   ]
  },
  {
   "cell_type": "code",
   "execution_count": null,
   "metadata": {
    "pycharm": {
     "name": "#%%\n"
    }
   },
   "outputs": [],
   "source": [
    "fig, ax = plt.subplots(figsize=(10,10))\n",
    "sns.heatmap(pd.DataFrame(corr_country('Germany'), dtype=float), xticklabels = CMs, yticklabels = CMs, ax = ax).set_title('Germany: Correlation plot')\n",
    "plt.show()"
   ]
  },
  {
   "cell_type": "code",
   "execution_count": null,
   "metadata": {
    "pycharm": {
     "name": "#%%\n"
    }
   },
   "outputs": [],
   "source": [
    "fig, ax = plt.subplots(figsize=(10,10))\n",
    "sns.heatmap(pd.DataFrame(corr_country('Italy'), dtype=float), xticklabels = CMs, yticklabels = CMs, ax = ax).set_title('Italy: Correlation plot')\n",
    "plt.show()"
   ]
  },
  {
   "cell_type": "code",
   "execution_count": null,
   "metadata": {
    "pycharm": {
     "name": "#%%\n"
    }
   },
   "outputs": [],
   "source": [
    "fig, ax = plt.subplots(figsize=(10,10))\n",
    "sns.heatmap(pd.DataFrame(corr_country('Czech'), dtype=float), xticklabels = CMs, yticklabels = CMs, ax = ax).set_title('Czech: Correlation plot')\n",
    "plt.show()"
   ]
  },
  {
   "cell_type": "code",
   "execution_count": null,
   "metadata": {
    "pycharm": {
     "name": "#%%\n"
    }
   },
   "outputs": [],
   "source": [
    "fig, ax = plt.subplots(figsize=(10,10))\n",
    "sns.heatmap(pd.DataFrame(corr_country('Switzerland'), dtype=float), xticklabels = CMs, yticklabels = CMs, ax = ax).set_title('Switzerland: Correlation plot')\n",
    "plt.show()"
   ]
  },
  {
   "cell_type": "code",
   "execution_count": null,
   "metadata": {
    "pycharm": {
     "name": "#%%\n"
    }
   },
   "outputs": [],
   "source": [
    "fig, ax = plt.subplots(figsize=(10,10))\n",
    "sns.heatmap(pd.DataFrame(corr_country('Netherlands'), dtype=float), xticklabels = CMs, yticklabels = CMs, ax = ax).set_title('Netherlands: Correlation plot')\n",
    "plt.show()"
   ]
  },
  {
   "cell_type": "markdown",
   "metadata": {},
   "source": [
    "## Conditional activation\n"
   ]
  },
  {
   "cell_type": "code",
   "execution_count": null,
   "metadata": {
    "pycharm": {
     "name": "#%%\n"
    }
   },
   "outputs": [],
   "source": [
    "def get_active_dates_region(data, npi):\n",
    "    non_zero_dates = data['Date'][data[npi] != 0]\n",
    "    return non_zero_dates\n",
    "\n",
    "def intersect_npi_active_dates_region(active_days_1, active_days_2):\n",
    "    return set(active_days_1).intersection(set(active_days_2))\n",
    "\n",
    "def proportional_activation_region(active_days_1, active_days_2):\n",
    "    number_of_active_days = len(active_days_1)\n",
    "    if number_of_active_days == 0: return float('nan')\n",
    "    number_of_jointly_active_days = len(intersect_npi_active_dates_region(active_days_1, active_days_2))\n",
    "    return number_of_jointly_active_days/number_of_active_days\n",
    "\n",
    "def activation_difference_region(active_days_1, active_days_2):\n",
    "    return len(set(active_days_1) - set(active_days_2))\n",
    "\n",
    "def only_one_active_region(active_days_1, active_days_2):\n",
    "    return len(set(active_days_1) - set(active_days_2)) + len(set(active_days_2) - set(active_days_1))\n",
    "\n",
    "def find_conditional_activations(country):\n",
    "    regions = np.unique(df['Area'][df['Country']==country])\n",
    "    proportional_activations = np.empty((len(CMs),len(CMs)), dtype=object)\n",
    "    activation_differences = np.empty((len(CMs),len(CMs)), dtype=object)\n",
    "    single_activations = np.empty((len(CMs),len(CMs)), dtype=object)\n",
    "    count = 0\n",
    "    for region in regions:\n",
    "        data = df[df['Area']==region]\n",
    "        for i in range(len(CMs)):\n",
    "            for j in range(len(CMs)):\n",
    "                active_days_1 = get_active_dates_region(data, CMs[i])\n",
    "                active_days_2 = get_active_dates_region(data, CMs[j])\n",
    "                if count == 0:\n",
    "                    proportional_activations[i, j] = [proportional_activation_region(active_days_1, active_days_2)]\n",
    "                    activation_differences[i, j] = [activation_difference_region(active_days_1, active_days_2)]\n",
    "                    single_activations[i, j] = [only_one_active_region(active_days_1, active_days_2)]\n",
    "                else:\n",
    "                    proportional_activations[i, j].append(proportional_activation_region(active_days_1, active_days_2))\n",
    "                    activation_differences[i, j].append(activation_difference_region(active_days_1, active_days_2))\n",
    "                    single_activations[i, j].append(only_one_active_region(active_days_1, active_days_2))\n",
    "        count += 1\n",
    "    for i in range(len(CMs)):\n",
    "        for j in range(len(CMs)):\n",
    "            proportional_activations[i, j] = np.mean(proportional_activations[i, j])\n",
    "            activation_differences[i, j] = np.sum(activation_differences[i, j])\n",
    "            single_activations[i, j] = np.sum(single_activations[i, j])\n",
    "\n",
    "    return proportional_activations, activation_differences, single_activations\n",
    "\n",
    "def find_conditional_activations_total():\n",
    "\n",
    "    proportional_activations = np.empty((len(CMs),len(CMs)), dtype=object)\n",
    "    activation_differences = np.empty((len(CMs),len(CMs)), dtype=object)\n",
    "    single_activations = np.empty((len(CMs),len(CMs)), dtype=object)\n",
    "\n",
    "    countries = np.unique(df['Country'])\n",
    "    count = 0\n",
    "    for country in countries:\n",
    "        prop, act, single = find_conditional_activations(country)\n",
    "        for i in range(len(CMs)):\n",
    "            for j in range(len(CMs)):\n",
    "                if count == 0:\n",
    "                    proportional_activations[i, j] = [prop[i,j]]\n",
    "                    activation_differences[i, j] = [act[i,j]]\n",
    "                    single_activations[i, j] = [single[i,j]]\n",
    "                else:\n",
    "                    proportional_activations[i, j].append(prop[i,j])\n",
    "                    activation_differences[i, j].append(act[i,j])\n",
    "                    single_activations[i, j].append(single[i,j])\n",
    "        count += 1\n",
    "    for i in range(len(CMs)):\n",
    "        for j in range(len(CMs)):\n",
    "            proportional_activations[i, j] = np.nanmean(proportional_activations[i, j])\n",
    "            activation_differences[i, j] = np.sum(activation_differences[i, j])\n",
    "            single_activations[i, j] = np.sum(single_activations[i, j])\n",
    "\n",
    "    return proportional_activations, activation_differences, single_activations"
   ]
  },
  {
   "cell_type": "code",
   "execution_count": null,
   "metadata": {
    "pycharm": {
     "name": "#%%\n"
    }
   },
   "outputs": [],
   "source": [
    "prop, act, single = find_conditional_activations_total()"
   ]
  },
  {
   "cell_type": "code",
   "execution_count": null,
   "outputs": [],
   "source": [
    "fig = plt.figure(figsize=((10,30)))\n",
    "fig.subplots_adjust(hspace=1)\n",
    "ax = fig.add_subplot(3, 1, 1)\n",
    "sns.heatmap(pd.DataFrame(prop, dtype=float), xticklabels = CMs, yticklabels = CMs).set_title(': Conditional activation matrix: of the proportion of time that NPI Y was active, how often was NPI X active?')\n",
    "ax = fig.add_subplot(3, 1, 2)\n",
    "sns.heatmap(pd.DataFrame(act, dtype=float), xticklabels = CMs, yticklabels = CMs).set_title(': Number of days where only NPI Y is active')\n",
    "ax = fig.add_subplot(3, 1, 3)"
   ],
   "metadata": {
    "collapsed": false,
    "pycharm": {
     "name": "#%%\n"
    }
   }
  },
  {
   "cell_type": "code",
   "execution_count": null,
   "outputs": [],
   "source": [
    "#calculate mean and min number of only one active\n",
    "single[single==0] = float('NaN')\n",
    "single[single>1000] = float('NaN')\n",
    "single[single==366] = float('NaN')\n",
    "single[single==450] = float('NaN')\n",
    "single[single==585] = float('NaN')\n",
    "single[single==601] = float('NaN')\n",
    "\n",
    "print(np.nanmean(single), np.nanmin(single), np.where(single == np.nanmin(single)))"
   ],
   "metadata": {
    "collapsed": false,
    "pycharm": {
     "name": "#%%\n"
    }
   }
  },
  {
   "cell_type": "code",
   "execution_count": null,
   "outputs": [],
   "source": [
    "#masks\n",
    "schools_days = single[:8, :8]\n",
    "print(np.nanmin(schools_days), np.where(schools_days == np.nanmin(schools_days)))\n",
    "#2011 at schools, nice!"
   ],
   "metadata": {
    "collapsed": false,
    "pycharm": {
     "name": "#%%\n"
    }
   }
  },
  {
   "cell_type": "code",
   "execution_count": null,
   "outputs": [],
   "source": [
    "#public private mean days\n",
    "inout_days = []\n",
    "for i, j in zip(range(8, 13), range(13,18)):\n",
    "    inout_days.append(single[i, j])\n",
    "for i, j in zip(range(18, 23), range(23,28)):\n",
    "    inout_days.append(single[i, j])\n",
    "print(np.mean(inout_days))\n",
    "pubpriv_days = []\n",
    "for i, j in zip(range(8, 18), range(18,28)):\n",
    "    pubpriv_days.append(single[i, j])\n",
    "print(np.mean(pubpriv_days))"
   ],
   "metadata": {
    "collapsed": false,
    "pycharm": {
     "name": "#%%\n"
    }
   }
  },
  {
   "cell_type": "code",
   "execution_count": null,
   "metadata": {
    "pycharm": {
     "name": "#%%\n"
    }
   },
   "outputs": [],
   "source": [
    "fig = plt.figure(figsize=((4,3)), dpi=300)\n",
    "sns.set(font_scale=0.4)\n",
    "sns.heatmap(pd.DataFrame(single, dtype=float), xticklabels = CMs, yticklabels = CMs, cmap=\"BuPu_r\")\n",
    "plt.xticks(rotation=90)\n",
    "plt.savefig('collinearity.pdf', format = 'pdf', dpi=300, bbox_inches='tight')\n",
    "plt.show()"
   ]
  },
  {
   "cell_type": "code",
   "execution_count": null,
   "metadata": {
    "pycharm": {
     "name": "#%%\n"
    }
   },
   "outputs": [],
   "source": [
    "def conditional_activation_plotter(country):\n",
    "    prop, act, single = find_conditional_activations(country)\n",
    "    fig = plt.figure(figsize=((10,30)))\n",
    "    fig.subplots_adjust(hspace=1)\n",
    "    ax = fig.add_subplot(3, 1, 1)\n",
    "    sns.heatmap(pd.DataFrame(prop, dtype=float), xticklabels = CMs, yticklabels = CMs).set_title(country + ': Conditional activation matrix: of the proportion of time that NPI Y was active, how often was NPI X active?')\n",
    "    ax = fig.add_subplot(3, 1, 2)\n",
    "    sns.heatmap(pd.DataFrame(act, dtype=float), xticklabels = CMs, yticklabels = CMs).set_title(country + ': Number of days where only NPI Y is active')\n",
    "    ax = fig.add_subplot(3, 1, 3)\n",
    "    sns.heatmap(pd.DataFrame(single, dtype=float), xticklabels = CMs, yticklabels = CMs).set_title(country + ': Number of days where exactly one of NPI X and NPI Y is active')\n",
    "    plt.show()\n"
   ]
  },
  {
   "cell_type": "markdown",
   "metadata": {
    "pycharm": {
     "name": "#%% md\n"
    }
   },
   "source": [
    "### Austria"
   ]
  },
  {
   "cell_type": "code",
   "execution_count": null,
   "metadata": {
    "pycharm": {
     "name": "#%%\n"
    }
   },
   "outputs": [],
   "source": [
    "conditional_activation_plotter('Austria')"
   ]
  },
  {
   "cell_type": "markdown",
   "metadata": {},
   "source": [
    "### England"
   ]
  },
  {
   "cell_type": "code",
   "execution_count": null,
   "metadata": {
    "pycharm": {
     "name": "#%%\n"
    }
   },
   "outputs": [],
   "source": [
    "conditional_activation_plotter('England')"
   ]
  },
  {
   "cell_type": "markdown",
   "metadata": {},
   "source": [
    "### Germany"
   ]
  },
  {
   "cell_type": "code",
   "execution_count": null,
   "metadata": {
    "pycharm": {
     "name": "#%%\n"
    }
   },
   "outputs": [],
   "source": [
    "conditional_activation_plotter('Germany')"
   ]
  },
  {
   "cell_type": "markdown",
   "metadata": {},
   "source": [
    "### Italy"
   ]
  },
  {
   "cell_type": "code",
   "execution_count": null,
   "metadata": {
    "pycharm": {
     "name": "#%%\n"
    }
   },
   "outputs": [],
   "source": [
    "conditional_activation_plotter('Italy')"
   ]
  },
  {
   "cell_type": "code",
   "execution_count": null,
   "metadata": {
    "pycharm": {
     "name": "#%%\n"
    }
   },
   "outputs": [],
   "source": [
    "conditional_activation_plotter('Czech')"
   ]
  },
  {
   "cell_type": "code",
   "execution_count": null,
   "metadata": {
    "pycharm": {
     "name": "#%%\n"
    }
   },
   "outputs": [],
   "source": [
    "conditional_activation_plotter('Switzerland')"
   ]
  },
  {
   "cell_type": "code",
   "execution_count": null,
   "metadata": {
    "pycharm": {
     "name": "#%%\n"
    }
   },
   "outputs": [],
   "source": [
    "conditional_activation_plotter('Netherlands')"
   ]
  },
  {
   "cell_type": "markdown",
   "metadata": {
    "pycharm": {
     "name": "#%% md\n"
    }
   },
   "source": [
    "## Paired Activation Differences"
   ]
  },
  {
   "cell_type": "code",
   "execution_count": null,
   "metadata": {
    "pycharm": {
     "name": "#%%\n"
    }
   },
   "outputs": [],
   "source": [
    "def get_start_dates(data, npi, region):\n",
    "    df_region = data[data['Area']==region]\n",
    "    start_dates = []\n",
    "    if list(df_region[npi])[0] != 0:\n",
    "        start_dates.append(0)\n",
    "    #loop through list and find date when go from 0 to non-zero\n",
    "    last = list(df_region[npi])[0]\n",
    "    for i in range(1, df_region.shape[0]):\n",
    "        next = list(df_region[npi])[i]\n",
    "        if last == 0 and next != 0:\n",
    "            start_dates.append(i)\n",
    "        last = next\n",
    "    return start_dates\n",
    "\n",
    "def compare_dates(ds1, ds2):\n",
    "    diffs = []\n",
    "    for d1 in ds1:\n",
    "        for d2 in ds2:\n",
    "            diffs.append(d1 - d2)\n",
    "    return diffs\n",
    "\n",
    "def compute_start_dates(data):\n",
    "    starts = np.empty((len(CMs), len(CMs)), dtype=object)\n",
    "    for npi1 in range(len(CMs)):\n",
    "        for npi2 in range(len(CMs)):\n",
    "            starts[npi1, npi2] = []\n",
    "            for region in np.unique(data['Area']):\n",
    "                starts[npi1, npi2].append(compare_dates(get_start_dates(data, CMs[npi1], region),get_start_dates(data, CMs[npi2], region)))\n",
    "            starts[npi1, npi2] = [diff for diffs in starts[npi1, npi2] for diff in diffs]\n",
    "    return starts\n",
    "\n",
    "def extract_diff_population(difference_data, threshold):\n",
    "    count_data = np.zeros_like(difference_data)\n",
    "    for i in range(count_data.shape[0]):\n",
    "        for j in range(count_data.shape[1]):\n",
    "            diff_reduced = [diff for diff in difference_data[i, j] if abs(diff) < threshold]\n",
    "            count_data[i,j] = len(diff_reduced)\n",
    "    return count_data\n",
    "\n",
    "def get_end_dates(data, npi, region):\n",
    "    df_region = data[data['Area']==region]\n",
    "    end_dates = []\n",
    "    #loop through list and find date when go from 0 to non-zero\n",
    "    last = list(df_region[npi])[0]\n",
    "    for i in range(1, df_region.shape[0]):\n",
    "        next = list(df_region[npi])[i]\n",
    "        if last != 0 and next == 0:\n",
    "            end_dates.append(i)\n",
    "        last = next\n",
    "    return end_dates\n",
    "\n",
    "def compute_end_dates(data):\n",
    "    ends = np.empty((len(CMs), len(CMs)), dtype=object)\n",
    "    for npi1 in range(len(CMs)):\n",
    "        for npi2 in range(len(CMs)):\n",
    "            ends[npi1, npi2] = []\n",
    "            for region in np.unique(data['Area']):\n",
    "                ends[npi1, npi2].append(compare_dates(get_end_dates(data, CMs[npi1], region),get_end_dates(data, CMs[npi2], region)))\n",
    "            ends[npi1, npi2] = [diff for diffs in ends[npi1, npi2] for diff in diffs]\n",
    "    return ends"
   ]
  },
  {
   "cell_type": "code",
   "execution_count": null,
   "metadata": {
    "pycharm": {
     "name": "#%%\n"
    }
   },
   "outputs": [],
   "source": [
    "starts = compute_start_dates(df)\n",
    "# np.save('../data/npi_paired_activations', starts)"
   ]
  },
  {
   "cell_type": "code",
   "execution_count": null,
   "metadata": {
    "pycharm": {
     "name": "#%%\n"
    }
   },
   "outputs": [],
   "source": [
    "ends = compute_end_dates(df)\n",
    "# np.save('../data/npi_paired_deactivations', ends)"
   ]
  },
  {
   "cell_type": "code",
   "execution_count": null,
   "metadata": {
    "pycharm": {
     "name": "#%%\n"
    }
   },
   "outputs": [],
   "source": [
    "starts_extracted = extract_diff_population(starts, 0.5)\n",
    "sns.heatmap(pd.DataFrame(starts_extracted, dtype=float), xticklabels = CMs, yticklabels = CMs).set_title('On how many days (across regions) did each NPI pair activate at exactly the same time?')"
   ]
  },
  {
   "cell_type": "code",
   "execution_count": null,
   "metadata": {
    "pycharm": {
     "name": "#%%\n"
    }
   },
   "outputs": [],
   "source": [
    "starts_extracted_5 = extract_diff_population(starts, 5)\n",
    "sns.heatmap(pd.DataFrame(starts_extracted_5, dtype=float), xticklabels = CMs, yticklabels = CMs).set_title('On how many days (across regions) did each NPI pair activate within 5 days of each other?')"
   ]
  },
  {
   "cell_type": "code",
   "execution_count": null,
   "metadata": {
    "pycharm": {
     "name": "#%%\n"
    }
   },
   "outputs": [],
   "source": [
    "ends_extracted = extract_diff_population(ends, 0.5)\n",
    "sns.heatmap(pd.DataFrame(ends_extracted, dtype=float), xticklabels = CMs, yticklabels = CMs).set_title('On how many days (across regions) did each NPI pair deactive at exactly the same time?')"
   ]
  },
  {
   "cell_type": "code",
   "execution_count": null,
   "metadata": {
    "pycharm": {
     "name": "#%%\n"
    }
   },
   "outputs": [],
   "source": [
    "ends_extracted_5 = extract_diff_population(ends, 5)\n",
    "sns.heatmap(pd.DataFrame(ends_extracted_5, dtype=float), xticklabels = CMs, yticklabels = CMs).set_title('On how many days (across regions) did each NPI pair deactive within 5 days of each other?')"
   ]
  },
  {
   "cell_type": "markdown",
   "metadata": {
    "pycharm": {
     "name": "#%% md\n"
    }
   },
   "source": [
    "### Country-specific joint activation/deactivation"
   ]
  },
  {
   "cell_type": "code",
   "execution_count": null,
   "metadata": {
    "pycharm": {
     "name": "#%%\n"
    }
   },
   "outputs": [],
   "source": [
    "df_uk = df[df['Country']=='England']\n",
    "df_de = df[df['Country']=='Germany']\n",
    "df_it = df[df['Country']=='Italy']\n",
    "df_at = df[df['Country']=='Austria']\n",
    "df_cz = df[df['Country']=='Czech']"
   ]
  },
  {
   "cell_type": "code",
   "execution_count": null,
   "metadata": {
    "pycharm": {
     "name": "#%%\n"
    }
   },
   "outputs": [],
   "source": [
    "starts_uk = compute_start_dates(df_uk)\n",
    "ends_uk = compute_end_dates(df_uk)\n",
    "starts_de = compute_start_dates(df_de)\n",
    "ends_de = compute_end_dates(df_de)\n",
    "starts_it = compute_start_dates(df_it)\n",
    "ends_it = compute_end_dates(df_it)\n",
    "starts_at = compute_start_dates(df_at)\n",
    "ends_at = compute_end_dates(df_at)\n",
    "starts_cz = compute_start_dates(df_cz)\n",
    "ends_cz = compute_end_dates(df_cz)\n",
    "starts_countries = [starts_at, starts_uk, starts_de, starts_it, starts_cz]\n",
    "ends_countries = [ends_at, ends_uk, ends_de, ends_it, ends_cz]"
   ]
  },
  {
   "cell_type": "code",
   "execution_count": null,
   "metadata": {
    "pycharm": {
     "name": "#%%\n"
    }
   },
   "outputs": [],
   "source": [
    "def plot_joint_activation_heatmap(data, country, threshold, activate, ax):\n",
    "    extracted = extract_diff_population(data, threshold)\n",
    "    sns.heatmap(pd.DataFrame(extracted, dtype=float), xticklabels = CMs, yticklabels = CMs, ax=ax).set_title('On how many days across regions in '+ country + ' did each NPI pair '+activate+' within '+ str(threshold) + ' days of one another?')\n",
    "def plot_all_joint_activation_heatmaps(threshold, activate = 'activate'):\n",
    "    fig = plt.figure(figsize=((10,40)))\n",
    "    fig.subplots_adjust(hspace=1)\n",
    "    fig_number = 0\n",
    "    for country in np.unique(df['Country']):\n",
    "        fig_number += 1\n",
    "        ax = fig.add_subplot(len(countries), 1, fig_number)\n",
    "        if activate=='activate':\n",
    "            data = starts_countries\n",
    "        else:\n",
    "            data = ends_countries\n",
    "        plot_joint_activation_heatmap(data[fig_number-1], country, threshold, activate, ax = ax)\n",
    "    plt.show()"
   ]
  },
  {
   "cell_type": "code",
   "execution_count": null,
   "metadata": {
    "pycharm": {
     "name": "#%%\n"
    }
   },
   "outputs": [],
   "source": [
    "plot_all_joint_activation_heatmaps(0.5)"
   ]
  },
  {
   "cell_type": "code",
   "execution_count": null,
   "metadata": {
    "pycharm": {
     "name": "#%%\n"
    }
   },
   "outputs": [],
   "source": [
    "plot_all_joint_activation_heatmaps(0.5, 'deactivate')"
   ]
  },
  {
   "cell_type": "markdown",
   "metadata": {
    "pycharm": {
     "name": "#%% md\n"
    }
   },
   "source": [
    "## Data figure"
   ]
  },
  {
   "cell_type": "code",
   "execution_count": null,
   "metadata": {
    "pycharm": {
     "name": "#%%\n"
    }
   },
   "outputs": [],
   "source": [
    "def get_active_cms_region(region):\n",
    "    df_region = df[df['Area']==region]\n",
    "    df_region = np.array(df_region.drop(['Area', 'Date', 'Country', 'New Cases', 'New Deaths'], axis=1)).T\n",
    "    return df_region\n",
    "\n",
    "tester = get_active_cms_region('Nürnberg')"
   ]
  },
  {
   "cell_type": "code",
   "execution_count": null,
   "outputs": [],
   "source": [
    "def get_changes(region, CMs, Ds):\n",
    "    region_index = Rs.index(region)\n",
    "    changes = np.zeros((len(CMs), len(Ds)))\n",
    "    active_CMs = get_active_cms_region(region)\n",
    "\n",
    "    changes[:, 1:] = active_CMs[:, 1:] - active_CMs[:, :-1]\n",
    "\n",
    "    all_starts = []\n",
    "    all_ends = []\n",
    "    for i, npi in enumerate(CMs):\n",
    "        change = changes[i]\n",
    "        starts = list(np.where(change == 1)[0])\n",
    "        ends = list(np.where(change == -1)[0])\n",
    "\n",
    "        if int(sum(active_CMs[i, :162])) == 162:\n",
    "            if len(ends) > 0:\n",
    "                starts.append(0)\n",
    "            else:\n",
    "                starts.append(0)\n",
    "                ends.append(len(Ds) - 1)\n",
    "\n",
    "        if len(starts) > 0:\n",
    "            if len(ends) > 0:\n",
    "                if ends[-1] < starts[-1]:\n",
    "                    ends.append(len(Ds) - 1)\n",
    "                if ends[0] < starts[0]:\n",
    "                    starts.insert(0, 0)\n",
    "            else:\n",
    "                ends.append(len(Ds) - 1)\n",
    "        if len(starts) != len(ends):\n",
    "            print(npi, region, starts, ends)\n",
    "        while len(starts) < 20:\n",
    "            starts.append(200)\n",
    "        while len(ends) < 20:\n",
    "            ends.append(200)\n",
    "        all_starts.append(starts)\n",
    "        all_ends.append(ends)\n",
    "    return np.array(all_starts), np.array(all_ends)\n",
    "\n",
    "\n",
    "def add_pairs_to_plot(ax, starts, ends, index, CMs, alpha, width, size=8, plot_full=False, xmin=False):\n",
    "\n",
    "    nCMs = len(CMs)\n",
    "\n",
    "    y_vals = -1 * np.arange(nCMs)\n",
    "    plt.plot([100], [100], linewidth=1, alpha=alpha)\n",
    "\n",
    "    start = starts[:, index]\n",
    "    end = ends[:, index]\n",
    "\n",
    "    if plot_full:\n",
    "        for cm in range(nCMs):\n",
    "            line = ax.plot([0, 162], [y_vals[cm], y_vals[cm]], alpha=alpha, linewidth=width*2, label = CMs)\n",
    "    else:\n",
    "        lines = []\n",
    "        for cm in range(nCMs):\n",
    "            if xmin:\n",
    "                lim = 116\n",
    "                if start[cm] < lim and end[cm] < lim:\n",
    "                    lines.append(ax.plot([0, 0], [y_vals[cm], y_vals[cm]], alpha=alpha, linewidth=width, label = CMs[cm]))\n",
    "                elif start[cm] < lim and end[cm] >= lim:\n",
    "                    lines.append(ax.plot([lim, end[cm]], [y_vals[cm], y_vals[cm]], alpha=alpha, linewidth=width, label = CMs[cm]))\n",
    "                else:\n",
    "                    lines.append(ax.plot([start[cm], end[cm]], [y_vals[cm], y_vals[cm]], alpha=alpha, linewidth=width, label = CMs[cm]))\n",
    "            else:\n",
    "                # print(CMs[cm], start[cm], end[cm])\n",
    "                lines.append(ax.plot([start[cm], end[cm]], [y_vals[cm], y_vals[cm]], alpha=alpha, linewidth=width, label = CMs[cm]))\n",
    "    return lines\n",
    "\n",
    "def setup_large_plot(ax, CMs, Ds, y_ticks = False, last_plot = False):\n",
    "\n",
    "    nCMs = len(CMs)\n",
    "\n",
    "    # x_min, x_max = 0, len(Ds)\n",
    "\n",
    "    # xrange = np.array([x_min, x_max])\n",
    "    # for height in range(0, nCMs+2, 2):\n",
    "    #     plt.fill_between(xrange, -(height-0.5), -(height+0.5), color=\"silver\", alpha=0.5, linewidth=0)\n",
    "    xtick_vals = [0, 31, 61, 92, 122, 153]\n",
    "    xtick_str = ['1st Aug', '1st Sep', '1st Oct', '1st Nov', '1st Dec', '1st Jan']\n",
    "\n",
    "    if y_ticks:\n",
    "        plt.yticks(-np.arange(nCMs), [f\"{f}\" for f in CMs], ha=\"right\")\n",
    "        yax = ax.get_yaxis()\n",
    "        # yax.set_tick_params(pad=70)\n",
    "        plt.xticks([])\n",
    "    else:\n",
    "        plt.yticks([], fontsize=8)\n",
    "        if last_plot:\n",
    "            plt.xticks(xtick_vals, xtick_str, fontsize=8, rotation=70)\n",
    "        else:\n",
    "            plt.xticks([])\n",
    "    plt.ylim([-(nCMs - 0.25), 0.75])\n",
    "    plt.xlim([0, 162])\n",
    "\n",
    "    ax.tick_params(length=0.2)\n",
    "\n",
    "def get_variable(variable_name, region):\n",
    "    return list(df[df['Area'] == region][variable_name])\n",
    "\n",
    "def smooth_time_series(ts):\n",
    "    smooth_ts = ts.copy()\n",
    "    for i in range(len(ts)):\n",
    "        if i < 3:\n",
    "            smooth_ts[i] = np.mean(ts[:6])\n",
    "        if i > len(ts) - 3:\n",
    "            smooth_ts[i] = np.mean(ts[len(ts)-8:])\n",
    "        smooth_ts[i] = np.mean(ts[i-3:i+3])\n",
    "\n",
    "    return smooth_ts[:162]\n",
    "\n",
    "r_t = pd.read_csv('../results/rt_estimates.csv')\n",
    "r_t = r_t.set_index(['region'])\n",
    "\n",
    "def get_r_t(region):\n",
    "    region_r = r_t.loc[region]\n",
    "    med = region_r['med']\n",
    "    lower = region_r['lower_95']\n",
    "    upper = region_r['upper_95']\n",
    "    return list(lower), list(med), list(upper)\n",
    "\n",
    "def plot_start_ends(region, active_cms, CMs, Ds, alpha = 0.45, width = 2):\n",
    "    starts, ends = get_changes(region, CMs, Ds)\n",
    "    n_pairs = starts.shape[1]\n",
    "    colors = [*sns.color_palette(\"colorblind\"), *sns.color_palette(\"dark\")]\n",
    "\n",
    "\n",
    "    fig = plt.figure(figsize=((4,1)), dpi=300)\n",
    "    sns.set(font_scale=0.4)\n",
    "    sns.set_style(style='ticks')\n",
    "    # fig.suptitle(f\"Timeline plot for {region}\", fontsize=\"8\", y=0.95)\n",
    "    # fig.subplots_adjust(hspace=0, wspace=1)\n",
    "\n",
    "    cases = smooth_time_series(get_variable('New Cases', region))\n",
    "\n",
    "    deaths = smooth_time_series(get_variable('New Deaths', region))\n",
    "\n",
    "    ax = plt.gca()\n",
    "    ln1 = ax.plot(cases, color = 'Black', alpha = 0.9, label = 'New cases', linewidth = width/3)\n",
    "    ax.set_ylabel(f\"{region}\",fontsize=6)\n",
    "    ax.grid(False)\n",
    "\n",
    "    ax2 = ax.twinx()\n",
    "    ln2 = ax2.plot(deaths, color= 'Black', linestyle='dotted', alpha = 0.9, label = 'New deaths', linewidth = width/3)\n",
    "    # ax2.set_ylabel(f\"{region}\",fontsize=6)\n",
    "    ax2.grid(False)\n",
    "\n",
    "    lns = ln1+ln2\n",
    "    labs = [l.get_label() for l in lns]\n",
    "    ax2.legend(lns, labs, loc=0)\n",
    "\n",
    "    plt.xlim([0, 162])\n",
    "\n",
    "    ax3 = ax.twinx()\n",
    "    setup_large_plot(ax3, CMs, Ds)\n",
    "    ax3.grid(False)\n",
    "\n",
    "    for i in range(n_pairs):\n",
    "        l3 = add_pairs_to_plot(ax3, starts, ends, i, CMs, alpha, width)\n",
    "    sns.despine(left=True, right=True, bottom=True)\n",
    "    plt.show()\n",
    "\n",
    "def plot_cm_labels(region, ax, CMs, Ds, alpha=0.45, width=1.3):\n",
    "    setup_large_plot(ax, CMs, Ds, y_ticks=True)\n",
    "\n",
    "    starts, ends = get_changes(region, CMs, Ds)\n",
    "    add_pairs_to_plot(ax, starts, ends, 0, CMs, alpha, width, plot_full=True)\n",
    "    sns.despine(left=True, right=True, bottom=True)\n",
    "\n",
    "def plot_timelines(country_regions, countries_regions, active_cms, CMs, Ds, alpha = 0.45, width = 1, pad = 2, overlay='deaths'):\n",
    "\n",
    "    fig = plt.figure(figsize=((4,3)), dpi=500)\n",
    "    gs = gridspec.GridSpec(6, 2)\n",
    "    sns.set(font_scale=0.2)\n",
    "    sns.set_style(style='whitegrid')\n",
    "    fig.subplots_adjust(hspace=0.1, wspace=0.28)\n",
    "\n",
    "    for r_i, region in enumerate(countries_regions):\n",
    "        starts, ends = get_changes(region, CMs, Ds)\n",
    "        n_pairs = starts.shape[1]\n",
    "\n",
    "        if r_i == len(countries_regions) - 1:\n",
    "            last_plot = True\n",
    "        else:\n",
    "            last_plot = False\n",
    "\n",
    "        cases = smooth_time_series(get_variable('New Cases', region))\n",
    "        deaths = smooth_time_series(get_variable('New Deaths', region))\n",
    "        _, r_t_med, _ = get_r_t(region)\n",
    "\n",
    "        ax = fig.add_subplot(gs[r_i+2, 1])\n",
    "        ln1 = ax.plot(cases, color = 'Black', alpha = 0.9, label = 'New cases (7-day smoothed)', linewidth = width/2.5)\n",
    "        try:\n",
    "            country = list(df['Country'][df['Area']==region])[0]\n",
    "            if country == 'Czech':\n",
    "                ax.set_ylabel(f'{region}\\n Czech Republic')\n",
    "            elif region == 'Greater Manchester South West':\n",
    "                ax.set_ylabel(f'Greater Manchester S.W.\\n {country}')\n",
    "            else:\n",
    "                ax.set_ylabel(f'{region}\\n {country}')\n",
    "        except:\n",
    "            pass\n",
    "        ax.grid(False)\n",
    "        ax.tick_params(axis='both', which='major', pad=pad, length=0)\n",
    "        sns.despine(left=True, right=True, bottom=True, ax=ax)\n",
    "\n",
    "        if overlay == 'deaths':\n",
    "            ax2 = ax.twinx()\n",
    "            ln2 = ax2.plot(deaths, color= 'Black', linestyle='dotted', alpha = 0.9, label = 'New deaths (7-day smoothed)', linewidth = width/2.5)\n",
    "            ax2.grid(False)\n",
    "            ax2.tick_params(axis='both', which='major', pad=pad, length=0)\n",
    "        elif overlay == 'r_t':\n",
    "            ax2 = ax.twinx()\n",
    "            ln2 = ax2.plot(r_t_med, color= 'Black', linestyle='dotted', alpha = 0.9, label = '$R_t$', linewidth = width/3)\n",
    "            ax2.grid(False)\n",
    "            ax2.tick_params(axis='both', which='major', pad=pad, length=0)\n",
    "        elif overlay == 'r_t_smoothed':\n",
    "            r_t_med = smooth_time_series(r_t_med)\n",
    "            ax2 = ax.twinx()\n",
    "            ln2 = ax2.plot(r_t_med, color= 'Black', linestyle='dotted', alpha = 0.9, label = '$R_t$', linewidth = width/3)\n",
    "            ax2.grid(False)\n",
    "            ax2.tick_params(axis='both', which='major', pad=pad, length=0)\n",
    "        sns.despine(left=True, right=True, bottom=True, ax=ax2)\n",
    "\n",
    "        plt.xlim([0, 162])\n",
    "        # plt.yscale('log')\n",
    "\n",
    "        ax3 = ax.twinx()\n",
    "        setup_large_plot(ax3, CMs, Ds, last_plot=last_plot)\n",
    "        ax3.grid(False)\n",
    "        ax3.tick_params(axis='both', which='major', pad=pad, length=0)\n",
    "\n",
    "        for i in range(n_pairs):\n",
    "            l3 = add_pairs_to_plot(ax3, starts, ends, i, CMs, alpha, width)\n",
    "\n",
    "        if r_i == 1:\n",
    "            sns.despine(left=True, right=True, ax=ax3)\n",
    "        else:\n",
    "            sns.despine(left=True, right=True, bottom=True, ax=ax3)\n",
    "    # left column\n",
    "    for r_i, region in enumerate(country_regions):\n",
    "        starts, ends = get_changes(region, CMs, Ds)\n",
    "        n_pairs = starts.shape[1]\n",
    "\n",
    "        if r_i == len(country_regions) - 1:\n",
    "            last_plot = True\n",
    "        else:\n",
    "            last_plot = False\n",
    "\n",
    "        cases = smooth_time_series(get_variable('New Cases', region))\n",
    "        deaths = smooth_time_series(get_variable('New Deaths', region))\n",
    "        _, r_t_med, _ = get_r_t(region)\n",
    "        if r_i == 0:\n",
    "            ax = fig.add_subplot(gs[:2, 0])\n",
    "        else:\n",
    "            ax = fig.add_subplot(gs[r_i+1, 0])\n",
    "        ln1 = ax.plot(cases, color = 'Black', alpha = 0.9, label = 'New cases (7-day smoothed)', linewidth = width/2.5)\n",
    "        try:\n",
    "            country = list(df['Country'][df['Area']==region])[0]\n",
    "            if country == 'Czech':\n",
    "                ax.set_ylabel(f'{region}\\n Czech Republic')\n",
    "            elif region == 'Greater Manchester South West':\n",
    "                ax.set_ylabel(f'Greater Manchester S.W.\\n {country}')\n",
    "            else:\n",
    "                ax.set_ylabel(f'{region}\\n {country}')\n",
    "        except:\n",
    "            pass\n",
    "        ax.grid(False)\n",
    "        ax.tick_params(axis='both', which='major', pad=pad, length=0)\n",
    "        sns.despine(left=True, right=True, bottom=True, ax=ax)\n",
    "\n",
    "        if overlay == 'deaths':\n",
    "            ax2 = ax.twinx()\n",
    "            ln2 = ax2.plot(deaths, color= 'Black', linestyle='dotted', alpha = 0.9, label = 'New deaths (7-day smoothed)', linewidth = width/2.5)\n",
    "            ax2.grid(False)\n",
    "            ax2.tick_params(axis='both', which='major', pad=pad, length=0)\n",
    "        elif overlay == 'r_t':\n",
    "            ax2 = ax.twinx()\n",
    "            ln2 = ax2.plot(r_t_med, color= 'Black', linestyle='dotted', alpha = 0.9, label = '$R_t$', linewidth = width/3)\n",
    "            ax2.grid(False)\n",
    "            ax2.tick_params(axis='both', which='major', pad=pad, length=0)\n",
    "        elif overlay == 'r_t_smoothed':\n",
    "            r_t_med = smooth_time_series(r_t_med)\n",
    "            ax2 = ax.twinx()\n",
    "            ln2 = ax2.plot(r_t_med, color= 'Black', linestyle='dotted', alpha = 0.9, label = '$R_t$', linewidth = width/3)\n",
    "            ax2.grid(False)\n",
    "            ax2.tick_params(axis='both', which='major', pad=pad, length=0)\n",
    "        sns.despine(left=True, right=True, bottom=True, ax=ax2)\n",
    "        plt.xlim([0, 162])\n",
    "        # plt.yscale('log')\n",
    "\n",
    "        ax3 = ax.twinx()\n",
    "        setup_large_plot(ax3, CMs, Ds, last_plot=last_plot)\n",
    "        ax3.grid(False)\n",
    "        ax3.tick_params(axis='both', which='major', pad=pad, length=0)\n",
    "\n",
    "        for i in range(n_pairs):\n",
    "            if r_i == 0:\n",
    "                ln3 = add_pairs_to_plot(ax3, starts, ends, i, CMs, alpha, width*1.8)\n",
    "            else:\n",
    "                ln3 = add_pairs_to_plot(ax3, starts, ends, i, CMs, alpha, width)\n",
    "\n",
    "        if r_i == 0 or r_i == 2:\n",
    "            sns.despine(left=True, right=True, ax=ax3)\n",
    "        else:\n",
    "            sns.despine(left=True, right=True, bottom=True, ax=ax3)\n",
    "\n",
    "        sns.despine(left=True, right=True, bottom=True)\n",
    "\n",
    "        if r_i == 0:\n",
    "            lns = [l[0] for l in ln3]\n",
    "            labs = [l.get_label() for l in lns]\n",
    "            ax2.legend(lns, labs, bbox_to_anchor=(1.13, 1.01), labelspacing=0.23, framealpha=0)\n",
    "            plt.title(f'Timeline plots of new cases, {overlay}, and NPI activation\\n')\n",
    "        if r_i == 0:\n",
    "            lns = ln1+ln2\n",
    "            labs = [l.get_label() for l in lns]\n",
    "            ax.legend(lns, labs, bbox_to_anchor=(0.25, 0.93))\n",
    "\n",
    "\n",
    "    # BAR PLOT\n",
    "\n",
    "    # ax4 = fig.add_subplot(gs[6:, :2])\n",
    "    # ln1 = region_counts.plot.barh(stacked=True, ax = ax4, width=0.9)\n",
    "    # ax4.invert_yaxis()\n",
    "    # ln2 = plt.axvline(x=n_region_days, color='black', linestyle='dashed', linewidth=0.4, label='Total number of days across all regions')\n",
    "    # ax4.tick_params(axis='both', which='major', length=0)\n",
    "    # ax4.grid(False)\n",
    "    # sns.despine(right=True, ax=ax4)\n",
    "    # ax4.legend(bbox_to_anchor=(0.95, 0.95))\n",
    "    # fig.text(.5, .07, 'Total number of active days for each NPI across all regions', ha='center')\n",
    "\n",
    "\n",
    "    # EXACTLY ONE ACTIVE PLOT\n",
    "    # ax5 = fig.add_subplot(gs[13:, 0])\n",
    "    # sns.heatmap(pd.DataFrame(single, dtype=float), xticklabels = CMs, yticklabels = CMs, cmap=\"BuPu_r\").set_title('Number of days when exactly one of NPI X and NPI Y is active in the same region')\n",
    "    # plt.xticks(rotation=90)\n",
    "    # ax5.tick_params(axis='both', which='major', pad=pad, length=0)\n",
    "\n",
    "    # COLOUR CODE PLOT\n",
    "    # ax6 = fig.add_subplot(gs[:4, 0])\n",
    "    # plot_cm_labels(regions[0], ax6, CMs, Ds, alpha=0.45, width=1.3)\n",
    "    # plt.title('Colour codes for timeline plots (right)')\n",
    "    plt.savefig('timelines.svg', format = 'svg', dpi=500, bbox_inches='tight')\n",
    "    plt.show()\n",
    "\n",
    "country_regions = [de_Rs[0],uk_Rs[0], uk_Rs[1], at_Rs[0], it_Rs[1]]\n",
    "countries_regions = [ch_Rs[1], ch_Rs[0], cz_Rs[1], nl_Rs[1]]\n",
    "plot_timelines(country_regions, countries_regions, active_cms, CMs, sorted(list(set(df['Date']))), overlay='deaths')\n"
   ],
   "metadata": {
    "collapsed": false,
    "pycharm": {
     "name": "#%%\n"
    }
   }
  },
  {
   "cell_type": "code",
   "execution_count": null,
   "metadata": {
    "pycharm": {
     "name": "#%%\n"
    }
   },
   "outputs": [],
   "source": [
    "plot_start_ends(Rs[0], active_cms, CMs, sorted(list(set(df['Date']))))\n"
   ]
  },
  {
   "cell_type": "code",
   "execution_count": null,
   "metadata": {
    "pycharm": {
     "name": "#%%\n"
    }
   },
   "outputs": [],
   "source": [
    "uk_Rs = ['Lincolnshire', 'Greater Manchester South West',\n",
    "       'Redbridge and Waltham Forest', 'Enfield', 'Buckinghamshire CC',\n",
    "       'Portsmouth', 'Southampton', 'Brighton and Hove', 'Coventry',\n",
    "       'Walsall', 'North Yorkshire CC', 'Essex Haven Gateway',\n",
    "       'Southend-on-Sea', 'Gloucestershire', 'East Derbyshire']\n",
    "at_Rs = ['Wien', 'Burgenland', 'Steiermark', 'Oberösterreich',\n",
    "       'Nieder­österreich', 'Voralberg ', 'Tirol', 'Karnten/Carinthia',\n",
    "       'Salzburg']\n",
    "de_Rs = ['Nürnberg', 'LK Aschaffenburg', 'Fürth', 'Landsberg am Lech',\n",
    "       'LK Donau-Ries', 'Minden-Lübbecke', 'Mönchengladbach', 'Münster',\n",
    "       'Rhein-Kreis Neuss', 'LK Ennepe-Ruhr-Kreis', 'LK Rems-Murr-Kreis',\n",
    "       'LK Breisgau-Hochschwarzwald', 'LK Enzkreis', 'LK Hildesheim',\n",
    "       'LK Gifhorn']\n",
    "it_Rs = ['Abruzzo', 'Aosta Valley', 'Apulia (AKA Puglia)','Basilicata','Calabria','Campania','Emilia-Romagna',\n",
    "        'Friuli-Venezia Giulia','Lazio','Liguria ','Lombardy','Marche','Molise','Piedmont','Sardinia','Sicily',\n",
    "         'Trentino (aka Trento)', 'South Tyrol (aka Bolzano aka Alto-Adige)', 'Tuscania ','Umbria','Veneto']\n",
    "cz_Rs = ['Ústí nad Labem', 'Prague', 'Moravian-Silesian', 'Central Bohemian', 'South Bohemian', 'Vysočina', 'Plzeň', 'Karlovy Vary', 'Liberec', 'Hradec Králové', 'Pardubice', 'Olomouc', 'South Moravian', 'Zlín']\n",
    "ch_Rs = ['Genéve', 'Zurich', 'Basel-Stadt', 'Grischun', 'Freiburg', 'Aargau', 'Thurgau', 'Jura', 'Basel-Landschaft', 'Vaud', 'Valais', 'Zug', 'Neuchâtel', 'St. Gallen', 'Luzern']\n",
    "nl_Rs = ['Amsterdam-Amstelland', 'Brabant-North', 'Brabant-Southeast', 'Drenthe', 'Flevoland', 'Friesland', 'Gelderland-Midden', 'Gelderland-South', 'Gooi en Vechtstreek', 'Groningen', 'Haaglanden', 'Hollands Midden', 'IJsselland', 'Kennemerland', 'Limburg-North', 'Central and West Brabant', 'North and East Gelderland', 'North Holland North', 'Rotterdam-Rijnmond', 'Twente', 'Utrecht', 'Zaanstreek-Waterland', 'Zealand', 'South Holland South', 'South Limburg']"
   ]
  },
  {
   "cell_type": "code",
   "execution_count": null,
   "metadata": {
    "pycharm": {
     "name": "#%%\n"
    }
   },
   "outputs": [],
   "source": [
    "def plot_timeline_region(Rs):\n",
    "    for i in range(len(Rs)):\n",
    "        plot_start_ends(Rs[i], active_cms, CMs, sorted(list(set(df['Date']))))\n",
    "\n",
    "plot_timeline_region(uk_Rs)"
   ]
  },
  {
   "cell_type": "markdown",
   "source": [
    "## Computing activation within x days\n",
    "\n",
    "plan: use active_CMs, compute mean across regions of the following:\n",
    "- count number of activations using get_changes code or modified version, modifying dataset so that it's just the activations\n",
    "- get indices of changes\n",
    "-"
   ],
   "metadata": {
    "collapsed": false,
    "pycharm": {
     "name": "#%% md\n"
    }
   }
  },
  {
   "cell_type": "code",
   "execution_count": null,
   "outputs": [],
   "source": [
    "def get_changes(region_index, active_CMs):\n",
    "    nCMs = active_CMs.shape[1]\n",
    "    nDs = active_CMs.shape[2]\n",
    "    changes = np.zeros((nCMs, nDs))\n",
    "    changes[:, 1:] = active_CMs[region_index, :, 1:] - active_CMs[region_index, :, :-1]\n",
    "\n",
    "    all_starts = []\n",
    "    all_ends = []\n",
    "    for i in range(nCMs):\n",
    "        change = changes[i]\n",
    "        starts = list(np.where(change == 1)[0])\n",
    "        ends = list(np.where(change == -1)[0])\n",
    "\n",
    "        if int(sum(active_CMs[region_index, i, :])) == len(active_CMs[region_index, i, :]):\n",
    "            starts.append(0)\n",
    "            ends.append(nDs - 1)\n",
    "\n",
    "        if len(starts) > 0:\n",
    "            if len(ends) > 0:\n",
    "                if ends[-1] < starts[-1]:\n",
    "                    ends.append(nDs - 1)\n",
    "                if ends[0] < starts[0]:\n",
    "                    starts.insert(0, 0)\n",
    "            else:\n",
    "                ends.append(nDs - 1)\n",
    "        # while len(starts) < 20:\n",
    "        #     starts.append(0)\n",
    "        # while len(ends) < 20:\n",
    "        #     ends.append(0)\n",
    "        all_starts.append(starts)\n",
    "        all_ends.append(ends)\n",
    "    return list(all_starts)\n",
    "\n",
    "def get_temporal_spacing(region_ind, active_cms, max_dist):\n",
    "\n",
    "    props = []\n",
    "\n",
    "    for npi_ind in range(active_cms.shape[1]):\n",
    "        changes = get_changes(region_ind, active_cms)\n",
    "        npi_activations = changes[npi_ind]\n",
    "\n",
    "        del changes[npi_ind]\n",
    "        flatten = [item for sublist in changes for item in sublist]\n",
    "        n_activations = len(flatten)\n",
    "\n",
    "        if n_activations > 0 and len(npi_activations) > 0:\n",
    "            for activation in npi_activations:\n",
    "                count = len([i for i in range(len(flatten)) if abs(flatten[i] - activation) <= max_dist])\n",
    "                prop = count/n_activations\n",
    "                props.append(prop)\n",
    "\n",
    "    return props\n",
    "\n",
    "\n",
    "# print(get_temporal_spacing(0, active_cms, 1))\n",
    "\n",
    "def get_all_temporal_spacings(active_cms, max_dist):\n",
    "    props = []\n",
    "    for i in range(active_cms.shape[0]):\n",
    "        props.append(get_temporal_spacing(i, active_cms, max_dist))\n",
    "\n",
    "    return [item for sublist in props for item in sublist]\n",
    "\n",
    "props = get_all_temporal_spacings(active_cms, 0)\n",
    "print(np.mean(props))\n",
    "print(len(props))\n",
    "# plt.figure(dpi=300)\n",
    "# plt.hist(props)"
   ],
   "metadata": {
    "collapsed": false,
    "pycharm": {
     "name": "#%%\n"
    }
   }
  },
  {
   "cell_type": "code",
   "execution_count": null,
   "outputs": [],
   "source": [
    "def get_temporal_spacing_npis(region_ind, active_cms, npi1, npi2):\n",
    "\n",
    "    npis = [npi1, npi2]\n",
    "    props = []\n",
    "    # print(get_changes(region_ind, active_cms))\n",
    "    for npi_ind in range(2):\n",
    "        changes = get_changes(region_ind, active_cms)\n",
    "        changes_npis = [changes[npi1], changes[npi2]]\n",
    "\n",
    "        npi_activations = changes_npis[npi_ind]\n",
    "        # print(npi_activations)\n",
    "        del changes_npis[npi_ind]\n",
    "        flatten = [item for sublist in changes_npis for item in sublist]\n",
    "        n_activations = len(flatten)\n",
    "        # print(flatten)\n",
    "        if n_activations > 0 and len(npi_activations) > 0:\n",
    "            for activation in npi_activations:\n",
    "                count = len([i for i in range(len(flatten)) if abs(flatten[i] - activation) <= 0])\n",
    "                # print(count)\n",
    "                if count > 0:\n",
    "                    prop = 1\n",
    "                else:\n",
    "                    prop = 0\n",
    "                props.append(prop)\n",
    "\n",
    "    return props\n",
    "\n",
    "\n",
    "def get_all_temporal_spacings_npis(active_cms, npi1, npi2):\n",
    "    props = []\n",
    "    for i in range(active_cms.shape[0]):\n",
    "        props.append(get_temporal_spacing_npis(i, active_cms, npi1, npi2))\n",
    "\n",
    "    return [item for sublist in props for item in sublist]\n",
    "\n",
    "CMs = all_merged.CMs\n",
    "props = get_all_temporal_spacings_npis(active_cms, 5, 6)\n",
    "print(np.mean(props))\n",
    "print(len(props))"
   ],
   "metadata": {
    "collapsed": false,
    "pycharm": {
     "name": "#%%\n"
    }
   }
  },
  {
   "cell_type": "code",
   "execution_count": null,
   "outputs": [],
   "source": [
    "all_merged = preprocess_data('../data/all_merged_data_2021-01-22.csv', end_date='2021-01-22')\n",
    "all_merged.featurize(gatherings_aggregation='none')\n",
    "CMs = all_merged.CMs\n",
    "Rs = all_merged.Rs\n",
    "active_cms = all_merged.active_cms\n",
    "\n",
    "def get_gathering_indoor_outdoor_diffs(active_cms):\n",
    "\n",
    "    prop_means = []\n",
    "\n",
    "    for i, j in zip(range(8, 13), range(13,18)):\n",
    "        props = get_all_temporal_spacings_npis(active_cms, i, j)\n",
    "        prop_means.append(np.mean(props))\n",
    "    for i, j in zip(range(18, 23), range(23,28)):\n",
    "        props = get_all_temporal_spacings_npis(active_cms, i, j)\n",
    "        prop_means.append(np.mean(props))\n",
    "    return prop_means\n",
    "\n",
    "props = get_gathering_indoor_outdoor_diffs(active_cms)\n",
    "print(np.mean(props))"
   ],
   "metadata": {
    "collapsed": false,
    "pycharm": {
     "name": "#%%\n"
    }
   }
  },
  {
   "cell_type": "code",
   "execution_count": null,
   "outputs": [],
   "source": [
    "def get_gathering_public_private_diffs(active_cms):\n",
    "\n",
    "    prop_means = []\n",
    "\n",
    "    for i, j in zip(range(8, 18), range(18,28)):\n",
    "        props = get_all_temporal_spacings_npis(active_cms, i, j)\n",
    "        prop_means.append(np.mean(props))\n",
    "    return prop_means\n",
    "\n",
    "props = get_gathering_public_private_diffs(active_cms)\n",
    "print(np.mean(props))"
   ],
   "metadata": {
    "collapsed": false,
    "pycharm": {
     "name": "#%%\n"
    }
   }
  },
  {
   "cell_type": "code",
   "execution_count": null,
   "outputs": [],
   "source": [
    "def all_pairs_joint_activation(active_cms):\n",
    "    joint_activations = np.zeros((len(CMs), len(CMs)))\n",
    "    for i in range(len(CMs)):\n",
    "        for j in range(len(CMs)):\n",
    "            if i != j:\n",
    "                joint_activations[i, j] = np.mean(get_all_temporal_spacings_npis(active_cms, i, j))\n",
    "\n",
    "    return joint_activations\n",
    "\n",
    "all_pairs = all_pairs_joint_activation(active_cms)"
   ],
   "metadata": {
    "collapsed": false,
    "pycharm": {
     "name": "#%%\n"
    }
   }
  }
 ],
 "metadata": {
  "kernelspec": {
   "display_name": "PyCharm (COVID19NPISecondWave)",
   "language": "python",
   "name": "pycharm-d6daf54e"
  },
  "language_info": {
   "codemirror_mode": {
    "name": "ipython",
    "version": 2
   },
   "file_extension": ".py",
   "mimetype": "text/x-python",
   "name": "python",
   "nbconvert_exporter": "python",
   "pygments_lexer": "ipython2",
   "version": "2.7.6"
  }
 },
 "nbformat": 4,
 "nbformat_minor": 0
}