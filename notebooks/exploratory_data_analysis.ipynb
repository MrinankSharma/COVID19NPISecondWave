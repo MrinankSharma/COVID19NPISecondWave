{
 "cells": [
  {
   "cell_type": "markdown",
   "metadata": {
    "pycharm": {
     "name": "#%% md\n"
    }
   },
   "source": [
    "# Exploratory Data Analysis"
   ]
  },
  {
   "cell_type": "code",
   "execution_count": null,
   "metadata": {},
   "outputs": [],
   "source": [
    "import numpy as np\n",
    "import pandas as pd\n",
    "import matplotlib.pyplot as plt\n",
    "import seaborn as sns\n",
    "from matplotlib import gridspec\n",
    "# sns.set_theme('colorblind', color_codes=True)\n",
    "sns.set_palette([*sns.color_palette(\"colorblind\"), *sns.color_palette(\"dark\")], color_codes=True)\n",
    "# colors = [*sns.color_palette(\"colorblind\"), *sns.color_palette(\"dark\")]\n",
    "import pylab as pl\n",
    "\n",
    "df = pd.read_csv('../data/all_merged_data_2021-01-22.csv')\n"
   ]
  },
  {
   "cell_type": "markdown",
   "metadata": {
    "pycharm": {
     "name": "#%% md\n"
    }
   },
   "source": [
    "checking on retail == all F2F"
   ]
  },
  {
   "cell_type": "code",
   "execution_count": null,
   "metadata": {
    "pycharm": {
     "name": "#%%\n"
    }
   },
   "outputs": [],
   "source": [
    "retail = df['Retail Closed']\n",
    "f2f = df['All Face-to-Face Businesses Closed']\n",
    "\n",
    "count = sum(retail != f2f)\n",
    "# 0"
   ]
  },
  {
   "cell_type": "code",
   "execution_count": null,
   "metadata": {
    "pycharm": {
     "name": "#%%\n"
    }
   },
   "outputs": [],
   "source": [
    "df = df.drop(df.columns[5:], axis=1)\n",
    "countries = ['Austria', 'England', 'Germany', 'Italy', 'Czech Republic', 'Switzerland', 'The Netherlands']\n",
    "\n",
    "df = df.set_index(['Area', 'Date'])\n",
    "df = df.sort_index(level=[0],ascending=[True])\n",
    "df.reset_index(level=1, inplace=True)# df = df.sort_values(by=['Area'])\n",
    "df.reset_index(level=0, inplace=True)# df = df.sort_values(by=['Area'])"
   ]
  },
  {
   "cell_type": "code",
   "execution_count": null,
   "metadata": {
    "pycharm": {
     "name": "#%%\n"
    }
   },
   "outputs": [],
   "source": [
    "from epimodel import preprocess_data\n",
    "all_merged = preprocess_data('../data/all_merged_data_2021-01-22.csv', end_date='2021-01-22')\n",
    "all_merged.featurize(drop_npi_filter = [\n",
    "                {\"query\": \"Childcare\", \"type\": \"includes\"},\n",
    "                {'query': 'Stay at Home Order AND All F2F Businesses Closed', 'type': 'equals'}\n",
    "            ])\n",
    "CMs = all_merged.CMs\n",
    "Rs = all_merged.Rs\n",
    "active_cms = all_merged.active_cms\n"
   ]
  },
  {
   "cell_type": "code",
   "execution_count": null,
   "metadata": {
    "pycharm": {
     "name": "#%%\n"
    }
   },
   "outputs": [],
   "source": [
    "new_active = all_merged.active_cms.transpose((0, 2, 1))\n",
    "new_active = new_active.reshape(-1, new_active.shape[2])\n",
    "new_active = pd.DataFrame(new_active)\n",
    "new_active.columns = all_merged.CMs\n",
    "\n"
   ]
  },
  {
   "cell_type": "code",
   "execution_count": null,
   "metadata": {
    "pycharm": {
     "name": "#%%\n"
    }
   },
   "outputs": [],
   "source": [
    "CM_dict = {\n",
    "    'Some Face-to-Face Businesses Closed': 'Night clubs closed',\n",
    "    'Leisure Venues Closed': 'Leisure and entertainment venues closed',\n",
    "    'Gastronomy Closed': 'Gastronomy closed',\n",
    "    'Retail Closed': 'Retail and close-contact services closed',\n",
    "    'Primary Schools Closed': 'Primary schools closed',\n",
    "    'Secondary Schools Closed': 'Secondary schools closed',\n",
    "    'Universities Away': 'Universities closed',\n",
    "    'Public Indoor Gathering Person Limit - 1': 'All public gatherings banned',\n",
    "    'Public Indoor Gathering Person Limit - 2': 'Public gatherings limited to 2 people',\n",
    "    'Extra Public Indoor Household Limit': 'Public gatherings limited to ≤10 people from 2 households',\n",
    "    'Public Indoor Gathering Person Limit - 10': 'Public gatherings limited to ≤10 people',\n",
    "    'Public Indoor Gathering Person Limit - 30': 'Public gatherings limited to ≤30 people',\n",
    "    'Private Indoor Gathering Person Limit - 1': 'All household mixing in private banned',\n",
    "    'Private Indoor Gathering Person Limit - 2': 'Household mixing in private limited to 2 people',\n",
    "    'Extra Private Indoor Household Limit': 'Household mixing in private limited to ≤10 people from 2 households',\n",
    "    'Private Indoor Gathering Person Limit - 10': 'Household mixing in private limited to ≤10 people',\n",
    "    'Private Indoor Gathering Person Limit - 30': 'Household mixing in private limited to ≤30 people',\n",
    "    'Curfew': 'Night time curfew',\n",
    "    'Mandatory Mask Wearing >= 3': 'Stricter mask-wearing policy'\n",
    "}\n",
    "\n",
    "\n",
    "new_active.rename(columns=CM_dict, inplace=True)\n",
    "CMs = list(CM_dict.values())\n",
    "new_active = new_active[CMs]"
   ]
  },
  {
   "cell_type": "code",
   "execution_count": null,
   "metadata": {
    "pycharm": {
     "name": "#%%\n"
    }
   },
   "outputs": [],
   "source": [
    "df = pd.concat((df, new_active), axis=1)"
   ]
  },
  {
   "cell_type": "markdown",
   "metadata": {
    "pycharm": {
     "name": "#%% md\n"
    }
   },
   "source": [
    "## NPI representation by region\n"
   ]
  },
  {
   "cell_type": "code",
   "execution_count": null,
   "metadata": {
    "pycharm": {
     "name": "#%%\n"
    }
   },
   "outputs": [],
   "source": [
    "def count_active_days_region(npi, country):\n",
    "    df_country = df[df['Country']==country]\n",
    "    #non_zero_rows = [ind for ind in range(df_country.shape[0]) if df_country[npi][ind] != 0]\n",
    "    non_zero_rows = df_country[df_country[npi] != 0]\n",
    "    regions = np.unique(df_country['Area'])\n",
    "    active_inds = []\n",
    "    for region in regions:\n",
    "        #active_ind = [ind for ind in non_zero_rows if df_country['Area'][ind] == region]\n",
    "        #active_ind = df_country.loc[df_country['Area'] == region]\n",
    "        active_rows = non_zero_rows[non_zero_rows['Area']==region]\n",
    "        active_rows = active_rows[pd.to_datetime(active_rows['Date']) <= pd.to_datetime('2021-01-09')]\n",
    "        count = active_rows.shape[0]\n",
    "        active_inds.append(count)\n",
    "    return regions, active_inds\n",
    "\n",
    "active_days_uk = [count_active_days_region(npi, 'England')[1] for npi in CMs]\n",
    "active_days_de = [count_active_days_region(npi, 'Germany')[1] for npi in CMs]\n",
    "active_days_at = [count_active_days_region(npi, 'Austria')[1] for npi in CMs]\n",
    "active_days_it = [count_active_days_region(npi, 'Italy')[1] for npi in CMs]\n",
    "active_days_cz = [count_active_days_region(npi, 'Czech')[1] for npi in CMs]\n",
    "active_days_ch = [count_active_days_region(npi, 'Switzerland')[1] for npi in CMs]\n",
    "active_days_nl = [count_active_days_region(npi, 'Netherlands')[1] for npi in CMs]\n",
    "# summing up counts from the regions for each npi:\n",
    "region_counts_uk = [sum(i) for i in active_days_uk]\n",
    "region_counts_de = [sum(i) for i in active_days_de]\n",
    "region_counts_at = [sum(i) for i in active_days_at]\n",
    "region_counts_it = [sum(i) for i in active_days_it]\n",
    "region_counts_cz = [sum(i) for i in active_days_cz]\n",
    "region_counts_ch = [sum(i) for i in active_days_ch]\n",
    "region_counts_nl = [sum(i) for i in active_days_nl]"
   ]
  },
  {
   "cell_type": "code",
   "execution_count": null,
   "metadata": {
    "pycharm": {
     "name": "#%%\n"
    }
   },
   "outputs": [],
   "source": [
    "region_counts = pd.DataFrame((region_counts_at, region_counts_uk,\n",
    "region_counts_de, region_counts_it, region_counts_cz, region_counts_ch, region_counts_nl)).T\n",
    "region_counts.index = CMs\n",
    "region_counts.columns = countries\n"
   ]
  },
  {
   "cell_type": "code",
   "execution_count": null,
   "metadata": {
    "pycharm": {
     "name": "#%%\n"
    }
   },
   "outputs": [],
   "source": [
    "n_region_days = len(Rs)*162\n",
    "sns.set(font_scale=0.35)\n",
    "sns.set_style(style='whitegrid')\n",
    "fig = plt.figure(figsize=((4,3)), dpi=300)\n",
    "ax = plt.gca()\n",
    "ln1 = region_counts.plot.barh(stacked=True, ax = ax, width=0.6)\n",
    "plt.title('Total number of active days for each NPI across all regions', y=-0.15)\n",
    "ax.invert_yaxis()\n",
    "ln2 = plt.axvline(x=n_region_days, color='black', linestyle='dashed', linewidth=0.4, label='Total number of days across all regions')\n",
    "ax.tick_params(axis='both', which='major', length=0)\n",
    "ax.grid(False)\n",
    "sns.despine(right=True)\n",
    "ax.legend(bbox_to_anchor=(0.53, 0.95))\n",
    "plt.savefig('barplot.svg', format = 'svg', dpi=300, bbox_inches='tight')"
   ]
  },
  {
   "cell_type": "code",
   "execution_count": null,
   "metadata": {
    "pycharm": {
     "name": "#%%\n"
    }
   },
   "outputs": [],
   "source": [
    "region_counts_normalised = region_counts.div(region_counts.sum(axis=1), axis=0)\n",
    "fig, ax = plt.subplots(figsize=(10,10))\n",
    "sns.heatmap(region_counts_normalised, xticklabels = region_counts.columns, yticklabels = CMs, ax=ax).set_title('Active days attributable to each country')"
   ]
  },
  {
   "cell_type": "code",
   "execution_count": null,
   "metadata": {
    "pycharm": {
     "name": "#%%\n"
    }
   },
   "outputs": [],
   "source": [
    "def plot_region_contribution_heatmap(active_days_specific_country, country):\n",
    "    active_days_specific_country = pd.DataFrame(active_days_specific_country)\n",
    "    active_days_specific_country.columns = count_active_days_region(CMs[0], country)[0]\n",
    "    active_days_specific_country.index = CMs\n",
    "    active_days_normalised = active_days_specific_country.div(active_days_specific_country.sum(axis=1), axis=0)\n",
    "    return sns.heatmap(active_days_normalised, xticklabels = active_days_specific_country.columns, yticklabels = CMs).set_title('Proportion of active days in '+ country + ' attributable to each constituent region')"
   ]
  },
  {
   "cell_type": "code",
   "execution_count": null,
   "metadata": {
    "pycharm": {
     "name": "#%%\n"
    }
   },
   "outputs": [],
   "source": [
    "plot_region_contribution_heatmap(active_days_uk, 'England')"
   ]
  },
  {
   "cell_type": "code",
   "execution_count": null,
   "metadata": {
    "pycharm": {
     "name": "#%%\n"
    }
   },
   "outputs": [],
   "source": [
    "plot_region_contribution_heatmap(active_days_de, 'Germany')"
   ]
  },
  {
   "cell_type": "code",
   "execution_count": null,
   "metadata": {
    "pycharm": {
     "name": "#%%\n"
    }
   },
   "outputs": [],
   "source": [
    "plot_region_contribution_heatmap(active_days_at, 'Austria')"
   ]
  },
  {
   "cell_type": "code",
   "execution_count": null,
   "metadata": {
    "pycharm": {
     "name": "#%%\n"
    }
   },
   "outputs": [],
   "source": [
    "plot_region_contribution_heatmap(active_days_it, 'Italy')"
   ]
  },
  {
   "cell_type": "code",
   "execution_count": null,
   "metadata": {
    "pycharm": {
     "name": "#%%\n"
    }
   },
   "outputs": [],
   "source": [
    "plot_region_contribution_heatmap(active_days_cz, 'Czech')"
   ]
  },
  {
   "cell_type": "code",
   "execution_count": null,
   "metadata": {
    "pycharm": {
     "name": "#%%\n"
    }
   },
   "outputs": [],
   "source": [
    "plot_region_contribution_heatmap(active_days_ch, 'Switzerland')"
   ]
  },
  {
   "cell_type": "code",
   "execution_count": null,
   "metadata": {
    "pycharm": {
     "name": "#%%\n"
    }
   },
   "outputs": [],
   "source": [
    "plot_region_contribution_heatmap(active_days_nl, 'Netherlands')"
   ]
  },
  {
   "cell_type": "markdown",
   "metadata": {},
   "source": [
    "## Thresholding"
   ]
  },
  {
   "cell_type": "code",
   "execution_count": null,
   "metadata": {
    "pycharm": {
     "name": "#%%\n"
    }
   },
   "outputs": [],
   "source": [
    "thresholding_CMs = [CM for CM in CMs if len(np.unique(df[CM]))>2]\n",
    "df_reduced = df\n",
    "df_thresholds = df_reduced[thresholding_CMs]\n",
    "fig = plt.figure(figsize=((15,10)))\n",
    "fig.subplots_adjust(hspace=1, wspace=1)\n",
    "for i in range(len(thresholding_CMs)):\n",
    "    ax = fig.add_subplot(3, 3, i+1)\n",
    "    plt.xticks(rotation=70)\n",
    "    sns.countplot(x = thresholding_CMs[i], data=df_thresholds, ax=ax)\n",
    "pl.suptitle(\"Histogram of values (thresholds) for the relevant NPIs\")\n",
    "plt.show()"
   ]
  },
  {
   "cell_type": "markdown",
   "metadata": {},
   "source": [
    "## Correlations\n",
    "\n",
    "Correlations don't work when you have an npi always inactive or active for a region,\n",
    "so instead this is a plot of proportion of region-days where the state of each npi is the same."
   ]
  },
  {
   "cell_type": "code",
   "execution_count": null,
   "metadata": {
    "pycharm": {
     "name": "#%%\n"
    }
   },
   "outputs": [],
   "source": [
    "def corr_region(region):\n",
    "    df_region = df[df['Area'] == region].drop(columns=['Area', 'Date', 'Country', 'New Cases', 'New Deaths'])\n",
    "    df_binary = (df_region > 0).astype(float)\n",
    "    corr_mat = np.zeros((len(CMs), len(CMs)))\n",
    "    for i in range(len(CMs)):\n",
    "        for j in range(len(CMs)):\n",
    "            corr_mat[i, j] = np.sum(df_binary[CMs[i]] == df_binary[CMs[j]])/df_binary.shape[0]\n",
    "    return corr_mat\n",
    "def corr_country(country):\n",
    "    df_country = df[df['Country'] == country]\n",
    "    regions = list(set(df_country['Area']))\n",
    "    return np.nanmean([corr_region(region) for region in regions], axis=0)\n",
    "def corr_total():\n",
    "    countries = list(set(df['Country']))\n",
    "    return np.nanmean([corr_country(country) for country in countries], axis=0)"
   ]
  },
  {
   "cell_type": "code",
   "execution_count": null,
   "metadata": {
    "pycharm": {
     "name": "#%%\n"
    }
   },
   "outputs": [],
   "source": [
    "fig, ax = plt.subplots(figsize=(10,10))\n",
    "sns.heatmap(pd.DataFrame(corr_total(), dtype=float), xticklabels = CMs, yticklabels = CMs).set_title('Correlation plot, aggregated across countries')\n",
    "plt.show()"
   ]
  },
  {
   "cell_type": "code",
   "execution_count": null,
   "metadata": {
    "pycharm": {
     "name": "#%%\n"
    }
   },
   "outputs": [],
   "source": [
    "fig, ax = plt.subplots(figsize=(10,10))\n",
    "sns.heatmap(pd.DataFrame(corr_country('Austria'), dtype=float), xticklabels = CMs, yticklabels = CMs, ax = ax).set_title('Austria: Correlation plot')\n",
    "plt.show()"
   ]
  },
  {
   "cell_type": "code",
   "execution_count": null,
   "metadata": {
    "pycharm": {
     "name": "#%%\n"
    }
   },
   "outputs": [],
   "source": [
    "fig, ax = plt.subplots(figsize=(10,10))\n",
    "sns.heatmap(pd.DataFrame(corr_country('England'), dtype=float), xticklabels = CMs, yticklabels = CMs, ax = ax).set_title('England: Correlation plot')\n",
    "plt.show()"
   ]
  },
  {
   "cell_type": "code",
   "execution_count": null,
   "metadata": {
    "pycharm": {
     "name": "#%%\n"
    }
   },
   "outputs": [],
   "source": [
    "fig, ax = plt.subplots(figsize=(10,10))\n",
    "sns.heatmap(pd.DataFrame(corr_country('Germany'), dtype=float), xticklabels = CMs, yticklabels = CMs, ax = ax).set_title('Germany: Correlation plot')\n",
    "plt.show()"
   ]
  },
  {
   "cell_type": "code",
   "execution_count": null,
   "metadata": {
    "pycharm": {
     "name": "#%%\n"
    }
   },
   "outputs": [],
   "source": [
    "fig, ax = plt.subplots(figsize=(10,10))\n",
    "sns.heatmap(pd.DataFrame(corr_country('Italy'), dtype=float), xticklabels = CMs, yticklabels = CMs, ax = ax).set_title('Italy: Correlation plot')\n",
    "plt.show()"
   ]
  },
  {
   "cell_type": "code",
   "execution_count": null,
   "metadata": {
    "pycharm": {
     "name": "#%%\n"
    }
   },
   "outputs": [],
   "source": [
    "fig, ax = plt.subplots(figsize=(10,10))\n",
    "sns.heatmap(pd.DataFrame(corr_country('Czech'), dtype=float), xticklabels = CMs, yticklabels = CMs, ax = ax).set_title('Czech: Correlation plot')\n",
    "plt.show()"
   ]
  },
  {
   "cell_type": "code",
   "execution_count": null,
   "metadata": {
    "pycharm": {
     "name": "#%%\n"
    }
   },
   "outputs": [],
   "source": [
    "fig, ax = plt.subplots(figsize=(10,10))\n",
    "sns.heatmap(pd.DataFrame(corr_country('Switzerland'), dtype=float), xticklabels = CMs, yticklabels = CMs, ax = ax).set_title('Switzerland: Correlation plot')\n",
    "plt.show()"
   ]
  },
  {
   "cell_type": "code",
   "execution_count": null,
   "metadata": {
    "pycharm": {
     "name": "#%%\n"
    }
   },
   "outputs": [],
   "source": [
    "fig, ax = plt.subplots(figsize=(10,10))\n",
    "sns.heatmap(pd.DataFrame(corr_country('Netherlands'), dtype=float), xticklabels = CMs, yticklabels = CMs, ax = ax).set_title('Netherlands: Correlation plot')\n",
    "plt.show()"
   ]
  },
  {
   "cell_type": "markdown",
   "metadata": {},
   "source": [
    "## Conditional activation\n"
   ]
  },
  {
   "cell_type": "code",
   "execution_count": null,
   "metadata": {
    "pycharm": {
     "name": "#%%\n"
    }
   },
   "outputs": [],
   "source": [
    "def get_active_dates_region(data, npi):\n",
    "    non_zero_dates = data['Date'][data[npi] != 0]\n",
    "    return non_zero_dates\n",
    "\n",
    "def intersect_npi_active_dates_region(active_days_1, active_days_2):\n",
    "    return set(active_days_1).intersection(set(active_days_2))\n",
    "\n",
    "def proportional_activation_region(active_days_1, active_days_2):\n",
    "    number_of_active_days = len(active_days_1)\n",
    "    if number_of_active_days == 0: return float('nan')\n",
    "    number_of_jointly_active_days = len(intersect_npi_active_dates_region(active_days_1, active_days_2))\n",
    "    return number_of_jointly_active_days/number_of_active_days\n",
    "\n",
    "def activation_difference_region(active_days_1, active_days_2):\n",
    "    return len(set(active_days_1) - set(active_days_2))\n",
    "\n",
    "def only_one_active_region(active_days_1, active_days_2):\n",
    "    return len(set(active_days_1) - set(active_days_2)) + len(set(active_days_2) - set(active_days_1))\n",
    "\n",
    "def find_conditional_activations(country):\n",
    "    regions = np.unique(df['Area'][df['Country']==country])\n",
    "    proportional_activations = np.empty((len(CMs),len(CMs)), dtype=object)\n",
    "    activation_differences = np.empty((len(CMs),len(CMs)), dtype=object)\n",
    "    single_activations = np.empty((len(CMs),len(CMs)), dtype=object)\n",
    "    count = 0\n",
    "    for region in regions:\n",
    "        data = df[df['Area']==region]\n",
    "        for i in range(len(CMs)):\n",
    "            for j in range(len(CMs)):\n",
    "                active_days_1 = get_active_dates_region(data, CMs[i])\n",
    "                active_days_2 = get_active_dates_region(data, CMs[j])\n",
    "                if count == 0:\n",
    "                    proportional_activations[i, j] = [proportional_activation_region(active_days_1, active_days_2)]\n",
    "                    activation_differences[i, j] = [activation_difference_region(active_days_1, active_days_2)]\n",
    "                    single_activations[i, j] = [only_one_active_region(active_days_1, active_days_2)]\n",
    "                else:\n",
    "                    proportional_activations[i, j].append(proportional_activation_region(active_days_1, active_days_2))\n",
    "                    activation_differences[i, j].append(activation_difference_region(active_days_1, active_days_2))\n",
    "                    single_activations[i, j].append(only_one_active_region(active_days_1, active_days_2))\n",
    "        count += 1\n",
    "    for i in range(len(CMs)):\n",
    "        for j in range(len(CMs)):\n",
    "            proportional_activations[i, j] = np.mean(proportional_activations[i, j])\n",
    "            activation_differences[i, j] = np.sum(activation_differences[i, j])\n",
    "            single_activations[i, j] = np.sum(single_activations[i, j])\n",
    "\n",
    "    return proportional_activations, activation_differences, single_activations\n",
    "\n",
    "def find_conditional_activations_total():\n",
    "\n",
    "    proportional_activations = np.empty((len(CMs),len(CMs)), dtype=object)\n",
    "    activation_differences = np.empty((len(CMs),len(CMs)), dtype=object)\n",
    "    single_activations = np.empty((len(CMs),len(CMs)), dtype=object)\n",
    "\n",
    "    countries = np.unique(df['Country'])\n",
    "    count = 0\n",
    "    for country in countries:\n",
    "        prop, act, single = find_conditional_activations(country)\n",
    "        for i in range(len(CMs)):\n",
    "            for j in range(len(CMs)):\n",
    "                if count == 0:\n",
    "                    proportional_activations[i, j] = [prop[i,j]]\n",
    "                    activation_differences[i, j] = [act[i,j]]\n",
    "                    single_activations[i, j] = [single[i,j]]\n",
    "                else:\n",
    "                    proportional_activations[i, j].append(prop[i,j])\n",
    "                    activation_differences[i, j].append(act[i,j])\n",
    "                    single_activations[i, j].append(single[i,j])\n",
    "        count += 1\n",
    "    for i in range(len(CMs)):\n",
    "        for j in range(len(CMs)):\n",
    "            proportional_activations[i, j] = np.nanmean(proportional_activations[i, j])\n",
    "            activation_differences[i, j] = np.sum(activation_differences[i, j])\n",
    "            single_activations[i, j] = np.sum(single_activations[i, j])\n",
    "\n",
    "    return proportional_activations, activation_differences, single_activations"
   ]
  },
  {
   "cell_type": "code",
   "execution_count": null,
   "metadata": {
    "pycharm": {
     "name": "#%%\n"
    }
   },
   "outputs": [],
   "source": [
    "prop, act, single = find_conditional_activations_total()"
   ]
  },
  {
   "cell_type": "code",
   "execution_count": null,
   "metadata": {
    "pycharm": {
     "name": "#%%\n"
    }
   },
   "outputs": [],
   "source": [
    "fig = plt.figure(figsize=((10,30)))\n",
    "fig.subplots_adjust(hspace=1)\n",
    "ax = fig.add_subplot(3, 1, 1)\n",
    "sns.heatmap(pd.DataFrame(prop, dtype=float), xticklabels = CMs, yticklabels = CMs).set_title(': Conditional activation matrix: of the proportion of time that NPI Y was active, how often was NPI X active?')\n",
    "ax = fig.add_subplot(3, 1, 2)\n",
    "sns.heatmap(pd.DataFrame(act, dtype=float), xticklabels = CMs, yticklabels = CMs).set_title(': Number of days where only NPI Y is active')"
   ]
  },
  {
   "cell_type": "code",
   "execution_count": null,
   "metadata": {
    "pycharm": {
     "name": "#%%\n"
    }
   },
   "outputs": [],
   "source": [
    "fig = plt.figure(figsize=((4,3)), dpi=300)\n",
    "sns.set(font_scale=0.4)\n",
    "sns.heatmap(pd.DataFrame(single, dtype=float), xticklabels = CMs, yticklabels = CMs, cmap=\"BuPu_r\")\n",
    "plt.xticks(rotation=90)\n",
    "plt.savefig('collinearity.pdf', format = 'pdf', dpi=300, bbox_inches='tight')\n",
    "plt.show()"
   ]
  },
  {
   "cell_type": "code",
   "execution_count": null,
   "metadata": {
    "pycharm": {
     "name": "#%%\n"
    }
   },
   "outputs": [],
   "source": [
    "#calculate mean and min number of only one active\n",
    "single[single==0] = float('NaN')\n",
    "single[single>1000] = float('NaN')\n",
    "single[single==366] = float('NaN')\n",
    "single[single==450] = float('NaN')\n",
    "single[single==585] = float('NaN')\n",
    "single[single==601] = float('NaN')\n",
    "\n",
    "print(np.nanmean(single), np.nanmin(single), np.where(single == np.nanmin(single)))"
   ]
  },
  {
   "cell_type": "code",
   "execution_count": null,
   "metadata": {
    "pycharm": {
     "name": "#%%\n"
    }
   },
   "outputs": [],
   "source": [
    "# schools_days = single[:8, :8]\n",
    "# print(np.nanmin(schools_days), np.where(schools_days == np.nanmin(schools_days)))\n",
    "\n",
    "#public private mean days\n",
    "# inout_days = []\n",
    "# for i, j in zip(range(8, 13), range(13,18)):\n",
    "#     inout_days.append(single[i, j])\n",
    "# for i, j in zip(range(18, 23), range(23,28)):\n",
    "#     inout_days.append(single[i, j])\n",
    "# print(np.mean(inout_days))\n",
    "# pubpriv_days = []\n",
    "# for i, j in zip(range(8, 18), range(18,28)):\n",
    "#     pubpriv_days.append(single[i, j])\n",
    "# print(np.mean(pubpriv_days))\n",
    "\n"
   ]
  },
  {
   "cell_type": "code",
   "execution_count": null,
   "metadata": {
    "pycharm": {
     "name": "#%%\n"
    }
   },
   "outputs": [],
   "source": [
    "def conditional_activation_plotter(country):\n",
    "    prop, act, single = find_conditional_activations(country)\n",
    "    fig = plt.figure(figsize=((10,30)))\n",
    "    fig.subplots_adjust(hspace=1)\n",
    "    ax = fig.add_subplot(3, 1, 1)\n",
    "    sns.heatmap(pd.DataFrame(prop, dtype=float), xticklabels = CMs, yticklabels = CMs).set_title(country + ': Conditional activation matrix: of the proportion of time that NPI Y was active, how often was NPI X active?')\n",
    "    ax = fig.add_subplot(3, 1, 2)\n",
    "    sns.heatmap(pd.DataFrame(act, dtype=float), xticklabels = CMs, yticklabels = CMs).set_title(country + ': Number of days where only NPI Y is active')\n",
    "    ax = fig.add_subplot(3, 1, 3)\n",
    "    sns.heatmap(pd.DataFrame(single, dtype=float), xticklabels = CMs, yticklabels = CMs).set_title(country + ': Number of days where exactly one of NPI X and NPI Y is active')\n",
    "    plt.show()\n"
   ]
  },
  {
   "cell_type": "markdown",
   "metadata": {
    "pycharm": {
     "name": "#%% md\n"
    }
   },
   "source": [
    "### Austria"
   ]
  },
  {
   "cell_type": "code",
   "execution_count": null,
   "metadata": {
    "pycharm": {
     "name": "#%%\n"
    }
   },
   "outputs": [],
   "source": [
    "conditional_activation_plotter('Austria')"
   ]
  },
  {
   "cell_type": "markdown",
   "metadata": {},
   "source": [
    "### England"
   ]
  },
  {
   "cell_type": "code",
   "execution_count": null,
   "metadata": {
    "pycharm": {
     "name": "#%%\n"
    }
   },
   "outputs": [],
   "source": [
    "conditional_activation_plotter('England')"
   ]
  },
  {
   "cell_type": "markdown",
   "metadata": {},
   "source": [
    "### Germany"
   ]
  },
  {
   "cell_type": "code",
   "execution_count": null,
   "metadata": {
    "pycharm": {
     "name": "#%%\n"
    }
   },
   "outputs": [],
   "source": [
    "conditional_activation_plotter('Germany')"
   ]
  },
  {
   "cell_type": "markdown",
   "metadata": {},
   "source": [
    "### Italy"
   ]
  },
  {
   "cell_type": "code",
   "execution_count": null,
   "metadata": {
    "pycharm": {
     "name": "#%%\n"
    }
   },
   "outputs": [],
   "source": [
    "conditional_activation_plotter('Italy')"
   ]
  },
  {
   "cell_type": "code",
   "execution_count": null,
   "metadata": {
    "pycharm": {
     "name": "#%%\n"
    }
   },
   "outputs": [],
   "source": [
    "conditional_activation_plotter('Czech')"
   ]
  },
  {
   "cell_type": "code",
   "execution_count": null,
   "metadata": {
    "pycharm": {
     "name": "#%%\n"
    }
   },
   "outputs": [],
   "source": [
    "conditional_activation_plotter('Switzerland')"
   ]
  },
  {
   "cell_type": "code",
   "execution_count": null,
   "metadata": {
    "pycharm": {
     "name": "#%%\n"
    }
   },
   "outputs": [],
   "source": [
    "conditional_activation_plotter('Netherlands')\n"
   ]
  },
  {
   "cell_type": "markdown",
   "metadata": {
    "pycharm": {
     "name": "#%% md\n"
    }
   },
   "source": [
    "## Data figure"
   ]
  },
  {
   "cell_type": "code",
   "execution_count": null,
   "metadata": {
    "pycharm": {
     "name": "#%%\n"
    }
   },
   "outputs": [],
   "source": [
    "def get_active_cms_region(region):\n",
    "    df_region = df[df['Area']==region]\n",
    "    df_region = np.array(df_region.drop(['Area', 'Date', 'Country', 'New Cases', 'New Deaths'], axis=1)).T\n",
    "    return df_region\n",
    "\n",
    "tester = get_active_cms_region('Nürnberg')"
   ]
  },
  {
   "cell_type": "code",
   "execution_count": null,
   "metadata": {
    "pycharm": {
     "name": "#%%\n"
    }
   },
   "outputs": [],
   "source": [
    "def get_changes(region, CMs, Ds):\n",
    "    region_index = Rs.index(region)\n",
    "    changes = np.zeros((len(CMs), len(Ds)))\n",
    "    active_CMs = get_active_cms_region(region)\n",
    "\n",
    "    changes[:, 1:] = active_CMs[:, 1:] - active_CMs[:, :-1]\n",
    "\n",
    "    all_starts = []\n",
    "    all_ends = []\n",
    "    for i, npi in enumerate(CMs):\n",
    "        change = changes[i]\n",
    "        starts = list(np.where(change == 1)[0])\n",
    "        ends = list(np.where(change == -1)[0])\n",
    "\n",
    "        if int(sum(active_CMs[i, :162])) == 162:\n",
    "            if len(ends) > 0:\n",
    "                starts.append(0)\n",
    "            else:\n",
    "                starts.append(0)\n",
    "                ends.append(len(Ds) - 1)\n",
    "\n",
    "        if len(starts) > 0:\n",
    "            if len(ends) > 0:\n",
    "                if ends[-1] < starts[-1]:\n",
    "                    ends.append(len(Ds) - 1)\n",
    "                if ends[0] < starts[0]:\n",
    "                    starts.insert(0, 0)\n",
    "            else:\n",
    "                ends.append(len(Ds) - 1)\n",
    "        if len(starts) != len(ends):\n",
    "            print(npi, region, starts, ends)\n",
    "        while len(starts) < 20:\n",
    "            starts.append(200)\n",
    "        while len(ends) < 20:\n",
    "            ends.append(200)\n",
    "        all_starts.append(starts)\n",
    "        all_ends.append(ends)\n",
    "    return np.array(all_starts), np.array(all_ends)\n",
    "\n",
    "\n",
    "def add_pairs_to_plot(ax, starts, ends, index, CMs, alpha, width, size=8, plot_full=False, xmin=False):\n",
    "\n",
    "    nCMs = len(CMs)\n",
    "\n",
    "    y_vals = -1 * np.arange(nCMs)\n",
    "    plt.plot([100], [100], linewidth=1, alpha=alpha)\n",
    "\n",
    "    start = starts[:, index]\n",
    "    end = ends[:, index]\n",
    "\n",
    "    if plot_full:\n",
    "        for cm in range(nCMs):\n",
    "            line = ax.plot([0, 162], [y_vals[cm], y_vals[cm]], alpha=alpha, linewidth=width*2, label = CMs)\n",
    "    else:\n",
    "        lines = []\n",
    "        for cm in range(nCMs):\n",
    "            if xmin:\n",
    "                lim = 116\n",
    "                if start[cm] < lim and end[cm] < lim:\n",
    "                    lines.append(ax.plot([0, 0], [y_vals[cm], y_vals[cm]], alpha=alpha, linewidth=width, label = CMs[cm]))\n",
    "                elif start[cm] < lim and end[cm] >= lim:\n",
    "                    lines.append(ax.plot([lim, end[cm]], [y_vals[cm], y_vals[cm]], alpha=alpha, linewidth=width, label = CMs[cm]))\n",
    "                else:\n",
    "                    lines.append(ax.plot([start[cm], end[cm]], [y_vals[cm], y_vals[cm]], alpha=alpha, linewidth=width, label = CMs[cm]))\n",
    "            else:\n",
    "                # print(CMs[cm], start[cm], end[cm])\n",
    "                lines.append(ax.plot([start[cm], end[cm]], [y_vals[cm], y_vals[cm]], alpha=alpha, linewidth=width, label = CMs[cm]))\n",
    "    return lines\n",
    "\n",
    "def setup_large_plot(ax, CMs, Ds, y_ticks = False, last_plot = False):\n",
    "\n",
    "    nCMs = len(CMs)\n",
    "\n",
    "    # x_min, x_max = 0, len(Ds)\n",
    "\n",
    "    # xrange = np.array([x_min, x_max])\n",
    "    # for height in range(0, nCMs+2, 2):\n",
    "    #     plt.fill_between(xrange, -(height-0.5), -(height+0.5), color=\"silver\", alpha=0.5, linewidth=0)\n",
    "    xtick_vals = [0, 31, 61, 92, 122, 153]\n",
    "    xtick_str = ['1st Aug', '1st Sep', '1st Oct', '1st Nov', '1st Dec', '1st Jan']\n",
    "\n",
    "    if y_ticks:\n",
    "        plt.yticks(-np.arange(nCMs), [f\"{f}\" for f in CMs], ha=\"right\")\n",
    "        yax = ax.get_yaxis()\n",
    "        # yax.set_tick_params(pad=70)\n",
    "        plt.xticks([])\n",
    "    else:\n",
    "        plt.yticks([], fontsize=8)\n",
    "        if last_plot:\n",
    "            plt.xticks(xtick_vals, xtick_str, fontsize=8, rotation=70)\n",
    "        else:\n",
    "            plt.xticks([])\n",
    "    plt.ylim([-(nCMs - 0.25), 0.75])\n",
    "    plt.xlim([0, 162])\n",
    "\n",
    "    ax.tick_params(length=0.2)\n",
    "\n",
    "def get_variable(variable_name, region):\n",
    "    return list(df[df['Area'] == region][variable_name])\n",
    "\n",
    "def smooth_time_series(ts):\n",
    "    smooth_ts = ts.copy()\n",
    "    for i in range(len(ts)):\n",
    "        if i < 3:\n",
    "            smooth_ts[i] = np.mean(ts[:6])\n",
    "        if i > len(ts) - 3:\n",
    "            smooth_ts[i] = np.mean(ts[len(ts)-8:])\n",
    "        smooth_ts[i] = np.mean(ts[i-3:i+3])\n",
    "\n",
    "    return smooth_ts[:162]\n",
    "\n",
    "r_t = pd.read_csv('../results/rt_estimates.csv')\n",
    "r_t = r_t.set_index(['region'])\n",
    "\n",
    "def get_r_t(region):\n",
    "    region_r = r_t.loc[region]\n",
    "    med = region_r['med']\n",
    "    lower = region_r['lower_95']\n",
    "    upper = region_r['upper_95']\n",
    "    return list(lower), list(med), list(upper)\n",
    "\n",
    "def plot_start_ends(region, active_cms, CMs, Ds, alpha = 0.45, width = 2):\n",
    "    starts, ends = get_changes(region, CMs, Ds)\n",
    "    n_pairs = starts.shape[1]\n",
    "    colors = [*sns.color_palette(\"colorblind\"), *sns.color_palette(\"dark\")]\n",
    "\n",
    "\n",
    "    fig = plt.figure(figsize=((4,1)), dpi=300)\n",
    "    sns.set(font_scale=0.4)\n",
    "    sns.set_style(style='ticks')\n",
    "    # fig.suptitle(f\"Timeline plot for {region}\", fontsize=\"8\", y=0.95)\n",
    "    # fig.subplots_adjust(hspace=0, wspace=1)\n",
    "\n",
    "    cases = smooth_time_series(get_variable('New Cases', region))\n",
    "\n",
    "    deaths = smooth_time_series(get_variable('New Deaths', region))\n",
    "\n",
    "    ax = plt.gca()\n",
    "    ln1 = ax.plot(cases, color = 'Black', alpha = 0.9, label = 'New cases', linewidth = width/3)\n",
    "    ax.set_ylabel(f\"{region}\",fontsize=6)\n",
    "    ax.grid(False)\n",
    "\n",
    "    ax2 = ax.twinx()\n",
    "    ln2 = ax2.plot(deaths, color= 'Black', linestyle='dotted', alpha = 0.9, label = 'New deaths', linewidth = width/3)\n",
    "    # ax2.set_ylabel(f\"{region}\",fontsize=6)\n",
    "    ax2.grid(False)\n",
    "\n",
    "    lns = ln1+ln2\n",
    "    labs = [l.get_label() for l in lns]\n",
    "    ax2.legend(lns, labs, loc=0)\n",
    "\n",
    "    plt.xlim([0, 162])\n",
    "\n",
    "    ax3 = ax.twinx()\n",
    "    setup_large_plot(ax3, CMs, Ds)\n",
    "    ax3.grid(False)\n",
    "\n",
    "    for i in range(n_pairs):\n",
    "        l3 = add_pairs_to_plot(ax3, starts, ends, i, CMs, alpha, width)\n",
    "    sns.despine(left=True, right=True, bottom=True)\n",
    "    plt.show()\n",
    "\n",
    "def plot_cm_labels(region, ax, CMs, Ds, alpha=0.45, width=1.3):\n",
    "    setup_large_plot(ax, CMs, Ds, y_ticks=True)\n",
    "\n",
    "    starts, ends = get_changes(region, CMs, Ds)\n",
    "    add_pairs_to_plot(ax, starts, ends, 0, CMs, alpha, width, plot_full=True)\n",
    "    sns.despine(left=True, right=True, bottom=True)\n",
    "\n",
    "def plot_timelines(country_regions, countries_regions, active_cms, CMs, Ds, alpha = 0.45, width = 1, pad = 2, overlay='deaths'):\n",
    "\n",
    "    fig = plt.figure(figsize=((4,3)), dpi=500)\n",
    "    gs = gridspec.GridSpec(6, 2)\n",
    "    sns.set(font_scale=0.2)\n",
    "    sns.set_style(style='whitegrid')\n",
    "    fig.subplots_adjust(hspace=0.1, wspace=0.28)\n",
    "\n",
    "    for r_i, region in enumerate(countries_regions):\n",
    "        starts, ends = get_changes(region, CMs, Ds)\n",
    "        n_pairs = starts.shape[1]\n",
    "\n",
    "        if r_i == len(countries_regions) - 1:\n",
    "            last_plot = True\n",
    "        else:\n",
    "            last_plot = False\n",
    "\n",
    "        cases = smooth_time_series(get_variable('New Cases', region))\n",
    "        deaths = smooth_time_series(get_variable('New Deaths', region))\n",
    "        _, r_t_med, _ = get_r_t(region)\n",
    "\n",
    "        ax = fig.add_subplot(gs[r_i+2, 1])\n",
    "        ln1 = ax.plot(cases, color = 'Black', alpha = 0.9, label = 'New cases (7-day smoothed)', linewidth = width/2.5)\n",
    "        try:\n",
    "            country = list(df['Country'][df['Area']==region])[0]\n",
    "            if country == 'Czech':\n",
    "                ax.set_ylabel(f'{region}\\n Czech Republic')\n",
    "            elif region == 'Greater Manchester South West':\n",
    "                ax.set_ylabel(f'Greater Manchester S.W.\\n {country}')\n",
    "            else:\n",
    "                ax.set_ylabel(f'{region}\\n {country}')\n",
    "        except:\n",
    "            pass\n",
    "        ax.grid(False)\n",
    "        ax.tick_params(axis='both', which='major', pad=pad, length=0)\n",
    "        sns.despine(left=True, right=True, bottom=True, ax=ax)\n",
    "\n",
    "        if overlay == 'deaths':\n",
    "            ax2 = ax.twinx()\n",
    "            ln2 = ax2.plot(deaths, color= 'Black', linestyle='dotted', alpha = 0.9, label = 'New deaths (7-day smoothed)', linewidth = width/2.5)\n",
    "            ax2.grid(False)\n",
    "            ax2.tick_params(axis='both', which='major', pad=pad, length=0)\n",
    "        elif overlay == 'r_t':\n",
    "            ax2 = ax.twinx()\n",
    "            ln2 = ax2.plot(r_t_med, color= 'Black', linestyle='dotted', alpha = 0.9, label = '$R_t$', linewidth = width/3)\n",
    "            ax2.grid(False)\n",
    "            ax2.tick_params(axis='both', which='major', pad=pad, length=0)\n",
    "        elif overlay == 'r_t_smoothed':\n",
    "            r_t_med = smooth_time_series(r_t_med)\n",
    "            ax2 = ax.twinx()\n",
    "            ln2 = ax2.plot(r_t_med, color= 'Black', linestyle='dotted', alpha = 0.9, label = '$R_t$', linewidth = width/3)\n",
    "            ax2.grid(False)\n",
    "            ax2.tick_params(axis='both', which='major', pad=pad, length=0)\n",
    "        sns.despine(left=True, right=True, bottom=True, ax=ax2)\n",
    "\n",
    "        plt.xlim([0, 162])\n",
    "        # plt.yscale('log')\n",
    "\n",
    "        ax3 = ax.twinx()\n",
    "        setup_large_plot(ax3, CMs, Ds, last_plot=last_plot)\n",
    "        ax3.grid(False)\n",
    "        ax3.tick_params(axis='both', which='major', pad=pad, length=0)\n",
    "\n",
    "        for i in range(n_pairs):\n",
    "            l3 = add_pairs_to_plot(ax3, starts, ends, i, CMs, alpha, width)\n",
    "\n",
    "        if r_i == 1:\n",
    "            sns.despine(left=True, right=True, ax=ax3)\n",
    "        else:\n",
    "            sns.despine(left=True, right=True, bottom=True, ax=ax3)\n",
    "    # left column\n",
    "    for r_i, region in enumerate(country_regions):\n",
    "        starts, ends = get_changes(region, CMs, Ds)\n",
    "        n_pairs = starts.shape[1]\n",
    "\n",
    "        if r_i == len(country_regions) - 1:\n",
    "            last_plot = True\n",
    "        else:\n",
    "            last_plot = False\n",
    "\n",
    "        cases = smooth_time_series(get_variable('New Cases', region))\n",
    "        deaths = smooth_time_series(get_variable('New Deaths', region))\n",
    "        _, r_t_med, _ = get_r_t(region)\n",
    "        if r_i == 0:\n",
    "            ax = fig.add_subplot(gs[:2, 0])\n",
    "        else:\n",
    "            ax = fig.add_subplot(gs[r_i+1, 0])\n",
    "        ln1 = ax.plot(cases, color = 'Black', alpha = 0.9, label = 'New cases (7-day smoothed)', linewidth = width/2.5)\n",
    "        try:\n",
    "            country = list(df['Country'][df['Area']==region])[0]\n",
    "            if country == 'Czech':\n",
    "                ax.set_ylabel(f'{region}\\n Czech Republic')\n",
    "            elif region == 'Greater Manchester South West':\n",
    "                ax.set_ylabel(f'Greater Manchester S.W.\\n {country}')\n",
    "            else:\n",
    "                ax.set_ylabel(f'{region}\\n {country}')\n",
    "        except:\n",
    "            pass\n",
    "        ax.grid(False)\n",
    "        ax.tick_params(axis='both', which='major', pad=pad, length=0)\n",
    "        sns.despine(left=True, right=True, bottom=True, ax=ax)\n",
    "\n",
    "        if overlay == 'deaths':\n",
    "            ax2 = ax.twinx()\n",
    "            ln2 = ax2.plot(deaths, color= 'Black', linestyle='dotted', alpha = 0.9, label = 'New deaths (7-day smoothed)', linewidth = width/2.5)\n",
    "            ax2.grid(False)\n",
    "            ax2.tick_params(axis='both', which='major', pad=pad, length=0)\n",
    "        elif overlay == 'r_t':\n",
    "            ax2 = ax.twinx()\n",
    "            ln2 = ax2.plot(r_t_med, color= 'Black', linestyle='dotted', alpha = 0.9, label = '$R_t$', linewidth = width/3)\n",
    "            ax2.grid(False)\n",
    "            ax2.tick_params(axis='both', which='major', pad=pad, length=0)\n",
    "        elif overlay == 'r_t_smoothed':\n",
    "            r_t_med = smooth_time_series(r_t_med)\n",
    "            ax2 = ax.twinx()\n",
    "            ln2 = ax2.plot(r_t_med, color= 'Black', linestyle='dotted', alpha = 0.9, label = '$R_t$', linewidth = width/3)\n",
    "            ax2.grid(False)\n",
    "            ax2.tick_params(axis='both', which='major', pad=pad, length=0)\n",
    "        sns.despine(left=True, right=True, bottom=True, ax=ax2)\n",
    "        plt.xlim([0, 162])\n",
    "        # plt.yscale('log')\n",
    "\n",
    "        ax3 = ax.twinx()\n",
    "        setup_large_plot(ax3, CMs, Ds, last_plot=last_plot)\n",
    "        ax3.grid(False)\n",
    "        ax3.tick_params(axis='both', which='major', pad=pad, length=0)\n",
    "\n",
    "        for i in range(n_pairs):\n",
    "            if r_i == 0:\n",
    "                ln3 = add_pairs_to_plot(ax3, starts, ends, i, CMs, alpha, width*1.8)\n",
    "            else:\n",
    "                ln3 = add_pairs_to_plot(ax3, starts, ends, i, CMs, alpha, width)\n",
    "\n",
    "        if r_i == 0 or r_i == 2:\n",
    "            sns.despine(left=True, right=True, ax=ax3)\n",
    "        else:\n",
    "            sns.despine(left=True, right=True, bottom=True, ax=ax3)\n",
    "\n",
    "        sns.despine(left=True, right=True, bottom=True)\n",
    "\n",
    "        if r_i == 0:\n",
    "            lns = [l[0] for l in ln3]\n",
    "            labs = [l.get_label() for l in lns]\n",
    "            ax2.legend(lns, labs, bbox_to_anchor=(1.13, 1.01), labelspacing=0.23, framealpha=0)\n",
    "            plt.title(f'Timeline plots of new cases, {overlay}, and NPI activation\\n')\n",
    "        if r_i == 0:\n",
    "            lns = ln1+ln2\n",
    "            labs = [l.get_label() for l in lns]\n",
    "            ax.legend(lns, labs, bbox_to_anchor=(0.25, 0.93))\n",
    "\n",
    "\n",
    "    # BAR PLOT\n",
    "\n",
    "    # ax4 = fig.add_subplot(gs[6:, :2])\n",
    "    # ln1 = region_counts.plot.barh(stacked=True, ax = ax4, width=0.9)\n",
    "    # ax4.invert_yaxis()\n",
    "    # ln2 = plt.axvline(x=n_region_days, color='black', linestyle='dashed', linewidth=0.4, label='Total number of days across all regions')\n",
    "    # ax4.tick_params(axis='both', which='major', length=0)\n",
    "    # ax4.grid(False)\n",
    "    # sns.despine(right=True, ax=ax4)\n",
    "    # ax4.legend(bbox_to_anchor=(0.95, 0.95))\n",
    "    # fig.text(.5, .07, 'Total number of active days for each NPI across all regions', ha='center')\n",
    "\n",
    "\n",
    "    # EXACTLY ONE ACTIVE PLOT\n",
    "    # ax5 = fig.add_subplot(gs[13:, 0])\n",
    "    # sns.heatmap(pd.DataFrame(single, dtype=float), xticklabels = CMs, yticklabels = CMs, cmap=\"BuPu_r\").set_title('Number of days when exactly one of NPI X and NPI Y is active in the same region')\n",
    "    # plt.xticks(rotation=90)\n",
    "    # ax5.tick_params(axis='both', which='major', pad=pad, length=0)\n",
    "\n",
    "    # COLOUR CODE PLOT\n",
    "    # ax6 = fig.add_subplot(gs[:4, 0])\n",
    "    # plot_cm_labels(regions[0], ax6, CMs, Ds, alpha=0.45, width=1.3)\n",
    "    # plt.title('Colour codes for timeline plots (right)')\n",
    "    plt.savefig('timelines.svg', format = 'svg', dpi=500, bbox_inches='tight')\n",
    "    plt.show()"
   ]
  },
  {
   "cell_type": "code",
   "execution_count": null,
   "metadata": {
    "pycharm": {
     "name": "#%%\n"
    }
   },
   "outputs": [],
   "source": [
    "uk_Rs = ['Lincolnshire', 'Greater Manchester South West',\n",
    "       'Redbridge and Waltham Forest', 'Enfield', 'Buckinghamshire CC',\n",
    "       'Portsmouth', 'Southampton', 'Brighton and Hove', 'Coventry',\n",
    "       'Walsall', 'North Yorkshire CC', 'Essex Haven Gateway',\n",
    "       'Southend-on-Sea', 'Gloucestershire', 'East Derbyshire']\n",
    "at_Rs = ['Wien', 'Burgenland', 'Steiermark', 'Oberösterreich',\n",
    "       'Nieder­österreich', 'Voralberg ', 'Tirol', 'Karnten/Carinthia',\n",
    "       'Salzburg']\n",
    "de_Rs = ['Nürnberg', 'LK Aschaffenburg', 'Fürth', 'Landsberg am Lech',\n",
    "       'LK Donau-Ries', 'Minden-Lübbecke', 'Mönchengladbach', 'Münster',\n",
    "       'Rhein-Kreis Neuss', 'LK Ennepe-Ruhr-Kreis', 'LK Rems-Murr-Kreis',\n",
    "       'LK Breisgau-Hochschwarzwald', 'LK Enzkreis', 'LK Hildesheim',\n",
    "       'LK Gifhorn']\n",
    "it_Rs = ['Abruzzo', 'Aosta Valley', 'Apulia (AKA Puglia)','Basilicata','Calabria','Campania','Emilia-Romagna',\n",
    "        'Friuli-Venezia Giulia','Lazio','Liguria ','Lombardy','Marche','Molise','Piedmont','Sardinia','Sicily',\n",
    "         'Trentino (aka Trento)', 'South Tyrol (aka Bolzano aka Alto-Adige)', 'Tuscania ','Umbria','Veneto']\n",
    "cz_Rs = ['Ústí nad Labem', 'Prague', 'Moravian-Silesian', 'Central Bohemian', 'South Bohemian', 'Vysočina', 'Plzeň', 'Karlovy Vary', 'Liberec', 'Hradec Králové', 'Pardubice', 'Olomouc', 'South Moravian', 'Zlín']\n",
    "ch_Rs = ['Genéve', 'Zurich', 'Basel-Stadt', 'Grischun', 'Freiburg', 'Aargau', 'Thurgau', 'Jura', 'Basel-Landschaft', 'Vaud', 'Valais', 'Zug', 'Neuchâtel', 'St. Gallen', 'Luzern']\n",
    "nl_Rs = ['Amsterdam-Amstelland', 'Brabant-North', 'Brabant-Southeast', 'Drenthe', 'Flevoland', 'Friesland', 'Gelderland-Midden', 'Gelderland-South', 'Gooi en Vechtstreek', 'Groningen', 'Haaglanden', 'Hollands Midden', 'IJsselland', 'Kennemerland', 'Limburg-North', 'Central and West Brabant', 'North and East Gelderland', 'North Holland North', 'Rotterdam-Rijnmond', 'Twente', 'Utrecht', 'Zaanstreek-Waterland', 'Zealand', 'South Holland South', 'South Limburg']\n",
    "\n"
   ]
  },
  {
   "cell_type": "code",
   "execution_count": null,
   "metadata": {
    "pycharm": {
     "name": "#%%\n"
    }
   },
   "outputs": [],
   "source": [
    "country_regions = [de_Rs[0],uk_Rs[0], uk_Rs[1], at_Rs[0], it_Rs[1]]\n",
    "countries_regions = [ch_Rs[1], ch_Rs[0], cz_Rs[1], nl_Rs[1]]\n",
    "plot_timelines(country_regions, countries_regions, active_cms, CMs, sorted(list(set(df['Date']))), overlay='deaths')"
   ]
  },
  {
   "cell_type": "markdown",
   "metadata": {
    "pycharm": {
     "name": "#%% md\n"
    }
   },
   "source": [
    "## Computing activation within x days"
   ]
  },
  {
   "cell_type": "code",
   "execution_count": null,
   "metadata": {
    "pycharm": {
     "name": "#%%\n"
    }
   },
   "outputs": [],
   "source": [
    "def get_changes(region_index, active_CMs):\n",
    "    nCMs = active_CMs.shape[1]\n",
    "    nDs = active_CMs.shape[2]\n",
    "    changes = np.zeros((nCMs, nDs))\n",
    "    changes[:, 1:] = active_CMs[region_index, :, 1:] - active_CMs[region_index, :, :-1]\n",
    "\n",
    "    all_starts = []\n",
    "    all_ends = []\n",
    "    for i in range(nCMs):\n",
    "        change = changes[i]\n",
    "        starts = list(np.where(change == 1)[0])\n",
    "        ends = list(np.where(change == -1)[0])\n",
    "\n",
    "        if int(sum(active_CMs[region_index, i, :])) == len(active_CMs[region_index, i, :]):\n",
    "            starts.append(0)\n",
    "            ends.append(nDs - 1)\n",
    "\n",
    "        if len(starts) > 0:\n",
    "            if len(ends) > 0:\n",
    "                if ends[-1] < starts[-1]:\n",
    "                    ends.append(nDs - 1)\n",
    "                if ends[0] < starts[0]:\n",
    "                    starts.insert(0, 0)\n",
    "            else:\n",
    "                ends.append(nDs - 1)\n",
    "        # while len(starts) < 20:\n",
    "        #     starts.append(0)\n",
    "        # while len(ends) < 20:\n",
    "        #     ends.append(0)\n",
    "        all_starts.append(starts)\n",
    "        all_ends.append(ends)\n",
    "    return list(all_starts)\n",
    "\n",
    "def get_temporal_spacing(region_ind, active_cms, max_dist):\n",
    "\n",
    "    props = []\n",
    "\n",
    "    for npi_ind in range(active_cms.shape[1]):\n",
    "        changes = get_changes(region_ind, active_cms)\n",
    "        npi_activations = changes[npi_ind]\n",
    "\n",
    "        del changes[npi_ind]\n",
    "        flatten = [item for sublist in changes for item in sublist]\n",
    "        n_activations = len(flatten)\n",
    "\n",
    "        if n_activations > 0 and len(npi_activations) > 0:\n",
    "            for activation in npi_activations:\n",
    "                count = len([i for i in range(len(flatten)) if abs(flatten[i] - activation) <= max_dist])\n",
    "                prop = count/n_activations\n",
    "                props.append(prop)\n",
    "\n",
    "    return props\n",
    "\n",
    "\n",
    "# print(get_temporal_spacing(0, active_cms, 1))\n",
    "\n",
    "def get_all_temporal_spacings(active_cms, max_dist):\n",
    "    props = []\n",
    "    for i in range(active_cms.shape[0]):\n",
    "        props.append(get_temporal_spacing(i, active_cms, max_dist))\n",
    "\n",
    "    return [item for sublist in props for item in sublist]\n",
    "\n",
    "props = get_all_temporal_spacings(active_cms, 1)\n",
    "print(np.mean(props))\n",
    "print(len(props))\n",
    "# plt.figure(dpi=300)\n",
    "# plt.hist(props)"
   ]
  },
  {
   "cell_type": "code",
   "execution_count": null,
   "metadata": {
    "pycharm": {
     "name": "#%%\n"
    }
   },
   "outputs": [],
   "source": [
    "def get_temporal_spacing_npis(region_ind, active_cms, npi1, npi2):\n",
    "\n",
    "    npis = [npi1, npi2]\n",
    "    props = []\n",
    "    # print(get_changes(region_ind, active_cms))\n",
    "    for npi_ind in range(2):\n",
    "        changes = get_changes(region_ind, active_cms)\n",
    "        changes_npis = [changes[npi1], changes[npi2]]\n",
    "\n",
    "        npi_activations = changes_npis[npi_ind]\n",
    "        # print(npi_activations)\n",
    "        del changes_npis[npi_ind]\n",
    "        flatten = [item for sublist in changes_npis for item in sublist]\n",
    "        n_activations = len(flatten)\n",
    "        # print(flatten)\n",
    "        if n_activations > 0 and len(npi_activations) > 0:\n",
    "            for activation in npi_activations:\n",
    "                count = len([i for i in range(len(flatten)) if abs(flatten[i] - activation) <= 0])\n",
    "                # print(count)\n",
    "                if count > 0:\n",
    "                    prop = 1\n",
    "                else:\n",
    "                    prop = 0\n",
    "                props.append(prop)\n",
    "\n",
    "    return props\n",
    "\n",
    "\n",
    "def get_all_temporal_spacings_npis(active_cms, npi1, npi2):\n",
    "    props = []\n",
    "    for i in range(active_cms.shape[0]):\n",
    "        props.append(get_temporal_spacing_npis(i, active_cms, npi1, npi2))\n",
    "\n",
    "    return [item for sublist in props for item in sublist]\n",
    "\n",
    "CMs = all_merged.CMs\n",
    "props = get_all_temporal_spacings_npis(active_cms, 5, 6)\n",
    "print(np.mean(props))\n",
    "print(len(props))"
   ]
  },
  {
   "cell_type": "code",
   "execution_count": null,
   "metadata": {
    "pycharm": {
     "name": "#%%\n"
    }
   },
   "outputs": [],
   "source": [
    "all_merged = preprocess_data('../data/all_merged_data_2021-01-22.csv', end_date='2021-01-22')\n",
    "all_merged.featurize(gatherings_aggregation='none')\n",
    "CMs = all_merged.CMs\n",
    "Rs = all_merged.Rs\n",
    "active_cms = all_merged.active_cms\n"
   ]
  },
  {
   "cell_type": "code",
   "execution_count": null,
   "metadata": {
    "pycharm": {
     "name": "#%%\n"
    }
   },
   "outputs": [],
   "source": [
    "def get_gathering_indoor_outdoor_diffs(active_cms):\n",
    "\n",
    "    prop_means = []\n",
    "\n",
    "    for i, j in zip(range(8, 13), range(13,18)):\n",
    "        props = get_all_temporal_spacings_npis(active_cms, i, j)\n",
    "        prop_means.append(np.mean(props))\n",
    "    for i, j in zip(range(18, 23), range(23,28)):\n",
    "        props = get_all_temporal_spacings_npis(active_cms, i, j)\n",
    "        prop_means.append(np.mean(props))\n",
    "    return prop_means\n",
    "\n",
    "props = get_gathering_indoor_outdoor_diffs(active_cms)\n",
    "print(np.mean(props))\n",
    "\n",
    "def get_gathering_public_private_diffs(active_cms):\n",
    "\n",
    "    prop_means = []\n",
    "\n",
    "    for i, j in zip(range(8, 18), range(18,28)):\n",
    "        props = get_all_temporal_spacings_npis(active_cms, i, j)\n",
    "        prop_means.append(np.mean(props))\n",
    "    return prop_means\n",
    "\n",
    "props = get_gathering_public_private_diffs(active_cms)\n",
    "print(np.mean(props))"
   ]
  },
  {
   "cell_type": "code",
   "execution_count": null,
   "metadata": {
    "pycharm": {
     "is_executing": true,
     "name": "#%%\n"
    }
   },
   "outputs": [],
   "source": [
    "def all_pairs_joint_activation(active_cms):\n",
    "    joint_activations = np.zeros((len(CMs), len(CMs)))\n",
    "    for i in range(len(CMs)):\n",
    "        for j in range(len(CMs)):\n",
    "            if i != j:\n",
    "                joint_activations[i, j] = np.mean(get_all_temporal_spacings_npis(active_cms, i, j))\n",
    "\n",
    "    return joint_activations\n",
    "\n",
    "all_pairs = all_pairs_joint_activation(active_cms)"
   ]
  }
 ],
 "metadata": {
  "kernelspec": {
   "display_name": "PyCharm (COVID19NPISecondWave)",
   "language": "python",
   "name": "pycharm-d6daf54e"
  },
  "language_info": {
   "codemirror_mode": {
    "name": "ipython",
    "version": 2
   },
   "file_extension": ".py",
   "mimetype": "text/x-python",
   "name": "python",
   "nbconvert_exporter": "python",
   "pygments_lexer": "ipython2",
   "version": "2.7.6"
  }
 },
 "nbformat": 4,
 "nbformat_minor": 0
}