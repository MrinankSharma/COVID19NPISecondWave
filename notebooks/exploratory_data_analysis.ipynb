{
 "cells": [
  {
   "cell_type": "markdown",
   "metadata": {
    "pycharm": {
     "name": "#%% md\n"
    }
   },
   "source": [
    "# Exploratory Data Analysis"
   ]
  },
  {
   "cell_type": "code",
   "execution_count": null,
   "metadata": {},
   "outputs": [],
   "source": [
    "import numpy as np\n",
    "import pandas as pd\n",
    "import matplotlib.pyplot as plt\n",
    "import seaborn as sns\n",
    "from matplotlib import gridspec\n",
    "# sns.set_theme('colorblind', color_codes=True)\n",
    "sns.set_palette([*sns.color_palette(\"colorblind\"), *sns.color_palette(\"dark\")], color_codes=True)\n",
    "# colors = [*sns.color_palette(\"colorblind\"), *sns.color_palette(\"dark\")]\n",
    "import pylab as pl\n",
    "\n",
    "df = pd.read_csv('../data/all_merged_data_2021-01-22.csv')\n",
    "df = df.drop(df.columns[5:], axis=1)\n",
    "countries = ['Austria', 'England', 'Germany', 'Italy', 'Czech Republic', 'Switzerland', 'The Netherlands']\n",
    "\n",
    "df = df.set_index(['Area', 'Date'])\n",
    "df = df.sort_index(level=[0],ascending=[True])\n",
    "df.reset_index(level=1, inplace=True)# df = df.sort_values(by=['Area'])\n",
    "df.reset_index(level=0, inplace=True)# df = df.sort_values(by=['Area'])"
   ]
  },
  {
   "cell_type": "code",
   "execution_count": null,
   "metadata": {
    "pycharm": {
     "name": "#%%\n"
    }
   },
   "outputs": [],
   "source": [
    "from epimodel import preprocess_data\n",
    "all_merged = preprocess_data('../data/all_merged_data_2021-01-22.csv', end_date='2021-01-22')\n",
    "all_merged.featurize(drop_npi_filter = [\n",
    "                {\"query\": \"Retail Closed\", \"type\": \"equals\"},\n",
    "                {\"query\": \"Childcare\", \"type\": \"includes\"}\n",
    "            ])\n",
    "CMs = all_merged.CMs\n",
    "Rs = all_merged.Rs\n",
    "active_cms = all_merged.active_cms"
   ]
  },
  {
   "cell_type": "code",
   "execution_count": null,
   "metadata": {
    "pycharm": {
     "name": "#%%\n"
    }
   },
   "outputs": [],
   "source": [
    "new_active = all_merged.active_cms.transpose((0, 2, 1))\n",
    "new_active = new_active.reshape(-1, new_active.shape[2])\n",
    "new_active = pd.DataFrame(new_active)\n",
    "new_active.columns = all_merged.CMs"
   ]
  },
  {
   "cell_type": "code",
   "execution_count": null,
   "metadata": {
    "pycharm": {
     "name": "#%%\n"
    }
   },
   "outputs": [],
   "source": [
    "df = pd.concat((df, new_active), axis=1)"
   ]
  },
  {
   "cell_type": "markdown",
   "metadata": {
    "pycharm": {
     "name": "#%% md\n"
    }
   },
   "source": [
    "## NPI representation by region\n"
   ]
  },
  {
   "cell_type": "code",
   "execution_count": null,
   "metadata": {
    "pycharm": {
     "name": "#%%\n"
    }
   },
   "outputs": [],
   "source": [
    "def count_active_days_region(npi, country):\n",
    "    df_country = df[df['Country']==country]\n",
    "    #non_zero_rows = [ind for ind in range(df_country.shape[0]) if df_country[npi][ind] != 0]\n",
    "    non_zero_rows = df_country[df_country[npi] != 0]\n",
    "    regions = np.unique(df_country['Area'])\n",
    "    active_inds = []\n",
    "    for region in regions:\n",
    "        #active_ind = [ind for ind in non_zero_rows if df_country['Area'][ind] == region]\n",
    "        #active_ind = df_country.loc[df_country['Area'] == region]\n",
    "        active_rows = non_zero_rows[non_zero_rows['Area']==region]\n",
    "        count = active_rows.shape[0]\n",
    "        active_inds.append(count)\n",
    "    return regions, active_inds\n",
    "\n",
    "active_days_uk = [count_active_days_region(npi, 'England')[1] for npi in CMs]\n",
    "active_days_de = [count_active_days_region(npi, 'Germany')[1] for npi in CMs]\n",
    "active_days_at = [count_active_days_region(npi, 'Austria')[1] for npi in CMs]\n",
    "active_days_it = [count_active_days_region(npi, 'Italy')[1] for npi in CMs]\n",
    "active_days_cz = [count_active_days_region(npi, 'Czech')[1] for npi in CMs]\n",
    "active_days_ch = [count_active_days_region(npi, 'Switzerland')[1] for npi in CMs]\n",
    "active_days_nl = [count_active_days_region(npi, 'Netherlands')[1] for npi in CMs]\n",
    "# summing up counts from the regions for each npi:\n",
    "region_counts_uk = [sum(i) for i in active_days_uk]\n",
    "region_counts_de = [sum(i) for i in active_days_de]\n",
    "region_counts_at = [sum(i) for i in active_days_at]\n",
    "region_counts_it = [sum(i) for i in active_days_it]\n",
    "region_counts_cz = [sum(i) for i in active_days_cz]\n",
    "region_counts_ch = [sum(i) for i in active_days_ch]\n",
    "region_counts_nl = [sum(i) for i in active_days_nl]"
   ]
  },
  {
   "cell_type": "code",
   "execution_count": null,
   "metadata": {
    "pycharm": {
     "name": "#%%\n"
    }
   },
   "outputs": [],
   "source": [
    "region_counts = pd.DataFrame((region_counts_at, region_counts_uk,\n",
    "region_counts_de, region_counts_it, region_counts_cz, region_counts_ch, region_counts_nl)).T\n",
    "region_counts.index = CMs\n",
    "region_counts.columns = countries\n",
    "\n",
    "n_region_days = len(Rs)*len(np.unique(df['Date']))\n",
    "\n",
    "fig = plt.figure(figsize=((4,3)), dpi=300)\n",
    "region_counts.plot.barh(stacked=True, title='Number of active region-days for each NPI in each country', ax = plt.gca())\n",
    "plt.gca().invert_yaxis()\n",
    "plt.axvline(x=n_region_days, color='black', linestyle='dashed', linewidth=0.8)\n",
    "plt.show()"
   ]
  },
  {
   "cell_type": "code",
   "execution_count": null,
   "metadata": {
    "pycharm": {
     "name": "#%%\n"
    }
   },
   "outputs": [],
   "source": [
    "region_counts_normalised = region_counts.div(region_counts.sum(axis=1), axis=0)\n",
    "fig, ax = plt.subplots(figsize=(10,10))\n",
    "sns.heatmap(region_counts_normalised, xticklabels = region_counts.columns, yticklabels = CMs, ax=ax).set_title('Active days attributable to each country')"
   ]
  },
  {
   "cell_type": "code",
   "execution_count": null,
   "metadata": {
    "pycharm": {
     "name": "#%%\n"
    }
   },
   "outputs": [],
   "source": [
    "def plot_region_contribution_heatmap(active_days_specific_country, country):\n",
    "    active_days_specific_country = pd.DataFrame(active_days_specific_country)\n",
    "    active_days_specific_country.columns = count_active_days_region(CMs[0], country)[0]\n",
    "    active_days_specific_country.index = CMs\n",
    "    active_days_normalised = active_days_specific_country.div(active_days_specific_country.sum(axis=1), axis=0)\n",
    "    return sns.heatmap(active_days_normalised, xticklabels = active_days_specific_country.columns, yticklabels = CMs).set_title('Proportion of active days in '+ country + ' attributable to each constituent region')"
   ]
  },
  {
   "cell_type": "code",
   "execution_count": null,
   "metadata": {
    "pycharm": {
     "name": "#%%\n"
    }
   },
   "outputs": [],
   "source": [
    "plot_region_contribution_heatmap(active_days_uk, 'England')"
   ]
  },
  {
   "cell_type": "code",
   "execution_count": null,
   "metadata": {
    "pycharm": {
     "name": "#%%\n"
    }
   },
   "outputs": [],
   "source": [
    "plot_region_contribution_heatmap(active_days_de, 'Germany')"
   ]
  },
  {
   "cell_type": "code",
   "execution_count": null,
   "metadata": {
    "pycharm": {
     "name": "#%%\n"
    }
   },
   "outputs": [],
   "source": [
    "plot_region_contribution_heatmap(active_days_at, 'Austria')"
   ]
  },
  {
   "cell_type": "code",
   "execution_count": null,
   "metadata": {
    "pycharm": {
     "name": "#%%\n"
    }
   },
   "outputs": [],
   "source": [
    "plot_region_contribution_heatmap(active_days_it, 'Italy')"
   ]
  },
  {
   "cell_type": "code",
   "execution_count": null,
   "metadata": {
    "pycharm": {
     "name": "#%%\n"
    }
   },
   "outputs": [],
   "source": [
    "plot_region_contribution_heatmap(active_days_cz, 'Czech')"
   ]
  },
  {
   "cell_type": "code",
   "execution_count": null,
   "metadata": {
    "pycharm": {
     "name": "#%%\n"
    }
   },
   "outputs": [],
   "source": [
    "plot_region_contribution_heatmap(active_days_ch, 'Switzerland')"
   ]
  },
  {
   "cell_type": "code",
   "execution_count": null,
   "metadata": {
    "pycharm": {
     "name": "#%%\n"
    }
   },
   "outputs": [],
   "source": [
    "plot_region_contribution_heatmap(active_days_nl, 'Netherlands')"
   ]
  },
  {
   "cell_type": "markdown",
   "metadata": {},
   "source": [
    "## Thresholding"
   ]
  },
  {
   "cell_type": "code",
   "execution_count": null,
   "metadata": {
    "pycharm": {
     "name": "#%%\n"
    }
   },
   "outputs": [],
   "source": [
    "thresholding_CMs = [CM for CM in CMs if len(np.unique(df[CM]))>2]\n",
    "df_reduced = df\n",
    "df_thresholds = df_reduced[thresholding_CMs]\n",
    "fig = plt.figure(figsize=((15,10)))\n",
    "fig.subplots_adjust(hspace=1, wspace=1)\n",
    "for i in range(len(thresholding_CMs)):\n",
    "    ax = fig.add_subplot(3, 3, i+1)\n",
    "    plt.xticks(rotation=70)\n",
    "    sns.countplot(x = thresholding_CMs[i], data=df_thresholds, ax=ax)\n",
    "pl.suptitle(\"Histogram of values (thresholds) for the relevant NPIs\")\n",
    "plt.show()"
   ]
  },
  {
   "cell_type": "markdown",
   "metadata": {},
   "source": [
    "## Correlations\n",
    "\n",
    "Correlations don't work when you have an npi always inactive or active for a region,\n",
    "so instead this is a plot of proportion of region-days where the state of each npi is the same."
   ]
  },
  {
   "cell_type": "code",
   "execution_count": null,
   "metadata": {
    "pycharm": {
     "name": "#%%\n"
    }
   },
   "outputs": [],
   "source": [
    "def corr_region(region):\n",
    "    df_region = df[df['Area'] == region].drop(columns=['Area', 'Date', 'Country', 'New Cases', 'New Deaths'])\n",
    "    df_binary = (df_region > 0).astype(float)\n",
    "    corr_mat = np.zeros((len(CMs), len(CMs)))\n",
    "    for i in range(len(CMs)):\n",
    "        for j in range(len(CMs)):\n",
    "            corr_mat[i, j] = np.sum(df_binary[CMs[i]] == df_binary[CMs[j]])/df_binary.shape[0]\n",
    "    return corr_mat\n",
    "def corr_country(country):\n",
    "    df_country = df[df['Country'] == country]\n",
    "    regions = list(set(df_country['Area']))\n",
    "    return np.nanmean([corr_region(region) for region in regions], axis=0)\n",
    "def corr_total():\n",
    "    countries = list(set(df['Country']))\n",
    "    return np.nanmean([corr_country(country) for country in countries], axis=0)"
   ]
  },
  {
   "cell_type": "code",
   "execution_count": null,
   "metadata": {
    "pycharm": {
     "name": "#%%\n"
    }
   },
   "outputs": [],
   "source": [
    "fig, ax = plt.subplots(figsize=(10,10))\n",
    "sns.heatmap(pd.DataFrame(corr_total(), dtype=float), xticklabels = CMs, yticklabels = CMs).set_title('Correlation plot, aggregated across countries')\n",
    "plt.show()"
   ]
  },
  {
   "cell_type": "code",
   "execution_count": null,
   "metadata": {
    "pycharm": {
     "name": "#%%\n"
    }
   },
   "outputs": [],
   "source": [
    "fig, ax = plt.subplots(figsize=(10,10))\n",
    "sns.heatmap(pd.DataFrame(corr_country('Austria'), dtype=float), xticklabels = CMs, yticklabels = CMs, ax = ax).set_title('Austria: Correlation plot')\n",
    "plt.show()"
   ]
  },
  {
   "cell_type": "code",
   "execution_count": null,
   "metadata": {
    "pycharm": {
     "name": "#%%\n"
    }
   },
   "outputs": [],
   "source": [
    "fig, ax = plt.subplots(figsize=(10,10))\n",
    "sns.heatmap(pd.DataFrame(corr_country('England'), dtype=float), xticklabels = CMs, yticklabels = CMs, ax = ax).set_title('England: Correlation plot')\n",
    "plt.show()"
   ]
  },
  {
   "cell_type": "code",
   "execution_count": null,
   "metadata": {
    "pycharm": {
     "name": "#%%\n"
    }
   },
   "outputs": [],
   "source": [
    "fig, ax = plt.subplots(figsize=(10,10))\n",
    "sns.heatmap(pd.DataFrame(corr_country('Germany'), dtype=float), xticklabels = CMs, yticklabels = CMs, ax = ax).set_title('Germany: Correlation plot')\n",
    "plt.show()"
   ]
  },
  {
   "cell_type": "code",
   "execution_count": null,
   "metadata": {
    "pycharm": {
     "name": "#%%\n"
    }
   },
   "outputs": [],
   "source": [
    "fig, ax = plt.subplots(figsize=(10,10))\n",
    "sns.heatmap(pd.DataFrame(corr_country('Italy'), dtype=float), xticklabels = CMs, yticklabels = CMs, ax = ax).set_title('Italy: Correlation plot')\n",
    "plt.show()"
   ]
  },
  {
   "cell_type": "code",
   "execution_count": null,
   "metadata": {
    "pycharm": {
     "name": "#%%\n"
    }
   },
   "outputs": [],
   "source": [
    "fig, ax = plt.subplots(figsize=(10,10))\n",
    "sns.heatmap(pd.DataFrame(corr_country('Czech'), dtype=float), xticklabels = CMs, yticklabels = CMs, ax = ax).set_title('Czech: Correlation plot')\n",
    "plt.show()"
   ]
  },
  {
   "cell_type": "code",
   "execution_count": null,
   "metadata": {
    "pycharm": {
     "name": "#%%\n"
    }
   },
   "outputs": [],
   "source": [
    "fig, ax = plt.subplots(figsize=(10,10))\n",
    "sns.heatmap(pd.DataFrame(corr_country('Switzerland'), dtype=float), xticklabels = CMs, yticklabels = CMs, ax = ax).set_title('Switzerland: Correlation plot')\n",
    "plt.show()"
   ]
  },
  {
   "cell_type": "code",
   "execution_count": null,
   "metadata": {
    "pycharm": {
     "name": "#%%\n"
    }
   },
   "outputs": [],
   "source": [
    "fig, ax = plt.subplots(figsize=(10,10))\n",
    "sns.heatmap(pd.DataFrame(corr_country('Netherlands'), dtype=float), xticklabels = CMs, yticklabels = CMs, ax = ax).set_title('Netherlands: Correlation plot')\n",
    "plt.show()"
   ]
  },
  {
   "cell_type": "markdown",
   "metadata": {},
   "source": [
    "## Conditional activation\n"
   ]
  },
  {
   "cell_type": "code",
   "execution_count": null,
   "metadata": {
    "pycharm": {
     "name": "#%%\n"
    }
   },
   "outputs": [],
   "source": [
    "def get_active_dates_region(data, npi):\n",
    "    non_zero_dates = data['Date'][data[npi] != 0]\n",
    "    return non_zero_dates\n",
    "\n",
    "def intersect_npi_active_dates_region(active_days_1, active_days_2):\n",
    "    return set(active_days_1).intersection(set(active_days_2))\n",
    "\n",
    "def proportional_activation_region(active_days_1, active_days_2):\n",
    "    number_of_active_days = len(active_days_1)\n",
    "    if number_of_active_days == 0: return float('nan')\n",
    "    number_of_jointly_active_days = len(intersect_npi_active_dates_region(active_days_1, active_days_2))\n",
    "    return number_of_jointly_active_days/number_of_active_days\n",
    "\n",
    "def activation_difference_region(active_days_1, active_days_2):\n",
    "    return len(set(active_days_1) - set(active_days_2))\n",
    "\n",
    "def only_one_active_region(active_days_1, active_days_2):\n",
    "    return len(set(active_days_1) - set(active_days_2)) + len(set(active_days_2) - set(active_days_1))\n",
    "\n",
    "def find_conditional_activations(country):\n",
    "    regions = np.unique(df['Area'][df['Country']==country])\n",
    "    proportional_activations = np.empty((len(CMs),len(CMs)), dtype=object)\n",
    "    activation_differences = np.empty((len(CMs),len(CMs)), dtype=object)\n",
    "    single_activations = np.empty((len(CMs),len(CMs)), dtype=object)\n",
    "    count = 0\n",
    "    for region in regions:\n",
    "        data = df[df['Area']==region]\n",
    "        for i in range(len(CMs)):\n",
    "            for j in range(len(CMs)):\n",
    "                active_days_1 = get_active_dates_region(data, CMs[i])\n",
    "                active_days_2 = get_active_dates_region(data, CMs[j])\n",
    "                if count == 0:\n",
    "                    proportional_activations[i, j] = [proportional_activation_region(active_days_1, active_days_2)]\n",
    "                    activation_differences[i, j] = [activation_difference_region(active_days_1, active_days_2)]\n",
    "                    single_activations[i, j] = [only_one_active_region(active_days_1, active_days_2)]\n",
    "                else:\n",
    "                    proportional_activations[i, j].append(proportional_activation_region(active_days_1, active_days_2))\n",
    "                    activation_differences[i, j].append(activation_difference_region(active_days_1, active_days_2))\n",
    "                    single_activations[i, j].append(only_one_active_region(active_days_1, active_days_2))\n",
    "        count += 1\n",
    "    for i in range(len(CMs)):\n",
    "        for j in range(len(CMs)):\n",
    "            proportional_activations[i, j] = np.mean(proportional_activations[i, j])\n",
    "            activation_differences[i, j] = np.sum(activation_differences[i, j])\n",
    "            single_activations[i, j] = np.sum(single_activations[i, j])\n",
    "\n",
    "    return proportional_activations, activation_differences, single_activations\n",
    "\n",
    "def find_conditional_activations_total():\n",
    "\n",
    "    proportional_activations = np.empty((len(CMs),len(CMs)), dtype=object)\n",
    "    activation_differences = np.empty((len(CMs),len(CMs)), dtype=object)\n",
    "    single_activations = np.empty((len(CMs),len(CMs)), dtype=object)\n",
    "\n",
    "    countries = np.unique(df['Country'])\n",
    "    count = 0\n",
    "    for country in countries:\n",
    "        prop, act, single = find_conditional_activations(country)\n",
    "        for i in range(len(CMs)):\n",
    "            for j in range(len(CMs)):\n",
    "                if count == 0:\n",
    "                    proportional_activations[i, j] = [prop[i,j]]\n",
    "                    activation_differences[i, j] = [act[i,j]]\n",
    "                    single_activations[i, j] = [single[i,j]]\n",
    "                else:\n",
    "                    proportional_activations[i, j].append(prop[i,j])\n",
    "                    activation_differences[i, j].append(act[i,j])\n",
    "                    single_activations[i, j].append(single[i,j])\n",
    "        count += 1\n",
    "    for i in range(len(CMs)):\n",
    "        for j in range(len(CMs)):\n",
    "            proportional_activations[i, j] = np.nanmean(proportional_activations[i, j])\n",
    "            activation_differences[i, j] = np.sum(activation_differences[i, j])\n",
    "            single_activations[i, j] = np.sum(single_activations[i, j])\n",
    "\n",
    "    return proportional_activations, activation_differences, single_activations"
   ]
  },
  {
   "cell_type": "code",
   "execution_count": null,
   "metadata": {
    "pycharm": {
     "name": "#%%\n"
    }
   },
   "outputs": [],
   "source": [
    "prop, act, single = find_conditional_activations_total()\n",
    "fig = plt.figure(figsize=((10,30)))\n",
    "fig.subplots_adjust(hspace=1)\n",
    "ax = fig.add_subplot(3, 1, 1)\n",
    "sns.heatmap(pd.DataFrame(prop, dtype=float), xticklabels = CMs, yticklabels = CMs).set_title(': Conditional activation matrix: of the proportion of time that NPI Y was active, how often was NPI X active?')\n",
    "ax = fig.add_subplot(3, 1, 2)\n",
    "sns.heatmap(pd.DataFrame(act, dtype=float), xticklabels = CMs, yticklabels = CMs).set_title(': Number of days where only NPI Y is active')\n",
    "ax = fig.add_subplot(3, 1, 3)\n"
   ]
  },
  {
   "cell_type": "code",
   "execution_count": null,
   "metadata": {
    "pycharm": {
     "name": "#%%\n"
    }
   },
   "outputs": [],
   "source": [
    "fig = plt.figure(figsize=((4,3)), dpi=300)\n",
    "sns.set(font_scale=0.4)\n",
    "sns.heatmap(pd.DataFrame(single, dtype=float), xticklabels = CMs, yticklabels = CMs, cmap=\"BuPu_r\").set_title('Number of region-days when exactly one of NPI X and NPI Y is active')\n",
    "plt.xticks(rotation=90)\n",
    "plt.show()"
   ]
  },
  {
   "cell_type": "code",
   "execution_count": null,
   "metadata": {
    "pycharm": {
     "name": "#%%\n"
    }
   },
   "outputs": [],
   "source": [
    "def conditional_activation_plotter(country):\n",
    "    prop, act, single = find_conditional_activations(country)\n",
    "    fig = plt.figure(figsize=((10,30)))\n",
    "    fig.subplots_adjust(hspace=1)\n",
    "    ax = fig.add_subplot(3, 1, 1)\n",
    "    sns.heatmap(pd.DataFrame(prop, dtype=float), xticklabels = CMs, yticklabels = CMs).set_title(country + ': Conditional activation matrix: of the proportion of time that NPI Y was active, how often was NPI X active?')\n",
    "    ax = fig.add_subplot(3, 1, 2)\n",
    "    sns.heatmap(pd.DataFrame(act, dtype=float), xticklabels = CMs, yticklabels = CMs).set_title(country + ': Number of days where only NPI Y is active')\n",
    "    ax = fig.add_subplot(3, 1, 3)\n",
    "    sns.heatmap(pd.DataFrame(single, dtype=float), xticklabels = CMs, yticklabels = CMs).set_title(country + ': Number of days where exactly one of NPI X and NPI Y is active')\n",
    "    plt.show()\n"
   ]
  },
  {
   "cell_type": "markdown",
   "metadata": {
    "pycharm": {
     "name": "#%% md\n"
    }
   },
   "source": [
    "### Austria"
   ]
  },
  {
   "cell_type": "code",
   "execution_count": null,
   "metadata": {
    "pycharm": {
     "name": "#%%\n"
    }
   },
   "outputs": [],
   "source": [
    "conditional_activation_plotter('Austria')"
   ]
  },
  {
   "cell_type": "markdown",
   "metadata": {},
   "source": [
    "### England"
   ]
  },
  {
   "cell_type": "code",
   "execution_count": null,
   "metadata": {
    "pycharm": {
     "name": "#%%\n"
    }
   },
   "outputs": [],
   "source": [
    "conditional_activation_plotter('England')"
   ]
  },
  {
   "cell_type": "markdown",
   "metadata": {},
   "source": [
    "### Germany"
   ]
  },
  {
   "cell_type": "code",
   "execution_count": null,
   "metadata": {
    "pycharm": {
     "name": "#%%\n"
    }
   },
   "outputs": [],
   "source": [
    "conditional_activation_plotter('Germany')"
   ]
  },
  {
   "cell_type": "markdown",
   "metadata": {},
   "source": [
    "### Italy"
   ]
  },
  {
   "cell_type": "code",
   "execution_count": null,
   "metadata": {
    "pycharm": {
     "name": "#%%\n"
    }
   },
   "outputs": [],
   "source": [
    "conditional_activation_plotter('Italy')"
   ]
  },
  {
   "cell_type": "code",
   "execution_count": null,
   "metadata": {
    "pycharm": {
     "name": "#%%\n"
    }
   },
   "outputs": [],
   "source": [
    "conditional_activation_plotter('Czech')"
   ]
  },
  {
   "cell_type": "code",
   "execution_count": null,
   "metadata": {
    "pycharm": {
     "name": "#%%\n"
    }
   },
   "outputs": [],
   "source": [
    "conditional_activation_plotter('Switzerland')"
   ]
  },
  {
   "cell_type": "code",
   "execution_count": null,
   "metadata": {
    "pycharm": {
     "name": "#%%\n"
    }
   },
   "outputs": [],
   "source": [
    "conditional_activation_plotter('Netherlands')"
   ]
  },
  {
   "cell_type": "markdown",
   "metadata": {
    "pycharm": {
     "name": "#%% md\n"
    }
   },
   "source": [
    "## Paired Activation Differences"
   ]
  },
  {
   "cell_type": "code",
   "execution_count": null,
   "metadata": {
    "pycharm": {
     "name": "#%%\n"
    }
   },
   "outputs": [],
   "source": [
    "def get_start_dates(data, npi, region):\n",
    "    df_region = data[data['Area']==region]\n",
    "    start_dates = []\n",
    "    if list(df_region[npi])[0] != 0:\n",
    "        start_dates.append(0)\n",
    "    #loop through list and find date when go from 0 to non-zero\n",
    "    last = list(df_region[npi])[0]\n",
    "    for i in range(1, df_region.shape[0]):\n",
    "        next = list(df_region[npi])[i]\n",
    "        if last == 0 and next != 0:\n",
    "            start_dates.append(i)\n",
    "        last = next\n",
    "    return start_dates\n",
    "\n",
    "def compare_dates(ds1, ds2):\n",
    "    diffs = []\n",
    "    for d1 in ds1:\n",
    "        for d2 in ds2:\n",
    "            diffs.append(d1 - d2)\n",
    "    return diffs\n",
    "\n",
    "def compute_start_dates(data):\n",
    "    starts = np.empty((len(CMs), len(CMs)), dtype=object)\n",
    "    for npi1 in range(len(CMs)):\n",
    "        for npi2 in range(len(CMs)):\n",
    "            starts[npi1, npi2] = []\n",
    "            for region in np.unique(data['Area']):\n",
    "                starts[npi1, npi2].append(compare_dates(get_start_dates(data, CMs[npi1], region),get_start_dates(data, CMs[npi2], region)))\n",
    "            starts[npi1, npi2] = [diff for diffs in starts[npi1, npi2] for diff in diffs]\n",
    "    return starts\n",
    "\n",
    "def extract_diff_population(difference_data, threshold):\n",
    "    count_data = np.zeros_like(difference_data)\n",
    "    for i in range(count_data.shape[0]):\n",
    "        for j in range(count_data.shape[1]):\n",
    "            diff_reduced = [diff for diff in difference_data[i, j] if abs(diff) < threshold]\n",
    "            count_data[i,j] = len(diff_reduced)\n",
    "    return count_data\n",
    "\n",
    "def get_end_dates(data, npi, region):\n",
    "    df_region = data[data['Area']==region]\n",
    "    end_dates = []\n",
    "    #loop through list and find date when go from 0 to non-zero\n",
    "    last = list(df_region[npi])[0]\n",
    "    for i in range(1, df_region.shape[0]):\n",
    "        next = list(df_region[npi])[i]\n",
    "        if last != 0 and next == 0:\n",
    "            end_dates.append(i)\n",
    "        last = next\n",
    "    return end_dates\n",
    "\n",
    "def compute_end_dates(data):\n",
    "    ends = np.empty((len(CMs), len(CMs)), dtype=object)\n",
    "    for npi1 in range(len(CMs)):\n",
    "        for npi2 in range(len(CMs)):\n",
    "            ends[npi1, npi2] = []\n",
    "            for region in np.unique(data['Area']):\n",
    "                ends[npi1, npi2].append(compare_dates(get_end_dates(data, CMs[npi1], region),get_end_dates(data, CMs[npi2], region)))\n",
    "            ends[npi1, npi2] = [diff for diffs in ends[npi1, npi2] for diff in diffs]\n",
    "    return ends"
   ]
  },
  {
   "cell_type": "code",
   "execution_count": null,
   "metadata": {
    "pycharm": {
     "name": "#%%\n"
    }
   },
   "outputs": [],
   "source": [
    "starts = compute_start_dates(df)\n",
    "# np.save('../data/npi_paired_activations', starts)"
   ]
  },
  {
   "cell_type": "code",
   "execution_count": null,
   "metadata": {
    "pycharm": {
     "name": "#%%\n"
    }
   },
   "outputs": [],
   "source": [
    "ends = compute_end_dates(df)\n",
    "# np.save('../data/npi_paired_deactivations', ends)"
   ]
  },
  {
   "cell_type": "code",
   "execution_count": null,
   "metadata": {
    "pycharm": {
     "name": "#%%\n"
    }
   },
   "outputs": [],
   "source": [
    "starts_extracted = extract_diff_population(starts, 0.5)\n",
    "sns.heatmap(pd.DataFrame(starts_extracted, dtype=float), xticklabels = CMs, yticklabels = CMs).set_title('On how many days (across regions) did each NPI pair activate at exactly the same time?')"
   ]
  },
  {
   "cell_type": "code",
   "execution_count": null,
   "metadata": {
    "pycharm": {
     "name": "#%%\n"
    }
   },
   "outputs": [],
   "source": [
    "starts_extracted_5 = extract_diff_population(starts, 5)\n",
    "sns.heatmap(pd.DataFrame(starts_extracted_5, dtype=float), xticklabels = CMs, yticklabels = CMs).set_title('On how many days (across regions) did each NPI pair activate within 5 days of each other?')"
   ]
  },
  {
   "cell_type": "code",
   "execution_count": null,
   "metadata": {
    "pycharm": {
     "name": "#%%\n"
    }
   },
   "outputs": [],
   "source": [
    "ends_extracted = extract_diff_population(ends, 0.5)\n",
    "sns.heatmap(pd.DataFrame(ends_extracted, dtype=float), xticklabels = CMs, yticklabels = CMs).set_title('On how many days (across regions) did each NPI pair deactive at exactly the same time?')"
   ]
  },
  {
   "cell_type": "code",
   "execution_count": null,
   "metadata": {
    "pycharm": {
     "name": "#%%\n"
    }
   },
   "outputs": [],
   "source": [
    "ends_extracted_5 = extract_diff_population(ends, 5)\n",
    "sns.heatmap(pd.DataFrame(ends_extracted_5, dtype=float), xticklabels = CMs, yticklabels = CMs).set_title('On how many days (across regions) did each NPI pair deactive within 5 days of each other?')"
   ]
  },
  {
   "cell_type": "markdown",
   "metadata": {
    "pycharm": {
     "name": "#%% md\n"
    }
   },
   "source": [
    "### Country-specific joint activation/deactivation"
   ]
  },
  {
   "cell_type": "code",
   "execution_count": null,
   "metadata": {
    "pycharm": {
     "name": "#%%\n"
    }
   },
   "outputs": [],
   "source": [
    "df_uk = df[df['Country']=='England']\n",
    "df_de = df[df['Country']=='Germany']\n",
    "df_it = df[df['Country']=='Italy']\n",
    "df_at = df[df['Country']=='Austria']\n",
    "df_cz = df[df['Country']=='Czech']"
   ]
  },
  {
   "cell_type": "code",
   "execution_count": null,
   "metadata": {
    "pycharm": {
     "name": "#%%\n"
    }
   },
   "outputs": [],
   "source": [
    "starts_uk = compute_start_dates(df_uk)\n",
    "ends_uk = compute_end_dates(df_uk)\n",
    "starts_de = compute_start_dates(df_de)\n",
    "ends_de = compute_end_dates(df_de)\n",
    "starts_it = compute_start_dates(df_it)\n",
    "ends_it = compute_end_dates(df_it)\n",
    "starts_at = compute_start_dates(df_at)\n",
    "ends_at = compute_end_dates(df_at)\n",
    "starts_cz = compute_start_dates(df_cz)\n",
    "ends_cz = compute_end_dates(df_cz)\n",
    "starts_countries = [starts_at, starts_uk, starts_de, starts_it, starts_cz]\n",
    "ends_countries = [ends_at, ends_uk, ends_de, ends_it, ends_cz]"
   ]
  },
  {
   "cell_type": "code",
   "execution_count": null,
   "metadata": {
    "pycharm": {
     "name": "#%%\n"
    }
   },
   "outputs": [],
   "source": [
    "def plot_joint_activation_heatmap(data, country, threshold, activate, ax):\n",
    "    extracted = extract_diff_population(data, threshold)\n",
    "    sns.heatmap(pd.DataFrame(extracted, dtype=float), xticklabels = CMs, yticklabels = CMs, ax=ax).set_title('On how many days across regions in '+ country + ' did each NPI pair '+activate+' within '+ str(threshold) + ' days of one another?')\n",
    "def plot_all_joint_activation_heatmaps(threshold, activate = 'activate'):\n",
    "    fig = plt.figure(figsize=((10,40)))\n",
    "    fig.subplots_adjust(hspace=1)\n",
    "    fig_number = 0\n",
    "    for country in np.unique(df['Country']):\n",
    "        fig_number += 1\n",
    "        ax = fig.add_subplot(len(countries), 1, fig_number)\n",
    "        if activate=='activate':\n",
    "            data = starts_countries\n",
    "        else:\n",
    "            data = ends_countries\n",
    "        plot_joint_activation_heatmap(data[fig_number-1], country, threshold, activate, ax = ax)\n",
    "    plt.show()"
   ]
  },
  {
   "cell_type": "code",
   "execution_count": null,
   "metadata": {
    "pycharm": {
     "name": "#%%\n"
    }
   },
   "outputs": [],
   "source": [
    "plot_all_joint_activation_heatmaps(0.5)"
   ]
  },
  {
   "cell_type": "code",
   "execution_count": null,
   "metadata": {
    "pycharm": {
     "name": "#%%\n"
    }
   },
   "outputs": [],
   "source": [
    "plot_all_joint_activation_heatmaps(0.5, 'deactivate')"
   ]
  },
  {
   "cell_type": "markdown",
   "metadata": {
    "pycharm": {
     "name": "#%% md\n"
    }
   },
   "source": [
    "## Data figure"
   ]
  },
  {
   "cell_type": "code",
   "execution_count": null,
   "metadata": {
    "pycharm": {
     "name": "#%%\n"
    }
   },
   "outputs": [],
   "source": [
    "def get_changes(region, active_CMs, CMs, Ds):\n",
    "    region_index = Rs.index(region)\n",
    "    changes = np.zeros((len(CMs), len(Ds)))\n",
    "    changes[:, 1:] = active_CMs[region_index, :, 1:] - active_CMs[region_index, :, :-1]\n",
    "\n",
    "    all_starts = []\n",
    "    all_ends = []\n",
    "    for i, npi in enumerate(CMs):\n",
    "        change = changes[i]\n",
    "        starts = list(np.where(change == 1)[0])\n",
    "        ends = list(np.where(change == -1)[0])\n",
    "\n",
    "        if int(sum(active_CMs[region_index, i, :])) == len(active_CMs[region_index, i, :]):\n",
    "            starts.append(0)\n",
    "            ends.append(len(Ds) - 1)\n",
    "\n",
    "        if len(starts) > 0:\n",
    "            if len(ends) > 0:\n",
    "                if ends[-1] < starts[-1]:\n",
    "                    ends.append(len(Ds) - 1)\n",
    "                if ends[0] < starts[0]:\n",
    "                    starts.insert(0, 0)\n",
    "            else:\n",
    "                ends.append(len(Ds) - 1)\n",
    "        while len(starts) < 20:\n",
    "            starts.append(0)\n",
    "        while len(ends) < 20:\n",
    "            ends.append(0)\n",
    "        all_starts.append(starts)\n",
    "        all_ends.append(ends)\n",
    "    return np.array(all_starts), np.array(all_ends)\n",
    "\n",
    "\n",
    "def add_pairs_to_plot(ax, starts, ends, index, CMs, alpha, width, size=8, plot_full=False):\n",
    "\n",
    "    nCMs = len(CMs)\n",
    "\n",
    "    y_vals = -1 * np.arange(nCMs)\n",
    "    plt.plot([100], [100], linewidth=1, alpha=alpha)\n",
    "\n",
    "    start = starts[:, index]\n",
    "    end = ends[:, index]\n",
    "\n",
    "    if plot_full:\n",
    "        for cm in range(nCMs):\n",
    "            line = ax.plot([0, 162], [y_vals[cm], y_vals[cm]], alpha=alpha, linewidth=width*2, label = CMs)\n",
    "    else:\n",
    "        for cm in range(nCMs):\n",
    "            line = ax.plot([start[cm], end[cm]], [y_vals[cm], y_vals[cm]], alpha=alpha, linewidth=width, label = CMs)\n",
    "    return line\n",
    "\n",
    "def setup_large_plot(ax, CMs, Ds, y_ticks = False):\n",
    "\n",
    "    nCMs = len(CMs)\n",
    "\n",
    "    # x_min, x_max = 0, len(Ds)\n",
    "\n",
    "    # xrange = np.array([x_min, x_max])\n",
    "    # for height in range(0, nCMs+2, 2):\n",
    "    #     plt.fill_between(xrange, -(height-0.5), -(height+0.5), color=\"silver\", alpha=0.5, linewidth=0)\n",
    "    xtick_vals = [0, 31, 61, 92, 122, 153]\n",
    "    xtick_str = ['1st Aug', '1st Sep', '1st Oct', '1st Nov', '1st Dec', '1st Jan']\n",
    "\n",
    "    if y_ticks:\n",
    "        plt.yticks(-np.arange(nCMs), [f\"{f}\" for f in CMs], ha=\"right\")\n",
    "        yax = ax.get_yaxis()\n",
    "        # yax.set_tick_params(pad=70)\n",
    "\n",
    "        plt.xticks([])\n",
    "    else:\n",
    "        plt.yticks([], fontsize=8)\n",
    "        plt.xticks(xtick_vals, xtick_str, fontsize=8, rotation=70)\n",
    "\n",
    "    plt.ylim([-(nCMs - 0.25), 0.75])\n",
    "    plt.xlim([0, 162])\n",
    "\n",
    "    ax.tick_params(length=0.2)\n",
    "\n",
    "def get_variable(variable_name, region):\n",
    "    return list(df[df['Area'] == region][variable_name])\n",
    "\n",
    "def smooth_time_series(ts):\n",
    "    smooth_ts = ts.copy()\n",
    "    for i in range(len(ts)):\n",
    "        if i < 3:\n",
    "            smooth_ts[i] = np.mean(ts[:6])\n",
    "        if i > len(ts) - 3:\n",
    "            smooth_ts[i] = np.mean(ts[len(ts)-8:])\n",
    "        smooth_ts[i] = np.mean(ts[i-3:i+3])\n",
    "\n",
    "    return smooth_ts[:162]\n",
    "\n",
    "def plot_start_ends(region, active_cms, CMs, Ds, alpha = 0.45, width = 2):\n",
    "    starts, ends = get_changes(region, active_cms, CMs, Ds)\n",
    "    n_pairs = starts.shape[1]\n",
    "    colors = [*sns.color_palette(\"colorblind\"), *sns.color_palette(\"dark\")]\n",
    "\n",
    "\n",
    "    fig = plt.figure(figsize=((4,1)), dpi=100)\n",
    "    sns.set(font_scale=0.4)\n",
    "    sns.set_style(style='ticks')\n",
    "    # fig.suptitle(f\"Timeline plot for {region}\", fontsize=\"8\", y=0.95)\n",
    "    # fig.subplots_adjust(hspace=0, wspace=1)\n",
    "\n",
    "    cases = smooth_time_series(get_variable('New Cases', region))\n",
    "    deaths = smooth_time_series(get_variable('New Deaths', region))\n",
    "\n",
    "    ax = plt.gca()\n",
    "    ln1 = ax.plot(cases, color = 'Black', alpha = 0.9, label = 'New cases', linewidth = width/3)\n",
    "    ax.set_ylabel(f\"{region}\",fontsize=6)\n",
    "    ax.grid(False)\n",
    "\n",
    "    ax2 = ax.twinx()\n",
    "    ln2 = ax2.plot(deaths, color= 'Black', linestyle='dotted', alpha = 0.9, label = 'New deaths', linewidth = width/3)\n",
    "    # ax2.set_ylabel(f\"{region}\",fontsize=6)\n",
    "    ax2.grid(False)\n",
    "\n",
    "    lns = ln1+ln2\n",
    "    labs = [l.get_label() for l in lns]\n",
    "    ax2.legend(lns, labs, loc=0)\n",
    "\n",
    "    plt.xlim([0, 162])\n",
    "\n",
    "    ax3 = ax.twinx()\n",
    "    setup_large_plot(ax3, CMs, Ds)\n",
    "    ax3.grid(False)\n",
    "\n",
    "    for i in range(n_pairs):\n",
    "        l3 = add_pairs_to_plot(ax3, starts, ends, i, CMs, alpha, width)\n",
    "    sns.despine(left=True, right=True, bottom=True)\n",
    "    plt.show()\n",
    "\n",
    "\n",
    "def plot_cm_labels(region, ax, CMs, Ds, alpha=0.45, width=1.3):\n",
    "    setup_large_plot(ax, CMs, Ds, y_ticks=True)\n",
    "\n",
    "    starts, ends = get_changes(region, active_cms, CMs, Ds)\n",
    "    add_pairs_to_plot(ax, starts, ends, 0, CMs, alpha, width, plot_full=True)\n",
    "    sns.despine(left=True, right=True, bottom=True)\n",
    "\n",
    "\n",
    "def plot_timelines(regions, active_cms, CMs, Ds, alpha = 0.45, width = 1.3, pad = 2):\n",
    "\n",
    "    fig = plt.figure(figsize=((6,8)), dpi=500)\n",
    "    gs = gridspec.GridSpec(len(regions)*2, 2)\n",
    "    sns.set(font_scale=0.3)\n",
    "    sns.set_style(style='whitegrid')\n",
    "    fig.subplots_adjust(hspace=0.08, wspace=0.2)\n",
    "\n",
    "    nRs = len(regions)\n",
    "\n",
    "    for r_i, region in enumerate(regions):\n",
    "        starts, ends = get_changes(region, active_cms, CMs, Ds)\n",
    "        n_pairs = starts.shape[1]\n",
    "\n",
    "        cases = smooth_time_series(get_variable('New Cases', region))\n",
    "        deaths = smooth_time_series(get_variable('New Deaths', region))\n",
    "\n",
    "        ax = fig.add_subplot(gs[r_i*2:r_i*2+2, 1])\n",
    "        ln1 = ax.plot(cases, color = 'Black', alpha = 0.9, label = 'New cases', linewidth = width/3)\n",
    "        try:\n",
    "            country = list(df['Country'][df['Area']==region])[0]\n",
    "            ax.set_ylabel(f'{region}\\n {country}')\n",
    "        except:\n",
    "            pass\n",
    "        ax.grid(False)\n",
    "        ax.tick_params(axis='both', which='major', pad=pad, length=0)\n",
    "\n",
    "        ax2 = ax.twinx()\n",
    "        ln2 = ax2.plot(deaths, color= 'Black', linestyle='dotted', alpha = 0.9, label = 'New deaths', linewidth = width/3)\n",
    "        # ax2.set_ylabel(\"New deaths\",fontsize=6)\n",
    "        ax2.grid(False)\n",
    "        ax2.tick_params(axis='both', which='major', pad=pad, length=0)\n",
    "\n",
    "        if r_i == 0:\n",
    "            lns = ln1+ln2\n",
    "            labs = [l.get_label() for l in lns]\n",
    "            ax2.legend(lns, labs, loc=0)\n",
    "            plt.title('Timeline plots of new cases, new deaths, and NPI activation for a region in each of 7 countries')\n",
    "\n",
    "        plt.xlim([0, 162])\n",
    "\n",
    "        ax3 = ax.twinx()\n",
    "        setup_large_plot(ax3, CMs, Ds)\n",
    "        ax3.grid(False)\n",
    "        ax3.tick_params(axis='both', which='major', pad=pad, length=0)\n",
    "\n",
    "        for i in range(n_pairs):\n",
    "            l3 = add_pairs_to_plot(ax3, starts, ends, i, CMs, alpha, width)\n",
    "        sns.despine(left=True, right=True, bottom=True)\n",
    "\n",
    "    ax4 = fig.add_subplot(gs[5:12, 0])\n",
    "    region_counts.plot.barh(stacked=True, title='Total number of active days for each NPI across all regions', ax = ax4)\n",
    "    ax4.invert_yaxis()\n",
    "    plt.axvline(x=n_region_days, color='black', linestyle='dashed', linewidth=0.4, label='Total region-days')\n",
    "    ax4.tick_params(axis='both', which='major', pad=pad, length=0)\n",
    "    ax4.grid(False)\n",
    "\n",
    "    ax5 = fig.add_subplot(gs[13:, 0])\n",
    "    sns.heatmap(pd.DataFrame(single, dtype=float), xticklabels = CMs, yticklabels = CMs, cmap=\"BuPu_r\").set_title('Number of days when exactly one of NPI X and NPI Y is active in the same region')\n",
    "    plt.xticks(rotation=90)\n",
    "    ax5.tick_params(axis='both', which='major', pad=pad, length=0)\n",
    "\n",
    "    ax6 = fig.add_subplot(gs[:4, 0])\n",
    "    plot_cm_labels(regions[0], ax6, CMs, Ds, alpha=0.45, width=1.3)\n",
    "    plt.title('Colour codes for timeline plots (right)')\n",
    "\n",
    "    plt.show()\n",
    "\n",
    "regions = Rs[:9]\n",
    "plot_timelines(regions, active_cms, CMs, sorted(list(set(df['Date']))))"
   ]
  },
  {
   "cell_type": "code",
   "execution_count": null,
   "metadata": {
    "pycharm": {
     "name": "#%%\n"
    }
   },
   "outputs": [],
   "source": [
    "print(Rs[1])\n",
    "list(df['Country'][df['Area']==Rs[10]])[0]"
   ]
  },
  {
   "cell_type": "code",
   "execution_count": null,
   "metadata": {
    "pycharm": {
     "name": "#%%\n"
    }
   },
   "outputs": [],
   "source": [
    "Rs == sorted(list(set(df['Area'])))\n"
   ]
  },
  {
   "cell_type": "code",
   "execution_count": null,
   "metadata": {
    "pycharm": {
     "name": "#%%\n"
    }
   },
   "outputs": [],
   "source": [
    "region = 'Aargau'\n",
    "raw = np.array(active_cms[Rs.index(region),:,:])\n",
    "starts, ends = get_changes(region, active_cms, CMs, sorted(list(set(df['Date']))))"
   ]
  },
  {
   "cell_type": "code",
   "execution_count": null,
   "metadata": {
    "pycharm": {
     "name": "#%%\n"
    }
   },
   "outputs": [],
   "source": [
    "plot_start_ends(Rs[0], active_cms, CMs, sorted(list(set(df['Date']))))\n"
   ]
  },
  {
   "cell_type": "code",
   "execution_count": null,
   "metadata": {
    "pycharm": {
     "name": "#%%\n"
    }
   },
   "outputs": [],
   "source": [
    "uk_Rs = ['Lincolnshire', 'Greater Manchester South West',\n",
    "       'Redbridge and Waltham Forest', 'Enfield', 'Buckinghamshire CC',\n",
    "       'Portsmouth', 'Southampton', 'Brighton and Hove', 'Coventry',\n",
    "       'Walsall', 'North Yorkshire CC', 'Essex Haven Gateway',\n",
    "       'Southend-on-Sea', 'Gloucestershire', 'East Derbyshire']\n",
    "at_Rs = ['Wien', 'Burgenland', 'Steiermark', 'Oberösterreich',\n",
    "       'Nieder­österreich', 'Voralberg ', 'Tirol', 'Karnten/Carinthia',\n",
    "       'Salzburg']\n",
    "de_Rs = ['Nürnberg', 'LK Aschaffenburg', 'Fürth', 'Landsberg am Lech',\n",
    "       'LK Donau-Ries', 'Minden-Lübbecke', 'Mönchengladbach', 'Münster',\n",
    "       'Rhein-Kreis Neuss', 'LK Ennepe-Ruhr-Kreis', 'LK Rems-Murr-Kreis',\n",
    "       'LK Breisgau-Hochschwarzwald', 'LK Enzkreis', 'LK Hildesheim',\n",
    "       'LK Gifhorn']\n",
    "it_Rs = ['Abruzzo', 'Aosta Valley', 'Apulia (AKA Puglia)','Basilicata','Calabria','Campania','Emilia-Romagna',\n",
    "        'Friuli-Venezia Giulia','Lazio','Liguria ','Lombardy','Marche','Molise','Piedmont','Sardinia','Sicily',\n",
    "         'Trentino (aka Trento)', 'South Tyrol (aka Bolzano aka Alto-Adige)', 'Tuscania ','Umbria','Veneto']\n",
    "cz_Rs = ['Ústí nad Labem', 'Prague', 'Moravian-Silesian', 'Central Bohemian', 'South Bohemian', 'Vysočina', 'Plzeň', 'Karlovy Vary', 'Liberec', 'Hradec Králové', 'Pardubice', 'Olomouc', 'South Moravian', 'Zlín']\n",
    "ch_Rs = ['Genéve', 'Zurich', 'Basel-Stadt', 'Grischun', 'Freiburg', 'Aargau', 'Thurgau', 'Jura', 'Basel-Landschaft', 'Vaud', 'Valais', 'Zug', 'Neuchâtel', 'St. Gallen', 'Luzern']\n",
    "nl_Rs = ['Amsterdam-Amstelland', 'Brabant-North', 'Brabant-Southeast', 'Drenthe', 'Flevoland', 'Friesland', 'Gelderland-Midden', 'Gelderland-South', 'Gooi en Vechtstreek', 'Groningen', 'Haaglanden', 'Hollands Midden', 'IJsselland', 'Kennemerland', 'Limburg-North', 'Central and West Brabant', 'North and East Gelderland', 'North Holland North', 'Rotterdam-Rijnmond', 'Twente', 'Utrecht', 'Zaanstreek-Waterland', 'Zealand', 'South Holland South', 'South Limburg']"
   ]
  },
  {
   "cell_type": "code",
   "execution_count": null,
   "metadata": {
    "pycharm": {
     "name": "#%%\n"
    }
   },
   "outputs": [],
   "source": [
    "def plot_timeline_region(Rs):\n",
    "    for i in range(len(Rs)):\n",
    "        plot_start_ends(Rs[i], active_cms, CMs, sorted(list(set(df['Date']))))"
   ]
  },
  {
   "cell_type": "code",
   "execution_count": null,
   "metadata": {
    "pycharm": {
     "name": "#%%\n"
    }
   },
   "outputs": [],
   "source": [
    "plot_timeline_region(uk_Rs)"
   ]
  },
  {
   "cell_type": "code",
   "execution_count": null,
   "metadata": {
    "pycharm": {
     "name": "#%%\n"
    }
   },
   "outputs": [],
   "source": [
    "plot_timeline_region(at_Rs)"
   ]
  },
  {
   "cell_type": "code",
   "execution_count": null,
   "metadata": {
    "pycharm": {
     "name": "#%%\n"
    }
   },
   "outputs": [],
   "source": [
    "plot_timeline_region(de_Rs)"
   ]
  },
  {
   "cell_type": "code",
   "execution_count": null,
   "metadata": {
    "pycharm": {
     "name": "#%%\n"
    }
   },
   "outputs": [],
   "source": [
    "plot_timeline_region(it_Rs)"
   ]
  },
  {
   "cell_type": "code",
   "execution_count": null,
   "metadata": {
    "pycharm": {
     "name": "#%%\n"
    }
   },
   "outputs": [],
   "source": [
    "plot_timeline_region(cz_Rs)"
   ]
  },
  {
   "cell_type": "code",
   "execution_count": null,
   "metadata": {
    "pycharm": {
     "name": "#%%\n"
    }
   },
   "outputs": [],
   "source": [
    "plot_timeline_region(ch_Rs)"
   ]
  },
  {
   "cell_type": "code",
   "execution_count": null,
   "metadata": {
    "pycharm": {
     "name": "#%%\n"
    }
   },
   "outputs": [],
   "source": [
    "plot_timeline_region(nl_Rs)"
   ]
  }
 ],
 "metadata": {
  "kernelspec": {
   "display_name": "PyCharm (COVID19NPISecondWave)",
   "language": "python",
   "name": "pycharm-d6daf54e"
  },
  "language_info": {
   "codemirror_mode": {
    "name": "ipython",
    "version": 2
   },
   "file_extension": ".py",
   "mimetype": "text/x-python",
   "name": "python",
   "nbconvert_exporter": "python",
   "pygments_lexer": "ipython2",
   "version": "2.7.6"
  }
 },
 "nbformat": 4,
 "nbformat_minor": 0
}